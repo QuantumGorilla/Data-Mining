{
 "cells": [
  {
   "cell_type": "markdown",
   "metadata": {
    "id": "0Z7rCKEs4WoD"
   },
   "source": [
    "# Alejandro Jesús Manotas Marmolejo\n",
    "# Código: 200108289\n",
    "\n",
    "---\n",
    "\n"
   ]
  },
  {
   "cell_type": "code",
   "execution_count": 2,
   "metadata": {
    "executionInfo": {
     "elapsed": 1675,
     "status": "ok",
     "timestamp": 1620963355986,
     "user": {
      "displayName": "Alejandro Jesus Manotas Marmolejo",
      "photoUrl": "https://lh3.googleusercontent.com/a-/AOh14Gh32vHf1Cb01wrrbeAgN813Zzhyn5snTuo2iwq2ww=s64",
      "userId": "01731353529927081390"
     },
     "user_tz": 300
    },
    "id": "SVw0KMImMd7M"
   },
   "outputs": [],
   "source": [
    "# Importing the libraries\n",
    "import matplotlib.pyplot as plt\n",
    "import pandas as pd\n",
    "import seaborn as sns\n",
    "import numpy as np\n",
    "\n",
    "# Sklearn imports\n",
    "from sklearn.neighbors import NearestNeighbors\n",
    "from sklearn.cluster import KMeans\n",
    "from sklearn.preprocessing import StandardScaler\n",
    "from sklearn.cluster import DBSCAN\n",
    "from collections import Counter\n",
    "\n",
    "# Metrics\n",
    "from sklearn import metrics"
   ]
  },
  {
   "cell_type": "markdown",
   "metadata": {
    "id": "z40_ScaYK0ae"
   },
   "source": [
    "# 1. Clustering D31 Dataset"
   ]
  },
  {
   "cell_type": "markdown",
   "metadata": {
    "id": "Qj6oCAnMMXnf"
   },
   "source": [
    "## K-means"
   ]
  },
  {
   "cell_type": "code",
   "execution_count": 3,
   "metadata": {
    "colab": {
     "base_uri": "https://localhost:8080/",
     "height": 204
    },
    "executionInfo": {
     "elapsed": 1655,
     "status": "ok",
     "timestamp": 1620963355995,
     "user": {
      "displayName": "Alejandro Jesus Manotas Marmolejo",
      "photoUrl": "https://lh3.googleusercontent.com/a-/AOh14Gh32vHf1Cb01wrrbeAgN813Zzhyn5snTuo2iwq2ww=s64",
      "userId": "01731353529927081390"
     },
     "user_tz": 300
    },
    "id": "Z7ATEJFoKh05",
    "outputId": "efb22de7-6e5d-488a-9242-312b389ef1c7"
   },
   "outputs": [
    {
     "data": {
      "text/html": [
       "<div>\n",
       "<style scoped>\n",
       "    .dataframe tbody tr th:only-of-type {\n",
       "        vertical-align: middle;\n",
       "    }\n",
       "\n",
       "    .dataframe tbody tr th {\n",
       "        vertical-align: top;\n",
       "    }\n",
       "\n",
       "    .dataframe thead th {\n",
       "        text-align: right;\n",
       "    }\n",
       "</style>\n",
       "<table border=\"1\" class=\"dataframe\">\n",
       "  <thead>\n",
       "    <tr style=\"text-align: right;\">\n",
       "      <th></th>\n",
       "      <th>X</th>\n",
       "      <th>Y</th>\n",
       "    </tr>\n",
       "  </thead>\n",
       "  <tbody>\n",
       "    <tr>\n",
       "      <th>0</th>\n",
       "      <td>25.0514</td>\n",
       "      <td>5.7475</td>\n",
       "    </tr>\n",
       "    <tr>\n",
       "      <th>1</th>\n",
       "      <td>26.6614</td>\n",
       "      <td>7.3414</td>\n",
       "    </tr>\n",
       "    <tr>\n",
       "      <th>2</th>\n",
       "      <td>25.2653</td>\n",
       "      <td>6.2466</td>\n",
       "    </tr>\n",
       "    <tr>\n",
       "      <th>3</th>\n",
       "      <td>25.2285</td>\n",
       "      <td>4.7447</td>\n",
       "    </tr>\n",
       "    <tr>\n",
       "      <th>4</th>\n",
       "      <td>25.7529</td>\n",
       "      <td>5.1564</td>\n",
       "    </tr>\n",
       "  </tbody>\n",
       "</table>\n",
       "</div>"
      ],
      "text/plain": [
       "         X       Y\n",
       "0  25.0514  5.7475\n",
       "1  26.6614  7.3414\n",
       "2  25.2653  6.2466\n",
       "3  25.2285  4.7447\n",
       "4  25.7529  5.1564"
      ]
     },
     "execution_count": 3,
     "metadata": {
      "tags": []
     },
     "output_type": "execute_result"
    }
   ],
   "source": [
    "# Importing the dataset\n",
    "dataset = pd.read_excel('D31_data.xlsx',header=None,names=['X','Y'])\n",
    "X = dataset.values\n",
    "dataset.head()"
   ]
  },
  {
   "cell_type": "code",
   "execution_count": 4,
   "metadata": {
    "colab": {
     "base_uri": "https://localhost:8080/",
     "height": 428
    },
    "executionInfo": {
     "elapsed": 2394,
     "status": "ok",
     "timestamp": 1620963356756,
     "user": {
      "displayName": "Alejandro Jesus Manotas Marmolejo",
      "photoUrl": "https://lh3.googleusercontent.com/a-/AOh14Gh32vHf1Cb01wrrbeAgN813Zzhyn5snTuo2iwq2ww=s64",
      "userId": "01731353529927081390"
     },
     "user_tz": 300
    },
    "id": "inCFlV2aNvSy",
    "outputId": "165afcf6-c525-463b-8faa-5defa510a7b1"
   },
   "outputs": [
    {
     "name": "stderr",
     "output_type": "stream",
     "text": [
      "/usr/local/lib/python3.7/dist-packages/seaborn/distributions.py:2557: FutureWarning: `distplot` is a deprecated function and will be removed in a future version. Please adapt your code to use either `displot` (a figure-level function with similar flexibility) or `histplot` (an axes-level function for histograms).\n",
      "  warnings.warn(msg, FutureWarning)\n"
     ]
    },
    {
     "data": {
      "image/png": "[encoded data removed]",
      "text/plain": [
       "<Figure size 1080x432 with 1 Axes>"
      ]
     },
     "metadata": {
      "needs_background": "light",
      "tags": []
     },
     "output_type": "display_data"
    }
   ],
   "source": [
    "# Exploration analysis\n",
    "plt.figure(1, figsize =(15, 6))\n",
    "sns.distplot(dataset, bins = 20)\n",
    "plt.show()"
   ]
  },
  {
   "cell_type": "code",
   "execution_count": 5,
   "metadata": {
    "colab": {
     "base_uri": "https://localhost:8080/",
     "height": 281
    },
    "executionInfo": {
     "elapsed": 2377,
     "status": "ok",
     "timestamp": 1620963356759,
     "user": {
      "displayName": "Alejandro Jesus Manotas Marmolejo",
      "photoUrl": "https://lh3.googleusercontent.com/a-/AOh14Gh32vHf1Cb01wrrbeAgN813Zzhyn5snTuo2iwq2ww=s64",
      "userId": "01731353529927081390"
     },
     "user_tz": 300
    },
    "id": "D6pwPPp7Og8J",
    "outputId": "2d63823b-db7e-461e-bd70-f12ebe3d3ba4"
   },
   "outputs": [
    {
     "data": {
      "image/png": "[encoded data removed]",
      "text/plain": [
       "<Figure size 432x288 with 1 Axes>"
      ]
     },
     "metadata": {
      "needs_background": "light",
      "tags": []
     },
     "output_type": "display_data"
    }
   ],
   "source": [
    "# Visualizing the dataset\n",
    "plt.scatter(x='X', y='Y', data=dataset)\n",
    "plt.title('Clusters D31_data')\n",
    "plt.show()"
   ]
  },
  {
   "cell_type": "code",
   "execution_count": 6,
   "metadata": {
    "executionInfo": {
     "elapsed": 2366,
     "status": "ok",
     "timestamp": 1620963356761,
     "user": {
      "displayName": "Alejandro Jesus Manotas Marmolejo",
      "photoUrl": "https://lh3.googleusercontent.com/a-/AOh14Gh32vHf1Cb01wrrbeAgN813Zzhyn5snTuo2iwq2ww=s64",
      "userId": "01731353529927081390"
     },
     "user_tz": 300
    },
    "id": "UPI32ZiERZq8"
   },
   "outputs": [],
   "source": [
    "# Fitting K-Means to the dataset\n",
    "kmeans = KMeans(n_clusters = 3, init = 'k-means++', random_state = 69)\n",
    "y_kmeans = kmeans.fit_predict(X)"
   ]
  },
  {
   "cell_type": "code",
   "execution_count": 7,
   "metadata": {
    "colab": {
     "base_uri": "https://localhost:8080/"
    },
    "executionInfo": {
     "elapsed": 2353,
     "status": "ok",
     "timestamp": 1620963356763,
     "user": {
      "displayName": "Alejandro Jesus Manotas Marmolejo",
      "photoUrl": "https://lh3.googleusercontent.com/a-/AOh14Gh32vHf1Cb01wrrbeAgN813Zzhyn5snTuo2iwq2ww=s64",
      "userId": "01731353529927081390"
     },
     "user_tz": 300
    },
    "id": "RyA_LgxVRfsL",
    "outputId": "fde4bf88-6903-48ea-e5e6-97968ddbf7c7"
   },
   "outputs": [
    {
     "data": {
      "text/plain": [
       "array([0, 0, 0, ..., 1, 1, 1], dtype=int32)"
      ]
     },
     "execution_count": 7,
     "metadata": {
      "tags": []
     },
     "output_type": "execute_result"
    }
   ],
   "source": [
    "y_kmeans"
   ]
  },
  {
   "cell_type": "code",
   "execution_count": 8,
   "metadata": {
    "colab": {
     "base_uri": "https://localhost:8080/"
    },
    "executionInfo": {
     "elapsed": 2337,
     "status": "ok",
     "timestamp": 1620963356765,
     "user": {
      "displayName": "Alejandro Jesus Manotas Marmolejo",
      "photoUrl": "https://lh3.googleusercontent.com/a-/AOh14Gh32vHf1Cb01wrrbeAgN813Zzhyn5snTuo2iwq2ww=s64",
      "userId": "01731353529927081390"
     },
     "user_tz": 300
    },
    "id": "WFbJPXblRitM",
    "outputId": "25d77464-251e-4107-96a1-de9b78561158"
   },
   "outputs": [
    {
     "data": {
      "text/plain": [
       "array([[22.53631945, 11.26682789],\n",
       "       [ 9.12975825, 17.39398391],\n",
       "       [20.9120731 , 24.4081132 ]])"
      ]
     },
     "execution_count": 8,
     "metadata": {
      "tags": []
     },
     "output_type": "execute_result"
    }
   ],
   "source": [
    "kmeans.cluster_centers_"
   ]
  },
  {
   "cell_type": "code",
   "execution_count": 9,
   "metadata": {
    "colab": {
     "base_uri": "https://localhost:8080/",
     "height": 281
    },
    "executionInfo": {
     "elapsed": 2959,
     "status": "ok",
     "timestamp": 1620963357403,
     "user": {
      "displayName": "Alejandro Jesus Manotas Marmolejo",
      "photoUrl": "https://lh3.googleusercontent.com/a-/AOh14Gh32vHf1Cb01wrrbeAgN813Zzhyn5snTuo2iwq2ww=s64",
      "userId": "01731353529927081390"
     },
     "user_tz": 300
    },
    "id": "xTxtxI6hRlOS",
    "outputId": "e896e0c1-4369-4a7e-b74d-e4eb5528ad3f"
   },
   "outputs": [
    {
     "data": {
      "image/png": "[encoded data removed]",
      "text/plain": [
       "<Figure size 432x288 with 1 Axes>"
      ]
     },
     "metadata": {
      "needs_background": "light",
      "tags": []
     },
     "output_type": "display_data"
    }
   ],
   "source": [
    "# Visualizing the clusters\n",
    "plt.scatter(X[y_kmeans == 0, 0], X[y_kmeans == 0, 1], s = 100, c = 'red', label = 'Cluster 1')\n",
    "plt.scatter(X[y_kmeans == 1, 0], X[y_kmeans == 1, 1], s = 100, c = 'blue', label = 'Cluster 2')\n",
    "plt.scatter(X[y_kmeans == 2, 0], X[y_kmeans == 2, 1], s = 100, c = 'green', label = 'Cluster 3')\n",
    "plt.scatter(kmeans.cluster_centers_[:, 0], kmeans.cluster_centers_[:, 1], s = 300, c = 'yellow', label = 'Centroids')\n",
    "plt.title('Clusters of D31_data')\n",
    "plt.show()"
   ]
  },
  {
   "cell_type": "code",
   "execution_count": 10,
   "metadata": {
    "colab": {
     "base_uri": "https://localhost:8080/",
     "height": 295
    },
    "executionInfo": {
     "elapsed": 4203,
     "status": "ok",
     "timestamp": 1620963358663,
     "user": {
      "displayName": "Alejandro Jesus Manotas Marmolejo",
      "photoUrl": "https://lh3.googleusercontent.com/a-/AOh14Gh32vHf1Cb01wrrbeAgN813Zzhyn5snTuo2iwq2ww=s64",
      "userId": "01731353529927081390"
     },
     "user_tz": 300
    },
    "id": "9VnWWYRtbPGi",
    "outputId": "38e1ec1d-ef9b-4e11-e5ce-dd6658d6529d"
   },
   "outputs": [
    {
     "data": {
      "image/png": "[encoded data removed]",
      "text/plain": [
       "<Figure size 432x288 with 1 Axes>"
      ]
     },
     "metadata": {
      "needs_background": "light",
      "tags": []
     },
     "output_type": "display_data"
    }
   ],
   "source": [
    "# Using the elbow method to find the optimal number of clusters\n",
    "inertia = []\n",
    "for i in range(1, 11):\n",
    "    kmeans = KMeans(n_clusters = i, init = 'k-means++', random_state = 69)\n",
    "    kmeans.fit(X)\n",
    "    inertia.append(kmeans.inertia_)\n",
    "plt.plot(range(1, 11), inertia)\n",
    "plt.title('The Elbow Method')\n",
    "plt.xlabel('Number of clusters')\n",
    "plt.ylabel('Inertia')\n",
    "plt.show()"
   ]
  },
  {
   "cell_type": "code",
   "execution_count": 11,
   "metadata": {
    "executionInfo": {
     "elapsed": 4193,
     "status": "ok",
     "timestamp": 1620963358665,
     "user": {
      "displayName": "Alejandro Jesus Manotas Marmolejo",
      "photoUrl": "https://lh3.googleusercontent.com/a-/AOh14Gh32vHf1Cb01wrrbeAgN813Zzhyn5snTuo2iwq2ww=s64",
      "userId": "01731353529927081390"
     },
     "user_tz": 300
    },
    "id": "2UP5NKVtbpUg"
   },
   "outputs": [],
   "source": [
    "# Fitting K-Means to the dataset with k=5\n",
    "kmeans = KMeans(n_clusters = 6, init = 'k-means++', random_state = 69)\n",
    "y_kmeans = kmeans.fit_predict(X)"
   ]
  },
  {
   "cell_type": "code",
   "execution_count": 12,
   "metadata": {
    "colab": {
     "base_uri": "https://localhost:8080/",
     "height": 390
    },
    "executionInfo": {
     "elapsed": 4783,
     "status": "ok",
     "timestamp": 1620963359267,
     "user": {
      "displayName": "Alejandro Jesus Manotas Marmolejo",
      "photoUrl": "https://lh3.googleusercontent.com/a-/AOh14Gh32vHf1Cb01wrrbeAgN813Zzhyn5snTuo2iwq2ww=s64",
      "userId": "01731353529927081390"
     },
     "user_tz": 300
    },
    "id": "IjQsZEaEbwEf",
    "outputId": "c4edac53-1cc8-49ff-dc7e-6ae2c8813c90"
   },
   "outputs": [
    {
     "data": {
      "image/png": "[encoded data removed]",
      "text/plain": [
       "<Figure size 1080x432 with 1 Axes>"
      ]
     },
     "metadata": {
      "needs_background": "light",
      "tags": []
     },
     "output_type": "display_data"
    }
   ],
   "source": [
    "# Visualizing the clusters\n",
    "plt.figure(1, figsize =(15, 6))\n",
    "plt.scatter(X[y_kmeans == 0, 0], X[y_kmeans == 0, 1], s = 100, c = 'red', label = 'Cluster 1')\n",
    "plt.scatter(X[y_kmeans == 1, 0], X[y_kmeans == 1, 1], s = 100, c = 'blue', label = 'Cluster 2')\n",
    "plt.scatter(X[y_kmeans == 2, 0], X[y_kmeans == 2, 1], s = 100, c = 'green', label = 'Cluster 3')\n",
    "plt.scatter(X[y_kmeans == 3, 0], X[y_kmeans == 3, 1], s = 100, c = 'orange', label = 'Cluster 4')\n",
    "plt.scatter(X[y_kmeans == 4, 0], X[y_kmeans == 4, 1], s = 100, c = 'gray', label = 'Cluster 5')\n",
    "plt.scatter(X[y_kmeans == 5, 0], X[y_kmeans == 5, 1], s = 100, c = 'chocolate', label = 'Cluster 6')\n",
    "plt.scatter(kmeans.cluster_centers_[:, 0], kmeans.cluster_centers_[:, 1], s = 300, c = 'yellow', label = 'Centroids')\n",
    "plt.title('Clusters of D31_data')\n",
    "plt.legend()\n",
    "plt.show()"
   ]
  },
  {
   "cell_type": "markdown",
   "metadata": {
    "id": "OB9hUKM_Maq0"
   },
   "source": [
    "## DBSCAN"
   ]
  },
  {
   "cell_type": "code",
   "execution_count": 13,
   "metadata": {
    "executionInfo": {
     "elapsed": 4772,
     "status": "ok",
     "timestamp": 1620963359269,
     "user": {
      "displayName": "Alejandro Jesus Manotas Marmolejo",
      "photoUrl": "https://lh3.googleusercontent.com/a-/AOh14Gh32vHf1Cb01wrrbeAgN813Zzhyn5snTuo2iwq2ww=s64",
      "userId": "01731353529927081390"
     },
     "user_tz": 300
    },
    "id": "7EVPSfNiMcif"
   },
   "outputs": [],
   "source": [
    "# Importing the dataset\n",
    "data = pd.read_excel('D31_data.xlsx',header=None,names=['X','Y'])\n",
    "Y = data.values\n",
    "Y = StandardScaler().fit_transform(Y)"
   ]
  },
  {
   "cell_type": "code",
   "execution_count": 14,
   "metadata": {
    "colab": {
     "base_uri": "https://localhost:8080/",
     "height": 281
    },
    "executionInfo": {
     "elapsed": 5345,
     "status": "ok",
     "timestamp": 1620963359856,
     "user": {
      "displayName": "Alejandro Jesus Manotas Marmolejo",
      "photoUrl": "https://lh3.googleusercontent.com/a-/AOh14Gh32vHf1Cb01wrrbeAgN813Zzhyn5snTuo2iwq2ww=s64",
      "userId": "01731353529927081390"
     },
     "user_tz": 300
    },
    "id": "mot6zk2ueNOS",
    "outputId": "0b4a739a-efb9-40b7-e51d-07a146ab07ef"
   },
   "outputs": [
    {
     "data": {
      "image/png": "[encoded data removed]",
      "text/plain": [
       "<Figure size 432x288 with 1 Axes>"
      ]
     },
     "metadata": {
      "needs_background": "light",
      "tags": []
     },
     "output_type": "display_data"
    }
   ],
   "source": [
    "# Visualizing the dataset\n",
    "plt.scatter(Y[:,0], Y[:,1])\n",
    "plt.title('Clusters D31_data')\n",
    "plt.show()"
   ]
  },
  {
   "cell_type": "code",
   "execution_count": 15,
   "metadata": {
    "executionInfo": {
     "elapsed": 5335,
     "status": "ok",
     "timestamp": 1620963359858,
     "user": {
      "displayName": "Alejandro Jesus Manotas Marmolejo",
      "photoUrl": "https://lh3.googleusercontent.com/a-/AOh14Gh32vHf1Cb01wrrbeAgN813Zzhyn5snTuo2iwq2ww=s64",
      "userId": "01731353529927081390"
     },
     "user_tz": 300
    },
    "id": "WpBiVWDreREa"
   },
   "outputs": [],
   "source": [
    "# Fitting K-Means to the dataset\n",
    "dbscan = DBSCAN(eps=0.1, min_samples=5)\n",
    "model = dbscan.fit(Y)"
   ]
  },
  {
   "cell_type": "code",
   "execution_count": 16,
   "metadata": {
    "colab": {
     "base_uri": "https://localhost:8080/",
     "height": 281
    },
    "executionInfo": {
     "elapsed": 5323,
     "status": "ok",
     "timestamp": 1620963359860,
     "user": {
      "displayName": "Alejandro Jesus Manotas Marmolejo",
      "photoUrl": "https://lh3.googleusercontent.com/a-/AOh14Gh32vHf1Cb01wrrbeAgN813Zzhyn5snTuo2iwq2ww=s64",
      "userId": "01731353529927081390"
     },
     "user_tz": 300
    },
    "id": "gbN_1knDedcJ",
    "outputId": "ef38b08e-aced-42d6-d6cf-ea258658d075"
   },
   "outputs": [
    {
     "data": {
      "image/png": "[encoded data removed]",
      "text/plain": [
       "<Figure size 432x288 with 1 Axes>"
      ]
     },
     "metadata": {
      "needs_background": "light",
      "tags": []
     },
     "output_type": "display_data"
    }
   ],
   "source": [
    "# Visualizing the clusters\n",
    "y_dbscan = dbscan.fit_predict(Y)\n",
    "plt.scatter(Y[:, 0], Y[:, 1], s = 100, c = y_dbscan, cmap='plasma')\n",
    "plt.title('Clusters of D31_data')\n",
    "plt.show()"
   ]
  },
  {
   "cell_type": "code",
   "execution_count": 17,
   "metadata": {
    "executionInfo": {
     "elapsed": 5677,
     "status": "ok",
     "timestamp": 1620963360228,
     "user": {
      "displayName": "Alejandro Jesus Manotas Marmolejo",
      "photoUrl": "https://lh3.googleusercontent.com/a-/AOh14Gh32vHf1Cb01wrrbeAgN813Zzhyn5snTuo2iwq2ww=s64",
      "userId": "01731353529927081390"
     },
     "user_tz": 300
    },
    "id": "BacbEr-HhP8Z"
   },
   "outputs": [],
   "source": [
    "neigh = NearestNeighbors(n_neighbors=2)\n",
    "nbrs = neigh.fit(Y)\n",
    "distances, indices = nbrs.kneighbors(Y)"
   ]
  },
  {
   "cell_type": "code",
   "execution_count": 18,
   "metadata": {
    "colab": {
     "base_uri": "https://localhost:8080/",
     "height": 265
    },
    "executionInfo": {
     "elapsed": 5668,
     "status": "ok",
     "timestamp": 1620963360230,
     "user": {
      "displayName": "Alejandro Jesus Manotas Marmolejo",
      "photoUrl": "https://lh3.googleusercontent.com/a-/AOh14Gh32vHf1Cb01wrrbeAgN813Zzhyn5snTuo2iwq2ww=s64",
      "userId": "01731353529927081390"
     },
     "user_tz": 300
    },
    "id": "OtkqiHLTht80",
    "outputId": "8564d99d-549b-4ac6-ceed-23af24203e87"
   },
   "outputs": [
    {
     "data": {
      "image/png": "[encoded data removed]",
      "text/plain": [
       "<Figure size 432x288 with 1 Axes>"
      ]
     },
     "metadata": {
      "needs_background": "light",
      "tags": []
     },
     "output_type": "display_data"
    }
   ],
   "source": [
    "# Sort and view\n",
    "distances = np.sort(distances, axis=0)\n",
    "plt.plot(distances[:,1])\n",
    "plt.show()"
   ]
  },
  {
   "cell_type": "code",
   "execution_count": 19,
   "metadata": {
    "executionInfo": {
     "elapsed": 5658,
     "status": "ok",
     "timestamp": 1620963360231,
     "user": {
      "displayName": "Alejandro Jesus Manotas Marmolejo",
      "photoUrl": "https://lh3.googleusercontent.com/a-/AOh14Gh32vHf1Cb01wrrbeAgN813Zzhyn5snTuo2iwq2ww=s64",
      "userId": "01731353529927081390"
     },
     "user_tz": 300
    },
    "id": "43SrLpRJh80e"
   },
   "outputs": [],
   "source": [
    "# Fitting K-Means to the dataset with eps = 0.10\n",
    "dbscan = DBSCAN(eps=0.10, min_samples=5)\n",
    "model = dbscan.fit(Y)"
   ]
  },
  {
   "cell_type": "code",
   "execution_count": 20,
   "metadata": {
    "colab": {
     "base_uri": "https://localhost:8080/",
     "height": 281
    },
    "executionInfo": {
     "elapsed": 6426,
     "status": "ok",
     "timestamp": 1620963361010,
     "user": {
      "displayName": "Alejandro Jesus Manotas Marmolejo",
      "photoUrl": "https://lh3.googleusercontent.com/a-/AOh14Gh32vHf1Cb01wrrbeAgN813Zzhyn5snTuo2iwq2ww=s64",
      "userId": "01731353529927081390"
     },
     "user_tz": 300
    },
    "id": "P5q_bWRhkICb",
    "outputId": "d02997c6-0112-490d-942c-1dda7a364fac"
   },
   "outputs": [
    {
     "data": {
      "image/png": "[encoded data removed]",
      "text/plain": [
       "<Figure size 432x288 with 1 Axes>"
      ]
     },
     "metadata": {
      "needs_background": "light",
      "tags": []
     },
     "output_type": "display_data"
    }
   ],
   "source": [
    "y_dbscan = dbscan.fit_predict(Y)\n",
    "plt.scatter(Y[:, 0], Y[:, 1], s = 100, c = y_dbscan, cmap='plasma')\n",
    "plt.title('Clusters D31_data')\n",
    "plt.show()"
   ]
  },
  {
   "cell_type": "markdown",
   "metadata": {
    "id": "xRduOcBrkxgo"
   },
   "source": [
    "## Comparison between DBSCAN and K-Means"
   ]
  },
  {
   "cell_type": "code",
   "execution_count": 21,
   "metadata": {
    "colab": {
     "base_uri": "https://localhost:8080/"
    },
    "executionInfo": {
     "elapsed": 7083,
     "status": "ok",
     "timestamp": 1620963361680,
     "user": {
      "displayName": "Alejandro Jesus Manotas Marmolejo",
      "photoUrl": "https://lh3.googleusercontent.com/a-/AOh14Gh32vHf1Cb01wrrbeAgN813Zzhyn5snTuo2iwq2ww=s64",
      "userId": "01731353529927081390"
     },
     "user_tz": 300
    },
    "id": "F2wIgEP6k2Uz",
    "outputId": "bd8382f7-65e7-47e2-bcf2-775f15fddd47"
   },
   "outputs": [
    {
     "name": "stdout",
     "output_type": "stream",
     "text": [
      "Silhouette coefficient DBSCAN: 0.213\n",
      "Silhouette coefficient K-Means: 0.421\n"
     ]
    }
   ],
   "source": [
    "# Comparison between K-Means and DBSCAN\n",
    "labels = dbscan.labels_\n",
    "labels2 = kmeans.labels_\n",
    "print('Silhouette coefficient DBSCAN: %0.3f' % metrics.silhouette_score(Y,labels))\n",
    "print('Silhouette coefficient K-Means: %0.3f' % metrics.silhouette_score(X,labels2))"
   ]
  },
  {
   "cell_type": "markdown",
   "metadata": {
    "id": "MKL5lPHE2ZXr"
   },
   "source": [
    "## Conclusión"
   ]
  },
  {
   "cell_type": "markdown",
   "metadata": {
    "id": "ivgWTu382a8K"
   },
   "source": [
    "Comparando los coeficientes, se tiene que el K-means ofrece un coeficiente mayor a comparación del DBSCAN, a pesar de que en el DBSCAN se utiliza un epsilon optimo el coeficiente sigue siendo menor."
   ]
  },
  {
   "cell_type": "markdown",
   "metadata": {
    "id": "NJauiAzeLK75"
   },
   "source": [
    "# 2. Clustering Fifa Players"
   ]
  },
  {
   "cell_type": "code",
   "execution_count": 22,
   "metadata": {
    "colab": {
     "base_uri": "https://localhost:8080/",
     "height": 326
    },
    "executionInfo": {
     "elapsed": 7073,
     "status": "ok",
     "timestamp": 1620963361682,
     "user": {
      "displayName": "Alejandro Jesus Manotas Marmolejo",
      "photoUrl": "https://lh3.googleusercontent.com/a-/AOh14Gh32vHf1Cb01wrrbeAgN813Zzhyn5snTuo2iwq2ww=s64",
      "userId": "01731353529927081390"
     },
     "user_tz": 300
    },
    "id": "wrNoDwkFLN_a",
    "outputId": "3d6d9bca-ae49-4f0a-fc56-8fefe2c40d25"
   },
   "outputs": [
    {
     "data": {
      "text/html": [
       "<div>\n",
       "<style scoped>\n",
       "    .dataframe tbody tr th:only-of-type {\n",
       "        vertical-align: middle;\n",
       "    }\n",
       "\n",
       "    .dataframe tbody tr th {\n",
       "        vertical-align: top;\n",
       "    }\n",
       "\n",
       "    .dataframe thead th {\n",
       "        text-align: right;\n",
       "    }\n",
       "</style>\n",
       "<table border=\"1\" class=\"dataframe\">\n",
       "  <thead>\n",
       "    <tr style=\"text-align: right;\">\n",
       "      <th></th>\n",
       "      <th>Unnamed: 0</th>\n",
       "      <th>ID</th>\n",
       "      <th>Name</th>\n",
       "      <th>Age</th>\n",
       "      <th>Nationality</th>\n",
       "      <th>Overall</th>\n",
       "      <th>Potential</th>\n",
       "      <th>Club</th>\n",
       "      <th>Value</th>\n",
       "      <th>Preferred Foot</th>\n",
       "      <th>International Reputation</th>\n",
       "      <th>Weak Foot</th>\n",
       "      <th>Skill Moves</th>\n",
       "      <th>Height</th>\n",
       "      <th>Weight</th>\n",
       "      <th>LS</th>\n",
       "      <th>ST</th>\n",
       "      <th>RS</th>\n",
       "      <th>LW</th>\n",
       "      <th>LF</th>\n",
       "      <th>CF</th>\n",
       "      <th>RF</th>\n",
       "      <th>RW</th>\n",
       "      <th>LAM</th>\n",
       "      <th>CAM</th>\n",
       "      <th>RAM</th>\n",
       "      <th>LM</th>\n",
       "      <th>LCM</th>\n",
       "      <th>CM</th>\n",
       "      <th>RCM</th>\n",
       "      <th>RM</th>\n",
       "      <th>LWB</th>\n",
       "      <th>LDM</th>\n",
       "      <th>CDM</th>\n",
       "      <th>RDM</th>\n",
       "      <th>RWB</th>\n",
       "      <th>LB</th>\n",
       "      <th>LCB</th>\n",
       "      <th>CB</th>\n",
       "      <th>RCB</th>\n",
       "      <th>RB</th>\n",
       "      <th>Crossing</th>\n",
       "      <th>Finishing</th>\n",
       "      <th>HeadingAccuracy</th>\n",
       "      <th>ShortPassing</th>\n",
       "      <th>Volleys</th>\n",
       "      <th>Dribbling</th>\n",
       "      <th>Curve</th>\n",
       "      <th>FKAccuracy</th>\n",
       "      <th>LongPassing</th>\n",
       "      <th>BallControl</th>\n",
       "      <th>Acceleration</th>\n",
       "      <th>SprintSpeed</th>\n",
       "      <th>Agility</th>\n",
       "      <th>Reactions</th>\n",
       "      <th>Balance</th>\n",
       "      <th>ShotPower</th>\n",
       "      <th>Jumping</th>\n",
       "      <th>Stamina</th>\n",
       "      <th>Strength</th>\n",
       "      <th>LongShots</th>\n",
       "      <th>Aggression</th>\n",
       "      <th>Interceptions</th>\n",
       "      <th>Positioning</th>\n",
       "      <th>Vision</th>\n",
       "      <th>Penalties</th>\n",
       "      <th>Composure</th>\n",
       "      <th>Marking</th>\n",
       "      <th>StandingTackle</th>\n",
       "      <th>SlidingTackle</th>\n",
       "      <th>GKDiving</th>\n",
       "      <th>GKHandling</th>\n",
       "      <th>GKKicking</th>\n",
       "      <th>GKPositioning</th>\n",
       "      <th>GKReflexes</th>\n",
       "      <th>Release Clause</th>\n",
       "    </tr>\n",
       "  </thead>\n",
       "  <tbody>\n",
       "    <tr>\n",
       "      <th>0</th>\n",
       "      <td>0</td>\n",
       "      <td>158023</td>\n",
       "      <td>L. Messi</td>\n",
       "      <td>31</td>\n",
       "      <td>Argentina</td>\n",
       "      <td>94</td>\n",
       "      <td>94</td>\n",
       "      <td>FC Barcelona</td>\n",
       "      <td>€110.5M</td>\n",
       "      <td>Left</td>\n",
       "      <td>5.0</td>\n",
       "      <td>4.0</td>\n",
       "      <td>4.0</td>\n",
       "      <td>5'7</td>\n",
       "      <td>159lbs</td>\n",
       "      <td>88+2</td>\n",
       "      <td>88+2</td>\n",
       "      <td>88+2</td>\n",
       "      <td>92+2</td>\n",
       "      <td>93+2</td>\n",
       "      <td>93+2</td>\n",
       "      <td>93+2</td>\n",
       "      <td>92+2</td>\n",
       "      <td>93+2</td>\n",
       "      <td>93+2</td>\n",
       "      <td>93+2</td>\n",
       "      <td>91+2</td>\n",
       "      <td>84+2</td>\n",
       "      <td>84+2</td>\n",
       "      <td>84+2</td>\n",
       "      <td>91+2</td>\n",
       "      <td>64+2</td>\n",
       "      <td>61+2</td>\n",
       "      <td>61+2</td>\n",
       "      <td>61+2</td>\n",
       "      <td>64+2</td>\n",
       "      <td>59+2</td>\n",
       "      <td>47+2</td>\n",
       "      <td>47+2</td>\n",
       "      <td>47+2</td>\n",
       "      <td>59+2</td>\n",
       "      <td>84.0</td>\n",
       "      <td>95.0</td>\n",
       "      <td>70.0</td>\n",
       "      <td>90.0</td>\n",
       "      <td>86.0</td>\n",
       "      <td>97.0</td>\n",
       "      <td>93.0</td>\n",
       "      <td>94.0</td>\n",
       "      <td>87.0</td>\n",
       "      <td>96.0</td>\n",
       "      <td>91.0</td>\n",
       "      <td>86.0</td>\n",
       "      <td>91.0</td>\n",
       "      <td>95.0</td>\n",
       "      <td>95.0</td>\n",
       "      <td>85.0</td>\n",
       "      <td>68.0</td>\n",
       "      <td>72.0</td>\n",
       "      <td>59.0</td>\n",
       "      <td>94.0</td>\n",
       "      <td>48.0</td>\n",
       "      <td>22.0</td>\n",
       "      <td>94.0</td>\n",
       "      <td>94.0</td>\n",
       "      <td>75.0</td>\n",
       "      <td>96.0</td>\n",
       "      <td>33.0</td>\n",
       "      <td>28.0</td>\n",
       "      <td>26.0</td>\n",
       "      <td>6.0</td>\n",
       "      <td>11.0</td>\n",
       "      <td>15.0</td>\n",
       "      <td>14.0</td>\n",
       "      <td>8.0</td>\n",
       "      <td>€226.5M</td>\n",
       "    </tr>\n",
       "    <tr>\n",
       "      <th>1</th>\n",
       "      <td>1</td>\n",
       "      <td>20801</td>\n",
       "      <td>Cristiano Ronaldo</td>\n",
       "      <td>33</td>\n",
       "      <td>Portugal</td>\n",
       "      <td>94</td>\n",
       "      <td>94</td>\n",
       "      <td>Juventus</td>\n",
       "      <td>€77M</td>\n",
       "      <td>Right</td>\n",
       "      <td>5.0</td>\n",
       "      <td>4.0</td>\n",
       "      <td>5.0</td>\n",
       "      <td>6'2</td>\n",
       "      <td>183lbs</td>\n",
       "      <td>91+3</td>\n",
       "      <td>91+3</td>\n",
       "      <td>91+3</td>\n",
       "      <td>89+3</td>\n",
       "      <td>90+3</td>\n",
       "      <td>90+3</td>\n",
       "      <td>90+3</td>\n",
       "      <td>89+3</td>\n",
       "      <td>88+3</td>\n",
       "      <td>88+3</td>\n",
       "      <td>88+3</td>\n",
       "      <td>88+3</td>\n",
       "      <td>81+3</td>\n",
       "      <td>81+3</td>\n",
       "      <td>81+3</td>\n",
       "      <td>88+3</td>\n",
       "      <td>65+3</td>\n",
       "      <td>61+3</td>\n",
       "      <td>61+3</td>\n",
       "      <td>61+3</td>\n",
       "      <td>65+3</td>\n",
       "      <td>61+3</td>\n",
       "      <td>53+3</td>\n",
       "      <td>53+3</td>\n",
       "      <td>53+3</td>\n",
       "      <td>61+3</td>\n",
       "      <td>84.0</td>\n",
       "      <td>94.0</td>\n",
       "      <td>89.0</td>\n",
       "      <td>81.0</td>\n",
       "      <td>87.0</td>\n",
       "      <td>88.0</td>\n",
       "      <td>81.0</td>\n",
       "      <td>76.0</td>\n",
       "      <td>77.0</td>\n",
       "      <td>94.0</td>\n",
       "      <td>89.0</td>\n",
       "      <td>91.0</td>\n",
       "      <td>87.0</td>\n",
       "      <td>96.0</td>\n",
       "      <td>70.0</td>\n",
       "      <td>95.0</td>\n",
       "      <td>95.0</td>\n",
       "      <td>88.0</td>\n",
       "      <td>79.0</td>\n",
       "      <td>93.0</td>\n",
       "      <td>63.0</td>\n",
       "      <td>29.0</td>\n",
       "      <td>95.0</td>\n",
       "      <td>82.0</td>\n",
       "      <td>85.0</td>\n",
       "      <td>95.0</td>\n",
       "      <td>28.0</td>\n",
       "      <td>31.0</td>\n",
       "      <td>23.0</td>\n",
       "      <td>7.0</td>\n",
       "      <td>11.0</td>\n",
       "      <td>15.0</td>\n",
       "      <td>14.0</td>\n",
       "      <td>11.0</td>\n",
       "      <td>€127.1M</td>\n",
       "    </tr>\n",
       "    <tr>\n",
       "      <th>2</th>\n",
       "      <td>2</td>\n",
       "      <td>190871</td>\n",
       "      <td>Neymar Jr</td>\n",
       "      <td>26</td>\n",
       "      <td>Brazil</td>\n",
       "      <td>92</td>\n",
       "      <td>93</td>\n",
       "      <td>Paris Saint-Germain</td>\n",
       "      <td>€118.5M</td>\n",
       "      <td>Right</td>\n",
       "      <td>5.0</td>\n",
       "      <td>5.0</td>\n",
       "      <td>5.0</td>\n",
       "      <td>5'9</td>\n",
       "      <td>150lbs</td>\n",
       "      <td>84+3</td>\n",
       "      <td>84+3</td>\n",
       "      <td>84+3</td>\n",
       "      <td>89+3</td>\n",
       "      <td>89+3</td>\n",
       "      <td>89+3</td>\n",
       "      <td>89+3</td>\n",
       "      <td>89+3</td>\n",
       "      <td>89+3</td>\n",
       "      <td>89+3</td>\n",
       "      <td>89+3</td>\n",
       "      <td>88+3</td>\n",
       "      <td>81+3</td>\n",
       "      <td>81+3</td>\n",
       "      <td>81+3</td>\n",
       "      <td>88+3</td>\n",
       "      <td>65+3</td>\n",
       "      <td>60+3</td>\n",
       "      <td>60+3</td>\n",
       "      <td>60+3</td>\n",
       "      <td>65+3</td>\n",
       "      <td>60+3</td>\n",
       "      <td>47+3</td>\n",
       "      <td>47+3</td>\n",
       "      <td>47+3</td>\n",
       "      <td>60+3</td>\n",
       "      <td>79.0</td>\n",
       "      <td>87.0</td>\n",
       "      <td>62.0</td>\n",
       "      <td>84.0</td>\n",
       "      <td>84.0</td>\n",
       "      <td>96.0</td>\n",
       "      <td>88.0</td>\n",
       "      <td>87.0</td>\n",
       "      <td>78.0</td>\n",
       "      <td>95.0</td>\n",
       "      <td>94.0</td>\n",
       "      <td>90.0</td>\n",
       "      <td>96.0</td>\n",
       "      <td>94.0</td>\n",
       "      <td>84.0</td>\n",
       "      <td>80.0</td>\n",
       "      <td>61.0</td>\n",
       "      <td>81.0</td>\n",
       "      <td>49.0</td>\n",
       "      <td>82.0</td>\n",
       "      <td>56.0</td>\n",
       "      <td>36.0</td>\n",
       "      <td>89.0</td>\n",
       "      <td>87.0</td>\n",
       "      <td>81.0</td>\n",
       "      <td>94.0</td>\n",
       "      <td>27.0</td>\n",
       "      <td>24.0</td>\n",
       "      <td>33.0</td>\n",
       "      <td>9.0</td>\n",
       "      <td>9.0</td>\n",
       "      <td>15.0</td>\n",
       "      <td>15.0</td>\n",
       "      <td>11.0</td>\n",
       "      <td>€228.1M</td>\n",
       "    </tr>\n",
       "    <tr>\n",
       "      <th>3</th>\n",
       "      <td>3</td>\n",
       "      <td>193080</td>\n",
       "      <td>De Gea</td>\n",
       "      <td>27</td>\n",
       "      <td>Spain</td>\n",
       "      <td>91</td>\n",
       "      <td>93</td>\n",
       "      <td>Manchester United</td>\n",
       "      <td>€72M</td>\n",
       "      <td>Right</td>\n",
       "      <td>4.0</td>\n",
       "      <td>3.0</td>\n",
       "      <td>1.0</td>\n",
       "      <td>6'4</td>\n",
       "      <td>168lbs</td>\n",
       "      <td>NaN</td>\n",
       "      <td>NaN</td>\n",
       "      <td>NaN</td>\n",
       "      <td>NaN</td>\n",
       "      <td>NaN</td>\n",
       "      <td>NaN</td>\n",
       "      <td>NaN</td>\n",
       "      <td>NaN</td>\n",
       "      <td>NaN</td>\n",
       "      <td>NaN</td>\n",
       "      <td>NaN</td>\n",
       "      <td>NaN</td>\n",
       "      <td>NaN</td>\n",
       "      <td>NaN</td>\n",
       "      <td>NaN</td>\n",
       "      <td>NaN</td>\n",
       "      <td>NaN</td>\n",
       "      <td>NaN</td>\n",
       "      <td>NaN</td>\n",
       "      <td>NaN</td>\n",
       "      <td>NaN</td>\n",
       "      <td>NaN</td>\n",
       "      <td>NaN</td>\n",
       "      <td>NaN</td>\n",
       "      <td>NaN</td>\n",
       "      <td>NaN</td>\n",
       "      <td>17.0</td>\n",
       "      <td>13.0</td>\n",
       "      <td>21.0</td>\n",
       "      <td>50.0</td>\n",
       "      <td>13.0</td>\n",
       "      <td>18.0</td>\n",
       "      <td>21.0</td>\n",
       "      <td>19.0</td>\n",
       "      <td>51.0</td>\n",
       "      <td>42.0</td>\n",
       "      <td>57.0</td>\n",
       "      <td>58.0</td>\n",
       "      <td>60.0</td>\n",
       "      <td>90.0</td>\n",
       "      <td>43.0</td>\n",
       "      <td>31.0</td>\n",
       "      <td>67.0</td>\n",
       "      <td>43.0</td>\n",
       "      <td>64.0</td>\n",
       "      <td>12.0</td>\n",
       "      <td>38.0</td>\n",
       "      <td>30.0</td>\n",
       "      <td>12.0</td>\n",
       "      <td>68.0</td>\n",
       "      <td>40.0</td>\n",
       "      <td>68.0</td>\n",
       "      <td>15.0</td>\n",
       "      <td>21.0</td>\n",
       "      <td>13.0</td>\n",
       "      <td>90.0</td>\n",
       "      <td>85.0</td>\n",
       "      <td>87.0</td>\n",
       "      <td>88.0</td>\n",
       "      <td>94.0</td>\n",
       "      <td>€138.6M</td>\n",
       "    </tr>\n",
       "    <tr>\n",
       "      <th>4</th>\n",
       "      <td>4</td>\n",
       "      <td>192985</td>\n",
       "      <td>K. De Bruyne</td>\n",
       "      <td>27</td>\n",
       "      <td>Belgium</td>\n",
       "      <td>91</td>\n",
       "      <td>92</td>\n",
       "      <td>Manchester City</td>\n",
       "      <td>€102M</td>\n",
       "      <td>Right</td>\n",
       "      <td>4.0</td>\n",
       "      <td>5.0</td>\n",
       "      <td>4.0</td>\n",
       "      <td>5'11</td>\n",
       "      <td>154lbs</td>\n",
       "      <td>82+3</td>\n",
       "      <td>82+3</td>\n",
       "      <td>82+3</td>\n",
       "      <td>87+3</td>\n",
       "      <td>87+3</td>\n",
       "      <td>87+3</td>\n",
       "      <td>87+3</td>\n",
       "      <td>87+3</td>\n",
       "      <td>88+3</td>\n",
       "      <td>88+3</td>\n",
       "      <td>88+3</td>\n",
       "      <td>88+3</td>\n",
       "      <td>87+3</td>\n",
       "      <td>87+3</td>\n",
       "      <td>87+3</td>\n",
       "      <td>88+3</td>\n",
       "      <td>77+3</td>\n",
       "      <td>77+3</td>\n",
       "      <td>77+3</td>\n",
       "      <td>77+3</td>\n",
       "      <td>77+3</td>\n",
       "      <td>73+3</td>\n",
       "      <td>66+3</td>\n",
       "      <td>66+3</td>\n",
       "      <td>66+3</td>\n",
       "      <td>73+3</td>\n",
       "      <td>93.0</td>\n",
       "      <td>82.0</td>\n",
       "      <td>55.0</td>\n",
       "      <td>92.0</td>\n",
       "      <td>82.0</td>\n",
       "      <td>86.0</td>\n",
       "      <td>85.0</td>\n",
       "      <td>83.0</td>\n",
       "      <td>91.0</td>\n",
       "      <td>91.0</td>\n",
       "      <td>78.0</td>\n",
       "      <td>76.0</td>\n",
       "      <td>79.0</td>\n",
       "      <td>91.0</td>\n",
       "      <td>77.0</td>\n",
       "      <td>91.0</td>\n",
       "      <td>63.0</td>\n",
       "      <td>90.0</td>\n",
       "      <td>75.0</td>\n",
       "      <td>91.0</td>\n",
       "      <td>76.0</td>\n",
       "      <td>61.0</td>\n",
       "      <td>87.0</td>\n",
       "      <td>94.0</td>\n",
       "      <td>79.0</td>\n",
       "      <td>88.0</td>\n",
       "      <td>68.0</td>\n",
       "      <td>58.0</td>\n",
       "      <td>51.0</td>\n",
       "      <td>15.0</td>\n",
       "      <td>13.0</td>\n",
       "      <td>5.0</td>\n",
       "      <td>10.0</td>\n",
       "      <td>13.0</td>\n",
       "      <td>€196.4M</td>\n",
       "    </tr>\n",
       "  </tbody>\n",
       "</table>\n",
       "</div>"
      ],
      "text/plain": [
       "   Unnamed: 0      ID  ... GKReflexes  Release Clause\n",
       "0           0  158023  ...        8.0         €226.5M\n",
       "1           1   20801  ...       11.0         €127.1M\n",
       "2           2  190871  ...       11.0         €228.1M\n",
       "3           3  193080  ...       94.0         €138.6M\n",
       "4           4  192985  ...       13.0         €196.4M\n",
       "\n",
       "[5 rows x 76 columns]"
      ]
     },
     "execution_count": 22,
     "metadata": {
      "tags": []
     },
     "output_type": "execute_result"
    }
   ],
   "source": [
    "fifa = pd.read_csv('data.csv')\n",
    "fifa.head()"
   ]
  },
  {
   "cell_type": "markdown",
   "metadata": {
    "id": "K9KfYwW1oiAg"
   },
   "source": [
    "## Age and potential"
   ]
  },
  {
   "cell_type": "code",
   "execution_count": 23,
   "metadata": {
    "executionInfo": {
     "elapsed": 7063,
     "status": "ok",
     "timestamp": 1620963361684,
     "user": {
      "displayName": "Alejandro Jesus Manotas Marmolejo",
      "photoUrl": "https://lh3.googleusercontent.com/a-/AOh14Gh32vHf1Cb01wrrbeAgN813Zzhyn5snTuo2iwq2ww=s64",
      "userId": "01731353529927081390"
     },
     "user_tz": 300
    },
    "id": "sdrtBkHWoYIB"
   },
   "outputs": [],
   "source": [
    "#Columns 3 = age, 6 = Potential\n",
    "Z = fifa.iloc[:, [3,6]].values"
   ]
  },
  {
   "cell_type": "code",
   "execution_count": 24,
   "metadata": {
    "colab": {
     "base_uri": "https://localhost:8080/"
    },
    "executionInfo": {
     "elapsed": 7055,
     "status": "ok",
     "timestamp": 1620963361685,
     "user": {
      "displayName": "Alejandro Jesus Manotas Marmolejo",
      "photoUrl": "https://lh3.googleusercontent.com/a-/AOh14Gh32vHf1Cb01wrrbeAgN813Zzhyn5snTuo2iwq2ww=s64",
      "userId": "01731353529927081390"
     },
     "user_tz": 300
    },
    "id": "xHX3DHvfp6YR",
    "outputId": "ef9e5d95-28dd-48c0-d49c-5ce1e2b360cb"
   },
   "outputs": [
    {
     "data": {
      "text/plain": [
       "array([[31, 94],\n",
       "       [33, 94],\n",
       "       [26, 93],\n",
       "       ...,\n",
       "       [16, 67],\n",
       "       [17, 66],\n",
       "       [16, 66]])"
      ]
     },
     "execution_count": 24,
     "metadata": {
      "tags": []
     },
     "output_type": "execute_result"
    }
   ],
   "source": [
    "Z"
   ]
  },
  {
   "cell_type": "code",
   "execution_count": 25,
   "metadata": {
    "colab": {
     "base_uri": "https://localhost:8080/",
     "height": 295
    },
    "executionInfo": {
     "elapsed": 7047,
     "status": "ok",
     "timestamp": 1620963361688,
     "user": {
      "displayName": "Alejandro Jesus Manotas Marmolejo",
      "photoUrl": "https://lh3.googleusercontent.com/a-/AOh14Gh32vHf1Cb01wrrbeAgN813Zzhyn5snTuo2iwq2ww=s64",
      "userId": "01731353529927081390"
     },
     "user_tz": 300
    },
    "id": "X0cP5ci3p-v_",
    "outputId": "5d94079a-813a-497a-c652-18325bacfc65"
   },
   "outputs": [
    {
     "data": {
      "image/png": "[encoded data removed]",
      "text/plain": [
       "<Figure size 432x288 with 1 Axes>"
      ]
     },
     "metadata": {
      "needs_background": "light",
      "tags": []
     },
     "output_type": "display_data"
    }
   ],
   "source": [
    "# Plotting Age vs Potential\n",
    "plt.scatter(Z[:,0],Z[:,1])\n",
    "plt.title('Cluster FIFA Players')\n",
    "plt.xlabel('Age')\n",
    "plt.ylabel('Potential')\n",
    "plt.show()"
   ]
  },
  {
   "cell_type": "code",
   "execution_count": 26,
   "metadata": {
    "colab": {
     "base_uri": "https://localhost:8080/",
     "height": 295
    },
    "executionInfo": {
     "elapsed": 12640,
     "status": "ok",
     "timestamp": 1620963367297,
     "user": {
      "displayName": "Alejandro Jesus Manotas Marmolejo",
      "photoUrl": "https://lh3.googleusercontent.com/a-/AOh14Gh32vHf1Cb01wrrbeAgN813Zzhyn5snTuo2iwq2ww=s64",
      "userId": "01731353529927081390"
     },
     "user_tz": 300
    },
    "id": "xF0pH5npqXrd",
    "outputId": "1512ddcc-6951-413e-e01c-f49c2327721e"
   },
   "outputs": [
    {
     "data": {
      "image/png": "[encoded data removed]",
      "text/plain": [
       "<Figure size 432x288 with 1 Axes>"
      ]
     },
     "metadata": {
      "needs_background": "light",
      "tags": []
     },
     "output_type": "display_data"
    }
   ],
   "source": [
    "# Using the elbow method to find the optimal number of clusters\n",
    "inertia = []\n",
    "for i in range(1, 11):\n",
    "    kmeans = KMeans(n_clusters = i, init = 'k-means++', random_state = 69)\n",
    "    kmeans.fit(Z)\n",
    "    inertia.append(kmeans.inertia_)\n",
    "plt.plot(range(1, 11), inertia)\n",
    "plt.title('The Elbow Method')\n",
    "plt.xlabel('Number of clusters')\n",
    "plt.ylabel('Inertia')\n",
    "plt.show()"
   ]
  },
  {
   "cell_type": "code",
   "execution_count": 27,
   "metadata": {
    "executionInfo": {
     "elapsed": 13248,
     "status": "ok",
     "timestamp": 1620963367921,
     "user": {
      "displayName": "Alejandro Jesus Manotas Marmolejo",
      "photoUrl": "https://lh3.googleusercontent.com/a-/AOh14Gh32vHf1Cb01wrrbeAgN813Zzhyn5snTuo2iwq2ww=s64",
      "userId": "01731353529927081390"
     },
     "user_tz": 300
    },
    "id": "iey0rHRTqubU"
   },
   "outputs": [],
   "source": [
    "# Fitting K-Means to the dataset with k=4\n",
    "kmeans = KMeans(n_clusters = 4, init = 'k-means++', random_state = 69)\n",
    "y_kmeans = kmeans.fit_predict(Z)"
   ]
  },
  {
   "cell_type": "code",
   "execution_count": 28,
   "metadata": {
    "colab": {
     "base_uri": "https://localhost:8080/",
     "height": 295
    },
    "executionInfo": {
     "elapsed": 13237,
     "status": "ok",
     "timestamp": 1620963367923,
     "user": {
      "displayName": "Alejandro Jesus Manotas Marmolejo",
      "photoUrl": "https://lh3.googleusercontent.com/a-/AOh14Gh32vHf1Cb01wrrbeAgN813Zzhyn5snTuo2iwq2ww=s64",
      "userId": "01731353529927081390"
     },
     "user_tz": 300
    },
    "id": "jM60a4TpquV_",
    "outputId": "79610aa3-6327-427a-cad7-6d8081a691fb"
   },
   "outputs": [
    {
     "data": {
      "image/png": "[encoded data removed]",
      "text/plain": [
       "<Figure size 432x288 with 1 Axes>"
      ]
     },
     "metadata": {
      "needs_background": "light",
      "tags": []
     },
     "output_type": "display_data"
    }
   ],
   "source": [
    "# Visualizing the clusters\n",
    "plt.scatter(Z[y_kmeans == 0, 0], Z[y_kmeans == 0, 1], s = 100, c = 'red', label = 'Cluster 1')\n",
    "plt.scatter(Z[y_kmeans == 1, 0], Z[y_kmeans == 1, 1], s = 100, c = 'blue', label = 'Cluster 2')\n",
    "plt.scatter(Z[y_kmeans == 2, 0], Z[y_kmeans == 2, 1], s = 100, c = 'green', label = 'Cluster 3')\n",
    "plt.scatter(Z[y_kmeans == 3, 0], Z[y_kmeans == 3, 1], s = 100, c = 'gray', label = 'Cluster 4')\n",
    "\n",
    "plt.scatter(kmeans.cluster_centers_[:, 0], kmeans.cluster_centers_[:, 1], s = 300, c = 'yellow', label = 'Centroids')\n",
    "plt.title('Cluster FIFA Players')\n",
    "plt.xlabel('Age')\n",
    "plt.ylabel('Potential')\n",
    "plt.show()"
   ]
  },
  {
   "cell_type": "code",
   "execution_count": 29,
   "metadata": {
    "colab": {
     "base_uri": "https://localhost:8080/"
    },
    "executionInfo": {
     "elapsed": 18792,
     "status": "ok",
     "timestamp": 1620963373490,
     "user": {
      "displayName": "Alejandro Jesus Manotas Marmolejo",
      "photoUrl": "https://lh3.googleusercontent.com/a-/AOh14Gh32vHf1Cb01wrrbeAgN813Zzhyn5snTuo2iwq2ww=s64",
      "userId": "01731353529927081390"
     },
     "user_tz": 300
    },
    "id": "Lbm120Fv6SrH",
    "outputId": "bb1a1cb8-e014-4239-9753-f7b2945e1d59"
   },
   "outputs": [
    {
     "name": "stdout",
     "output_type": "stream",
     "text": [
      "Silhouette coefficient K-means: 0.353\n"
     ]
    }
   ],
   "source": [
    "print('Silhouette coefficient K-means: %0.3f' % metrics.silhouette_score(Z, kmeans.labels_))"
   ]
  },
  {
   "cell_type": "markdown",
   "metadata": {
    "id": "_7HfYGNur5PH"
   },
   "source": [
    "## Age, Overall, Potential, Value, Skill Moves, Height and Weak Foot"
   ]
  },
  {
   "cell_type": "code",
   "execution_count": 30,
   "metadata": {
    "executionInfo": {
     "elapsed": 18784,
     "status": "ok",
     "timestamp": 1620963373492,
     "user": {
      "displayName": "Alejandro Jesus Manotas Marmolejo",
      "photoUrl": "https://lh3.googleusercontent.com/a-/AOh14Gh32vHf1Cb01wrrbeAgN813Zzhyn5snTuo2iwq2ww=s64",
      "userId": "01731353529927081390"
     },
     "user_tz": 300
    },
    "id": "1YtWLvEIr4-_"
   },
   "outputs": [],
   "source": [
    "# Erase €, M and K simbols and convert it into a float value\n",
    "def currency_transform(amount):\n",
    "    if \"M\" in amount:\n",
    "        amount = amount.replace('M', '')\n",
    "        amount = amount.replace('€', '')\n",
    "        amount = float(amount) * 1e+6\n",
    "    else:\n",
    "        amount = amount.replace('K', '')\n",
    "        amount = amount.replace('€', '')\n",
    "        amount = float(amount) * 1e+3\n",
    "    return amount\n",
    "\n",
    "fifa.loc[:, \"Value\"] = fifa['Value'].apply(lambda value: currency_transform(value))"
   ]
  },
  {
   "cell_type": "code",
   "execution_count": 31,
   "metadata": {
    "executionInfo": {
     "elapsed": 18777,
     "status": "ok",
     "timestamp": 1620963373493,
     "user": {
      "displayName": "Alejandro Jesus Manotas Marmolejo",
      "photoUrl": "https://lh3.googleusercontent.com/a-/AOh14Gh32vHf1Cb01wrrbeAgN813Zzhyn5snTuo2iwq2ww=s64",
      "userId": "01731353529927081390"
     },
     "user_tz": 300
    },
    "id": "Vg0gWDNDwqwN"
   },
   "outputs": [],
   "source": [
    "# Convert feet to meters and convert it into a float value\n",
    "def height_transform(height):\n",
    "    if type(height) != float:\n",
    "      lst = list(height)\n",
    "      lst[1] = '.'\n",
    "      lst = ''.join(lst)\n",
    "      height = float(lst)\n",
    "      return height/3.281\n",
    "\n",
    "fifa.loc[:, 'Height'] = fifa['Height'].apply(lambda height: height_transform(height))"
   ]
  },
  {
   "cell_type": "code",
   "execution_count": 32,
   "metadata": {
    "colab": {
     "base_uri": "https://localhost:8080/",
     "height": 326
    },
    "executionInfo": {
     "elapsed": 19081,
     "status": "ok",
     "timestamp": 1620963373806,
     "user": {
      "displayName": "Alejandro Jesus Manotas Marmolejo",
      "photoUrl": "https://lh3.googleusercontent.com/a-/AOh14Gh32vHf1Cb01wrrbeAgN813Zzhyn5snTuo2iwq2ww=s64",
      "userId": "01731353529927081390"
     },
     "user_tz": 300
    },
    "id": "bhq6UYGnuW62",
    "outputId": "df02c91a-2cbc-4466-8758-84374f1675d9"
   },
   "outputs": [
    {
     "data": {
      "text/html": [
       "<div>\n",
       "<style scoped>\n",
       "    .dataframe tbody tr th:only-of-type {\n",
       "        vertical-align: middle;\n",
       "    }\n",
       "\n",
       "    .dataframe tbody tr th {\n",
       "        vertical-align: top;\n",
       "    }\n",
       "\n",
       "    .dataframe thead th {\n",
       "        text-align: right;\n",
       "    }\n",
       "</style>\n",
       "<table border=\"1\" class=\"dataframe\">\n",
       "  <thead>\n",
       "    <tr style=\"text-align: right;\">\n",
       "      <th></th>\n",
       "      <th>Unnamed: 0</th>\n",
       "      <th>ID</th>\n",
       "      <th>Name</th>\n",
       "      <th>Age</th>\n",
       "      <th>Nationality</th>\n",
       "      <th>Overall</th>\n",
       "      <th>Potential</th>\n",
       "      <th>Club</th>\n",
       "      <th>Value</th>\n",
       "      <th>Preferred Foot</th>\n",
       "      <th>International Reputation</th>\n",
       "      <th>Weak Foot</th>\n",
       "      <th>Skill Moves</th>\n",
       "      <th>Height</th>\n",
       "      <th>Weight</th>\n",
       "      <th>LS</th>\n",
       "      <th>ST</th>\n",
       "      <th>RS</th>\n",
       "      <th>LW</th>\n",
       "      <th>LF</th>\n",
       "      <th>CF</th>\n",
       "      <th>RF</th>\n",
       "      <th>RW</th>\n",
       "      <th>LAM</th>\n",
       "      <th>CAM</th>\n",
       "      <th>RAM</th>\n",
       "      <th>LM</th>\n",
       "      <th>LCM</th>\n",
       "      <th>CM</th>\n",
       "      <th>RCM</th>\n",
       "      <th>RM</th>\n",
       "      <th>LWB</th>\n",
       "      <th>LDM</th>\n",
       "      <th>CDM</th>\n",
       "      <th>RDM</th>\n",
       "      <th>RWB</th>\n",
       "      <th>LB</th>\n",
       "      <th>LCB</th>\n",
       "      <th>CB</th>\n",
       "      <th>RCB</th>\n",
       "      <th>RB</th>\n",
       "      <th>Crossing</th>\n",
       "      <th>Finishing</th>\n",
       "      <th>HeadingAccuracy</th>\n",
       "      <th>ShortPassing</th>\n",
       "      <th>Volleys</th>\n",
       "      <th>Dribbling</th>\n",
       "      <th>Curve</th>\n",
       "      <th>FKAccuracy</th>\n",
       "      <th>LongPassing</th>\n",
       "      <th>BallControl</th>\n",
       "      <th>Acceleration</th>\n",
       "      <th>SprintSpeed</th>\n",
       "      <th>Agility</th>\n",
       "      <th>Reactions</th>\n",
       "      <th>Balance</th>\n",
       "      <th>ShotPower</th>\n",
       "      <th>Jumping</th>\n",
       "      <th>Stamina</th>\n",
       "      <th>Strength</th>\n",
       "      <th>LongShots</th>\n",
       "      <th>Aggression</th>\n",
       "      <th>Interceptions</th>\n",
       "      <th>Positioning</th>\n",
       "      <th>Vision</th>\n",
       "      <th>Penalties</th>\n",
       "      <th>Composure</th>\n",
       "      <th>Marking</th>\n",
       "      <th>StandingTackle</th>\n",
       "      <th>SlidingTackle</th>\n",
       "      <th>GKDiving</th>\n",
       "      <th>GKHandling</th>\n",
       "      <th>GKKicking</th>\n",
       "      <th>GKPositioning</th>\n",
       "      <th>GKReflexes</th>\n",
       "      <th>Release Clause</th>\n",
       "    </tr>\n",
       "  </thead>\n",
       "  <tbody>\n",
       "    <tr>\n",
       "      <th>0</th>\n",
       "      <td>0</td>\n",
       "      <td>158023</td>\n",
       "      <td>L. Messi</td>\n",
       "      <td>31</td>\n",
       "      <td>Argentina</td>\n",
       "      <td>94</td>\n",
       "      <td>94</td>\n",
       "      <td>FC Barcelona</td>\n",
       "      <td>110500000.0</td>\n",
       "      <td>Left</td>\n",
       "      <td>5.0</td>\n",
       "      <td>4.0</td>\n",
       "      <td>4.0</td>\n",
       "      <td>1.737275</td>\n",
       "      <td>159lbs</td>\n",
       "      <td>88+2</td>\n",
       "      <td>88+2</td>\n",
       "      <td>88+2</td>\n",
       "      <td>92+2</td>\n",
       "      <td>93+2</td>\n",
       "      <td>93+2</td>\n",
       "      <td>93+2</td>\n",
       "      <td>92+2</td>\n",
       "      <td>93+2</td>\n",
       "      <td>93+2</td>\n",
       "      <td>93+2</td>\n",
       "      <td>91+2</td>\n",
       "      <td>84+2</td>\n",
       "      <td>84+2</td>\n",
       "      <td>84+2</td>\n",
       "      <td>91+2</td>\n",
       "      <td>64+2</td>\n",
       "      <td>61+2</td>\n",
       "      <td>61+2</td>\n",
       "      <td>61+2</td>\n",
       "      <td>64+2</td>\n",
       "      <td>59+2</td>\n",
       "      <td>47+2</td>\n",
       "      <td>47+2</td>\n",
       "      <td>47+2</td>\n",
       "      <td>59+2</td>\n",
       "      <td>84.0</td>\n",
       "      <td>95.0</td>\n",
       "      <td>70.0</td>\n",
       "      <td>90.0</td>\n",
       "      <td>86.0</td>\n",
       "      <td>97.0</td>\n",
       "      <td>93.0</td>\n",
       "      <td>94.0</td>\n",
       "      <td>87.0</td>\n",
       "      <td>96.0</td>\n",
       "      <td>91.0</td>\n",
       "      <td>86.0</td>\n",
       "      <td>91.0</td>\n",
       "      <td>95.0</td>\n",
       "      <td>95.0</td>\n",
       "      <td>85.0</td>\n",
       "      <td>68.0</td>\n",
       "      <td>72.0</td>\n",
       "      <td>59.0</td>\n",
       "      <td>94.0</td>\n",
       "      <td>48.0</td>\n",
       "      <td>22.0</td>\n",
       "      <td>94.0</td>\n",
       "      <td>94.0</td>\n",
       "      <td>75.0</td>\n",
       "      <td>96.0</td>\n",
       "      <td>33.0</td>\n",
       "      <td>28.0</td>\n",
       "      <td>26.0</td>\n",
       "      <td>6.0</td>\n",
       "      <td>11.0</td>\n",
       "      <td>15.0</td>\n",
       "      <td>14.0</td>\n",
       "      <td>8.0</td>\n",
       "      <td>€226.5M</td>\n",
       "    </tr>\n",
       "    <tr>\n",
       "      <th>1</th>\n",
       "      <td>1</td>\n",
       "      <td>20801</td>\n",
       "      <td>Cristiano Ronaldo</td>\n",
       "      <td>33</td>\n",
       "      <td>Portugal</td>\n",
       "      <td>94</td>\n",
       "      <td>94</td>\n",
       "      <td>Juventus</td>\n",
       "      <td>77000000.0</td>\n",
       "      <td>Right</td>\n",
       "      <td>5.0</td>\n",
       "      <td>4.0</td>\n",
       "      <td>5.0</td>\n",
       "      <td>1.889668</td>\n",
       "      <td>183lbs</td>\n",
       "      <td>91+3</td>\n",
       "      <td>91+3</td>\n",
       "      <td>91+3</td>\n",
       "      <td>89+3</td>\n",
       "      <td>90+3</td>\n",
       "      <td>90+3</td>\n",
       "      <td>90+3</td>\n",
       "      <td>89+3</td>\n",
       "      <td>88+3</td>\n",
       "      <td>88+3</td>\n",
       "      <td>88+3</td>\n",
       "      <td>88+3</td>\n",
       "      <td>81+3</td>\n",
       "      <td>81+3</td>\n",
       "      <td>81+3</td>\n",
       "      <td>88+3</td>\n",
       "      <td>65+3</td>\n",
       "      <td>61+3</td>\n",
       "      <td>61+3</td>\n",
       "      <td>61+3</td>\n",
       "      <td>65+3</td>\n",
       "      <td>61+3</td>\n",
       "      <td>53+3</td>\n",
       "      <td>53+3</td>\n",
       "      <td>53+3</td>\n",
       "      <td>61+3</td>\n",
       "      <td>84.0</td>\n",
       "      <td>94.0</td>\n",
       "      <td>89.0</td>\n",
       "      <td>81.0</td>\n",
       "      <td>87.0</td>\n",
       "      <td>88.0</td>\n",
       "      <td>81.0</td>\n",
       "      <td>76.0</td>\n",
       "      <td>77.0</td>\n",
       "      <td>94.0</td>\n",
       "      <td>89.0</td>\n",
       "      <td>91.0</td>\n",
       "      <td>87.0</td>\n",
       "      <td>96.0</td>\n",
       "      <td>70.0</td>\n",
       "      <td>95.0</td>\n",
       "      <td>95.0</td>\n",
       "      <td>88.0</td>\n",
       "      <td>79.0</td>\n",
       "      <td>93.0</td>\n",
       "      <td>63.0</td>\n",
       "      <td>29.0</td>\n",
       "      <td>95.0</td>\n",
       "      <td>82.0</td>\n",
       "      <td>85.0</td>\n",
       "      <td>95.0</td>\n",
       "      <td>28.0</td>\n",
       "      <td>31.0</td>\n",
       "      <td>23.0</td>\n",
       "      <td>7.0</td>\n",
       "      <td>11.0</td>\n",
       "      <td>15.0</td>\n",
       "      <td>14.0</td>\n",
       "      <td>11.0</td>\n",
       "      <td>€127.1M</td>\n",
       "    </tr>\n",
       "    <tr>\n",
       "      <th>2</th>\n",
       "      <td>2</td>\n",
       "      <td>190871</td>\n",
       "      <td>Neymar Jr</td>\n",
       "      <td>26</td>\n",
       "      <td>Brazil</td>\n",
       "      <td>92</td>\n",
       "      <td>93</td>\n",
       "      <td>Paris Saint-Germain</td>\n",
       "      <td>118500000.0</td>\n",
       "      <td>Right</td>\n",
       "      <td>5.0</td>\n",
       "      <td>5.0</td>\n",
       "      <td>5.0</td>\n",
       "      <td>1.798232</td>\n",
       "      <td>150lbs</td>\n",
       "      <td>84+3</td>\n",
       "      <td>84+3</td>\n",
       "      <td>84+3</td>\n",
       "      <td>89+3</td>\n",
       "      <td>89+3</td>\n",
       "      <td>89+3</td>\n",
       "      <td>89+3</td>\n",
       "      <td>89+3</td>\n",
       "      <td>89+3</td>\n",
       "      <td>89+3</td>\n",
       "      <td>89+3</td>\n",
       "      <td>88+3</td>\n",
       "      <td>81+3</td>\n",
       "      <td>81+3</td>\n",
       "      <td>81+3</td>\n",
       "      <td>88+3</td>\n",
       "      <td>65+3</td>\n",
       "      <td>60+3</td>\n",
       "      <td>60+3</td>\n",
       "      <td>60+3</td>\n",
       "      <td>65+3</td>\n",
       "      <td>60+3</td>\n",
       "      <td>47+3</td>\n",
       "      <td>47+3</td>\n",
       "      <td>47+3</td>\n",
       "      <td>60+3</td>\n",
       "      <td>79.0</td>\n",
       "      <td>87.0</td>\n",
       "      <td>62.0</td>\n",
       "      <td>84.0</td>\n",
       "      <td>84.0</td>\n",
       "      <td>96.0</td>\n",
       "      <td>88.0</td>\n",
       "      <td>87.0</td>\n",
       "      <td>78.0</td>\n",
       "      <td>95.0</td>\n",
       "      <td>94.0</td>\n",
       "      <td>90.0</td>\n",
       "      <td>96.0</td>\n",
       "      <td>94.0</td>\n",
       "      <td>84.0</td>\n",
       "      <td>80.0</td>\n",
       "      <td>61.0</td>\n",
       "      <td>81.0</td>\n",
       "      <td>49.0</td>\n",
       "      <td>82.0</td>\n",
       "      <td>56.0</td>\n",
       "      <td>36.0</td>\n",
       "      <td>89.0</td>\n",
       "      <td>87.0</td>\n",
       "      <td>81.0</td>\n",
       "      <td>94.0</td>\n",
       "      <td>27.0</td>\n",
       "      <td>24.0</td>\n",
       "      <td>33.0</td>\n",
       "      <td>9.0</td>\n",
       "      <td>9.0</td>\n",
       "      <td>15.0</td>\n",
       "      <td>15.0</td>\n",
       "      <td>11.0</td>\n",
       "      <td>€228.1M</td>\n",
       "    </tr>\n",
       "    <tr>\n",
       "      <th>3</th>\n",
       "      <td>3</td>\n",
       "      <td>193080</td>\n",
       "      <td>De Gea</td>\n",
       "      <td>27</td>\n",
       "      <td>Spain</td>\n",
       "      <td>91</td>\n",
       "      <td>93</td>\n",
       "      <td>Manchester United</td>\n",
       "      <td>72000000.0</td>\n",
       "      <td>Right</td>\n",
       "      <td>4.0</td>\n",
       "      <td>3.0</td>\n",
       "      <td>1.0</td>\n",
       "      <td>1.950625</td>\n",
       "      <td>168lbs</td>\n",
       "      <td>NaN</td>\n",
       "      <td>NaN</td>\n",
       "      <td>NaN</td>\n",
       "      <td>NaN</td>\n",
       "      <td>NaN</td>\n",
       "      <td>NaN</td>\n",
       "      <td>NaN</td>\n",
       "      <td>NaN</td>\n",
       "      <td>NaN</td>\n",
       "      <td>NaN</td>\n",
       "      <td>NaN</td>\n",
       "      <td>NaN</td>\n",
       "      <td>NaN</td>\n",
       "      <td>NaN</td>\n",
       "      <td>NaN</td>\n",
       "      <td>NaN</td>\n",
       "      <td>NaN</td>\n",
       "      <td>NaN</td>\n",
       "      <td>NaN</td>\n",
       "      <td>NaN</td>\n",
       "      <td>NaN</td>\n",
       "      <td>NaN</td>\n",
       "      <td>NaN</td>\n",
       "      <td>NaN</td>\n",
       "      <td>NaN</td>\n",
       "      <td>NaN</td>\n",
       "      <td>17.0</td>\n",
       "      <td>13.0</td>\n",
       "      <td>21.0</td>\n",
       "      <td>50.0</td>\n",
       "      <td>13.0</td>\n",
       "      <td>18.0</td>\n",
       "      <td>21.0</td>\n",
       "      <td>19.0</td>\n",
       "      <td>51.0</td>\n",
       "      <td>42.0</td>\n",
       "      <td>57.0</td>\n",
       "      <td>58.0</td>\n",
       "      <td>60.0</td>\n",
       "      <td>90.0</td>\n",
       "      <td>43.0</td>\n",
       "      <td>31.0</td>\n",
       "      <td>67.0</td>\n",
       "      <td>43.0</td>\n",
       "      <td>64.0</td>\n",
       "      <td>12.0</td>\n",
       "      <td>38.0</td>\n",
       "      <td>30.0</td>\n",
       "      <td>12.0</td>\n",
       "      <td>68.0</td>\n",
       "      <td>40.0</td>\n",
       "      <td>68.0</td>\n",
       "      <td>15.0</td>\n",
       "      <td>21.0</td>\n",
       "      <td>13.0</td>\n",
       "      <td>90.0</td>\n",
       "      <td>85.0</td>\n",
       "      <td>87.0</td>\n",
       "      <td>88.0</td>\n",
       "      <td>94.0</td>\n",
       "      <td>€138.6M</td>\n",
       "    </tr>\n",
       "    <tr>\n",
       "      <th>4</th>\n",
       "      <td>4</td>\n",
       "      <td>192985</td>\n",
       "      <td>K. De Bruyne</td>\n",
       "      <td>27</td>\n",
       "      <td>Belgium</td>\n",
       "      <td>91</td>\n",
       "      <td>92</td>\n",
       "      <td>Manchester City</td>\n",
       "      <td>102000000.0</td>\n",
       "      <td>Right</td>\n",
       "      <td>4.0</td>\n",
       "      <td>5.0</td>\n",
       "      <td>4.0</td>\n",
       "      <td>1.557452</td>\n",
       "      <td>154lbs</td>\n",
       "      <td>82+3</td>\n",
       "      <td>82+3</td>\n",
       "      <td>82+3</td>\n",
       "      <td>87+3</td>\n",
       "      <td>87+3</td>\n",
       "      <td>87+3</td>\n",
       "      <td>87+3</td>\n",
       "      <td>87+3</td>\n",
       "      <td>88+3</td>\n",
       "      <td>88+3</td>\n",
       "      <td>88+3</td>\n",
       "      <td>88+3</td>\n",
       "      <td>87+3</td>\n",
       "      <td>87+3</td>\n",
       "      <td>87+3</td>\n",
       "      <td>88+3</td>\n",
       "      <td>77+3</td>\n",
       "      <td>77+3</td>\n",
       "      <td>77+3</td>\n",
       "      <td>77+3</td>\n",
       "      <td>77+3</td>\n",
       "      <td>73+3</td>\n",
       "      <td>66+3</td>\n",
       "      <td>66+3</td>\n",
       "      <td>66+3</td>\n",
       "      <td>73+3</td>\n",
       "      <td>93.0</td>\n",
       "      <td>82.0</td>\n",
       "      <td>55.0</td>\n",
       "      <td>92.0</td>\n",
       "      <td>82.0</td>\n",
       "      <td>86.0</td>\n",
       "      <td>85.0</td>\n",
       "      <td>83.0</td>\n",
       "      <td>91.0</td>\n",
       "      <td>91.0</td>\n",
       "      <td>78.0</td>\n",
       "      <td>76.0</td>\n",
       "      <td>79.0</td>\n",
       "      <td>91.0</td>\n",
       "      <td>77.0</td>\n",
       "      <td>91.0</td>\n",
       "      <td>63.0</td>\n",
       "      <td>90.0</td>\n",
       "      <td>75.0</td>\n",
       "      <td>91.0</td>\n",
       "      <td>76.0</td>\n",
       "      <td>61.0</td>\n",
       "      <td>87.0</td>\n",
       "      <td>94.0</td>\n",
       "      <td>79.0</td>\n",
       "      <td>88.0</td>\n",
       "      <td>68.0</td>\n",
       "      <td>58.0</td>\n",
       "      <td>51.0</td>\n",
       "      <td>15.0</td>\n",
       "      <td>13.0</td>\n",
       "      <td>5.0</td>\n",
       "      <td>10.0</td>\n",
       "      <td>13.0</td>\n",
       "      <td>€196.4M</td>\n",
       "    </tr>\n",
       "  </tbody>\n",
       "</table>\n",
       "</div>"
      ],
      "text/plain": [
       "   Unnamed: 0      ID  ... GKReflexes  Release Clause\n",
       "0           0  158023  ...        8.0         €226.5M\n",
       "1           1   20801  ...       11.0         €127.1M\n",
       "2           2  190871  ...       11.0         €228.1M\n",
       "3           3  193080  ...       94.0         €138.6M\n",
       "4           4  192985  ...       13.0         €196.4M\n",
       "\n",
       "[5 rows x 76 columns]"
      ]
     },
     "execution_count": 32,
     "metadata": {
      "tags": []
     },
     "output_type": "execute_result"
    }
   ],
   "source": [
    "# See changes in Dataframe\n",
    "fifa.head()"
   ]
  },
  {
   "cell_type": "code",
   "execution_count": 33,
   "metadata": {
    "executionInfo": {
     "elapsed": 19071,
     "status": "ok",
     "timestamp": 1620963373807,
     "user": {
      "displayName": "Alejandro Jesus Manotas Marmolejo",
      "photoUrl": "https://lh3.googleusercontent.com/a-/AOh14Gh32vHf1Cb01wrrbeAgN813Zzhyn5snTuo2iwq2ww=s64",
      "userId": "01731353529927081390"
     },
     "user_tz": 300
    },
    "id": "NC5I1Y0AuZUU"
   },
   "outputs": [],
   "source": [
    "# Erase nan rows and capture the columns we need\n",
    "fifa.dropna(subset = ['Age','Overall', 'Potential', 'Value', 'Skill Moves', 'Height', 'Weak Foot'], axis=0,inplace=True)\n",
    "A = fifa.iloc[:, [3,5,6,8,12,13,11]].values"
   ]
  },
  {
   "cell_type": "code",
   "execution_count": 34,
   "metadata": {
    "executionInfo": {
     "elapsed": 19688,
     "status": "ok",
     "timestamp": 1620963374431,
     "user": {
      "displayName": "Alejandro Jesus Manotas Marmolejo",
      "photoUrl": "https://lh3.googleusercontent.com/a-/AOh14Gh32vHf1Cb01wrrbeAgN813Zzhyn5snTuo2iwq2ww=s64",
      "userId": "01731353529927081390"
     },
     "user_tz": 300
    },
    "id": "BROl4_3fv4sd"
   },
   "outputs": [],
   "source": [
    "#Ajustamos el modelo\n",
    "kmeans = KMeans(n_clusters = 5, init = 'k-means++', random_state = 69)\n",
    "y_kmeans = kmeans.fit_predict(A)"
   ]
  },
  {
   "cell_type": "code",
   "execution_count": 35,
   "metadata": {
    "colab": {
     "base_uri": "https://localhost:8080/"
    },
    "executionInfo": {
     "elapsed": 19669,
     "status": "ok",
     "timestamp": 1620963374433,
     "user": {
      "displayName": "Alejandro Jesus Manotas Marmolejo",
      "photoUrl": "https://lh3.googleusercontent.com/a-/AOh14Gh32vHf1Cb01wrrbeAgN813Zzhyn5snTuo2iwq2ww=s64",
      "userId": "01731353529927081390"
     },
     "user_tz": 300
    },
    "id": "4Ve_-JT42jh5",
    "outputId": "fa69313b-6386-4f25-bfe2-a208f5fe0b06"
   },
   "outputs": [
    {
     "name": "stdout",
     "output_type": "stream",
     "text": [
      "Number of clusters: 5\n",
      "Number of total groups: 5\n"
     ]
    }
   ],
   "source": [
    "# See numbers of clusters\n",
    "labels = kmeans.labels_\n",
    "n_clusters_ = len(set(labels))-(1 if -1 in labels else 0)\n",
    "print('Number of clusters: %0.0f' % n_clusters_)\n",
    "print('Number of total groups: %0.0f' % len(Counter(labels).keys()))"
   ]
  },
  {
   "cell_type": "code",
   "execution_count": 36,
   "metadata": {
    "colab": {
     "base_uri": "https://localhost:8080/"
    },
    "executionInfo": {
     "elapsed": 25349,
     "status": "ok",
     "timestamp": 1620963380145,
     "user": {
      "displayName": "Alejandro Jesus Manotas Marmolejo",
      "photoUrl": "https://lh3.googleusercontent.com/a-/AOh14Gh32vHf1Cb01wrrbeAgN813Zzhyn5snTuo2iwq2ww=s64",
      "userId": "01731353529927081390"
     },
     "user_tz": 300
    },
    "id": "xl1182w45vD_",
    "outputId": "0662ee04-7a71-4de4-c8a4-c6b65c2cf03c"
   },
   "outputs": [
    {
     "name": "stdout",
     "output_type": "stream",
     "text": [
      "Silhouette coefficient K-means: 0.780\n"
     ]
    }
   ],
   "source": [
    "print('Silhouette coefficient K-means: %0.3f' % metrics.silhouette_score(A, labels))"
   ]
  },
  {
   "cell_type": "markdown",
   "metadata": {
    "id": "020P1A_-5ElU"
   },
   "source": [
    "## Conclusiones"
   ]
  },
  {
   "cell_type": "markdown",
   "metadata": {
    "id": "CPzW4NOy5GIX"
   },
   "source": [
    "Utilizando K-means solo para dos features provee un coeficiente mucho menor que cuando se utilizan siete features. Utilizando dos obtenenemos un coeficiente de 0.353 mientras que utilizando siete features obtenemos un coeficiente de 0.780."
   ]
  }
 ],
 "metadata": {
  "colab": {
   "authorship_tag": "ABX9TyOUw8L5RsXtVVHvH4iZlN3i",
   "collapsed_sections": [],
   "name": "Lab07_AlejandroManotas.ipynb",
   "provenance": []
  },
  "kernelspec": {
   "display_name": "Python 3",
   "language": "python",
   "name": "python3"
  },
  "language_info": {
   "codemirror_mode": {
    "name": "ipython",
    "version": 3
   },
   "file_extension": ".py",
   "mimetype": "text/x-python",
   "name": "python",
   "nbconvert_exporter": "python",
   "pygments_lexer": "ipython3",
   "version": "3.8.5"
  }
 },
 "nbformat": 4,
 "nbformat_minor": 1
}
