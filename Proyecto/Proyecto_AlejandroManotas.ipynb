{
 "cells": [
  {
   "cell_type": "markdown",
   "metadata": {},
   "source": [
    "# Install needed for COVID-19 Mobile Testing/Vaccinations sites"
   ]
  },
  {
   "cell_type": "code",
   "execution_count": 1,
   "metadata": {},
   "outputs": [
    {
     "name": "stdout",
     "output_type": "stream",
     "text": [
      "Requirement already satisfied: geopy in c:\\users\\alejo\\anaconda3\\lib\\site-packages (2.1.0)\n",
      "Requirement already satisfied: geographiclib<2,>=1.49 in c:\\users\\alejo\\anaconda3\\lib\\site-packages (from geopy) (1.50)\n",
      "Requirement already satisfied: folium in c:\\users\\alejo\\anaconda3\\lib\\site-packages (0.12.1)\n",
      "Requirement already satisfied: numpy in c:\\users\\alejo\\anaconda3\\lib\\site-packages (from folium) (1.19.2)\n",
      "Requirement already satisfied: requests in c:\\users\\alejo\\anaconda3\\lib\\site-packages (from folium) (2.24.0)\n",
      "Requirement already satisfied: jinja2>=2.9 in c:\\users\\alejo\\anaconda3\\lib\\site-packages (from folium) (2.11.2)\n",
      "Requirement already satisfied: branca>=0.3.0 in c:\\users\\alejo\\anaconda3\\lib\\site-packages (from folium) (0.4.2)\n",
      "Requirement already satisfied: certifi>=2017.4.17 in c:\\users\\alejo\\anaconda3\\lib\\site-packages (from requests->folium) (2020.6.20)\n",
      "Requirement already satisfied: chardet<4,>=3.0.2 in c:\\users\\alejo\\anaconda3\\lib\\site-packages (from requests->folium) (3.0.4)\n",
      "Requirement already satisfied: idna<3,>=2.5 in c:\\users\\alejo\\anaconda3\\lib\\site-packages (from requests->folium) (2.10)\n",
      "Requirement already satisfied: urllib3!=1.25.0,!=1.25.1,<1.26,>=1.21.1 in c:\\users\\alejo\\anaconda3\\lib\\site-packages (from requests->folium) (1.25.11)\n",
      "Requirement already satisfied: MarkupSafe>=0.23 in c:\\users\\alejo\\anaconda3\\lib\\site-packages (from jinja2>=2.9->folium) (1.1.1)\n"
     ]
    }
   ],
   "source": [
    "!pip install geopy\n",
    "!pip install folium"
   ]
  },
  {
   "cell_type": "markdown",
   "metadata": {
    "id": "gWVp2JOvPEct"
   },
   "source": [
    "# Alejandro Jesús Manotas Marmolejo\n",
    "# Código: 200108289"
   ]
  },
  {
   "cell_type": "code",
   "execution_count": 2,
   "metadata": {
    "id": "iLVmmsTCSeXz"
   },
   "outputs": [],
   "source": [
    "#Imports\n",
    "import pandas as pd\n",
    "import matplotlib.pyplot as plt\n",
    "import seaborn as sns\n",
    "import numpy as np\n",
    "import math\n",
    "\n",
    "#Distribution for Running Data Analysis\n",
    "from scipy.stats import poisson\n",
    "\n",
    "#Model imports\n",
    "from sklearn.naive_bayes import GaussianNB\n",
    "from sklearn import tree \n",
    "from sklearn.neighbors import KNeighborsClassifier\n",
    "\n",
    "#Geolocalization and view import\n",
    "from geopy.geocoders import Nominatim\n",
    "import folium\n",
    "\n",
    "#Clustering imports\n",
    "from sklearn.cluster import KMeans\n",
    "\n",
    "#Model metrics\n",
    "from sklearn.metrics import silhouette_samples, silhouette_score\n",
    "from sklearn.metrics import accuracy_score\n",
    "from sklearn.metrics import precision_score\n",
    "from sklearn.model_selection import train_test_split"
   ]
  },
  {
   "cell_type": "markdown",
   "metadata": {
    "id": "YNYhz1GhSeX1"
   },
   "source": [
    "# 1. Running data analysis\n",
    "\n",
    "Dataset: [Runkeeper data](https://raw.githubusercontent.com/goodboychan/goodboychan.github.io/main/_notebooks/dataset/cardioActivities.csv)"
   ]
  },
  {
   "cell_type": "code",
   "execution_count": null,
   "metadata": {
    "colab": {
     "base_uri": "https://localhost:8080/",
     "height": 408
    },
    "id": "h6r6S1vUxN-u",
    "outputId": "c7dfe78e-74ba-4ffb-e84a-fcdc738a3901"
   },
   "outputs": [
    {
     "data": {
      "text/html": [
       "<div>\n",
       "<style scoped>\n",
       "    .dataframe tbody tr th:only-of-type {\n",
       "        vertical-align: middle;\n",
       "    }\n",
       "\n",
       "    .dataframe tbody tr th {\n",
       "        vertical-align: top;\n",
       "    }\n",
       "\n",
       "    .dataframe thead th {\n",
       "        text-align: right;\n",
       "    }\n",
       "</style>\n",
       "<table border=\"1\" class=\"dataframe\">\n",
       "  <thead>\n",
       "    <tr style=\"text-align: right;\">\n",
       "      <th></th>\n",
       "      <th>Date</th>\n",
       "      <th>Activity Id</th>\n",
       "      <th>Type</th>\n",
       "      <th>Route Name</th>\n",
       "      <th>Distance (km)</th>\n",
       "      <th>Duration</th>\n",
       "      <th>Average Pace</th>\n",
       "      <th>Average Speed (km/h)</th>\n",
       "      <th>Calories Burned</th>\n",
       "      <th>Climb (m)</th>\n",
       "      <th>Average Heart Rate (bpm)</th>\n",
       "      <th>Friend's Tagged</th>\n",
       "      <th>Notes</th>\n",
       "      <th>GPX File</th>\n",
       "    </tr>\n",
       "  </thead>\n",
       "  <tbody>\n",
       "    <tr>\n",
       "      <th>0</th>\n",
       "      <td>2018-11-11 14:05:12</td>\n",
       "      <td>c9627fed-14ac-47a2-bed3-2a2630c63c15</td>\n",
       "      <td>Running</td>\n",
       "      <td>NaN</td>\n",
       "      <td>10.44</td>\n",
       "      <td>58:40</td>\n",
       "      <td>5:37</td>\n",
       "      <td>10.68</td>\n",
       "      <td>774.0</td>\n",
       "      <td>130</td>\n",
       "      <td>159.0</td>\n",
       "      <td>NaN</td>\n",
       "      <td>NaN</td>\n",
       "      <td>2018-11-11-140512.gpx</td>\n",
       "    </tr>\n",
       "    <tr>\n",
       "      <th>1</th>\n",
       "      <td>2018-11-09 15:02:35</td>\n",
       "      <td>be65818d-a801-4847-a43b-2acdf4dc70e7</td>\n",
       "      <td>Running</td>\n",
       "      <td>NaN</td>\n",
       "      <td>12.84</td>\n",
       "      <td>1:14:12</td>\n",
       "      <td>5:47</td>\n",
       "      <td>10.39</td>\n",
       "      <td>954.0</td>\n",
       "      <td>168</td>\n",
       "      <td>159.0</td>\n",
       "      <td>NaN</td>\n",
       "      <td>NaN</td>\n",
       "      <td>2018-11-09-150235.gpx</td>\n",
       "    </tr>\n",
       "    <tr>\n",
       "      <th>2</th>\n",
       "      <td>2018-11-04 16:05:00</td>\n",
       "      <td>c09b2f92-f855-497c-b624-c196b3ef036c</td>\n",
       "      <td>Running</td>\n",
       "      <td>NaN</td>\n",
       "      <td>13.01</td>\n",
       "      <td>1:15:16</td>\n",
       "      <td>5:47</td>\n",
       "      <td>10.37</td>\n",
       "      <td>967.0</td>\n",
       "      <td>171</td>\n",
       "      <td>155.0</td>\n",
       "      <td>NaN</td>\n",
       "      <td>NaN</td>\n",
       "      <td>2018-11-04-160500.gpx</td>\n",
       "    </tr>\n",
       "    <tr>\n",
       "      <th>3</th>\n",
       "      <td>2018-11-01 14:03:58</td>\n",
       "      <td>bc9b612d-3499-43ff-b82a-9b17b71b8a36</td>\n",
       "      <td>Running</td>\n",
       "      <td>NaN</td>\n",
       "      <td>12.98</td>\n",
       "      <td>1:14:25</td>\n",
       "      <td>5:44</td>\n",
       "      <td>10.47</td>\n",
       "      <td>960.0</td>\n",
       "      <td>169</td>\n",
       "      <td>158.0</td>\n",
       "      <td>NaN</td>\n",
       "      <td>NaN</td>\n",
       "      <td>2018-11-01-140358.gpx</td>\n",
       "    </tr>\n",
       "    <tr>\n",
       "      <th>4</th>\n",
       "      <td>2018-10-27 17:01:36</td>\n",
       "      <td>972567b2-1b0e-437c-9e82-fef8078d6438</td>\n",
       "      <td>Running</td>\n",
       "      <td>NaN</td>\n",
       "      <td>13.02</td>\n",
       "      <td>1:12:50</td>\n",
       "      <td>5:36</td>\n",
       "      <td>10.73</td>\n",
       "      <td>967.0</td>\n",
       "      <td>170</td>\n",
       "      <td>154.0</td>\n",
       "      <td>NaN</td>\n",
       "      <td>NaN</td>\n",
       "      <td>2018-10-27-170136.gpx</td>\n",
       "    </tr>\n",
       "  </tbody>\n",
       "</table>\n",
       "</div>"
      ],
      "text/plain": [
       "                  Date  ...               GPX File\n",
       "0  2018-11-11 14:05:12  ...  2018-11-11-140512.gpx\n",
       "1  2018-11-09 15:02:35  ...  2018-11-09-150235.gpx\n",
       "2  2018-11-04 16:05:00  ...  2018-11-04-160500.gpx\n",
       "3  2018-11-01 14:03:58  ...  2018-11-01-140358.gpx\n",
       "4  2018-10-27 17:01:36  ...  2018-10-27-170136.gpx\n",
       "\n",
       "[5 rows x 14 columns]"
      ]
     },
     "execution_count": 3,
     "metadata": {
      "tags": []
     },
     "output_type": "execute_result"
    }
   ],
   "source": [
    "#Read CSV\n",
    "runkeeper_data = pd.read_csv('Runkeeper_data.csv')\n",
    "runkeeper_data.head()"
   ]
  },
  {
   "cell_type": "code",
   "execution_count": null,
   "metadata": {
    "colab": {
     "base_uri": "https://localhost:8080/",
     "height": 204
    },
    "id": "QiF6eN0wx6aC",
    "outputId": "89899c5c-23de-40f5-8b9d-d6da2ca8f8a0"
   },
   "outputs": [
    {
     "data": {
      "text/html": [
       "<div>\n",
       "<style scoped>\n",
       "    .dataframe tbody tr th:only-of-type {\n",
       "        vertical-align: middle;\n",
       "    }\n",
       "\n",
       "    .dataframe tbody tr th {\n",
       "        vertical-align: top;\n",
       "    }\n",
       "\n",
       "    .dataframe thead th {\n",
       "        text-align: right;\n",
       "    }\n",
       "</style>\n",
       "<table border=\"1\" class=\"dataframe\">\n",
       "  <thead>\n",
       "    <tr style=\"text-align: right;\">\n",
       "      <th></th>\n",
       "      <th>Date</th>\n",
       "      <th>Type</th>\n",
       "      <th>Distance (km)</th>\n",
       "      <th>Duration</th>\n",
       "      <th>Average Pace</th>\n",
       "      <th>Average Speed (km/h)</th>\n",
       "      <th>Climb (m)</th>\n",
       "      <th>Average Heart Rate (bpm)</th>\n",
       "    </tr>\n",
       "  </thead>\n",
       "  <tbody>\n",
       "    <tr>\n",
       "      <th>0</th>\n",
       "      <td>2018-11-11 14:05:12</td>\n",
       "      <td>Running</td>\n",
       "      <td>10.44</td>\n",
       "      <td>58:40</td>\n",
       "      <td>5:37</td>\n",
       "      <td>10.68</td>\n",
       "      <td>130</td>\n",
       "      <td>159.0</td>\n",
       "    </tr>\n",
       "    <tr>\n",
       "      <th>1</th>\n",
       "      <td>2018-11-09 15:02:35</td>\n",
       "      <td>Running</td>\n",
       "      <td>12.84</td>\n",
       "      <td>1:14:12</td>\n",
       "      <td>5:47</td>\n",
       "      <td>10.39</td>\n",
       "      <td>168</td>\n",
       "      <td>159.0</td>\n",
       "    </tr>\n",
       "    <tr>\n",
       "      <th>2</th>\n",
       "      <td>2018-11-04 16:05:00</td>\n",
       "      <td>Running</td>\n",
       "      <td>13.01</td>\n",
       "      <td>1:15:16</td>\n",
       "      <td>5:47</td>\n",
       "      <td>10.37</td>\n",
       "      <td>171</td>\n",
       "      <td>155.0</td>\n",
       "    </tr>\n",
       "    <tr>\n",
       "      <th>3</th>\n",
       "      <td>2018-11-01 14:03:58</td>\n",
       "      <td>Running</td>\n",
       "      <td>12.98</td>\n",
       "      <td>1:14:25</td>\n",
       "      <td>5:44</td>\n",
       "      <td>10.47</td>\n",
       "      <td>169</td>\n",
       "      <td>158.0</td>\n",
       "    </tr>\n",
       "    <tr>\n",
       "      <th>4</th>\n",
       "      <td>2018-10-27 17:01:36</td>\n",
       "      <td>Running</td>\n",
       "      <td>13.02</td>\n",
       "      <td>1:12:50</td>\n",
       "      <td>5:36</td>\n",
       "      <td>10.73</td>\n",
       "      <td>170</td>\n",
       "      <td>154.0</td>\n",
       "    </tr>\n",
       "  </tbody>\n",
       "</table>\n",
       "</div>"
      ],
      "text/plain": [
       "                  Date     Type  ...  Climb (m) Average Heart Rate (bpm)\n",
       "0  2018-11-11 14:05:12  Running  ...        130                    159.0\n",
       "1  2018-11-09 15:02:35  Running  ...        168                    159.0\n",
       "2  2018-11-04 16:05:00  Running  ...        171                    155.0\n",
       "3  2018-11-01 14:03:58  Running  ...        169                    158.0\n",
       "4  2018-10-27 17:01:36  Running  ...        170                    154.0\n",
       "\n",
       "[5 rows x 8 columns]"
      ]
     },
     "execution_count": 4,
     "metadata": {
      "tags": []
     },
     "output_type": "execute_result"
    }
   ],
   "source": [
    "#Erasing columns we don't need\n",
    "runkeeper_data = runkeeper_data.drop(columns=['Friend\\'s Tagged','Route Name','GPX File','Activity Id','Calories Burned', 'Notes'])\n",
    "runkeeper_data.head()"
   ]
  },
  {
   "cell_type": "code",
   "execution_count": null,
   "metadata": {
    "id": "Pd645lGlzA4s"
   },
   "outputs": [],
   "source": [
    "# Erase nan rows\n",
    "runkeeper_data.dropna(subset = ['Type','Distance (km)', 'Duration', 'Average Pace', 'Average Speed (km/h)', 'Climb (m)', 'Average Heart Rate (bpm)'], axis=0,inplace=True)"
   ]
  },
  {
   "cell_type": "markdown",
   "metadata": {
    "id": "YM2bx-IiGotG"
   },
   "source": [
    "## Visualizing data"
   ]
  },
  {
   "cell_type": "code",
   "execution_count": null,
   "metadata": {
    "id": "_cYROLPg3YNq"
   },
   "outputs": [],
   "source": [
    "#Convert duration from type string to integer, duration is gonna be in minutes\n",
    "def convert_to_minutes(duration):\n",
    "  duration = duration.split(':')\n",
    "  minutes = 0\n",
    "  if len(duration) == 3:\n",
    "    minutes += (int(duration[0]) * 60)\n",
    "    minutes += int(duration[1])\n",
    "    minutes += (int(duration[2]) / 60)\n",
    "  else:\n",
    "    minutes += int(duration[0])\n",
    "    minutes += (int(duration[1]) / 60)\n",
    "  return minutes\n",
    "\n",
    "runkeeper_data.loc[:, 'Duration'] = runkeeper_data['Duration'].apply(lambda duration: convert_to_minutes(duration))"
   ]
  },
  {
   "cell_type": "code",
   "execution_count": null,
   "metadata": {
    "colab": {
     "base_uri": "https://localhost:8080/",
     "height": 204
    },
    "id": "j6I04N5k7vB9",
    "outputId": "63a23efc-76a9-4539-9d31-c44196fd601a"
   },
   "outputs": [
    {
     "data": {
      "text/html": [
       "<div>\n",
       "<style scoped>\n",
       "    .dataframe tbody tr th:only-of-type {\n",
       "        vertical-align: middle;\n",
       "    }\n",
       "\n",
       "    .dataframe tbody tr th {\n",
       "        vertical-align: top;\n",
       "    }\n",
       "\n",
       "    .dataframe thead th {\n",
       "        text-align: right;\n",
       "    }\n",
       "</style>\n",
       "<table border=\"1\" class=\"dataframe\">\n",
       "  <thead>\n",
       "    <tr style=\"text-align: right;\">\n",
       "      <th></th>\n",
       "      <th>Date</th>\n",
       "      <th>Type</th>\n",
       "      <th>Distance (km)</th>\n",
       "      <th>Duration</th>\n",
       "      <th>Average Pace</th>\n",
       "      <th>Average Speed (km/h)</th>\n",
       "      <th>Climb (m)</th>\n",
       "      <th>Average Heart Rate (bpm)</th>\n",
       "    </tr>\n",
       "  </thead>\n",
       "  <tbody>\n",
       "    <tr>\n",
       "      <th>0</th>\n",
       "      <td>2018-11-11 14:05:12</td>\n",
       "      <td>Running</td>\n",
       "      <td>10.44</td>\n",
       "      <td>58.666667</td>\n",
       "      <td>5:37</td>\n",
       "      <td>10.68</td>\n",
       "      <td>130</td>\n",
       "      <td>159.0</td>\n",
       "    </tr>\n",
       "    <tr>\n",
       "      <th>1</th>\n",
       "      <td>2018-11-09 15:02:35</td>\n",
       "      <td>Running</td>\n",
       "      <td>12.84</td>\n",
       "      <td>74.200000</td>\n",
       "      <td>5:47</td>\n",
       "      <td>10.39</td>\n",
       "      <td>168</td>\n",
       "      <td>159.0</td>\n",
       "    </tr>\n",
       "    <tr>\n",
       "      <th>2</th>\n",
       "      <td>2018-11-04 16:05:00</td>\n",
       "      <td>Running</td>\n",
       "      <td>13.01</td>\n",
       "      <td>75.266667</td>\n",
       "      <td>5:47</td>\n",
       "      <td>10.37</td>\n",
       "      <td>171</td>\n",
       "      <td>155.0</td>\n",
       "    </tr>\n",
       "    <tr>\n",
       "      <th>3</th>\n",
       "      <td>2018-11-01 14:03:58</td>\n",
       "      <td>Running</td>\n",
       "      <td>12.98</td>\n",
       "      <td>74.416667</td>\n",
       "      <td>5:44</td>\n",
       "      <td>10.47</td>\n",
       "      <td>169</td>\n",
       "      <td>158.0</td>\n",
       "    </tr>\n",
       "    <tr>\n",
       "      <th>4</th>\n",
       "      <td>2018-10-27 17:01:36</td>\n",
       "      <td>Running</td>\n",
       "      <td>13.02</td>\n",
       "      <td>72.833333</td>\n",
       "      <td>5:36</td>\n",
       "      <td>10.73</td>\n",
       "      <td>170</td>\n",
       "      <td>154.0</td>\n",
       "    </tr>\n",
       "  </tbody>\n",
       "</table>\n",
       "</div>"
      ],
      "text/plain": [
       "                  Date     Type  ...  Climb (m)  Average Heart Rate (bpm)\n",
       "0  2018-11-11 14:05:12  Running  ...        130                     159.0\n",
       "1  2018-11-09 15:02:35  Running  ...        168                     159.0\n",
       "2  2018-11-04 16:05:00  Running  ...        171                     155.0\n",
       "3  2018-11-01 14:03:58  Running  ...        169                     158.0\n",
       "4  2018-10-27 17:01:36  Running  ...        170                     154.0\n",
       "\n",
       "[5 rows x 8 columns]"
      ]
     },
     "execution_count": 7,
     "metadata": {
      "tags": []
     },
     "output_type": "execute_result"
    }
   ],
   "source": [
    "#See if dataframe is correct\n",
    "runkeeper_data.head()"
   ]
  },
  {
   "cell_type": "code",
   "execution_count": null,
   "metadata": {
    "colab": {
     "base_uri": "https://localhost:8080/",
     "height": 279
    },
    "id": "vKUJk3ZEBKQZ",
    "outputId": "9029a6fe-3cda-45d5-f0b7-7587e7b33caa"
   },
   "outputs": [
    {
     "data": {
      "image/png": "[encoded data removed]",
      "text/plain": [
       "<Figure size 432x288 with 1 Axes>"
      ]
     },
     "metadata": {
      "needs_background": "light",
      "tags": []
     },
     "output_type": "display_data"
    }
   ],
   "source": [
    "#Histogram based on type of activity\n",
    "type_hist = plt.hist(runkeeper_data['Type'])\n",
    "type_hist = plt.xlabel('Activity')\n",
    "type_hist = plt.ylabel('Observations')\n",
    "plt.show()"
   ]
  },
  {
   "cell_type": "code",
   "execution_count": null,
   "metadata": {
    "colab": {
     "base_uri": "https://localhost:8080/",
     "height": 489
    },
    "id": "T4XVlCD60uNY",
    "outputId": "89a04a80-58b2-40a3-9a15-2e82069fd60f"
   },
   "outputs": [
    {
     "name": "stderr",
     "output_type": "stream",
     "text": [
      "/usr/local/lib/python3.7/dist-packages/seaborn/_decorators.py:43: FutureWarning: Pass the following variable as a keyword arg: x. From version 0.12, the only valid positional argument will be `data`, and passing other arguments without an explicit keyword will result in an error or misinterpretation.\n",
      "  FutureWarning\n",
      "/usr/local/lib/python3.7/dist-packages/seaborn/_decorators.py:43: FutureWarning: Pass the following variable as a keyword arg: x. From version 0.12, the only valid positional argument will be `data`, and passing other arguments without an explicit keyword will result in an error or misinterpretation.\n",
      "  FutureWarning\n",
      "/usr/local/lib/python3.7/dist-packages/seaborn/_decorators.py:43: FutureWarning: Pass the following variable as a keyword arg: x. From version 0.12, the only valid positional argument will be `data`, and passing other arguments without an explicit keyword will result in an error or misinterpretation.\n",
      "  FutureWarning\n",
      "/usr/local/lib/python3.7/dist-packages/seaborn/_decorators.py:43: FutureWarning: Pass the following variable as a keyword arg: x. From version 0.12, the only valid positional argument will be `data`, and passing other arguments without an explicit keyword will result in an error or misinterpretation.\n",
      "  FutureWarning\n",
      "/usr/local/lib/python3.7/dist-packages/seaborn/_decorators.py:43: FutureWarning: Pass the following variable as a keyword arg: x. From version 0.12, the only valid positional argument will be `data`, and passing other arguments without an explicit keyword will result in an error or misinterpretation.\n",
      "  FutureWarning\n"
     ]
    },
    {
     "data": {
      "image/png": "[encoded data removed]",
      "text/plain": [
       "<Figure size 720x288 with 5 Axes>"
      ]
     },
     "metadata": {
      "needs_background": "light",
      "tags": []
     },
     "output_type": "display_data"
    }
   ],
   "source": [
    "r = plt.figure(figsize=(10,4))\n",
    "\n",
    "#Distance (km) boxplot\n",
    "r.add_subplot(3,2,1)\n",
    "sns.boxplot(runkeeper_data['Distance (km)'],color='red')\n",
    "plt.tight_layout(pad=1,h_pad=0.4)\n",
    "\n",
    "#Duration boxplot\n",
    "r.add_subplot(3,2,2)\n",
    "sns.boxplot(runkeeper_data['Duration'],color='blue')\n",
    "plt.tight_layout(pad=1,h_pad=0.4)\n",
    "\n",
    "#Average Speed (km/h) boxplot\n",
    "r.add_subplot(3,2,3)\n",
    "sns.boxplot(runkeeper_data['Average Speed (km/h)'],color='orange')\n",
    "plt.tight_layout(pad=1,h_pad=0.4)\n",
    "\n",
    "#Climb (m) boxplot\n",
    "r.add_subplot(3,2,4)\n",
    "sns.boxplot(runkeeper_data['Climb (m)'],color='chocolate')\n",
    "plt.tight_layout(pad=1,h_pad=0.4)\n",
    "\n",
    "#Average Heart Rate (bpm) boxplot\n",
    "r.add_subplot(3,2,5)\n",
    "sns.boxplot(runkeeper_data['Average Heart Rate (bpm)'],color='gray')\n",
    "plt.tight_layout(pad=1,h_pad=0.4)\n",
    "\n",
    "plt.show()"
   ]
  },
  {
   "cell_type": "code",
   "execution_count": null,
   "metadata": {
    "colab": {
     "base_uri": "https://localhost:8080/",
     "height": 489
    },
    "id": "46MonPnB10b2",
    "outputId": "86e12867-e51b-43c9-b9ee-24c08f9049c2"
   },
   "outputs": [
    {
     "name": "stderr",
     "output_type": "stream",
     "text": [
      "/usr/local/lib/python3.7/dist-packages/seaborn/distributions.py:2557: FutureWarning: `distplot` is a deprecated function and will be removed in a future version. Please adapt your code to use either `displot` (a figure-level function with similar flexibility) or `histplot` (an axes-level function for histograms).\n",
      "  warnings.warn(msg, FutureWarning)\n",
      "/usr/local/lib/python3.7/dist-packages/seaborn/distributions.py:2557: FutureWarning: `distplot` is a deprecated function and will be removed in a future version. Please adapt your code to use either `displot` (a figure-level function with similar flexibility) or `histplot` (an axes-level function for histograms).\n",
      "  warnings.warn(msg, FutureWarning)\n",
      "/usr/local/lib/python3.7/dist-packages/seaborn/distributions.py:2557: FutureWarning: `distplot` is a deprecated function and will be removed in a future version. Please adapt your code to use either `displot` (a figure-level function with similar flexibility) or `histplot` (an axes-level function for histograms).\n",
      "  warnings.warn(msg, FutureWarning)\n",
      "/usr/local/lib/python3.7/dist-packages/seaborn/distributions.py:2557: FutureWarning: `distplot` is a deprecated function and will be removed in a future version. Please adapt your code to use either `displot` (a figure-level function with similar flexibility) or `histplot` (an axes-level function for histograms).\n",
      "  warnings.warn(msg, FutureWarning)\n",
      "/usr/local/lib/python3.7/dist-packages/seaborn/distributions.py:2557: FutureWarning: `distplot` is a deprecated function and will be removed in a future version. Please adapt your code to use either `displot` (a figure-level function with similar flexibility) or `histplot` (an axes-level function for histograms).\n",
      "  warnings.warn(msg, FutureWarning)\n"
     ]
    },
    {
     "data": {
      "image/png": "[encoded data removed]",
      "text/plain": [
       "<Figure size 720x288 with 5 Axes>"
      ]
     },
     "metadata": {
      "needs_background": "light",
      "tags": []
     },
     "output_type": "display_data"
    }
   ],
   "source": [
    "r2 = plt.figure(figsize=(10,4))\n",
    "\n",
    "#Distance (km) distplot\n",
    "r2.add_subplot(2,3,1)\n",
    "sns.distplot(runkeeper_data['Distance (km)'],color='red')\n",
    "plt.tight_layout(pad=1,h_pad=0.4)\n",
    "\n",
    "#Duration distplot\n",
    "r2.add_subplot(2,3,2)\n",
    "sns.distplot(runkeeper_data['Duration'],color='blue')\n",
    "plt.tight_layout(pad=1,h_pad=0.4)\n",
    "\n",
    "#Average Speed (km/h) distplot\n",
    "r2.add_subplot(2,3,3)\n",
    "sns.distplot(runkeeper_data['Average Speed (km/h)'],color='orange')\n",
    "plt.tight_layout(pad=1,h_pad=0.4)\n",
    "\n",
    "#Climb (m) distplot\n",
    "r2.add_subplot(2,3,4)\n",
    "sns.distplot(runkeeper_data['Climb (m)'],color='chocolate')\n",
    "plt.tight_layout(pad=1,h_pad=0.4)\n",
    "\n",
    "#Average Heart Rate (bpm) distplot\n",
    "r2.add_subplot(2,3,5)\n",
    "sns.distplot(runkeeper_data['Average Heart Rate (bpm)'],color='gray')\n",
    "plt.tight_layout(pad=1,h_pad=0.4)\n",
    "\n",
    "plt.show()"
   ]
  },
  {
   "cell_type": "code",
   "execution_count": null,
   "metadata": {
    "colab": {
     "base_uri": "https://localhost:8080/",
     "height": 390
    },
    "id": "CYEKPvgeA4jK",
    "outputId": "1c8c8bf4-6bfa-489b-f158-049a12fb0618"
   },
   "outputs": [
    {
     "data": {
      "image/png": "[encoded data removed]",
      "text/plain": [
       "<Figure size 432x288 with 2 Axes>"
      ]
     },
     "metadata": {
      "needs_background": "light",
      "tags": []
     },
     "output_type": "display_data"
    }
   ],
   "source": [
    "#Heatmap\n",
    "sns.heatmap(runkeeper_data.corr())\n",
    "plt.show()"
   ]
  },
  {
   "cell_type": "markdown",
   "metadata": {
    "id": "pSnNGvVy30MK"
   },
   "source": [
    "## Probability function"
   ]
  },
  {
   "cell_type": "code",
   "execution_count": null,
   "metadata": {
    "colab": {
     "base_uri": "https://localhost:8080/",
     "height": 265
    },
    "id": "pbsrbrj6CrfZ",
    "outputId": "e6cb557d-a365-4d30-fb52-b809f83c1d81"
   },
   "outputs": [
    {
     "data": {
      "image/png": "[encoded data removed]",
      "text/plain": [
       "<Figure size 432x288 with 1 Axes>"
      ]
     },
     "metadata": {
      "needs_background": "light",
      "tags": []
     },
     "output_type": "display_data"
    }
   ],
   "source": [
    "#Expected value vs Observed value\n",
    "#Create figure\n",
    "fig, ax = plt.subplots(1, 1)\n",
    "\n",
    "#Parameters for distribution\n",
    "mu = runkeeper_data['Distance (km)'].mean()\n",
    "\n",
    "#Generate the discrete random variables\n",
    "x = np.arange(poisson.ppf(0.01,mu), poisson.ppf(0.99,mu))\n",
    "\n",
    "#Plotting x\n",
    "ax.plot(x, poisson.pmf(x,mu), 'mo', ms=9, label='mu=Distance (km)')\n",
    "ax.vlines(x, 0, poisson.pmf(x,mu), colors='purple', lw=5, alpha=0.5)\n",
    "\n",
    "#Generate random numbers and plotting\n",
    "x_rv = poisson.rvs(mu, size=100)\n",
    "ax.hist(x_rv, density=True, alpha=0.2)\n",
    "\n",
    "#Define legends of the attributes\n",
    "ax.legend(loc='upper right', frameon=False)\n",
    "plt.show()"
   ]
  },
  {
   "cell_type": "markdown",
   "metadata": {
    "id": "t4eqacaBGjxL"
   },
   "source": [
    "## Data analysis"
   ]
  },
  {
   "cell_type": "markdown",
   "metadata": {
    "id": "w_Yhwdn2Ibi7"
   },
   "source": [
    "### Cual es la probabilidad de correr una distancia de 10 km?"
   ]
  },
  {
   "cell_type": "code",
   "execution_count": null,
   "metadata": {
    "colab": {
     "base_uri": "https://localhost:8080/"
    },
    "id": "2pClEX-HGjMM",
    "outputId": "ca9e13c3-1308-43ea-9f16-ea256f108136"
   },
   "outputs": [
    {
     "name": "stdout",
     "output_type": "stream",
     "text": [
      "0.07589751038167286\n"
     ]
    }
   ],
   "source": [
    "#Probability to run 10km\n",
    "print(poisson.pmf(10,mu))"
   ]
  },
  {
   "cell_type": "markdown",
   "metadata": {
    "id": "8nMhboH_IiQ2"
   },
   "source": [
    "### Cual es la probabilidad de correr una distancia mayor a 15 km?"
   ]
  },
  {
   "cell_type": "code",
   "execution_count": null,
   "metadata": {
    "colab": {
     "base_uri": "https://localhost:8080/"
    },
    "id": "cVfBksXjIl6R",
    "outputId": "71248f26-1603-45a2-e85b-c29029332a34"
   },
   "outputs": [
    {
     "name": "stdout",
     "output_type": "stream",
     "text": [
      "0.2825191136083811\n"
     ]
    }
   ],
   "source": [
    "#Probability to run more than 15km\n",
    "more_than_15_km = 0\n",
    "for i in range (0,16):\n",
    "    more_than_15_km = poisson.pmf(i,mu) + more_than_15_km\n",
    "print(1 - more_than_15_km)"
   ]
  },
  {
   "cell_type": "markdown",
   "metadata": {
    "id": "98W35HJ-6pP5"
   },
   "source": [
    "## Conclusiones"
   ]
  },
  {
   "cell_type": "markdown",
   "metadata": {
    "id": "zpLHFnty6sIU"
   },
   "source": [
    "Utilizando la distribución de probabilidad de Poisson realizando los cálculos para el calculo de la probabilidad de las preguntas hechas tenemos que la probabilidad de recorrer una distancia de 10km es de 0.07589751038167286, en cuanto a la probabilidad de recorrer una distancia mayor a 15km realizado el cálculo se tiene que es de 0.2825191136083811"
   ]
  },
  {
   "cell_type": "markdown",
   "metadata": {
    "id": "kqItcIOwSeX1"
   },
   "source": [
    "# 2. COVID-19 Mobile Testing/Vaccinations sites\n",
    "\n",
    "Dataset: [Covid data](https://learngis2.maps.arcgis.com/home/item.html?id=68828d36d80045599fde40fcd859a56c&sublayer=0&view=list&sortOrder=desc&sortField=defaultFSOrder#data)"
   ]
  },
  {
   "cell_type": "code",
   "execution_count": 3,
   "metadata": {
    "colab": {
     "base_uri": "https://localhost:8080/",
     "height": 204
    },
    "id": "5FfVTX_X573Z",
    "outputId": "e39f57df-e57f-4234-a683-7be988826bb4"
   },
   "outputs": [
    {
     "data": {
      "text/html": [
       "<div>\n",
       "<style scoped>\n",
       "    .dataframe tbody tr th:only-of-type {\n",
       "        vertical-align: middle;\n",
       "    }\n",
       "\n",
       "    .dataframe tbody tr th {\n",
       "        vertical-align: top;\n",
       "    }\n",
       "\n",
       "    .dataframe thead th {\n",
       "        text-align: right;\n",
       "    }\n",
       "</style>\n",
       "<table border=\"1\" class=\"dataframe\">\n",
       "  <thead>\n",
       "    <tr style=\"text-align: right;\">\n",
       "      <th></th>\n",
       "      <th>Barrio</th>\n",
       "      <th>Localidad</th>\n",
       "      <th>Casos Historicos</th>\n",
       "      <th>Casos Activos</th>\n",
       "    </tr>\n",
       "  </thead>\n",
       "  <tbody>\n",
       "    <tr>\n",
       "      <th>0</th>\n",
       "      <td>LAS GRANJAS</td>\n",
       "      <td>Metropolitana</td>\n",
       "      <td>6</td>\n",
       "      <td>1</td>\n",
       "    </tr>\n",
       "    <tr>\n",
       "      <th>1</th>\n",
       "      <td>VILLA DEL CARMEN</td>\n",
       "      <td>SURORIENTE</td>\n",
       "      <td>28</td>\n",
       "      <td>0</td>\n",
       "    </tr>\n",
       "    <tr>\n",
       "      <th>2</th>\n",
       "      <td>7 DE ABRIL</td>\n",
       "      <td>Metropolitana</td>\n",
       "      <td>615</td>\n",
       "      <td>19</td>\n",
       "    </tr>\n",
       "    <tr>\n",
       "      <th>3</th>\n",
       "      <td>20 DE JULIO</td>\n",
       "      <td>Metropolitana</td>\n",
       "      <td>82</td>\n",
       "      <td>4</td>\n",
       "    </tr>\n",
       "    <tr>\n",
       "      <th>4</th>\n",
       "      <td>BELLA ARENA</td>\n",
       "      <td>SURORIENTE</td>\n",
       "      <td>137</td>\n",
       "      <td>1</td>\n",
       "    </tr>\n",
       "  </tbody>\n",
       "</table>\n",
       "</div>"
      ],
      "text/plain": [
       "             Barrio      Localidad  Casos Historicos  Casos Activos\n",
       "0       LAS GRANJAS  Metropolitana                 6              1\n",
       "1  VILLA DEL CARMEN     SURORIENTE                28              0\n",
       "2        7 DE ABRIL  Metropolitana               615             19\n",
       "3       20 DE JULIO  Metropolitana                82              4\n",
       "4       BELLA ARENA     SURORIENTE               137              1"
      ]
     },
     "execution_count": 3,
     "metadata": {},
     "output_type": "execute_result"
    }
   ],
   "source": [
    "#Read CSV\n",
    "covid_data = pd.read_excel('Covid_data.xlsx')\n",
    "covid_data.head()"
   ]
  },
  {
   "cell_type": "code",
   "execution_count": 4,
   "metadata": {
    "colab": {
     "base_uri": "https://localhost:8080/",
     "height": 204
    },
    "id": "1E8fO_yxpzmh",
    "outputId": "b6e94f95-f283-46f2-ca2e-118d54e4f29d"
   },
   "outputs": [
    {
     "data": {
      "text/html": [
       "<div>\n",
       "<style scoped>\n",
       "    .dataframe tbody tr th:only-of-type {\n",
       "        vertical-align: middle;\n",
       "    }\n",
       "\n",
       "    .dataframe tbody tr th {\n",
       "        vertical-align: top;\n",
       "    }\n",
       "\n",
       "    .dataframe thead th {\n",
       "        text-align: right;\n",
       "    }\n",
       "</style>\n",
       "<table border=\"1\" class=\"dataframe\">\n",
       "  <thead>\n",
       "    <tr style=\"text-align: right;\">\n",
       "      <th></th>\n",
       "      <th>Barrio</th>\n",
       "      <th>Localidad</th>\n",
       "      <th>Casos Historicos</th>\n",
       "      <th>Casos Activos</th>\n",
       "      <th>Longitud</th>\n",
       "      <th>Latitud</th>\n",
       "    </tr>\n",
       "  </thead>\n",
       "  <tbody>\n",
       "    <tr>\n",
       "      <th>0</th>\n",
       "      <td>LAS GRANJAS, Barranquilla, Colombia</td>\n",
       "      <td>Metropolitana</td>\n",
       "      <td>6</td>\n",
       "      <td>1</td>\n",
       "      <td></td>\n",
       "      <td></td>\n",
       "    </tr>\n",
       "    <tr>\n",
       "      <th>1</th>\n",
       "      <td>VILLA DEL CARMEN, Barranquilla, Colombia</td>\n",
       "      <td>SURORIENTE</td>\n",
       "      <td>28</td>\n",
       "      <td>0</td>\n",
       "      <td></td>\n",
       "      <td></td>\n",
       "    </tr>\n",
       "    <tr>\n",
       "      <th>2</th>\n",
       "      <td>7 DE ABRIL, Barranquilla, Colombia</td>\n",
       "      <td>Metropolitana</td>\n",
       "      <td>615</td>\n",
       "      <td>19</td>\n",
       "      <td></td>\n",
       "      <td></td>\n",
       "    </tr>\n",
       "    <tr>\n",
       "      <th>3</th>\n",
       "      <td>20 DE JULIO, Barranquilla, Colombia</td>\n",
       "      <td>Metropolitana</td>\n",
       "      <td>82</td>\n",
       "      <td>4</td>\n",
       "      <td></td>\n",
       "      <td></td>\n",
       "    </tr>\n",
       "    <tr>\n",
       "      <th>4</th>\n",
       "      <td>BELLA ARENA, Barranquilla, Colombia</td>\n",
       "      <td>SURORIENTE</td>\n",
       "      <td>137</td>\n",
       "      <td>1</td>\n",
       "      <td></td>\n",
       "      <td></td>\n",
       "    </tr>\n",
       "  </tbody>\n",
       "</table>\n",
       "</div>"
      ],
      "text/plain": [
       "                                     Barrio      Localidad  Casos Historicos  \\\n",
       "0       LAS GRANJAS, Barranquilla, Colombia  Metropolitana                 6   \n",
       "1  VILLA DEL CARMEN, Barranquilla, Colombia     SURORIENTE                28   \n",
       "2        7 DE ABRIL, Barranquilla, Colombia  Metropolitana               615   \n",
       "3       20 DE JULIO, Barranquilla, Colombia  Metropolitana                82   \n",
       "4       BELLA ARENA, Barranquilla, Colombia     SURORIENTE               137   \n",
       "\n",
       "   Casos Activos Longitud Latitud  \n",
       "0              1                   \n",
       "1              0                   \n",
       "2             19                   \n",
       "3              4                   \n",
       "4              1                   "
      ]
     },
     "execution_count": 4,
     "metadata": {},
     "output_type": "execute_result"
    }
   ],
   "source": [
    "#Preparing data for geolocalization\n",
    "covid_data['Longitud'] = ''\n",
    "covid_data['Latitud'] = ''\n",
    "covid_data['Barrio'] = covid_data['Barrio']+', Barranquilla, Colombia'\n",
    "covid_data = covid_data.reset_index(drop=True)\n",
    "covid_data.head()"
   ]
  },
  {
   "cell_type": "code",
   "execution_count": 5,
   "metadata": {
    "id": "8nlgZRvM1xPW"
   },
   "outputs": [
    {
     "name": "stderr",
     "output_type": "stream",
     "text": [
      "<ipython-input-5-893865103a1b>:8: SettingWithCopyWarning: \n",
      "A value is trying to be set on a copy of a slice from a DataFrame\n",
      "\n",
      "See the caveats in the documentation: https://pandas.pydata.org/pandas-docs/stable/user_guide/indexing.html#returning-a-view-versus-a-copy\n",
      "  covid_data['Longitud'][i] = location.longitude\n",
      "<ipython-input-5-893865103a1b>:9: SettingWithCopyWarning: \n",
      "A value is trying to be set on a copy of a slice from a DataFrame\n",
      "\n",
      "See the caveats in the documentation: https://pandas.pydata.org/pandas-docs/stable/user_guide/indexing.html#returning-a-view-versus-a-copy\n",
      "  covid_data['Latitud'][i] = location.latitude\n",
      "<ipython-input-5-893865103a1b>:11: SettingWithCopyWarning: \n",
      "A value is trying to be set on a copy of a slice from a DataFrame\n",
      "\n",
      "See the caveats in the documentation: https://pandas.pydata.org/pandas-docs/stable/user_guide/indexing.html#returning-a-view-versus-a-copy\n",
      "  covid_data['Longitud'][i] = math.nan\n",
      "<ipython-input-5-893865103a1b>:12: SettingWithCopyWarning: \n",
      "A value is trying to be set on a copy of a slice from a DataFrame\n",
      "\n",
      "See the caveats in the documentation: https://pandas.pydata.org/pandas-docs/stable/user_guide/indexing.html#returning-a-view-versus-a-copy\n",
      "  covid_data['Latitud'][i] = math.nan\n"
     ]
    },
    {
     "data": {
      "text/html": [
       "<div>\n",
       "<style scoped>\n",
       "    .dataframe tbody tr th:only-of-type {\n",
       "        vertical-align: middle;\n",
       "    }\n",
       "\n",
       "    .dataframe tbody tr th {\n",
       "        vertical-align: top;\n",
       "    }\n",
       "\n",
       "    .dataframe thead th {\n",
       "        text-align: right;\n",
       "    }\n",
       "</style>\n",
       "<table border=\"1\" class=\"dataframe\">\n",
       "  <thead>\n",
       "    <tr style=\"text-align: right;\">\n",
       "      <th></th>\n",
       "      <th>Barrio</th>\n",
       "      <th>Localidad</th>\n",
       "      <th>Casos Historicos</th>\n",
       "      <th>Casos Activos</th>\n",
       "      <th>Longitud</th>\n",
       "      <th>Latitud</th>\n",
       "    </tr>\n",
       "  </thead>\n",
       "  <tbody>\n",
       "    <tr>\n",
       "      <th>0</th>\n",
       "      <td>LAS GRANJAS, Barranquilla, Colombia</td>\n",
       "      <td>Metropolitana</td>\n",
       "      <td>6</td>\n",
       "      <td>1</td>\n",
       "      <td>-74.826</td>\n",
       "      <td>10.924</td>\n",
       "    </tr>\n",
       "    <tr>\n",
       "      <th>1</th>\n",
       "      <td>VILLA DEL CARMEN, Barranquilla, Colombia</td>\n",
       "      <td>SURORIENTE</td>\n",
       "      <td>28</td>\n",
       "      <td>0</td>\n",
       "      <td>-74.7977</td>\n",
       "      <td>10.9653</td>\n",
       "    </tr>\n",
       "    <tr>\n",
       "      <th>2</th>\n",
       "      <td>7 DE ABRIL, Barranquilla, Colombia</td>\n",
       "      <td>Metropolitana</td>\n",
       "      <td>615</td>\n",
       "      <td>19</td>\n",
       "      <td>-74.8169</td>\n",
       "      <td>10.9277</td>\n",
       "    </tr>\n",
       "    <tr>\n",
       "      <th>3</th>\n",
       "      <td>20 DE JULIO, Barranquilla, Colombia</td>\n",
       "      <td>Metropolitana</td>\n",
       "      <td>82</td>\n",
       "      <td>4</td>\n",
       "      <td>-74.8301</td>\n",
       "      <td>10.9316</td>\n",
       "    </tr>\n",
       "    <tr>\n",
       "      <th>5</th>\n",
       "      <td>EL MILAGRO, Barranquilla, Colombia</td>\n",
       "      <td>SURORIENTE</td>\n",
       "      <td>125</td>\n",
       "      <td>0</td>\n",
       "      <td>-56.1755</td>\n",
       "      <td>-34.8225</td>\n",
       "    </tr>\n",
       "  </tbody>\n",
       "</table>\n",
       "</div>"
      ],
      "text/plain": [
       "                                     Barrio      Localidad  Casos Historicos  \\\n",
       "0       LAS GRANJAS, Barranquilla, Colombia  Metropolitana                 6   \n",
       "1  VILLA DEL CARMEN, Barranquilla, Colombia     SURORIENTE                28   \n",
       "2        7 DE ABRIL, Barranquilla, Colombia  Metropolitana               615   \n",
       "3       20 DE JULIO, Barranquilla, Colombia  Metropolitana                82   \n",
       "5        EL MILAGRO, Barranquilla, Colombia     SURORIENTE               125   \n",
       "\n",
       "   Casos Activos Longitud  Latitud  \n",
       "0              1  -74.826   10.924  \n",
       "1              0 -74.7977  10.9653  \n",
       "2             19 -74.8169  10.9277  \n",
       "3              4 -74.8301  10.9316  \n",
       "5              0 -56.1755 -34.8225  "
      ]
     },
     "execution_count": 5,
     "metadata": {},
     "output_type": "execute_result"
    }
   ],
   "source": [
    "#We get the longitude and latitude of the neighborhoods from Barranquilla\n",
    "n = len(covid_data)\n",
    "for i in range(n):\n",
    "    address=covid_data['Barrio'][i]\n",
    "    geolocator = Nominatim(user_agent=\"Your_Name\")\n",
    "    location = geolocator.geocode(address)\n",
    "    if location is not None:\n",
    "        covid_data['Longitud'][i] = location.longitude\n",
    "        covid_data['Latitud'][i] = location.latitude\n",
    "    else:\n",
    "        covid_data['Longitud'][i] = math.nan\n",
    "        covid_data['Latitud'][i] = math.nan\n",
    "    \n",
    "covid_data = covid_data.dropna()\n",
    "covid_data.head()"
   ]
  },
  {
   "cell_type": "code",
   "execution_count": 6,
   "metadata": {
    "colab": {
     "base_uri": "https://localhost:8080/",
     "height": 416
    },
    "id": "gL5_Kil1pJQ3",
    "outputId": "58e67378-37bb-4ced-8bdc-73cbe008a3f1"
   },
   "outputs": [
    {
     "name": "stderr",
     "output_type": "stream",
     "text": [
      "C:\\Users\\alejo\\anaconda3\\lib\\site-packages\\seaborn\\_decorators.py:36: FutureWarning: Pass the following variable as a keyword arg: x. From version 0.12, the only valid positional argument will be `data`, and passing other arguments without an explicit keyword will result in an error or misinterpretation.\n",
      "  warnings.warn(\n",
      "C:\\Users\\alejo\\anaconda3\\lib\\site-packages\\seaborn\\_decorators.py:36: FutureWarning: Pass the following variable as a keyword arg: x. From version 0.12, the only valid positional argument will be `data`, and passing other arguments without an explicit keyword will result in an error or misinterpretation.\n",
      "  warnings.warn(\n",
      "C:\\Users\\alejo\\anaconda3\\lib\\site-packages\\seaborn\\_decorators.py:36: FutureWarning: Pass the following variable as a keyword arg: x. From version 0.12, the only valid positional argument will be `data`, and passing other arguments without an explicit keyword will result in an error or misinterpretation.\n",
      "  warnings.warn(\n",
      "C:\\Users\\alejo\\anaconda3\\lib\\site-packages\\seaborn\\_decorators.py:36: FutureWarning: Pass the following variable as a keyword arg: x. From version 0.12, the only valid positional argument will be `data`, and passing other arguments without an explicit keyword will result in an error or misinterpretation.\n",
      "  warnings.warn(\n"
     ]
    },
    {
     "data": {
      "image/png": "[encoded data removed]",
      "text/plain": [
       "<Figure size 720x288 with 4 Axes>"
      ]
     },
     "metadata": {
      "needs_background": "light"
     },
     "output_type": "display_data"
    }
   ],
   "source": [
    "#Plotting Boxplots\n",
    "c = plt.figure(figsize=(10,4))\n",
    "\n",
    "#Casos Historicos boxplot\n",
    "c.add_subplot(2,2,1)\n",
    "sns.boxplot(covid_data['Casos Historicos'])\n",
    "plt.tight_layout(h_pad=0.4)\n",
    "\n",
    "#Casos Activos boxplot\n",
    "c.add_subplot(2,2,2)\n",
    "sns.boxplot(covid_data['Casos Activos'])\n",
    "plt.tight_layout(h_pad=0.4)\n",
    "\n",
    "#Longitud boxplot\n",
    "c.add_subplot(2,2,3)\n",
    "sns.boxplot(covid_data['Longitud'])\n",
    "plt.tight_layout(h_pad=0.4)\n",
    "\n",
    "#Latitud\n",
    "c.add_subplot(2,2,4)\n",
    "sns.boxplot(covid_data['Latitud'])\n",
    "plt.tight_layout(h_pad=0.4)\n",
    "\n",
    "plt.show()"
   ]
  },
  {
   "cell_type": "code",
   "execution_count": 7,
   "metadata": {
    "colab": {
     "base_uri": "https://localhost:8080/",
     "height": 416
    },
    "id": "EU82Lem1o0BF",
    "outputId": "ea0af451-becf-40d1-94db-440ee28651cb"
   },
   "outputs": [
    {
     "name": "stderr",
     "output_type": "stream",
     "text": [
      "C:\\Users\\alejo\\anaconda3\\lib\\site-packages\\seaborn\\distributions.py:2551: FutureWarning: `distplot` is a deprecated function and will be removed in a future version. Please adapt your code to use either `displot` (a figure-level function with similar flexibility) or `histplot` (an axes-level function for histograms).\n",
      "  warnings.warn(msg, FutureWarning)\n",
      "C:\\Users\\alejo\\anaconda3\\lib\\site-packages\\seaborn\\distributions.py:2551: FutureWarning: `distplot` is a deprecated function and will be removed in a future version. Please adapt your code to use either `displot` (a figure-level function with similar flexibility) or `histplot` (an axes-level function for histograms).\n",
      "  warnings.warn(msg, FutureWarning)\n",
      "C:\\Users\\alejo\\anaconda3\\lib\\site-packages\\seaborn\\distributions.py:2551: FutureWarning: `distplot` is a deprecated function and will be removed in a future version. Please adapt your code to use either `displot` (a figure-level function with similar flexibility) or `histplot` (an axes-level function for histograms).\n",
      "  warnings.warn(msg, FutureWarning)\n",
      "C:\\Users\\alejo\\anaconda3\\lib\\site-packages\\seaborn\\distributions.py:2551: FutureWarning: `distplot` is a deprecated function and will be removed in a future version. Please adapt your code to use either `displot` (a figure-level function with similar flexibility) or `histplot` (an axes-level function for histograms).\n",
      "  warnings.warn(msg, FutureWarning)\n"
     ]
    },
    {
     "data": {
      "image/png": "[encoded data removed]",
      "text/plain": [
       "<Figure size 720x288 with 4 Axes>"
      ]
     },
     "metadata": {
      "needs_background": "light"
     },
     "output_type": "display_data"
    }
   ],
   "source": [
    "#Plotting distplots\n",
    "c1 = plt.figure(figsize=(10,4))\n",
    "\n",
    "#Casos Historicos distplot\n",
    "c1.add_subplot(2,2,1)\n",
    "sns.distplot(covid_data['Casos Historicos'])\n",
    "plt.tight_layout(h_pad=0.4)\n",
    "\n",
    "#Caso Activos distplot\n",
    "c1.add_subplot(2,2,2)\n",
    "sns.distplot(covid_data['Casos Activos'])\n",
    "\n",
    "#Longitud distplot\n",
    "c1.add_subplot(2,2,3)\n",
    "sns.distplot(covid_data['Longitud'])\n",
    "plt.tight_layout(h_pad=0.4)\n",
    "\n",
    "#Latitud distplot\n",
    "c1.add_subplot(2,2,4)\n",
    "sns.distplot(covid_data['Latitud'])\n",
    "\n",
    "plt.show()"
   ]
  },
  {
   "cell_type": "code",
   "execution_count": 8,
   "metadata": {
    "colab": {
     "base_uri": "https://localhost:8080/",
     "height": 279
    },
    "id": "f-lFe_bTpitB",
    "outputId": "790ac41e-ba5e-4571-bc10-fa9e7bda38cd"
   },
   "outputs": [
    {
     "data": {
      "image/png": "[encoded data removed]",
      "text/plain": [
       "<Figure size 432x288 with 1 Axes>"
      ]
     },
     "metadata": {
      "needs_background": "light"
     },
     "output_type": "display_data"
    },
    {
     "data": {
      "image/png": "[encoded data removed]",
      "text/plain": [
       "<Figure size 432x288 with 1 Axes>"
      ]
     },
     "metadata": {
      "needs_background": "light"
     },
     "output_type": "display_data"
    }
   ],
   "source": [
    "#Scatter plot Casos Activos vs Casos Historicos\n",
    "plt.scatter(x='Casos Activos', y ='Casos Historicos', data=covid_data)\n",
    "plt.xlabel('Casos Activos')\n",
    "plt.ylabel('Casos Historicos')\n",
    "plt.show()\n",
    "\n",
    "#Scatter plot Longitud vs Latitud\n",
    "plt.scatter(x='Longitud', y ='Latitud', data=covid_data)\n",
    "plt.xlabel('Longitud')\n",
    "plt.ylabel('Latitud')\n",
    "plt.show()"
   ]
  },
  {
   "cell_type": "code",
   "execution_count": 9,
   "metadata": {
    "colab": {
     "base_uri": "https://localhost:8080/",
     "height": 204
    },
    "id": "E-ETsca4sGFR",
    "outputId": "6ec70af5-2b18-4799-d352-6665cb3992a2"
   },
   "outputs": [
    {
     "data": {
      "text/html": [
       "<div>\n",
       "<style scoped>\n",
       "    .dataframe tbody tr th:only-of-type {\n",
       "        vertical-align: middle;\n",
       "    }\n",
       "\n",
       "    .dataframe tbody tr th {\n",
       "        vertical-align: top;\n",
       "    }\n",
       "\n",
       "    .dataframe thead th {\n",
       "        text-align: right;\n",
       "    }\n",
       "</style>\n",
       "<table border=\"1\" class=\"dataframe\">\n",
       "  <thead>\n",
       "    <tr style=\"text-align: right;\">\n",
       "      <th></th>\n",
       "      <th>Casos Historicos</th>\n",
       "      <th>Casos Activos</th>\n",
       "    </tr>\n",
       "  </thead>\n",
       "  <tbody>\n",
       "    <tr>\n",
       "      <th>0</th>\n",
       "      <td>6</td>\n",
       "      <td>1</td>\n",
       "    </tr>\n",
       "    <tr>\n",
       "      <th>1</th>\n",
       "      <td>28</td>\n",
       "      <td>0</td>\n",
       "    </tr>\n",
       "    <tr>\n",
       "      <th>2</th>\n",
       "      <td>615</td>\n",
       "      <td>19</td>\n",
       "    </tr>\n",
       "    <tr>\n",
       "      <th>3</th>\n",
       "      <td>82</td>\n",
       "      <td>4</td>\n",
       "    </tr>\n",
       "    <tr>\n",
       "      <th>5</th>\n",
       "      <td>125</td>\n",
       "      <td>0</td>\n",
       "    </tr>\n",
       "  </tbody>\n",
       "</table>\n",
       "</div>"
      ],
      "text/plain": [
       "   Casos Historicos  Casos Activos\n",
       "0                 6              1\n",
       "1                28              0\n",
       "2               615             19\n",
       "3                82              4\n",
       "5               125              0"
      ]
     },
     "execution_count": 9,
     "metadata": {},
     "output_type": "execute_result"
    }
   ],
   "source": [
    "#Drop the columns we don't need\n",
    "cases = covid_data.drop(columns=['Barrio','Localidad', 'Longitud', 'Latitud'])\n",
    "cases.head()"
   ]
  },
  {
   "cell_type": "code",
   "execution_count": 10,
   "metadata": {
    "colab": {
     "base_uri": "https://localhost:8080/",
     "height": 295
    },
    "id": "Mlwh6KsCqpGB",
    "outputId": "b5e7c40f-6e20-4e50-ad4c-585b349bb043"
   },
   "outputs": [
    {
     "data": {
      "image/png": "[encoded data removed]",
      "text/plain": [
       "<Figure size 432x288 with 1 Axes>"
      ]
     },
     "metadata": {
      "needs_background": "light"
     },
     "output_type": "display_data"
    }
   ],
   "source": [
    "#Elbow Method\n",
    "inertia = []\n",
    "for i in range(1, 11):\n",
    "    kmeans = KMeans(n_clusters = i, init = 'k-means++', random_state = 69)\n",
    "    kmeans.fit(cases)\n",
    "    inertia.append(kmeans.inertia_)\n",
    "plt.plot(range(1, 11), inertia)\n",
    "plt.title('The Elbow Method')\n",
    "plt.xlabel('Number of clusters')\n",
    "plt.ylabel('Inertia')\n",
    "plt.show()"
   ]
  },
  {
   "cell_type": "code",
   "execution_count": 11,
   "metadata": {
    "id": "CH5_gmaruXyt"
   },
   "outputs": [],
   "source": [
    "#Choosing k=3\n",
    "kmeans = KMeans(n_clusters = 3, init = 'k-means++', random_state = 69)\n",
    "y_kmeans = kmeans.fit_predict(cases)"
   ]
  },
  {
   "cell_type": "code",
   "execution_count": 12,
   "metadata": {
    "colab": {
     "base_uri": "https://localhost:8080/",
     "height": 163
    },
    "id": "5aoOxNMQvC9t",
    "outputId": "c7490397-cf6b-4f7e-a14a-6571f58f3cc7"
   },
   "outputs": [],
   "source": [
    "cases = cases.iloc[:, [0, 1]].values"
   ]
  },
  {
   "cell_type": "code",
   "execution_count": 13,
   "metadata": {
    "colab": {
     "base_uri": "https://localhost:8080/",
     "height": 295
    },
    "id": "_ch8IzrStvQQ",
    "outputId": "0982959a-b610-442b-ffb2-97af9993a9ec"
   },
   "outputs": [
    {
     "data": {
      "image/png": "[encoded data removed]",
      "text/plain": [
       "<Figure size 432x288 with 1 Axes>"
      ]
     },
     "metadata": {
      "needs_background": "light"
     },
     "output_type": "display_data"
    }
   ],
   "source": [
    "plt.scatter(cases[y_kmeans == 0, 0], cases[y_kmeans == 0, 1], s = 50, c = 'red', label = 'Cluster 1')\n",
    "plt.scatter(cases[y_kmeans == 1, 0], cases[y_kmeans == 1, 1], s = 50, c = 'blue', label = 'Cluster 2')\n",
    "plt.scatter(cases[y_kmeans == 2, 0], cases[y_kmeans == 2, 1], s = 50, c = 'green', label = 'Cluster 3')\n",
    "plt.scatter(kmeans.cluster_centers_[:, 0], kmeans.cluster_centers_[:, 1], s = 150, c = 'yellow', label = 'Centroids')\n",
    "plt.title('Clusters of cases')\n",
    "plt.xlabel('Casos Historicos')\n",
    "plt.ylabel('Casos Activos')\n",
    "plt.legend()\n",
    "plt.show()"
   ]
  },
  {
   "cell_type": "code",
   "execution_count": 14,
   "metadata": {},
   "outputs": [
    {
     "name": "stdout",
     "output_type": "stream",
     "text": [
      "Silhouette coefficient: 0.686 , k:  3\n"
     ]
    }
   ],
   "source": [
    "print('Silhouette coefficient: %0.3f' % silhouette_score(cases,kmeans.labels_), ', k: ', 3)"
   ]
  },
  {
   "cell_type": "code",
   "execution_count": 15,
   "metadata": {
    "colab": {
     "base_uri": "https://localhost:8080/",
     "height": 1000
    },
    "id": "OwqWuyBvvt6X",
    "outputId": "f86325ae-9933-4250-9238-070c97a3bbb0"
   },
   "outputs": [
    {
     "name": "stdout",
     "output_type": "stream",
     "text": [
      "Silhouette coefficient: 0.603 , k:  4\n",
      "Silhouette coefficient: 0.586 , k:  5\n"
     ]
    },
    {
     "data": {
      "image/png": "[encoded data removed]",
      "text/plain": [
       "<Figure size 1296x504 with 2 Axes>"
      ]
     },
     "metadata": {
      "needs_background": "light"
     },
     "output_type": "display_data"
    },
    {
     "data": {
      "image/png": "[encoded data removed]",
      "text/plain": [
       "<Figure size 1296x504 with 2 Axes>"
      ]
     },
     "metadata": {
      "needs_background": "light"
     },
     "output_type": "display_data"
    }
   ],
   "source": [
    "for i, k in enumerate([4,5]):\n",
    "    fig, (ax1, ax2) = plt.subplots(1, 2)\n",
    "    fig.set_size_inches(18, 7)\n",
    "    \n",
    "    # Run the Kmeans algorithm\n",
    "    km = KMeans(n_clusters=k)\n",
    "    labels = km.fit_predict(cases)\n",
    "    centroids = km.cluster_centers_\n",
    "\n",
    "    # Get silhouette samples - coefficients\n",
    "    silhouette_vals = silhouette_samples(cases, labels)\n",
    "\n",
    "    # Silhouette plot\n",
    "    y_ticks = []\n",
    "    y_lower, y_upper = 0, 0\n",
    "\n",
    "    for i, cluster in enumerate(np.unique(labels)):\n",
    "        cluster_silhouette_vals = silhouette_vals[labels == cluster]\n",
    "        cluster_silhouette_vals.sort()\n",
    "        y_upper += len(cluster_silhouette_vals)\n",
    "        ax1.barh(range(y_lower, y_upper), cluster_silhouette_vals, edgecolor='none', height=1)\n",
    "        ax1.text(-0.03, (y_lower + y_upper) / 2, str(i + 1))\n",
    "        y_lower += len(cluster_silhouette_vals)\n",
    "\n",
    "    # Get the average silhouette score and plot it\n",
    "    avg_score = np.mean(silhouette_vals)\n",
    "    ax1.axvline(avg_score, linestyle='--', linewidth=2, color='green')\n",
    "    ax1.set_yticks([])\n",
    "    ax1.set_xlim([0, 1])\n",
    "    ax1.set_xlabel('Silhouette coefficient values')\n",
    "    ax1.set_ylabel('Cluster labels')\n",
    "    ax1.set_title('Silhouette plot for the various clusters', y=1.02);\n",
    "    \n",
    "    # Scatter plot of data colored with labels\n",
    "    ax2.scatter(cases[:, 0], cases[:, 1], c=labels)\n",
    "    ax2.scatter(centroids[:, 0], centroids[:, 1], marker='*', c='r', s=250)\n",
    "    ax2.set_xlabel('Casos Historicos')\n",
    "    ax2.set_ylabel('Casos Activos')\n",
    "    ax2.set_title('Visualization of clustered data', y=1.02)\n",
    "    ax2.set_aspect('equal')\n",
    "    plt.tight_layout()\n",
    "    plt.suptitle(f'Silhouette analysis using k = {k}', fontsize=16, fontweight='semibold', y=1.05);\n",
    "    \n",
    "    print('Silhouette coefficient: %0.3f' % silhouette_score(cases,km.labels_), ', k: ', k)\n",
    "    \n",
    "\n",
    "plt.title('Clusters of covid cases')\n",
    "plt.xlabel('Casos Historicos')\n",
    "plt.ylabel('Casos Activos')\n",
    "plt.show()"
   ]
  },
  {
   "cell_type": "code",
   "execution_count": 16,
   "metadata": {},
   "outputs": [],
   "source": [
    "map_data = covid_data[['Latitud', 'Longitud', 'Casos Activos']].values"
   ]
  },
  {
   "cell_type": "code",
   "execution_count": 17,
   "metadata": {},
   "outputs": [
    {
     "data": {
      "image/png": "[encoded data removed]",
      "text/plain": [
       "<Figure size 432x288 with 1 Axes>"
      ]
     },
     "metadata": {
      "needs_background": "light"
     },
     "output_type": "display_data"
    }
   ],
   "source": [
    "# Elbow method for map visualization\n",
    "inertia = []\n",
    "for i in range(1, 13):\n",
    "    map_means = KMeans(n_clusters=i, init='k-means++', random_state=69)\n",
    "    prediction = map_means.fit(map_data)\n",
    "    inertia.append(map_means.inertia_)\n",
    "\n",
    "plt.plot(range(1, 13), inertia)\n",
    "plt.show()"
   ]
  },
  {
   "cell_type": "code",
   "execution_count": 18,
   "metadata": {},
   "outputs": [],
   "source": [
    "map_means = KMeans(n_clusters=3, init='k-means++', random_state=69)\n",
    "map_means.fit_predict(map_data)[..., None]"
   ]
  },
  {
   "cell_type": "code",
   "execution_count": 19,
   "metadata": {},
   "outputs": [
    {
     "data": {
      "text/html": [
       "<div style=\"width:100%;\"><div style=\"position:relative;width:100%;height:0;padding-bottom:60%;\"><span style=\"color:#565656\">Make this Notebook Trusted to load map: File -> Trust Notebook</span><iframe src=\"about:blank\" style=\"position:absolute;width:100%;height:100%;left:0;top:0;border:none !important;\" data-html=%3C%21DOCTYPE%20html%3E%0A%3Chead%3E%20%20%20%20%0A%20%20%20%20%3Cmeta%20http-equiv%3D%22content-type%22%20content%3D%22text/html%3B%20charset%3DUTF-8%22%20/%3E%0A%20%20%20%20%0A%20%20%20%20%20%20%20%20%3Cscript%3E%0A%20%20%20%20%20%20%20%20%20%20%20%20L_NO_TOUCH%20%3D%20false%3B%0A%20%20%20%20%20%20%20%20%20%20%20%20L_DISABLE_3D%20%3D%20false%3B%0A%20%20%20%20%20%20%20%20%3C/script%3E%0A%20%20%20%20%0A%20%20%20%20%3Cstyle%3Ehtml%2C%20body%20%7Bwidth%3A%20100%25%3Bheight%3A%20100%25%3Bmargin%3A%200%3Bpadding%3A%200%3B%7D%3C/style%3E%0A%20%20%20%20%3Cstyle%3E%23map%20%7Bposition%3Aabsolute%3Btop%3A0%3Bbottom%3A0%3Bright%3A0%3Bleft%3A0%3B%7D%3C/style%3E%0A%20%20%20%20%3Cscript%20src%3D%22https%3A//cdn.jsdelivr.net/npm/leaflet%401.6.0/dist/leaflet.js%22%3E%3C/script%3E%0A%20%20%20%20%3Cscript%20src%3D%22https%3A//code.jquery.com/jquery-1.12.4.min.js%22%3E%3C/script%3E%0A%20%20%20%20%3Cscript%20src%3D%22https%3A//maxcdn.bootstrapcdn.com/bootstrap/3.2.0/js/bootstrap.min.js%22%3E%3C/script%3E%0A%20%20%20%20%3Cscript%20src%3D%22https%3A//cdnjs.cloudflare.com/ajax/libs/Leaflet.awesome-markers/2.0.2/leaflet.awesome-markers.js%22%3E%3C/script%3E%0A%20%20%20%20%3Clink%20rel%3D%22stylesheet%22%20href%3D%22https%3A//cdn.jsdelivr.net/npm/leaflet%401.6.0/dist/leaflet.css%22/%3E%0A%20%20%20%20%3Clink%20rel%3D%22stylesheet%22%20href%3D%22https%3A//maxcdn.bootstrapcdn.com/bootstrap/3.2.0/css/bootstrap.min.css%22/%3E%0A%20%20%20%20%3Clink%20rel%3D%22stylesheet%22%20href%3D%22https%3A//maxcdn.bootstrapcdn.com/bootstrap/3.2.0/css/bootstrap-theme.min.css%22/%3E%0A%20%20%20%20%3Clink%20rel%3D%22stylesheet%22%20href%3D%22https%3A//maxcdn.bootstrapcdn.com/font-awesome/4.6.3/css/font-awesome.min.css%22/%3E%0A%20%20%20%20%3Clink%20rel%3D%22stylesheet%22%20href%3D%22https%3A//cdnjs.cloudflare.com/ajax/libs/Leaflet.awesome-markers/2.0.2/leaflet.awesome-markers.css%22/%3E%0A%20%20%20%20%3Clink%20rel%3D%22stylesheet%22%20href%3D%22https%3A//cdn.jsdelivr.net/gh/python-visualization/folium/folium/templates/leaflet.awesome.rotate.min.css%22/%3E%0A%20%20%20%20%0A%20%20%20%20%20%20%20%20%20%20%20%20%3Cmeta%20name%3D%22viewport%22%20content%3D%22width%3Ddevice-width%2C%0A%20%20%20%20%20%20%20%20%20%20%20%20%20%20%20%20initial-scale%3D1.0%2C%20maximum-scale%3D1.0%2C%20user-scalable%3Dno%22%20/%3E%0A%20%20%20%20%20%20%20%20%20%20%20%20%3Cstyle%3E%0A%20%20%20%20%20%20%20%20%20%20%20%20%20%20%20%20%23map_232e1747ed424b61af1860b835231909%20%7B%0A%20%20%20%20%20%20%20%20%20%20%20%20%20%20%20%20%20%20%20%20position%3A%20relative%3B%0A%20%20%20%20%20%20%20%20%20%20%20%20%20%20%20%20%20%20%20%20width%3A%20100.0%25%3B%0A%20%20%20%20%20%20%20%20%20%20%20%20%20%20%20%20%20%20%20%20height%3A%20100.0%25%3B%0A%20%20%20%20%20%20%20%20%20%20%20%20%20%20%20%20%20%20%20%20left%3A%200.0%25%3B%0A%20%20%20%20%20%20%20%20%20%20%20%20%20%20%20%20%20%20%20%20top%3A%200.0%25%3B%0A%20%20%20%20%20%20%20%20%20%20%20%20%20%20%20%20%7D%0A%20%20%20%20%20%20%20%20%20%20%20%20%3C/style%3E%0A%20%20%20%20%20%20%20%20%0A%3C/head%3E%0A%3Cbody%3E%20%20%20%20%0A%20%20%20%20%0A%20%20%20%20%20%20%20%20%20%20%20%20%3Cdiv%20class%3D%22folium-map%22%20id%3D%22map_232e1747ed424b61af1860b835231909%22%20%3E%3C/div%3E%0A%20%20%20%20%20%20%20%20%0A%3C/body%3E%0A%3Cscript%3E%20%20%20%20%0A%20%20%20%20%0A%20%20%20%20%20%20%20%20%20%20%20%20var%20map_232e1747ed424b61af1860b835231909%20%3D%20L.map%28%0A%20%20%20%20%20%20%20%20%20%20%20%20%20%20%20%20%22map_232e1747ed424b61af1860b835231909%22%2C%0A%20%20%20%20%20%20%20%20%20%20%20%20%20%20%20%20%7B%0A%20%20%20%20%20%20%20%20%20%20%20%20%20%20%20%20%20%20%20%20center%3A%20%5B10.97136202341807%2C%20-74.81093320174784%5D%2C%0A%20%20%20%20%20%20%20%20%20%20%20%20%20%20%20%20%20%20%20%20crs%3A%20L.CRS.EPSG3857%2C%0A%20%20%20%20%20%20%20%20%20%20%20%20%20%20%20%20%20%20%20%20zoom%3A%2015%2C%0A%20%20%20%20%20%20%20%20%20%20%20%20%20%20%20%20%20%20%20%20zoomControl%3A%20true%2C%0A%20%20%20%20%20%20%20%20%20%20%20%20%20%20%20%20%20%20%20%20preferCanvas%3A%20false%2C%0A%20%20%20%20%20%20%20%20%20%20%20%20%20%20%20%20%7D%0A%20%20%20%20%20%20%20%20%20%20%20%20%29%3B%0A%0A%20%20%20%20%20%20%20%20%20%20%20%20%0A%0A%20%20%20%20%20%20%20%20%0A%20%20%20%20%0A%20%20%20%20%20%20%20%20%20%20%20%20var%20tile_layer_6dc6212e43f84a40bfff5022dd3ba06c%20%3D%20L.tileLayer%28%0A%20%20%20%20%20%20%20%20%20%20%20%20%20%20%20%20%22https%3A//%7Bs%7D.tile.openstreetmap.org/%7Bz%7D/%7Bx%7D/%7By%7D.png%22%2C%0A%20%20%20%20%20%20%20%20%20%20%20%20%20%20%20%20%7B%22attribution%22%3A%20%22Data%20by%20%5Cu0026copy%3B%20%5Cu003ca%20href%3D%5C%22http%3A//openstreetmap.org%5C%22%5Cu003eOpenStreetMap%5Cu003c/a%5Cu003e%2C%20under%20%5Cu003ca%20href%3D%5C%22http%3A//www.openstreetmap.org/copyright%5C%22%5Cu003eODbL%5Cu003c/a%5Cu003e.%22%2C%20%22detectRetina%22%3A%20false%2C%20%22maxNativeZoom%22%3A%2018%2C%20%22maxZoom%22%3A%2018%2C%20%22minZoom%22%3A%200%2C%20%22noWrap%22%3A%20false%2C%20%22opacity%22%3A%201%2C%20%22subdomains%22%3A%20%22abc%22%2C%20%22tms%22%3A%20false%7D%0A%20%20%20%20%20%20%20%20%20%20%20%20%29.addTo%28map_232e1747ed424b61af1860b835231909%29%3B%0A%20%20%20%20%20%20%20%20%0A%20%20%20%20%0A%20%20%20%20%20%20%20%20%20%20%20%20var%20circle_06ba004d620347229f523174b65f3b75%20%3D%20L.circle%28%0A%20%20%20%20%20%20%20%20%20%20%20%20%20%20%20%20%5B10.425008629357798%2C%20-74.91892899048469%5D%2C%0A%20%20%20%20%20%20%20%20%20%20%20%20%20%20%20%20%7B%22bubblingMouseEvents%22%3A%20true%2C%20%22color%22%3A%20%22red%22%2C%20%22dashArray%22%3A%20null%2C%20%22dashOffset%22%3A%20null%2C%20%22fill%22%3A%20true%2C%20%22fillColor%22%3A%20%22red%22%2C%20%22fillOpacity%22%3A%200.2%2C%20%22fillRule%22%3A%20%22evenodd%22%2C%20%22lineCap%22%3A%20%22round%22%2C%20%22lineJoin%22%3A%20%22round%22%2C%20%22opacity%22%3A%201.0%2C%20%22radius%22%3A%2050%2C%20%22stroke%22%3A%20true%2C%20%22weight%22%3A%203%7D%0A%20%20%20%20%20%20%20%20%20%20%20%20%29.addTo%28map_232e1747ed424b61af1860b835231909%29%3B%0A%20%20%20%20%20%20%20%20%0A%20%20%20%20%0A%20%20%20%20%20%20%20%20%20%20%20%20circle_06ba004d620347229f523174b65f3b75.bindTooltip%28%0A%20%20%20%20%20%20%20%20%20%20%20%20%20%20%20%20%60%3Cdiv%3E%0A%20%20%20%20%20%20%20%20%20%20%20%20%20%20%20%20%20%20%20%20%20Vaccination%20site%0A%20%20%20%20%20%20%20%20%20%20%20%20%20%20%20%20%20%3C/div%3E%60%2C%0A%20%20%20%20%20%20%20%20%20%20%20%20%20%20%20%20%7B%22sticky%22%3A%20true%7D%0A%20%20%20%20%20%20%20%20%20%20%20%20%29%3B%0A%20%20%20%20%20%20%20%20%0A%20%20%20%20%0A%20%20%20%20%20%20%20%20%20%20%20%20var%20circle_24d3a618a369416da244bdf7151fb034%20%3D%20L.circle%28%0A%20%20%20%20%20%20%20%20%20%20%20%20%20%20%20%20%5B10.7587758575%2C%20-74.85447540547132%5D%2C%0A%20%20%20%20%20%20%20%20%20%20%20%20%20%20%20%20%7B%22bubblingMouseEvents%22%3A%20true%2C%20%22color%22%3A%20%22red%22%2C%20%22dashArray%22%3A%20null%2C%20%22dashOffset%22%3A%20null%2C%20%22fill%22%3A%20true%2C%20%22fillColor%22%3A%20%22red%22%2C%20%22fillOpacity%22%3A%200.2%2C%20%22fillRule%22%3A%20%22evenodd%22%2C%20%22lineCap%22%3A%20%22round%22%2C%20%22lineJoin%22%3A%20%22round%22%2C%20%22opacity%22%3A%201.0%2C%20%22radius%22%3A%2050%2C%20%22stroke%22%3A%20true%2C%20%22weight%22%3A%203%7D%0A%20%20%20%20%20%20%20%20%20%20%20%20%29.addTo%28map_232e1747ed424b61af1860b835231909%29%3B%0A%20%20%20%20%20%20%20%20%0A%20%20%20%20%0A%20%20%20%20%20%20%20%20%20%20%20%20circle_24d3a618a369416da244bdf7151fb034.bindTooltip%28%0A%20%20%20%20%20%20%20%20%20%20%20%20%20%20%20%20%60%3Cdiv%3E%0A%20%20%20%20%20%20%20%20%20%20%20%20%20%20%20%20%20%20%20%20%20Vaccination%20site%0A%20%20%20%20%20%20%20%20%20%20%20%20%20%20%20%20%20%3C/div%3E%60%2C%0A%20%20%20%20%20%20%20%20%20%20%20%20%20%20%20%20%7B%22sticky%22%3A%20true%7D%0A%20%20%20%20%20%20%20%20%20%20%20%20%29%3B%0A%20%20%20%20%20%20%20%20%0A%20%20%20%20%0A%20%20%20%20%20%20%20%20%20%20%20%20var%20circle_ae8eec458b0d4cc1976927d7828a25bf%20%3D%20L.circle%28%0A%20%20%20%20%20%20%20%20%20%20%20%20%20%20%20%20%5B9.541326683333333%2C%20-75.09936825711189%5D%2C%0A%20%20%20%20%20%20%20%20%20%20%20%20%20%20%20%20%7B%22bubblingMouseEvents%22%3A%20true%2C%20%22color%22%3A%20%22red%22%2C%20%22dashArray%22%3A%20null%2C%20%22dashOffset%22%3A%20null%2C%20%22fill%22%3A%20true%2C%20%22fillColor%22%3A%20%22red%22%2C%20%22fillOpacity%22%3A%200.2%2C%20%22fillRule%22%3A%20%22evenodd%22%2C%20%22lineCap%22%3A%20%22round%22%2C%20%22lineJoin%22%3A%20%22round%22%2C%20%22opacity%22%3A%201.0%2C%20%22radius%22%3A%2050%2C%20%22stroke%22%3A%20true%2C%20%22weight%22%3A%203%7D%0A%20%20%20%20%20%20%20%20%20%20%20%20%29.addTo%28map_232e1747ed424b61af1860b835231909%29%3B%0A%20%20%20%20%20%20%20%20%0A%20%20%20%20%0A%20%20%20%20%20%20%20%20%20%20%20%20circle_ae8eec458b0d4cc1976927d7828a25bf.bindTooltip%28%0A%20%20%20%20%20%20%20%20%20%20%20%20%20%20%20%20%60%3Cdiv%3E%0A%20%20%20%20%20%20%20%20%20%20%20%20%20%20%20%20%20%20%20%20%20Vaccination%20site%0A%20%20%20%20%20%20%20%20%20%20%20%20%20%20%20%20%20%3C/div%3E%60%2C%0A%20%20%20%20%20%20%20%20%20%20%20%20%20%20%20%20%7B%22sticky%22%3A%20true%7D%0A%20%20%20%20%20%20%20%20%20%20%20%20%29%3B%0A%20%20%20%20%20%20%20%20%0A%3C/script%3E onload=\"this.contentDocument.open();this.contentDocument.write(    decodeURIComponent(this.getAttribute('data-html')));this.contentDocument.close();\" allowfullscreen webkitallowfullscreen mozallowfullscreen></iframe></div></div>"
      ],
      "text/plain": [
       "<folium.folium.Map at 0x1df3d557f10>"
      ]
     },
     "execution_count": 19,
     "metadata": {},
     "output_type": "execute_result"
    }
   ],
   "source": [
    "#Visualization of the centers, coordinates seems to be wrong.\n",
    "cluster_centers = map_means.cluster_centers_\n",
    "centroids = list(map(tuple, cluster_centers[:, 0:2])) # Convert the centroids to tuples so they can be used by folium\n",
    "m = folium.Map(location=[10.97136202341807, -74.81093320174784], zoom_start=15)\n",
    "\n",
    "for centroid in centroids:\n",
    "    folium.Circle(\n",
    "        centroid,\n",
    "        color='red',\n",
    "        fill=True,\n",
    "        radius=50,\n",
    "        tooltip=\"Vaccination site\"\n",
    "    ).add_to(m)    \n",
    "m"
   ]
  },
  {
   "cell_type": "markdown",
   "metadata": {},
   "source": [
    "## Conclusión"
   ]
  },
  {
   "cell_type": "markdown",
   "metadata": {},
   "source": [
    "Podemos visualizar que la escogencia del número de clusters fue correcta puesto que para tres clusters obtenemos un coeficiente de 0.686, mientras que para cuatro clusters el coeficiente es de 0.584 y para cinco clusters es 0.586."
   ]
  },
  {
   "cell_type": "markdown",
   "metadata": {
    "id": "AqmLBPv8SeX2"
   },
   "source": [
    "# 3. Transit accidents severity\n",
    "\n",
    "Dataset: [US Accidents](https://www.kaggle.com/sobhanmoosavi/us-accidents?select=US_Accidents_June20.csv)"
   ]
  },
  {
   "cell_type": "code",
   "execution_count": null,
   "metadata": {
    "colab": {
     "base_uri": "https://localhost:8080/",
     "height": 530
    },
    "id": "LIZk4jE_SeX2",
    "outputId": "acb65bac-6fa7-4927-d07c-3edaa2e70b5d"
   },
   "outputs": [
    {
     "data": {
      "text/html": [
       "<div>\n",
       "<style scoped>\n",
       "    .dataframe tbody tr th:only-of-type {\n",
       "        vertical-align: middle;\n",
       "    }\n",
       "\n",
       "    .dataframe tbody tr th {\n",
       "        vertical-align: top;\n",
       "    }\n",
       "\n",
       "    .dataframe thead th {\n",
       "        text-align: right;\n",
       "    }\n",
       "</style>\n",
       "<table border=\"1\" class=\"dataframe\">\n",
       "  <thead>\n",
       "    <tr style=\"text-align: right;\">\n",
       "      <th></th>\n",
       "      <th>ID</th>\n",
       "      <th>Severity</th>\n",
       "      <th>Start_Time</th>\n",
       "      <th>End_Time</th>\n",
       "      <th>Start_Lat</th>\n",
       "      <th>Start_Lng</th>\n",
       "      <th>End_Lat</th>\n",
       "      <th>End_Lng</th>\n",
       "      <th>Distance(mi)</th>\n",
       "      <th>Description</th>\n",
       "      <th>Number</th>\n",
       "      <th>Street</th>\n",
       "      <th>Side</th>\n",
       "      <th>City</th>\n",
       "      <th>County</th>\n",
       "      <th>State</th>\n",
       "      <th>Zipcode</th>\n",
       "      <th>Country</th>\n",
       "      <th>Timezone</th>\n",
       "      <th>Airport_Code</th>\n",
       "      <th>Weather_Timestamp</th>\n",
       "      <th>Temperature(F)</th>\n",
       "      <th>Wind_Chill(F)</th>\n",
       "      <th>Humidity(%)</th>\n",
       "      <th>Pressure(in)</th>\n",
       "      <th>Visibility(mi)</th>\n",
       "      <th>Wind_Direction</th>\n",
       "      <th>Wind_Speed(mph)</th>\n",
       "      <th>Precipitation(in)</th>\n",
       "      <th>Weather_Condition</th>\n",
       "      <th>Amenity</th>\n",
       "      <th>Bump</th>\n",
       "      <th>Crossing</th>\n",
       "      <th>Give_Way</th>\n",
       "      <th>Junction</th>\n",
       "      <th>No_Exit</th>\n",
       "      <th>Railway</th>\n",
       "      <th>Roundabout</th>\n",
       "      <th>Station</th>\n",
       "      <th>Stop</th>\n",
       "      <th>Traffic_Calming</th>\n",
       "      <th>Traffic_Signal</th>\n",
       "      <th>Turning_Loop</th>\n",
       "      <th>Sunrise_Sunset</th>\n",
       "      <th>Civil_Twilight</th>\n",
       "      <th>Nautical_Twilight</th>\n",
       "      <th>Astronomical_Twilight</th>\n",
       "    </tr>\n",
       "  </thead>\n",
       "  <tbody>\n",
       "    <tr>\n",
       "      <th>0</th>\n",
       "      <td>A-1</td>\n",
       "      <td>2</td>\n",
       "      <td>2019-05-21 08:29:55</td>\n",
       "      <td>2019-05-21 09:29:40</td>\n",
       "      <td>34.808868</td>\n",
       "      <td>-82.269157</td>\n",
       "      <td>34.808868</td>\n",
       "      <td>-82.269157</td>\n",
       "      <td>0.0</td>\n",
       "      <td>Accident on Tanner Rd at Pennbrooke Ln.</td>\n",
       "      <td>439.0</td>\n",
       "      <td>Tanner Rd</td>\n",
       "      <td>R</td>\n",
       "      <td>Greenville</td>\n",
       "      <td>Greenville</td>\n",
       "      <td>SC</td>\n",
       "      <td>29607-6027</td>\n",
       "      <td>US</td>\n",
       "      <td>US/Eastern</td>\n",
       "      <td>KGMU</td>\n",
       "      <td>2019-05-21 08:53:00</td>\n",
       "      <td>76.0</td>\n",
       "      <td>76.0</td>\n",
       "      <td>52.0</td>\n",
       "      <td>28.91</td>\n",
       "      <td>10.0</td>\n",
       "      <td>N</td>\n",
       "      <td>7.0</td>\n",
       "      <td>0.0</td>\n",
       "      <td>Fair</td>\n",
       "      <td>False</td>\n",
       "      <td>False</td>\n",
       "      <td>False</td>\n",
       "      <td>False</td>\n",
       "      <td>False</td>\n",
       "      <td>False</td>\n",
       "      <td>False</td>\n",
       "      <td>False</td>\n",
       "      <td>False</td>\n",
       "      <td>False</td>\n",
       "      <td>False</td>\n",
       "      <td>False</td>\n",
       "      <td>False</td>\n",
       "      <td>Day</td>\n",
       "      <td>Day</td>\n",
       "      <td>Day</td>\n",
       "      <td>Day</td>\n",
       "    </tr>\n",
       "    <tr>\n",
       "      <th>1</th>\n",
       "      <td>A-2</td>\n",
       "      <td>2</td>\n",
       "      <td>2019-10-07 17:43:09</td>\n",
       "      <td>2019-10-07 19:42:50</td>\n",
       "      <td>35.090080</td>\n",
       "      <td>-80.745560</td>\n",
       "      <td>35.090080</td>\n",
       "      <td>-80.745560</td>\n",
       "      <td>0.0</td>\n",
       "      <td>Accident on Houston Branch Rd at Providence Br...</td>\n",
       "      <td>3299.0</td>\n",
       "      <td>Providence Branch Ln</td>\n",
       "      <td>R</td>\n",
       "      <td>Charlotte</td>\n",
       "      <td>Mecklenburg</td>\n",
       "      <td>NC</td>\n",
       "      <td>28270-8560</td>\n",
       "      <td>US</td>\n",
       "      <td>US/Eastern</td>\n",
       "      <td>KEQY</td>\n",
       "      <td>2019-10-07 17:53:00</td>\n",
       "      <td>76.0</td>\n",
       "      <td>76.0</td>\n",
       "      <td>62.0</td>\n",
       "      <td>29.30</td>\n",
       "      <td>10.0</td>\n",
       "      <td>VAR</td>\n",
       "      <td>3.0</td>\n",
       "      <td>0.0</td>\n",
       "      <td>Cloudy</td>\n",
       "      <td>False</td>\n",
       "      <td>False</td>\n",
       "      <td>False</td>\n",
       "      <td>False</td>\n",
       "      <td>False</td>\n",
       "      <td>False</td>\n",
       "      <td>False</td>\n",
       "      <td>False</td>\n",
       "      <td>False</td>\n",
       "      <td>False</td>\n",
       "      <td>False</td>\n",
       "      <td>False</td>\n",
       "      <td>False</td>\n",
       "      <td>Day</td>\n",
       "      <td>Day</td>\n",
       "      <td>Day</td>\n",
       "      <td>Day</td>\n",
       "    </tr>\n",
       "    <tr>\n",
       "      <th>2</th>\n",
       "      <td>A-3</td>\n",
       "      <td>2</td>\n",
       "      <td>2020-12-13 21:53:00</td>\n",
       "      <td>2020-12-13 22:44:00</td>\n",
       "      <td>37.145730</td>\n",
       "      <td>-121.985052</td>\n",
       "      <td>37.165850</td>\n",
       "      <td>-121.988062</td>\n",
       "      <td>1.4</td>\n",
       "      <td>Stationary traffic on CA-17 from Summit Rd (CA...</td>\n",
       "      <td>NaN</td>\n",
       "      <td>Santa Cruz Hwy</td>\n",
       "      <td>R</td>\n",
       "      <td>Los Gatos</td>\n",
       "      <td>Santa Clara</td>\n",
       "      <td>CA</td>\n",
       "      <td>95033</td>\n",
       "      <td>US</td>\n",
       "      <td>US/Pacific</td>\n",
       "      <td>KSJC</td>\n",
       "      <td>2020-12-13 21:53:00</td>\n",
       "      <td>51.0</td>\n",
       "      <td>51.0</td>\n",
       "      <td>80.0</td>\n",
       "      <td>30.17</td>\n",
       "      <td>10.0</td>\n",
       "      <td>W</td>\n",
       "      <td>6.0</td>\n",
       "      <td>0.0</td>\n",
       "      <td>Fair</td>\n",
       "      <td>False</td>\n",
       "      <td>False</td>\n",
       "      <td>False</td>\n",
       "      <td>False</td>\n",
       "      <td>False</td>\n",
       "      <td>False</td>\n",
       "      <td>False</td>\n",
       "      <td>False</td>\n",
       "      <td>False</td>\n",
       "      <td>False</td>\n",
       "      <td>False</td>\n",
       "      <td>False</td>\n",
       "      <td>False</td>\n",
       "      <td>Night</td>\n",
       "      <td>Night</td>\n",
       "      <td>Night</td>\n",
       "      <td>Night</td>\n",
       "    </tr>\n",
       "    <tr>\n",
       "      <th>3</th>\n",
       "      <td>A-4</td>\n",
       "      <td>2</td>\n",
       "      <td>2018-04-17 16:51:23</td>\n",
       "      <td>2018-04-17 17:50:46</td>\n",
       "      <td>39.110390</td>\n",
       "      <td>-119.773781</td>\n",
       "      <td>39.110390</td>\n",
       "      <td>-119.773781</td>\n",
       "      <td>0.0</td>\n",
       "      <td>Accident on US-395 Southbound at Topsy Ln.</td>\n",
       "      <td>NaN</td>\n",
       "      <td>US Highway 395 S</td>\n",
       "      <td>R</td>\n",
       "      <td>Carson City</td>\n",
       "      <td>Douglas</td>\n",
       "      <td>NV</td>\n",
       "      <td>89705</td>\n",
       "      <td>US</td>\n",
       "      <td>US/Pacific</td>\n",
       "      <td>KCXP</td>\n",
       "      <td>2018-04-17 16:55:00</td>\n",
       "      <td>53.6</td>\n",
       "      <td>NaN</td>\n",
       "      <td>16.0</td>\n",
       "      <td>30.16</td>\n",
       "      <td>10.0</td>\n",
       "      <td>SSW</td>\n",
       "      <td>4.6</td>\n",
       "      <td>NaN</td>\n",
       "      <td>Clear</td>\n",
       "      <td>False</td>\n",
       "      <td>False</td>\n",
       "      <td>False</td>\n",
       "      <td>False</td>\n",
       "      <td>False</td>\n",
       "      <td>False</td>\n",
       "      <td>False</td>\n",
       "      <td>False</td>\n",
       "      <td>False</td>\n",
       "      <td>False</td>\n",
       "      <td>False</td>\n",
       "      <td>True</td>\n",
       "      <td>False</td>\n",
       "      <td>Day</td>\n",
       "      <td>Day</td>\n",
       "      <td>Day</td>\n",
       "      <td>Day</td>\n",
       "    </tr>\n",
       "    <tr>\n",
       "      <th>4</th>\n",
       "      <td>A-5</td>\n",
       "      <td>3</td>\n",
       "      <td>2016-08-31 17:40:49</td>\n",
       "      <td>2016-08-31 18:10:49</td>\n",
       "      <td>26.102942</td>\n",
       "      <td>-80.265091</td>\n",
       "      <td>26.102942</td>\n",
       "      <td>-80.265091</td>\n",
       "      <td>0.0</td>\n",
       "      <td>Accident on I-595 Westbound at Exit 4 / Pine I...</td>\n",
       "      <td>NaN</td>\n",
       "      <td>I-595 W</td>\n",
       "      <td>R</td>\n",
       "      <td>Fort Lauderdale</td>\n",
       "      <td>Broward</td>\n",
       "      <td>FL</td>\n",
       "      <td>33324</td>\n",
       "      <td>US</td>\n",
       "      <td>US/Eastern</td>\n",
       "      <td>KHWO</td>\n",
       "      <td>2016-08-31 17:53:00</td>\n",
       "      <td>84.2</td>\n",
       "      <td>NaN</td>\n",
       "      <td>84.0</td>\n",
       "      <td>29.92</td>\n",
       "      <td>10.0</td>\n",
       "      <td>SSE</td>\n",
       "      <td>13.8</td>\n",
       "      <td>NaN</td>\n",
       "      <td>Overcast</td>\n",
       "      <td>False</td>\n",
       "      <td>False</td>\n",
       "      <td>False</td>\n",
       "      <td>False</td>\n",
       "      <td>True</td>\n",
       "      <td>False</td>\n",
       "      <td>False</td>\n",
       "      <td>False</td>\n",
       "      <td>False</td>\n",
       "      <td>False</td>\n",
       "      <td>False</td>\n",
       "      <td>True</td>\n",
       "      <td>False</td>\n",
       "      <td>Day</td>\n",
       "      <td>Day</td>\n",
       "      <td>Day</td>\n",
       "      <td>Day</td>\n",
       "    </tr>\n",
       "  </tbody>\n",
       "</table>\n",
       "</div>"
      ],
      "text/plain": [
       "    ID  Severity  ... Nautical_Twilight Astronomical_Twilight\n",
       "0  A-1         2  ...               Day                   Day\n",
       "1  A-2         2  ...               Day                   Day\n",
       "2  A-3         2  ...             Night                 Night\n",
       "3  A-4         2  ...               Day                   Day\n",
       "4  A-5         3  ...               Day                   Day\n",
       "\n",
       "[5 rows x 47 columns]"
      ]
     },
     "execution_count": 3,
     "metadata": {
      "tags": []
     },
     "output_type": "execute_result"
    }
   ],
   "source": [
    "#Read csv\n",
    "accident_data = pd.read_csv('US_Accidents_Dec20_Updated.csv')\n",
    "accident_data.head()"
   ]
  },
  {
   "cell_type": "code",
   "execution_count": null,
   "metadata": {
    "id": "55cHmX0jTtoR"
   },
   "outputs": [],
   "source": [
    "#Factorize weather condition data\n",
    "accident_data['Weather_Condition'],weather_data = pd.factorize(accident_data['Weather_Condition'])\n",
    "\n",
    "#Selecting the columns we need and erasing nans\n",
    "accidents = accident_data.loc[:, ['Temperature(F)', 'Humidity(%)','Pressure(in)','Visibility(mi)','Precipitation(in)', 'Weather_Condition', 'Severity']].dropna()"
   ]
  },
  {
   "cell_type": "code",
   "execution_count": null,
   "metadata": {
    "colab": {
     "base_uri": "https://localhost:8080/",
     "height": 204
    },
    "id": "lL1La5ZaVWYL",
    "outputId": "4de09230-f9d8-4747-b794-cee89be124f2"
   },
   "outputs": [
    {
     "data": {
      "text/html": [
       "<div>\n",
       "<style scoped>\n",
       "    .dataframe tbody tr th:only-of-type {\n",
       "        vertical-align: middle;\n",
       "    }\n",
       "\n",
       "    .dataframe tbody tr th {\n",
       "        vertical-align: top;\n",
       "    }\n",
       "\n",
       "    .dataframe thead th {\n",
       "        text-align: right;\n",
       "    }\n",
       "</style>\n",
       "<table border=\"1\" class=\"dataframe\">\n",
       "  <thead>\n",
       "    <tr style=\"text-align: right;\">\n",
       "      <th></th>\n",
       "      <th>Temperature(F)</th>\n",
       "      <th>Humidity(%)</th>\n",
       "      <th>Pressure(in)</th>\n",
       "      <th>Visibility(mi)</th>\n",
       "      <th>Precipitation(in)</th>\n",
       "      <th>Weather_Condition</th>\n",
       "      <th>Severity</th>\n",
       "    </tr>\n",
       "  </thead>\n",
       "  <tbody>\n",
       "    <tr>\n",
       "      <th>0</th>\n",
       "      <td>76.0</td>\n",
       "      <td>52.0</td>\n",
       "      <td>28.91</td>\n",
       "      <td>10.0</td>\n",
       "      <td>0.0</td>\n",
       "      <td>0</td>\n",
       "      <td>2</td>\n",
       "    </tr>\n",
       "    <tr>\n",
       "      <th>1</th>\n",
       "      <td>76.0</td>\n",
       "      <td>62.0</td>\n",
       "      <td>29.30</td>\n",
       "      <td>10.0</td>\n",
       "      <td>0.0</td>\n",
       "      <td>1</td>\n",
       "      <td>2</td>\n",
       "    </tr>\n",
       "    <tr>\n",
       "      <th>2</th>\n",
       "      <td>51.0</td>\n",
       "      <td>80.0</td>\n",
       "      <td>30.17</td>\n",
       "      <td>10.0</td>\n",
       "      <td>0.0</td>\n",
       "      <td>0</td>\n",
       "      <td>2</td>\n",
       "    </tr>\n",
       "    <tr>\n",
       "      <th>6</th>\n",
       "      <td>28.0</td>\n",
       "      <td>88.0</td>\n",
       "      <td>24.67</td>\n",
       "      <td>2.0</td>\n",
       "      <td>0.0</td>\n",
       "      <td>4</td>\n",
       "      <td>4</td>\n",
       "    </tr>\n",
       "    <tr>\n",
       "      <th>7</th>\n",
       "      <td>55.0</td>\n",
       "      <td>40.0</td>\n",
       "      <td>29.86</td>\n",
       "      <td>10.0</td>\n",
       "      <td>0.0</td>\n",
       "      <td>0</td>\n",
       "      <td>2</td>\n",
       "    </tr>\n",
       "  </tbody>\n",
       "</table>\n",
       "</div>"
      ],
      "text/plain": [
       "   Temperature(F)  Humidity(%)  ...  Weather_Condition  Severity\n",
       "0            76.0         52.0  ...                  0         2\n",
       "1            76.0         62.0  ...                  1         2\n",
       "2            51.0         80.0  ...                  0         2\n",
       "6            28.0         88.0  ...                  4         4\n",
       "7            55.0         40.0  ...                  0         2\n",
       "\n",
       "[5 rows x 7 columns]"
      ]
     },
     "execution_count": 5,
     "metadata": {
      "tags": []
     },
     "output_type": "execute_result"
    }
   ],
   "source": [
    "#See if the dataframe is correct\n",
    "accidents.head()"
   ]
  },
  {
   "cell_type": "markdown",
   "metadata": {
    "id": "hUlbS5dP4-Rm"
   },
   "source": [
    "## Visualizing data"
   ]
  },
  {
   "cell_type": "code",
   "execution_count": null,
   "metadata": {
    "colab": {
     "base_uri": "https://localhost:8080/",
     "height": 489
    },
    "id": "kDXfMjaHVNsv",
    "outputId": "eb170e1f-9786-43d3-998a-43e3f51d6d5b"
   },
   "outputs": [
    {
     "name": "stderr",
     "output_type": "stream",
     "text": [
      "/usr/local/lib/python3.7/dist-packages/seaborn/_decorators.py:43: FutureWarning: Pass the following variable as a keyword arg: x. From version 0.12, the only valid positional argument will be `data`, and passing other arguments without an explicit keyword will result in an error or misinterpretation.\n",
      "  FutureWarning\n",
      "/usr/local/lib/python3.7/dist-packages/seaborn/_decorators.py:43: FutureWarning: Pass the following variable as a keyword arg: x. From version 0.12, the only valid positional argument will be `data`, and passing other arguments without an explicit keyword will result in an error or misinterpretation.\n",
      "  FutureWarning\n",
      "/usr/local/lib/python3.7/dist-packages/seaborn/_decorators.py:43: FutureWarning: Pass the following variable as a keyword arg: x. From version 0.12, the only valid positional argument will be `data`, and passing other arguments without an explicit keyword will result in an error or misinterpretation.\n",
      "  FutureWarning\n",
      "/usr/local/lib/python3.7/dist-packages/seaborn/_decorators.py:43: FutureWarning: Pass the following variable as a keyword arg: x. From version 0.12, the only valid positional argument will be `data`, and passing other arguments without an explicit keyword will result in an error or misinterpretation.\n",
      "  FutureWarning\n",
      "/usr/local/lib/python3.7/dist-packages/seaborn/_decorators.py:43: FutureWarning: Pass the following variable as a keyword arg: x. From version 0.12, the only valid positional argument will be `data`, and passing other arguments without an explicit keyword will result in an error or misinterpretation.\n",
      "  FutureWarning\n"
     ]
    },
    {
     "data": {
      "image/png": "[encoded data removed]",
      "text/plain": [
       "<Figure size 720x288 with 5 Axes>"
      ]
     },
     "metadata": {
      "needs_background": "light",
      "tags": []
     },
     "output_type": "display_data"
    }
   ],
   "source": [
    "f = plt.figure(figsize=(10,4))\n",
    "\n",
    "#Temperature boxplot\n",
    "f.add_subplot(3,2,1)\n",
    "sns.boxplot(accidents['Temperature(F)'],color='red')\n",
    "plt.tight_layout(pad=1,h_pad=0.4)\n",
    "\n",
    "#Humidity boxplot\n",
    "f.add_subplot(3,2,2)\n",
    "sns.boxplot(accidents['Humidity(%)'],color='blue')\n",
    "plt.tight_layout(pad=1,h_pad=0.4)\n",
    "\n",
    "#Pressure boxplot\n",
    "f.add_subplot(3,2,3)\n",
    "sns.boxplot(accidents['Pressure(in)'],color='green')\n",
    "plt.tight_layout(pad=1,h_pad=0.4)\n",
    "\n",
    "#Visibility boxplot\n",
    "f.add_subplot(3,2,4)\n",
    "sns.boxplot(accidents['Visibility(mi)'],color='orange')\n",
    "plt.tight_layout(pad=1,h_pad=0.4)\n",
    "\n",
    "#Precipitation boxplot\n",
    "f.add_subplot(3,2,5)\n",
    "sns.boxplot(accidents['Precipitation(in)'],color='chocolate')\n",
    "plt.tight_layout(pad=1,h_pad=0.4)\n",
    "\n",
    "plt.show()"
   ]
  },
  {
   "cell_type": "code",
   "execution_count": null,
   "metadata": {
    "colab": {
     "base_uri": "https://localhost:8080/",
     "height": 489
    },
    "id": "PD7WuJR1XFRl",
    "outputId": "38a71a4f-a8fb-458e-9b79-89cd80992e35"
   },
   "outputs": [
    {
     "name": "stderr",
     "output_type": "stream",
     "text": [
      "/usr/local/lib/python3.7/dist-packages/seaborn/distributions.py:2557: FutureWarning: `distplot` is a deprecated function and will be removed in a future version. Please adapt your code to use either `displot` (a figure-level function with similar flexibility) or `histplot` (an axes-level function for histograms).\n",
      "  warnings.warn(msg, FutureWarning)\n",
      "/usr/local/lib/python3.7/dist-packages/seaborn/distributions.py:2557: FutureWarning: `distplot` is a deprecated function and will be removed in a future version. Please adapt your code to use either `displot` (a figure-level function with similar flexibility) or `histplot` (an axes-level function for histograms).\n",
      "  warnings.warn(msg, FutureWarning)\n",
      "/usr/local/lib/python3.7/dist-packages/seaborn/distributions.py:2557: FutureWarning: `distplot` is a deprecated function and will be removed in a future version. Please adapt your code to use either `displot` (a figure-level function with similar flexibility) or `histplot` (an axes-level function for histograms).\n",
      "  warnings.warn(msg, FutureWarning)\n",
      "/usr/local/lib/python3.7/dist-packages/seaborn/distributions.py:2557: FutureWarning: `distplot` is a deprecated function and will be removed in a future version. Please adapt your code to use either `displot` (a figure-level function with similar flexibility) or `histplot` (an axes-level function for histograms).\n",
      "  warnings.warn(msg, FutureWarning)\n",
      "/usr/local/lib/python3.7/dist-packages/seaborn/distributions.py:2557: FutureWarning: `distplot` is a deprecated function and will be removed in a future version. Please adapt your code to use either `displot` (a figure-level function with similar flexibility) or `histplot` (an axes-level function for histograms).\n",
      "  warnings.warn(msg, FutureWarning)\n"
     ]
    },
    {
     "data": {
      "image/png": "[encoded data removed]",
      "text/plain": [
       "<Figure size 720x288 with 5 Axes>"
      ]
     },
     "metadata": {
      "needs_background": "light",
      "tags": []
     },
     "output_type": "display_data"
    }
   ],
   "source": [
    "f2 = plt.figure(figsize=(10,4))\n",
    "\n",
    "#Temperature distplot\n",
    "f2.add_subplot(2,3,1)\n",
    "sns.distplot(accidents['Temperature(F)'],color='red')\n",
    "plt.tight_layout(pad=1,h_pad=0.4)\n",
    "\n",
    "#Humidity distplot\n",
    "f2.add_subplot(2,3,2)\n",
    "sns.distplot(accidents['Humidity(%)'],color='blue')\n",
    "plt.tight_layout(pad=1,h_pad=0.4)\n",
    "\n",
    "#Pressure distplot\n",
    "f2.add_subplot(2,3,3)\n",
    "sns.distplot(accidents['Pressure(in)'],color='green')\n",
    "plt.tight_layout(pad=1,h_pad=0.4)\n",
    "\n",
    "#Visibility distplot\n",
    "f2.add_subplot(2,3,4)\n",
    "sns.distplot(accidents['Visibility(mi)'],color='orange')\n",
    "plt.tight_layout(pad=1,h_pad=0.4)\n",
    "\n",
    "#Precipitation distplot\n",
    "f2.add_subplot(2,3,5)\n",
    "sns.distplot(accidents['Precipitation(in)'],color='chocolate')\n",
    "plt.tight_layout(pad=1,h_pad=0.4)\n",
    "\n",
    "plt.show()"
   ]
  },
  {
   "cell_type": "code",
   "execution_count": null,
   "metadata": {
    "colab": {
     "base_uri": "https://localhost:8080/",
     "height": 354
    },
    "id": "FMYFJqOK6jdK",
    "outputId": "82b3d06b-2185-4604-a8c9-5f4a0ecbcddf"
   },
   "outputs": [
    {
     "data": {
      "image/png": "[encoded data removed]",
      "text/plain": [
       "<Figure size 432x288 with 2 Axes>"
      ]
     },
     "metadata": {
      "needs_background": "light",
      "tags": []
     },
     "output_type": "display_data"
    }
   ],
   "source": [
    "#Heatmap\n",
    "sns.heatmap(accidents.corr())\n",
    "plt.show()"
   ]
  },
  {
   "cell_type": "markdown",
   "metadata": {
    "id": "BahAld-Mwo5b"
   },
   "source": [
    "## Classification Models"
   ]
  },
  {
   "cell_type": "markdown",
   "metadata": {
    "id": "rxf_CrDo5H14"
   },
   "source": [
    "### Naïve Bayes"
   ]
  },
  {
   "cell_type": "code",
   "execution_count": null,
   "metadata": {
    "colab": {
     "base_uri": "https://localhost:8080/"
    },
    "id": "nqXp2bsWa3JD",
    "outputId": "b4202b16-c791-42f1-d56e-7333a93667cc"
   },
   "outputs": [
    {
     "name": "stdout",
     "output_type": "stream",
     "text": [
      "Accuracy: 0.748360340115013\n",
      "Precision: 0.748360340115013\n"
     ]
    }
   ],
   "source": [
    "#Using Naive Bayes model\n",
    "nb = GaussianNB()\n",
    "\n",
    "#Split data into features and outputs\n",
    "X = accidents.drop(columns=['Severity'])\n",
    "Y = accidents['Severity']\n",
    "\n",
    "#Split data into training and testing data\n",
    "X_train, X_test, Y_train, Y_test = train_test_split(X, Y , test_size=0.2, random_state=13)\n",
    "\n",
    "#Training the model\n",
    "nb.fit(X_train,Y_train)\n",
    "\n",
    "#Predict testing set\n",
    "Y_pred = nb.predict(X_test)\n",
    "\n",
    "#Check performance of model\n",
    "print(\"Accuracy:\",accuracy_score(Y_test,Y_pred))\n",
    "#Model precision\n",
    "print(\"Precision:\",precision_score(Y_test,Y_pred , average='micro'))"
   ]
  },
  {
   "cell_type": "markdown",
   "metadata": {
    "id": "JhPBWEqIwt9m"
   },
   "source": [
    "### Decision Trees"
   ]
  },
  {
   "cell_type": "code",
   "execution_count": null,
   "metadata": {
    "colab": {
     "base_uri": "https://localhost:8080/"
    },
    "id": "tHT1xkSpw0Wy",
    "outputId": "a3dfff41-111d-4955-a4d6-6acb70f3d184"
   },
   "outputs": [
    {
     "name": "stdout",
     "output_type": "stream",
     "text": [
      "Accuracy: 0.7488748051029877\n",
      "Precision: 0.7488748051029877\n"
     ]
    }
   ],
   "source": [
    "# The decision tree classifier.\n",
    "clf = tree.DecisionTreeClassifier(criterion='entropy')\n",
    "\n",
    "#Create variable x and y\n",
    "X1 = accidents.drop(columns=['Severity'])\n",
    "Y1 = accidents['Severity']\n",
    "\n",
    "# Training the Decision Tree - Can split the data here for training\n",
    "X1_train, X1_test, Y1_train, Y1_test = train_test_split(X1, Y1, test_size=0.2, random_state=13)\n",
    "\n",
    "#config = {'algorithm': 'ID3'}\n",
    "clf_train = clf.fit(X1_train, Y1_train)\n",
    "\n",
    "#Predict testing set\n",
    "Y1_pred = clf.predict(X1_test)\n",
    "\n",
    "#Check performance of model\n",
    "print(\"Accuracy:\",accuracy_score(Y1_test,Y1_pred))\n",
    "#Model precision\n",
    "print(\"Precision:\",precision_score(Y1_test,Y1_pred , average='micro'))"
   ]
  },
  {
   "cell_type": "markdown",
   "metadata": {
    "id": "gduRNY5x3f0X"
   },
   "source": [
    "### K-Nearest Neighbors"
   ]
  },
  {
   "cell_type": "code",
   "execution_count": null,
   "metadata": {
    "colab": {
     "base_uri": "https://localhost:8080/"
    },
    "id": "62Tg6WplyEGk",
    "outputId": "73831d63-a9f5-4ec4-f44f-db69f56ad3d2"
   },
   "outputs": [
    {
     "name": "stdout",
     "output_type": "stream",
     "text": [
      "Accuracy:  0.7483414027534924\n",
      "Precision:  0.7483414027534924\n"
     ]
    }
   ],
   "source": [
    "#Create variable x and y\n",
    "X2 = accidents.drop(columns=['Severity'])\n",
    "Y2 = accidents['Severity']\n",
    "\n",
    "#Split data into training and testing data\n",
    "X2_train, X2_test, Y2_train, Y2_test = train_test_split(X2, Y2, test_size=0.2, random_state=13)\n",
    "\n",
    "#Create model\n",
    "knn = KNeighborsClassifier(n_neighbors=3)\n",
    "\n",
    "#Training the model\n",
    "knn.fit(X2_train, Y2_train)\n",
    "\n",
    "#Model test\n",
    "Y2_pred = knn.predict(X2_test) \n",
    "    \n",
    "#Accuracy\n",
    "print('Accuracy: ', accuracy_score(Y2_test,Y2_pred))\n",
    "#Precision\n",
    "print(\"Precision: \",precision_score(Y2_test,Y2_pred , average='micro'))"
   ]
  },
  {
   "cell_type": "markdown",
   "metadata": {
    "id": "SgH5jd9w2ojJ"
   },
   "source": [
    "## Conclusiones"
   ]
  },
  {
   "cell_type": "markdown",
   "metadata": {
    "id": "EREW_tiz2qgS"
   },
   "source": [
    "Entre los tres modelos presentan un score de precisión similar, bastante cercanos, el decision trees es el que presenta un mayor coeficiente de precisión, seguido del Naïve Bayes y por último el K-Nearest Neighboors. Por lo que es mejor utilizar Decision Trees."
   ]
  }
 ],
 "metadata": {
  "colab": {
   "collapsed_sections": [],
   "name": "Proyecto_AlejandroManotas.ipynb",
   "provenance": []
  },
  "kernelspec": {
   "display_name": "Python 3",
   "language": "python",
   "name": "python3"
  },
  "language_info": {
   "codemirror_mode": {
    "name": "ipython",
    "version": 3
   },
   "file_extension": ".py",
   "mimetype": "text/x-python",
   "name": "python",
   "nbconvert_exporter": "python",
   "pygments_lexer": "ipython3",
   "version": "3.8.5"
  }
 },
 "nbformat": 4,
 "nbformat_minor": 1
}
