{
 "cells": [
  {
   "cell_type": "markdown",
   "metadata": {},
   "source": [
    "# Statistical Concepts"
   ]
  },
  {
   "cell_type": "code",
   "execution_count": 1,
   "metadata": {},
   "outputs": [],
   "source": [
    "from matplotlib import pyplot as plt\n",
    "#%matplotlib inline"
   ]
  },
  {
   "cell_type": "markdown",
   "metadata": {},
   "source": [
    "## Venn Diagrams"
   ]
  },
  {
   "cell_type": "code",
   "execution_count": 2,
   "metadata": {
    "scrolled": true
   },
   "outputs": [
    {
     "data": {
      "text/plain": [
       "<matplotlib_venn._common.VennDiagram at 0x1e7a378c6a0>"
      ]
     },
     "execution_count": 2,
     "metadata": {},
     "output_type": "execute_result"
    },
    {
     "data": {
      "image/png": "[encoded data removed]",
      "text/plain": [
       "<Figure size 432x288 with 1 Axes>"
      ]
     },
     "metadata": {},
     "output_type": "display_data"
    }
   ],
   "source": [
    "#Import libraries\n",
    "from matplotlib_venn import venn2 \n",
    "from matplotlib_venn import venn3\n",
    "\n",
    "#(Ab, aB, AB)\n",
    "#venn2(subsets = (30,10 ,5,20,5,5,5 ), set_labels = ())\n",
    "\n",
    "#(Abc, aBc, ABc, abC, AbC, aBC, ABC)\n",
    "venn3(subsets = (30,10 ,5,20,5,5,5 ), set_labels = ('Group A', 'Group B', 'Group C'))"
   ]
  },
  {
   "cell_type": "markdown",
   "metadata": {},
   "source": [
    "## Factorial"
   ]
  },
  {
   "cell_type": "code",
   "execution_count": 3,
   "metadata": {},
   "outputs": [
    {
     "name": "stdout",
     "output_type": "stream",
     "text": [
      "24\n"
     ]
    }
   ],
   "source": [
    "def factorial(n):\n",
    "    if n==1: return 1\n",
    "    else: return n * factorial(n-1)\n",
    "    \n",
    "print(factorial(4))\n"
   ]
  },
  {
   "cell_type": "code",
   "execution_count": 4,
   "metadata": {},
   "outputs": [
    {
     "name": "stdout",
     "output_type": "stream",
     "text": [
      "24\n"
     ]
    }
   ],
   "source": [
    "import numpy as np\n",
    "\n",
    "a = np.math.factorial(4)\n",
    "print(a)"
   ]
  },
  {
   "cell_type": "markdown",
   "metadata": {},
   "source": [
    "## Permutations"
   ]
  },
  {
   "cell_type": "markdown",
   "metadata": {},
   "source": [
    "${P^r_n} = \\frac{n!}{(n-r)!}$"
   ]
  },
  {
   "cell_type": "code",
   "execution_count": 5,
   "metadata": {},
   "outputs": [
    {
     "name": "stdout",
     "output_type": "stream",
     "text": [
      "6.0\n"
     ]
    }
   ],
   "source": [
    "n=3\n",
    "r=2\n",
    "Permutations = np.math.factorial(n)/np.math.factorial(n-r)\n",
    "print(Permutations)"
   ]
  },
  {
   "cell_type": "code",
   "execution_count": 6,
   "metadata": {},
   "outputs": [
    {
     "name": "stdout",
     "output_type": "stream",
     "text": [
      "6.0\n"
     ]
    }
   ],
   "source": [
    "def mypermutations(n,r):\n",
    "    Permutations = np.math.factorial(n)/np.math.factorial(n-r)\n",
    "    return Permutations\n",
    "\n",
    "print(mypermutations(3,2))"
   ]
  },
  {
   "cell_type": "code",
   "execution_count": 7,
   "metadata": {
    "scrolled": true
   },
   "outputs": [
    {
     "name": "stdout",
     "output_type": "stream",
     "text": [
      "(1, 2)\n",
      "(1, 3)\n",
      "(2, 1)\n",
      "(2, 3)\n",
      "(3, 1)\n",
      "(3, 2)\n"
     ]
    }
   ],
   "source": [
    "import itertools\n",
    "\n",
    "for p in itertools.permutations([1,2,3],2):\n",
    "    print(p)"
   ]
  },
  {
   "cell_type": "code",
   "execution_count": 8,
   "metadata": {},
   "outputs": [
    {
     "name": "stdout",
     "output_type": "stream",
     "text": [
      "6\n"
     ]
    }
   ],
   "source": [
    "print(len(list(p for p in itertools.permutations([1,2,3],2))))\n",
    "    "
   ]
  },
  {
   "cell_type": "code",
   "execution_count": 9,
   "metadata": {
    "scrolled": true
   },
   "outputs": [
    {
     "name": "stdout",
     "output_type": "stream",
     "text": [
      "('A', 'B')\n",
      "('A', 'C')\n",
      "('B', 'A')\n",
      "('B', 'C')\n",
      "('C', 'A')\n",
      "('C', 'B')\n"
     ]
    }
   ],
   "source": [
    "for p in itertools.permutations(\"ABC\",2):\n",
    "    print(p)"
   ]
  },
  {
   "cell_type": "markdown",
   "metadata": {},
   "source": [
    "## Combinations"
   ]
  },
  {
   "cell_type": "markdown",
   "metadata": {},
   "source": [
    "${C^n_r} = \\frac{n!}{r!(n-r)!}$"
   ]
  },
  {
   "cell_type": "code",
   "execution_count": 10,
   "metadata": {},
   "outputs": [
    {
     "name": "stdout",
     "output_type": "stream",
     "text": [
      "(1, 2)\n",
      "(1, 3)\n",
      "(2, 3)\n"
     ]
    }
   ],
   "source": [
    "for c in itertools.combinations([1,2,3],2 ):\n",
    "    print(c)"
   ]
  },
  {
   "cell_type": "code",
   "execution_count": 11,
   "metadata": {},
   "outputs": [
    {
     "name": "stdout",
     "output_type": "stream",
     "text": [
      "3\n"
     ]
    }
   ],
   "source": [
    "print(len(list(p for p in itertools.combinations(\"ABC\",2 ))))\n",
    "    "
   ]
  },
  {
   "cell_type": "code",
   "execution_count": 12,
   "metadata": {},
   "outputs": [
    {
     "name": "stdout",
     "output_type": "stream",
     "text": [
      "('A', 'B')\n",
      "('A', 'C')\n",
      "('B', 'C')\n"
     ]
    }
   ],
   "source": [
    "for c in itertools.combinations(\"ABC\",2 ):\n",
    "    print(c)"
   ]
  },
  {
   "cell_type": "markdown",
   "metadata": {},
   "source": [
    "# Discrete Probability Distributions"
   ]
  },
  {
   "cell_type": "markdown",
   "metadata": {},
   "source": [
    "## Uniform Distribution "
   ]
  },
  {
   "cell_type": "markdown",
   "metadata": {},
   "source": [
    "${f(x_i)} = \\frac{1}{n}$"
   ]
  },
  {
   "cell_type": "code",
   "execution_count": 13,
   "metadata": {},
   "outputs": [
    {
     "data": {
      "text/plain": [
       "0.09090909090909091"
      ]
     },
     "execution_count": 13,
     "metadata": {},
     "output_type": "execute_result"
    }
   ],
   "source": [
    "#Import library\n",
    "from scipy.stats import randint\n",
    "randint.pmf(0, 0, 11)"
   ]
  },
  {
   "cell_type": "code",
   "execution_count": 14,
   "metadata": {},
   "outputs": [
    {
     "data": {
      "image/png": "[encoded data removed]",
      "text/plain": [
       "<Figure size 432x288 with 1 Axes>"
      ]
     },
     "metadata": {
      "needs_background": "light"
     },
     "output_type": "display_data"
    }
   ],
   "source": [
    "#Import library\n",
    "from scipy.stats import uniform\n",
    "\n",
    "#Create figure\n",
    "fig, ax = plt.subplots(1, 1)\n",
    "\n",
    "#Define distribution parameters\n",
    "low, high = 0, 11\n",
    "\n",
    "#Generate discrete random variables\n",
    "x = np.arange(randint.ppf(0.01, low, high), randint.ppf(0.99, low, high), step=1)\n",
    "\n",
    "#Plotting x\n",
    "ax.plot(x, randint.pmf(x, low, high), 'bo', ms=8, label='randint pmf')\n",
    "ax.vlines(x, 0, randint.pmf(x, low, high), colors='b', lw=5, alpha=0.5)\n",
    "\n",
    "#Generate random numbers and plotting\n",
    "x_rv = uniform.rvs(low, high, size=1000) #uniforme\n",
    "ax.hist(x_rv, density=True, alpha=0.2)\n",
    "\n",
    "#Define legend attributes and show figure\n",
    "ax.legend(loc='best', frameon=False)\n",
    "plt.show()\n"
   ]
  },
  {
   "cell_type": "markdown",
   "metadata": {},
   "source": [
    "## Bernoulli"
   ]
  },
  {
   "cell_type": "code",
   "execution_count": 15,
   "metadata": {},
   "outputs": [
    {
     "data": {
      "text/plain": [
       "0.15"
      ]
     },
     "execution_count": 15,
     "metadata": {},
     "output_type": "execute_result"
    }
   ],
   "source": [
    "#Import library\n",
    "from scipy.stats import bernoulli\n",
    "bernoulli.pmf(1, 0.15)"
   ]
  },
  {
   "cell_type": "code",
   "execution_count": 16,
   "metadata": {},
   "outputs": [
    {
     "data": {
      "image/png": "[encoded data removed]",
      "text/plain": [
       "<Figure size 432x288 with 1 Axes>"
      ]
     },
     "metadata": {
      "needs_background": "light"
     },
     "output_type": "display_data"
    }
   ],
   "source": [
    "#Import library\n",
    "from scipy.stats import bernoulli\n",
    "\n",
    "#Create figure\n",
    "fig, ax = plt.subplots(1, 1)\n",
    "\n",
    "#Define distribution parameters\n",
    "p = 0.15\n",
    "\n",
    "#Generate discrete random variables\n",
    "x = np.arange(bernoulli.ppf(0.001,p ),bernoulli.ppf(0.99, p))\n",
    "\n",
    "#Plotting X\n",
    "ax.plot(x, bernoulli.pmf(x,p ), 'bo', ms=8, label='bernoulli pmf')\n",
    "ax.vlines(x, 0, bernoulli.pmf(x, p), colors='b', lw=5, alpha=0.5)\n",
    "\n",
    "#Generate random numbers and plotting\n",
    "x_rv = bernoulli.rvs(p, size=1000)\n",
    "ax.hist(x_rv, density=True, alpha=0.2)\n",
    "\n",
    "#Define legend attributes and show figure\n",
    "ax.legend(loc='best', frameon=False)\n",
    "plt.show()"
   ]
  },
  {
   "cell_type": "markdown",
   "metadata": {},
   "source": [
    "## Binomial Probability Distribution"
   ]
  },
  {
   "cell_type": "markdown",
   "metadata": {},
   "source": [
    " X: the number of trials that result in a success"
   ]
  },
  {
   "cell_type": "markdown",
   "metadata": {},
   "source": [
    "$ {f(x)} = {{n}\\choose{x}} \\cdot p^xq^{n-x}$"
   ]
  },
  {
   "cell_type": "code",
   "execution_count": 17,
   "metadata": {},
   "outputs": [
    {
     "ename": "SyntaxError",
     "evalue": "invalid syntax (<ipython-input-17-e535625839b3>, line 3)",
     "output_type": "error",
     "traceback": [
      "\u001b[1;36m  File \u001b[1;32m\"<ipython-input-17-e535625839b3>\"\u001b[1;36m, line \u001b[1;32m3\u001b[0m\n\u001b[1;33m    binom.pmf(, , )\u001b[0m\n\u001b[1;37m              ^\u001b[0m\n\u001b[1;31mSyntaxError\u001b[0m\u001b[1;31m:\u001b[0m invalid syntax\n"
     ]
    }
   ],
   "source": [
    "#Import library\n",
    "from scipy.stats import binom\n",
    "binom.pmf(, , )"
   ]
  },
  {
   "cell_type": "code",
   "execution_count": 18,
   "metadata": {
    "scrolled": true
   },
   "outputs": [
    {
     "data": {
      "image/png": "[encoded data removed]",
      "text/plain": [
       "<Figure size 432x288 with 1 Axes>"
      ]
     },
     "metadata": {
      "needs_background": "light"
     },
     "output_type": "display_data"
    }
   ],
   "source": [
    "#Import library\n",
    "from scipy.stats import binom\n",
    "\n",
    "#Create figure\n",
    "fig, ax = plt.subplots(1, 1)\n",
    "\n",
    "#Define distribution parameters\n",
    "n,p = 20,0.5,\n",
    "\n",
    "#Generate discrete random variables\n",
    "x = np.arange(binom.ppf(0.01,n , p),binom.ppf(0.99,n ,p ))\n",
    "\n",
    "#Plotting X\n",
    "ax.plot(x, binom.pmf(x, n,p ), 'bo', ms=8, label='binom pmf')\n",
    "ax.vlines(x, 0, binom.pmf(x, n,p ), colors='b', lw=5, alpha=0.5)\n",
    "\n",
    "#Generate random numbers and plotting\n",
    "x_rv = binom.rvs(n, p, size=1000)\n",
    "ax.hist(x_rv, density=True, alpha=0.2)\n",
    "\n",
    "#Define legend attributes and show figure\n",
    "ax.legend(loc='best', frameon=False)\n",
    "plt.show()"
   ]
  },
  {
   "cell_type": "markdown",
   "metadata": {},
   "source": [
    "## Geometric Probability Distribution"
   ]
  },
  {
   "cell_type": "markdown",
   "metadata": {},
   "source": [
    "$ {f(x)} = (1-p)^{(x-1)}p$"
   ]
  },
  {
   "cell_type": "markdown",
   "metadata": {},
   "source": [
    "X: the number of trials until the first success"
   ]
  },
  {
   "cell_type": "code",
   "execution_count": 25,
   "metadata": {},
   "outputs": [
    {
     "data": {
      "text/plain": [
       "0.03125"
      ]
     },
     "execution_count": 25,
     "metadata": {},
     "output_type": "execute_result"
    }
   ],
   "source": [
    "#Import library\n",
    "from scipy.stats import geom\n",
    "geom.pmf(5,0.5 )"
   ]
  },
  {
   "cell_type": "code",
   "execution_count": 19,
   "metadata": {},
   "outputs": [
    {
     "data": {
      "image/png": "[encoded data removed]",
      "text/plain": [
       "<Figure size 432x288 with 1 Axes>"
      ]
     },
     "metadata": {
      "needs_background": "light"
     },
     "output_type": "display_data"
    }
   ],
   "source": [
    "#Import library\n",
    "from scipy.stats import geom\n",
    "\n",
    "#Create figure\n",
    "fig, ax = plt.subplots(1, 1)\n",
    "\n",
    "#Define distribution parameters\n",
    "p = 0.9\n",
    "p1 = 0.1\n",
    "\n",
    "#Generate discrete random variables \n",
    "x = np.arange(geom.ppf(0.01,p ), geom.ppf(0.99,p ))\n",
    "x1 = np.arange(geom.ppf(0.01,p1 ), geom.ppf(0.99,p1 ))\n",
    "\n",
    "#Plotting x\n",
    "ax.plot(x, geom.pmf(x, p), 'bo', ms=8, label='geom pmf p=0.9')\n",
    "ax.vlines(x, 0, geom.pmf(x, p), colors='b', lw=5, alpha=0.5)\n",
    "ax.plot(x1, geom.pmf(x1, p1), 'co', ms=8, label='geom pmf p=0.1')\n",
    "ax.vlines(x1, 0, geom.pmf(x1, p1), colors='c', lw=5, alpha=0.5)\n",
    "\n",
    "#Generate random numbers and plotting\n",
    "x_rv = geom.rvs(p, size=1000)\n",
    "ax.hist(x_rv, density=True, alpha=0.2)\n",
    "\n",
    "#Define legend attributes and show figure\n",
    "ax.legend(loc='best', frameon=False)\n",
    "plt.show()"
   ]
  },
  {
   "cell_type": "markdown",
   "metadata": {},
   "source": [
    "## Negative Binomial Probability Distribution"
   ]
  },
  {
   "cell_type": "markdown",
   "metadata": {},
   "source": [
    "$ {f(x)} = {{x-1}\\choose{r-1}} (1-p)^{x-r}p^r$"
   ]
  },
  {
   "cell_type": "markdown",
   "metadata": {},
   "source": [
    "X: the number of trials until r successes occur"
   ]
  },
  {
   "cell_type": "code",
   "execution_count": 22,
   "metadata": {},
   "outputs": [
    {
     "data": {
      "text/plain": [
       "0.020065196401826767"
      ]
     },
     "execution_count": 22,
     "metadata": {},
     "output_type": "execute_result"
    }
   ],
   "source": [
    "#Import library\n",
    "from scipy.stats import nbinom\n",
    "\n",
    "nbinom.pmf( 40,5 ,0.1 )"
   ]
  },
  {
   "cell_type": "code",
   "execution_count": 62,
   "metadata": {
    "scrolled": true
   },
   "outputs": [
    {
     "data": {
      "image/png": "[encoded data removed]",
      "text/plain": [
       "<Figure size 432x288 with 1 Axes>"
      ]
     },
     "metadata": {
      "needs_background": "light"
     },
     "output_type": "display_data"
    }
   ],
   "source": [
    "#Import library\n",
    "from scipy.stats import nbinom\n",
    "\n",
    "#Create figure\n",
    "fig, ax = plt.subplots(1, 1)\n",
    "\n",
    "#Define distribution parameters\n",
    "n, p = 5,0.1\n",
    "n1, p1 = 5,0.4\n",
    "n2, p2 = 10,0.4\n",
    "\n",
    "#Generate discrete random variables\n",
    "x = np.arange(nbinom.ppf(0.01,n ,p ),nbinom.ppf(0.99,n , p))\n",
    "y = np.arange(nbinom.ppf(0.01,n1 ,p1 ),nbinom.ppf(0.99,n1 ,p1 ))\n",
    "z = np.arange(nbinom.ppf(0.01, n2, p2),nbinom.ppf(0.99, n2,p2 ))\n",
    "\n",
    "#Plotting x\n",
    "ax.plot(x, nbinom.pmf(x,n ,p ), 'bo', ms=8, label='nbinom pmf 5,0.1')\n",
    "ax.plot(y, nbinom.pmf(y,n1 ,p1 ), 'co', ms=8, label='nbinom pmf-2 5,0.4')\n",
    "ax.plot(z, nbinom.pmf(z,n2 ,p2 ), 'mo', ms=8, label='nbinom pmf-3 10,0.4')\n",
    "ax.vlines(x, 0, nbinom.pmf(x,n ,p ), colors='b', lw=5, alpha=0.5)\n",
    "ax.vlines(y, 0, nbinom.pmf(y,n1 ,p1 ), colors='c', lw=5, alpha=0.5)\n",
    "ax.vlines(z, 0, nbinom.pmf(z,n2 ,p2 ), colors='m', lw=5, alpha=0.5)\n",
    "\n",
    "#Generate random numbers and plotting\n",
    "x_rv = nbinom.rvs(n, p, size=1000)\n",
    "ax.hist(x_rv, density=True, alpha=0.2)\n",
    "\n",
    "#Define legend attributes and show figure\n",
    "ax.legend(loc='best', frameon=False)\n",
    "plt.show()"
   ]
  },
  {
   "cell_type": "markdown",
   "metadata": {},
   "source": [
    "## Hypergeometric Probability Distribution"
   ]
  },
  {
   "cell_type": "markdown",
   "metadata": {},
   "source": [
    "$ {f(x)} = \\frac{{{k}\\choose{x}} {{N-k}\\choose{n-x}}} {{N}\\choose{n}} $"
   ]
  },
  {
   "cell_type": "markdown",
   "metadata": {},
   "source": [
    "X: the number of successes in the sample"
   ]
  },
  {
   "cell_type": "code",
   "execution_count": null,
   "metadata": {},
   "outputs": [],
   "source": [
    "#Import library\n",
    "from scipy.stats import hypergeom\n",
    "hypergeom.pmf(, , , )"
   ]
  },
  {
   "cell_type": "code",
   "execution_count": 28,
   "metadata": {
    "scrolled": true
   },
   "outputs": [
    {
     "data": {
      "image/png": "[encoded data removed]",
      "text/plain": [
       "<Figure size 432x288 with 1 Axes>"
      ]
     },
     "metadata": {
      "needs_background": "light"
     },
     "output_type": "display_data"
    }
   ],
   "source": [
    "#Import library\n",
    "from scipy.stats import hypergeom\n",
    "\n",
    "#Create figure\n",
    "fig, ax = plt.subplots(1, 1)\n",
    "\n",
    "#Define distribution parameters\n",
    "[M, n, N] = [10,5 , 5]\n",
    "[M1, n1, N1] = [50,5 ,25 ]\n",
    "\n",
    "#Generate discrete random variables\n",
    "rv = hypergeom(M, n, N)\n",
    "x = np.arange(0, n+1)\n",
    "rv1 = hypergeom(M1, n1, N1)\n",
    "x1 = np.arange(0, n1+1)\n",
    "\n",
    "#Plotting x\n",
    "ax.plot(x, rv.pmf(x), 'bo', label='hypergeom pmf')\n",
    "ax.plot(x1, rv1.pmf(x1), 'co', label='hypergeom pmf-2')\n",
    "ax.vlines(x, 0, rv.pmf(x), colors='b', lw=1, alpha=0.5)\n",
    "ax.vlines(x1, 0, rv1.pmf(x1), colors='b', lw=1, alpha=0.5)\n",
    "\n",
    "#Generate random numbers and plotting\n",
    "x_rv = hypergeom.rvs(M,n ,N,  size=100)\n",
    "ax.hist(x_rv, density=True, alpha=0.2)\n",
    "\n",
    "#Define legend attributes and show figure\n",
    "ax.legend(loc='best', frameon=False)\n",
    "plt.show()"
   ]
  },
  {
   "cell_type": "markdown",
   "metadata": {},
   "source": [
    "## Poisson Probability Distribution"
   ]
  },
  {
   "cell_type": "markdown",
   "metadata": {},
   "source": [
    "$ {f(x)} = \\frac{e^\\lambda \\lambda^x}{x!} $"
   ]
  },
  {
   "cell_type": "markdown",
   "metadata": {},
   "source": [
    "X: number of events in a Poisson process in a fixed interval of time"
   ]
  },
  {
   "cell_type": "code",
   "execution_count": null,
   "metadata": {},
   "outputs": [],
   "source": [
    "#Import library\n",
    "from scipy.stats import poisson\n",
    "poisson.pmf(1,2 )"
   ]
  },
  {
   "cell_type": "code",
   "execution_count": 41,
   "metadata": {
    "scrolled": true
   },
   "outputs": [
    {
     "data": {
      "text/plain": [
       "<matplotlib.legend.Legend at 0x1e7a6182ac0>"
      ]
     },
     "execution_count": 41,
     "metadata": {},
     "output_type": "execute_result"
    },
    {
     "data": {
      "image/png": "[encoded data removed]",
      "text/plain": [
       "<Figure size 432x288 with 1 Axes>"
      ]
     },
     "metadata": {
      "needs_background": "light"
     },
     "output_type": "display_data"
    }
   ],
   "source": [
    "#Import library\n",
    "from scipy.stats import poisson\n",
    "\n",
    "#Create figure\n",
    "fig, ax = plt.subplots(1, 1)\n",
    "\n",
    "#Define distribution parameters\n",
    "mu = 0.1\n",
    "mu1 = 2\n",
    "\n",
    "#Generate discrete random variables\n",
    "x = np.arange(poisson.ppf(0.01,mu ), poisson.ppf(0.99,mu ))\n",
    "x1 = np.arange(poisson.ppf(0.01, mu1), poisson.ppf(0.99,mu1 ))\n",
    "\n",
    "#Plotting x\n",
    "ax.plot(x, poisson.pmf(x,mu ), 'bo', ms=8, label='poisson pmf    mu= 0.1')\n",
    "ax.plot(x1, poisson.pmf(x1,mu1 ), 'co', ms=8, label='poisson pmf-2 mu= 0.2')\n",
    "ax.vlines(x, 0, poisson.pmf(x,mu ), colors='b', lw=5, alpha=0.5)\n",
    "ax.vlines(x1, 0, poisson.pmf(x1, mu1), colors='c', lw=5, alpha=0.5)\n",
    "\n",
    "#Generate random numbers and plotting\n",
    "#x_rv = poisson.rvs(mu, size=1000)\n",
    "#ax.(x_rv, density=True, alpha=0.2)\n",
    "\n",
    "#Define legend attributes and show figure\n",
    "ax.legend(loc='best', frameon=False)\n"
   ]
  },
  {
   "cell_type": "markdown",
   "metadata": {},
   "source": [
    "# Continuous Probability Distribution"
   ]
  },
  {
   "cell_type": "code",
   "execution_count": 42,
   "metadata": {},
   "outputs": [],
   "source": [
    "import matplotlib.pyplot as plt"
   ]
  },
  {
   "cell_type": "markdown",
   "metadata": {},
   "source": [
    "## Uniform Probability Distribution"
   ]
  },
  {
   "cell_type": "markdown",
   "metadata": {},
   "source": [
    "${f(x)} = \\frac{1}{(b-a)}$"
   ]
  },
  {
   "cell_type": "code",
   "execution_count": 45,
   "metadata": {
    "scrolled": true
   },
   "outputs": [
    {
     "data": {
      "text/plain": [
       "<matplotlib.legend.Legend at 0x1e7a7380610>"
      ]
     },
     "execution_count": 45,
     "metadata": {},
     "output_type": "execute_result"
    },
    {
     "data": {
      "image/png": "[encoded data removed]",
      "text/plain": [
       "<Figure size 432x288 with 1 Axes>"
      ]
     },
     "metadata": {
      "needs_background": "light"
     },
     "output_type": "display_data"
    }
   ],
   "source": [
    "#Import library\n",
    "from scipy.stats import uniform\n",
    "\n",
    "#Create figure\n",
    "fig, ax = plt.subplots(1, 1)\n",
    "\n",
    "#Generate discrete random variables\n",
    "x = np.linspace(uniform.ppf(0.01),uniform.ppf(0.99), 9)\n",
    "\n",
    "#Plotting x\n",
    "ax.plot(x, uniform.pdf(x),'r-', lw=5, alpha=0.6, label='uniform pdf')\n",
    "\n",
    "#Generate random numbers and plotting\n",
    "x_rv = uniform.rvs(size=1000)\n",
    "ax.hist(x_rv, density=True, histtype='stepfilled', alpha=0.2)\n",
    "\n",
    "#Define legend attributes and show figure\n",
    "ax.legend(loc='best', frameon=False)\n"
   ]
  },
  {
   "cell_type": "markdown",
   "metadata": {},
   "source": [
    "## Normal Probability Distribution"
   ]
  },
  {
   "cell_type": "markdown",
   "metadata": {},
   "source": [
    "${f(x)} = \\frac{1}{\\sqrt(2\\pi\\sigma)}e^{\\frac{(x/\\mu)^2}{2\\sigma}}$"
   ]
  },
  {
   "cell_type": "code",
   "execution_count": 59,
   "metadata": {
    "scrolled": true
   },
   "outputs": [
    {
     "data": {
      "image/png": "[encoded data removed]",
      "text/plain": [
       "<Figure size 432x288 with 1 Axes>"
      ]
     },
     "metadata": {
      "needs_background": "light"
     },
     "output_type": "display_data"
    }
   ],
   "source": [
    "#Import library\n",
    "from scipy.stats import norm\n",
    "\n",
    "#Create figure\n",
    "fig, ax = plt.subplots(1, 1)\n",
    "\n",
    "#Define distribution parameters\t\n",
    "mu, sig = 5,1\n",
    "mu1, sig1 = 5, 4\n",
    "mu2, sig2 = 15 , 1\n",
    "\n",
    "#Generate discrete random variables\n",
    "x = np.linspace(norm.ppf(0.01, mu,sig ), norm.ppf(0.99, mu,sig ), 100)\n",
    "x1 = np.linspace(norm.ppf(0.01, mu1, sig1), norm.ppf(0.99, mu1, sig1), 100)\n",
    "x2 =np.linspace(norm.ppf(0.01, mu2, sig2), norm.ppf(0.99, mu2, sig2), 100)\n",
    "\n",
    "#Plotting x\n",
    "ax.plot(x, norm.pdf(x,mu , sig), 'b-', lw=5, alpha=0.6, label='norm pdf 5,1')\n",
    "ax.plot(x1, norm.pdf(x1,mu1 , sig1), 'r-', lw=5, alpha=0.6, label='norm pdf 5,4')\n",
    "ax.plot(x2, norm.pdf(x1,mu2 , sig2), 'y-', lw=5, alpha=0.6, label='norm pdf 15,1')\n",
    "\n",
    "#Generate random numbers and plotting\n",
    "x_rv= norm.rvs(size=1000, loc=mu, scale=sig)\n",
    "ax.hist(x_rv, density=True, histtype='stepfilled', alpha=0.2)\n",
    "\n",
    "#Define legend attributes and show figure\n",
    "ax.legend(loc='best', frameon=False)\n",
    "plt.show()"
   ]
  },
  {
   "cell_type": "markdown",
   "metadata": {},
   "source": [
    "## Normal Standard Probability Distribution"
   ]
  },
  {
   "cell_type": "markdown",
   "metadata": {},
   "source": [
    "${Z} = \\frac{X-\\mu}{\\sigma}$"
   ]
  },
  {
   "cell_type": "code",
   "execution_count": 53,
   "metadata": {
    "scrolled": false
   },
   "outputs": [
    {
     "data": {
      "text/plain": [
       "<matplotlib.legend.Legend at 0x1e7a725fac0>"
      ]
     },
     "execution_count": 53,
     "metadata": {},
     "output_type": "execute_result"
    },
    {
     "data": {
      "image/png": "[encoded data removed]",
      "text/plain": [
       "<Figure size 432x288 with 1 Axes>"
      ]
     },
     "metadata": {
      "needs_background": "light"
     },
     "output_type": "display_data"
    }
   ],
   "source": [
    "#Import library\n",
    "from scipy.stats import norm\n",
    "\n",
    "#Create figure\n",
    "fig, ax = plt.subplots(1, 1)\n",
    "\n",
    "#Generate discrete random variables\n",
    "x = np.linspace(norm.ppf(0.01), norm.ppf(0.99),100 )\n",
    "\n",
    "#Plotting x\n",
    "ax.plot(x, norm.pdf(x), 'r-', lw=5, alpha=0.6, label='norm pdf')\n",
    "\n",
    "#Generate random numbers and plotting\n",
    "x_rv= norm.rvs(size=1000)\n",
    "ax.hist(x_rv, density=True, histtype='stepfilled', alpha=0.2)\n",
    "\n",
    "#Define legend attributes and show figure\n",
    "ax.legend(loc='best', frameon=False)\n"
   ]
  },
  {
   "cell_type": "markdown",
   "metadata": {},
   "source": [
    "## Exponential Probability Distribution"
   ]
  },
  {
   "cell_type": "markdown",
   "metadata": {},
   "source": [
    "${f(x)} = \\lambda e^{-\\lambda x}$"
   ]
  },
  {
   "cell_type": "code",
   "execution_count": 58,
   "metadata": {},
   "outputs": [
    {
     "data": {
      "image/png": "[encoded data removed]",
      "text/plain": [
       "<Figure size 432x288 with 1 Axes>"
      ]
     },
     "metadata": {
      "needs_background": "light"
     },
     "output_type": "display_data"
    }
   ],
   "source": [
    "#Import library\n",
    "from scipy.stats import expon\n",
    "\n",
    "#Create figure\n",
    "fig, ax = plt.subplots(1, 1)\n",
    "\n",
    "#Define distribution parameters\t\n",
    "#lam=2\n",
    "mu, sig = 0.5, 0.5\n",
    "mu1, sig1 = 2,2\n",
    "mu2, sig2 = 10,10 \n",
    "\n",
    "#Generate discrete random variables\n",
    "x = np.linspace(expon.ppf(0.01, mu, sig), expon.ppf(0.99, mu,sig ),100 )\n",
    "x1 = np.linspace(expon.ppf(0.01,mu1 ,sig1 ), expon.ppf(0.99,mu1 , sig1), 100)\n",
    "x2 = np.linspace(expon.ppf(0.01,mu2 ,sig2 ), expon.ppf(0.99,mu2 , sig2), 100)\n",
    "\n",
    "#Plotting x\n",
    "ax.plot(x, expon.pdf(x, mu, sig), 'r-', lw=5, alpha=0.6, label='expon pdf  0.5, 0.5')\n",
    "ax.plot(x1, expon.pdf(x1, mu1, sig1), 'b-', lw=5, alpha=0.6, label='expon pdf 2,2' )\n",
    "ax.plot(x2, expon.pdf(x2, mu2, sig2), 'c-', lw=5, alpha=0.6, label='expon pdf 10,10')\n",
    "\n",
    "#Generate random numbers and plotting\n",
    "x_rv=expon.rvs(size=1000, loc=mu, scale=sig)\n",
    "ax.hist(x_rv, density=True, histtype='stepfilled', alpha=0.2)\n",
    "\n",
    "#Define legend attributes and show figure\n",
    "ax.legend(loc='best', frameon=False)\n",
    "plt.show()"
   ]
  },
  {
   "cell_type": "code",
   "execution_count": null,
   "metadata": {},
   "outputs": [],
   "source": []
  }
 ],
 "metadata": {
  "kernelspec": {
   "display_name": "Python 3",
   "language": "python",
   "name": "python3"
  },
  "language_info": {
   "codemirror_mode": {
    "name": "ipython",
    "version": 3
   },
   "file_extension": ".py",
   "mimetype": "text/x-python",
   "name": "python",
   "nbconvert_exporter": "python",
   "pygments_lexer": "ipython3",
   "version": "3.8.5"
  },
  "toc": {
   "base_numbering": 1,
   "nav_menu": {},
   "number_sections": true,
   "sideBar": true,
   "skip_h1_title": false,
   "title_cell": "Table of Contents",
   "title_sidebar": "Contents",
   "toc_cell": false,
   "toc_position": {},
   "toc_section_display": true,
   "toc_window_display": true
  },
  "varInspector": {
   "cols": {
    "lenName": 16,
    "lenType": 16,
    "lenVar": 40
   },
   "kernels_config": {
    "python": {
     "delete_cmd_postfix": "",
     "delete_cmd_prefix": "del ",
     "library": "var_list.py",
     "varRefreshCmd": "print(var_dic_list())"
    },
    "r": {
     "delete_cmd_postfix": ") ",
     "delete_cmd_prefix": "rm(",
     "library": "var_list.r",
     "varRefreshCmd": "cat(var_dic_list()) "
    }
   },
   "types_to_exclude": [
    "module",
    "function",
    "builtin_function_or_method",
    "instance",
    "_Feature"
   ],
   "window_display": false
  }
 },
 "nbformat": 4,
 "nbformat_minor": 4
}
