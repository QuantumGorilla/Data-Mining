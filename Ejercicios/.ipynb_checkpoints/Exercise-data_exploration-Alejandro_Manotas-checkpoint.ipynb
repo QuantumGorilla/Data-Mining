{
 "cells": [
  {
   "cell_type": "code",
   "execution_count": 1,
   "metadata": {
    "executionInfo": {
     "elapsed": 1608,
     "status": "ok",
     "timestamp": 1612399495706,
     "user": {
      "displayName": "Alejandro Jesus Manotas Marmolejo",
      "photoUrl": "https://lh5.googleusercontent.com/-vMLLTpDXMZs/AAAAAAAAAAI/AAAAAAAAAUw/DG8Nc1hInwE/s64/photo.jpg",
      "userId": "01731353529927081390"
     },
     "user_tz": 300
    },
    "id": "Cxe5w0yreD4k"
   },
   "outputs": [],
   "source": [
    "#Import libraries\n",
    "import pandas as pd\n",
    "import matplotlib.pyplot as plt\n",
    "import seaborn as sns\n",
    "import numpy as np"
   ]
  },
  {
   "cell_type": "markdown",
   "metadata": {
    "id": "1hA0d2KHlT9w"
   },
   "source": [
    "# 1. Read csv"
   ]
  },
  {
   "cell_type": "code",
   "execution_count": 2,
   "metadata": {
    "colab": {
     "base_uri": "https://localhost:8080/",
     "height": 872
    },
    "executionInfo": {
     "elapsed": 1190,
     "status": "ok",
     "timestamp": 1612399718352,
     "user": {
      "displayName": "Alejandro Jesus Manotas Marmolejo",
      "photoUrl": "https://lh5.googleusercontent.com/-vMLLTpDXMZs/AAAAAAAAAAI/AAAAAAAAAUw/DG8Nc1hInwE/s64/photo.jpg",
      "userId": "01731353529927081390"
     },
     "user_tz": 300
    },
    "id": "LbpsnaKTexWx",
    "outputId": "b3ee2d4e-339a-491e-c259-b495739cc6fa"
   },
   "outputs": [
    {
     "data": {
      "text/html": [
       "<div>\n",
       "<style scoped>\n",
       "    .dataframe tbody tr th:only-of-type {\n",
       "        vertical-align: middle;\n",
       "    }\n",
       "\n",
       "    .dataframe tbody tr th {\n",
       "        vertical-align: top;\n",
       "    }\n",
       "\n",
       "    .dataframe thead th {\n",
       "        text-align: right;\n",
       "    }\n",
       "</style>\n",
       "<table border=\"1\" class=\"dataframe\">\n",
       "  <thead>\n",
       "    <tr style=\"text-align: right;\">\n",
       "      <th></th>\n",
       "      <th>id</th>\n",
       "      <th>name</th>\n",
       "      <th>host_id</th>\n",
       "      <th>host_name</th>\n",
       "      <th>neighbourhood_group</th>\n",
       "      <th>neighbourhood</th>\n",
       "      <th>latitude</th>\n",
       "      <th>longitude</th>\n",
       "      <th>room_type</th>\n",
       "      <th>price</th>\n",
       "      <th>minimum_nights</th>\n",
       "      <th>number_of_reviews</th>\n",
       "      <th>last_review</th>\n",
       "      <th>reviews_per_month</th>\n",
       "      <th>calculated_host_listings_count</th>\n",
       "      <th>availability_365</th>\n",
       "    </tr>\n",
       "  </thead>\n",
       "  <tbody>\n",
       "    <tr>\n",
       "      <th>48885</th>\n",
       "      <td>36482809</td>\n",
       "      <td>Stunning Bedroom NYC! Walking to Central Park!!</td>\n",
       "      <td>131529729</td>\n",
       "      <td>Kendall</td>\n",
       "      <td>Manhattan</td>\n",
       "      <td>East Harlem</td>\n",
       "      <td>40.79633</td>\n",
       "      <td>-73.93605</td>\n",
       "      <td>Private room</td>\n",
       "      <td>75</td>\n",
       "      <td>2</td>\n",
       "      <td>0</td>\n",
       "      <td>NaN</td>\n",
       "      <td>NaN</td>\n",
       "      <td>2</td>\n",
       "      <td>353</td>\n",
       "    </tr>\n",
       "    <tr>\n",
       "      <th>48886</th>\n",
       "      <td>36483010</td>\n",
       "      <td>Comfy 1 Bedroom in Midtown East</td>\n",
       "      <td>274311461</td>\n",
       "      <td>Scott</td>\n",
       "      <td>Manhattan</td>\n",
       "      <td>Midtown</td>\n",
       "      <td>40.75561</td>\n",
       "      <td>-73.96723</td>\n",
       "      <td>Entire home/apt</td>\n",
       "      <td>200</td>\n",
       "      <td>6</td>\n",
       "      <td>0</td>\n",
       "      <td>NaN</td>\n",
       "      <td>NaN</td>\n",
       "      <td>1</td>\n",
       "      <td>176</td>\n",
       "    </tr>\n",
       "    <tr>\n",
       "      <th>48887</th>\n",
       "      <td>36483152</td>\n",
       "      <td>Garden Jewel Apartment in Williamsburg New York</td>\n",
       "      <td>208514239</td>\n",
       "      <td>Melki</td>\n",
       "      <td>Brooklyn</td>\n",
       "      <td>Williamsburg</td>\n",
       "      <td>40.71232</td>\n",
       "      <td>-73.94220</td>\n",
       "      <td>Entire home/apt</td>\n",
       "      <td>170</td>\n",
       "      <td>1</td>\n",
       "      <td>0</td>\n",
       "      <td>NaN</td>\n",
       "      <td>NaN</td>\n",
       "      <td>3</td>\n",
       "      <td>365</td>\n",
       "    </tr>\n",
       "    <tr>\n",
       "      <th>48888</th>\n",
       "      <td>36484087</td>\n",
       "      <td>Spacious Room w/ Private Rooftop, Central loca...</td>\n",
       "      <td>274321313</td>\n",
       "      <td>Kat</td>\n",
       "      <td>Manhattan</td>\n",
       "      <td>Hell's Kitchen</td>\n",
       "      <td>40.76392</td>\n",
       "      <td>-73.99183</td>\n",
       "      <td>Private room</td>\n",
       "      <td>125</td>\n",
       "      <td>4</td>\n",
       "      <td>0</td>\n",
       "      <td>NaN</td>\n",
       "      <td>NaN</td>\n",
       "      <td>1</td>\n",
       "      <td>31</td>\n",
       "    </tr>\n",
       "    <tr>\n",
       "      <th>48889</th>\n",
       "      <td>36484363</td>\n",
       "      <td>QUIT PRIVATE HOUSE</td>\n",
       "      <td>107716952</td>\n",
       "      <td>Michael</td>\n",
       "      <td>Queens</td>\n",
       "      <td>Jamaica</td>\n",
       "      <td>40.69137</td>\n",
       "      <td>-73.80844</td>\n",
       "      <td>Private room</td>\n",
       "      <td>65</td>\n",
       "      <td>1</td>\n",
       "      <td>0</td>\n",
       "      <td>NaN</td>\n",
       "      <td>NaN</td>\n",
       "      <td>2</td>\n",
       "      <td>163</td>\n",
       "    </tr>\n",
       "    <tr>\n",
       "      <th>48890</th>\n",
       "      <td>36484665</td>\n",
       "      <td>Charming one bedroom - newly renovated rowhouse</td>\n",
       "      <td>8232441</td>\n",
       "      <td>Sabrina</td>\n",
       "      <td>Brooklyn</td>\n",
       "      <td>Bedford-Stuyvesant</td>\n",
       "      <td>40.67853</td>\n",
       "      <td>-73.94995</td>\n",
       "      <td>Private room</td>\n",
       "      <td>70</td>\n",
       "      <td>2</td>\n",
       "      <td>0</td>\n",
       "      <td>NaN</td>\n",
       "      <td>NaN</td>\n",
       "      <td>2</td>\n",
       "      <td>9</td>\n",
       "    </tr>\n",
       "    <tr>\n",
       "      <th>48891</th>\n",
       "      <td>36485057</td>\n",
       "      <td>Affordable room in Bushwick/East Williamsburg</td>\n",
       "      <td>6570630</td>\n",
       "      <td>Marisol</td>\n",
       "      <td>Brooklyn</td>\n",
       "      <td>Bushwick</td>\n",
       "      <td>40.70184</td>\n",
       "      <td>-73.93317</td>\n",
       "      <td>Private room</td>\n",
       "      <td>40</td>\n",
       "      <td>4</td>\n",
       "      <td>0</td>\n",
       "      <td>NaN</td>\n",
       "      <td>NaN</td>\n",
       "      <td>2</td>\n",
       "      <td>36</td>\n",
       "    </tr>\n",
       "    <tr>\n",
       "      <th>48892</th>\n",
       "      <td>36485431</td>\n",
       "      <td>Sunny Studio at Historical Neighborhood</td>\n",
       "      <td>23492952</td>\n",
       "      <td>Ilgar &amp; Aysel</td>\n",
       "      <td>Manhattan</td>\n",
       "      <td>Harlem</td>\n",
       "      <td>40.81475</td>\n",
       "      <td>-73.94867</td>\n",
       "      <td>Entire home/apt</td>\n",
       "      <td>115</td>\n",
       "      <td>10</td>\n",
       "      <td>0</td>\n",
       "      <td>NaN</td>\n",
       "      <td>NaN</td>\n",
       "      <td>1</td>\n",
       "      <td>27</td>\n",
       "    </tr>\n",
       "    <tr>\n",
       "      <th>48893</th>\n",
       "      <td>36485609</td>\n",
       "      <td>43rd St. Time Square-cozy single bed</td>\n",
       "      <td>30985759</td>\n",
       "      <td>Taz</td>\n",
       "      <td>Manhattan</td>\n",
       "      <td>Hell's Kitchen</td>\n",
       "      <td>40.75751</td>\n",
       "      <td>-73.99112</td>\n",
       "      <td>Shared room</td>\n",
       "      <td>55</td>\n",
       "      <td>1</td>\n",
       "      <td>0</td>\n",
       "      <td>NaN</td>\n",
       "      <td>NaN</td>\n",
       "      <td>6</td>\n",
       "      <td>2</td>\n",
       "    </tr>\n",
       "    <tr>\n",
       "      <th>48894</th>\n",
       "      <td>36487245</td>\n",
       "      <td>Trendy duplex in the very heart of Hell's Kitchen</td>\n",
       "      <td>68119814</td>\n",
       "      <td>Christophe</td>\n",
       "      <td>Manhattan</td>\n",
       "      <td>Hell's Kitchen</td>\n",
       "      <td>40.76404</td>\n",
       "      <td>-73.98933</td>\n",
       "      <td>Private room</td>\n",
       "      <td>90</td>\n",
       "      <td>7</td>\n",
       "      <td>0</td>\n",
       "      <td>NaN</td>\n",
       "      <td>NaN</td>\n",
       "      <td>1</td>\n",
       "      <td>23</td>\n",
       "    </tr>\n",
       "  </tbody>\n",
       "</table>\n",
       "</div>"
      ],
      "text/plain": [
       "             id                                               name    host_id  \\\n",
       "48885  36482809    Stunning Bedroom NYC! Walking to Central Park!!  131529729   \n",
       "48886  36483010                    Comfy 1 Bedroom in Midtown East  274311461   \n",
       "48887  36483152    Garden Jewel Apartment in Williamsburg New York  208514239   \n",
       "48888  36484087  Spacious Room w/ Private Rooftop, Central loca...  274321313   \n",
       "48889  36484363                                 QUIT PRIVATE HOUSE  107716952   \n",
       "48890  36484665    Charming one bedroom - newly renovated rowhouse    8232441   \n",
       "48891  36485057      Affordable room in Bushwick/East Williamsburg    6570630   \n",
       "48892  36485431            Sunny Studio at Historical Neighborhood   23492952   \n",
       "48893  36485609               43rd St. Time Square-cozy single bed   30985759   \n",
       "48894  36487245  Trendy duplex in the very heart of Hell's Kitchen   68119814   \n",
       "\n",
       "           host_name neighbourhood_group       neighbourhood  latitude  \\\n",
       "48885        Kendall           Manhattan         East Harlem  40.79633   \n",
       "48886          Scott           Manhattan             Midtown  40.75561   \n",
       "48887          Melki            Brooklyn        Williamsburg  40.71232   \n",
       "48888            Kat           Manhattan      Hell's Kitchen  40.76392   \n",
       "48889        Michael              Queens             Jamaica  40.69137   \n",
       "48890        Sabrina            Brooklyn  Bedford-Stuyvesant  40.67853   \n",
       "48891        Marisol            Brooklyn            Bushwick  40.70184   \n",
       "48892  Ilgar & Aysel           Manhattan              Harlem  40.81475   \n",
       "48893            Taz           Manhattan      Hell's Kitchen  40.75751   \n",
       "48894     Christophe           Manhattan      Hell's Kitchen  40.76404   \n",
       "\n",
       "       longitude        room_type  price  minimum_nights  number_of_reviews  \\\n",
       "48885  -73.93605     Private room     75               2                  0   \n",
       "48886  -73.96723  Entire home/apt    200               6                  0   \n",
       "48887  -73.94220  Entire home/apt    170               1                  0   \n",
       "48888  -73.99183     Private room    125               4                  0   \n",
       "48889  -73.80844     Private room     65               1                  0   \n",
       "48890  -73.94995     Private room     70               2                  0   \n",
       "48891  -73.93317     Private room     40               4                  0   \n",
       "48892  -73.94867  Entire home/apt    115              10                  0   \n",
       "48893  -73.99112      Shared room     55               1                  0   \n",
       "48894  -73.98933     Private room     90               7                  0   \n",
       "\n",
       "      last_review  reviews_per_month  calculated_host_listings_count  \\\n",
       "48885         NaN                NaN                               2   \n",
       "48886         NaN                NaN                               1   \n",
       "48887         NaN                NaN                               3   \n",
       "48888         NaN                NaN                               1   \n",
       "48889         NaN                NaN                               2   \n",
       "48890         NaN                NaN                               2   \n",
       "48891         NaN                NaN                               2   \n",
       "48892         NaN                NaN                               1   \n",
       "48893         NaN                NaN                               6   \n",
       "48894         NaN                NaN                               1   \n",
       "\n",
       "       availability_365  \n",
       "48885               353  \n",
       "48886               176  \n",
       "48887               365  \n",
       "48888                31  \n",
       "48889               163  \n",
       "48890                 9  \n",
       "48891                36  \n",
       "48892                27  \n",
       "48893                 2  \n",
       "48894                23  "
      ]
     },
     "execution_count": 2,
     "metadata": {},
     "output_type": "execute_result"
    }
   ],
   "source": [
    "#Read csv\n",
    "airbnb = pd.read_csv('AB_NYC_2019.csv')\n",
    "\n",
    "#Show the last 10 rows\n",
    "airbnb.tail(10)"
   ]
  },
  {
   "cell_type": "code",
   "execution_count": 3,
   "metadata": {
    "colab": {
     "base_uri": "https://localhost:8080/"
    },
    "executionInfo": {
     "elapsed": 542,
     "status": "ok",
     "timestamp": 1612399778530,
     "user": {
      "displayName": "Alejandro Jesus Manotas Marmolejo",
      "photoUrl": "https://lh5.googleusercontent.com/-vMLLTpDXMZs/AAAAAAAAAAI/AAAAAAAAAUw/DG8Nc1hInwE/s64/photo.jpg",
      "userId": "01731353529927081390"
     },
     "user_tz": 300
    },
    "id": "KmsPBrjgg5Yr",
    "outputId": "e3fd43a1-e858-4f79-f310-1e84378e6619"
   },
   "outputs": [
    {
     "data": {
      "text/plain": [
       "array(['Private room', 'Entire home/apt', 'Shared room'], dtype=object)"
      ]
     },
     "execution_count": 3,
     "metadata": {},
     "output_type": "execute_result"
    }
   ],
   "source": [
    "#Show unique room type values and counts for each room type\n",
    "airbnb.room_type.unique()"
   ]
  },
  {
   "cell_type": "code",
   "execution_count": 4,
   "metadata": {
    "colab": {
     "base_uri": "https://localhost:8080/"
    },
    "executionInfo": {
     "elapsed": 577,
     "status": "ok",
     "timestamp": 1612399847979,
     "user": {
      "displayName": "Alejandro Jesus Manotas Marmolejo",
      "photoUrl": "https://lh5.googleusercontent.com/-vMLLTpDXMZs/AAAAAAAAAAI/AAAAAAAAAUw/DG8Nc1hInwE/s64/photo.jpg",
      "userId": "01731353529927081390"
     },
     "user_tz": 300
    },
    "id": "dpbDZ84ihFMP",
    "outputId": "52a07f4d-6886-40ce-9b30-43fe21f5c17c"
   },
   "outputs": [
    {
     "data": {
      "text/plain": [
       "Entire home/apt    25409\n",
       "Private room       22326\n",
       "Shared room         1160\n",
       "Name: room_type, dtype: int64"
      ]
     },
     "execution_count": 4,
     "metadata": {},
     "output_type": "execute_result"
    }
   ],
   "source": [
    "airbnb['room_type'].value_counts()"
   ]
  },
  {
   "cell_type": "markdown",
   "metadata": {
    "id": "EaqdF8rzlbah"
   },
   "source": [
    "# 2. Histogram based on price"
   ]
  },
  {
   "cell_type": "code",
   "execution_count": 5,
   "metadata": {
    "colab": {
     "base_uri": "https://localhost:8080/",
     "height": 279
    },
    "executionInfo": {
     "elapsed": 505,
     "status": "ok",
     "timestamp": 1612400319986,
     "user": {
      "displayName": "Alejandro Jesus Manotas Marmolejo",
      "photoUrl": "https://lh5.googleusercontent.com/-vMLLTpDXMZs/AAAAAAAAAAI/AAAAAAAAAUw/DG8Nc1hInwE/s64/photo.jpg",
      "userId": "01731353529927081390"
     },
     "user_tz": 300
    },
    "id": "7Yh6lcAJhbla",
    "outputId": "4ec6ebb1-89b1-4197-8351-805e78196b13"
   },
   "outputs": [
    {
     "data": {
      "image/png": "[encoded data removed]",
      "text/plain": [
       "<Figure size 432x288 with 1 Axes>"
      ]
     },
     "metadata": {
      "needs_background": "light"
     },
     "output_type": "display_data"
    }
   ],
   "source": [
    "#Histogram based on price\n",
    "price_hist = plt.hist(airbnb['price'])\n",
    "price_hist = plt.xlabel('Price')\n",
    "price_hist = plt.ylabel('Observations')\n",
    "plt.show()"
   ]
  },
  {
   "cell_type": "markdown",
   "metadata": {
    "id": "qmtaQWHElelO"
   },
   "source": [
    "# 3. Histogram based on room type"
   ]
  },
  {
   "cell_type": "code",
   "execution_count": 6,
   "metadata": {
    "colab": {
     "base_uri": "https://localhost:8080/",
     "height": 279
    },
    "executionInfo": {
     "elapsed": 617,
     "status": "ok",
     "timestamp": 1612400346389,
     "user": {
      "displayName": "Alejandro Jesus Manotas Marmolejo",
      "photoUrl": "https://lh5.googleusercontent.com/-vMLLTpDXMZs/AAAAAAAAAAI/AAAAAAAAAUw/DG8Nc1hInwE/s64/photo.jpg",
      "userId": "01731353529927081390"
     },
     "user_tz": 300
    },
    "id": "u5sQiSBvjBsW",
    "outputId": "868fc54b-9da2-4e78-80d7-95087558a6b2"
   },
   "outputs": [
    {
     "data": {
      "image/png": "[encoded data removed]",
      "text/plain": [
       "<Figure size 432x288 with 1 Axes>"
      ]
     },
     "metadata": {
      "needs_background": "light"
     },
     "output_type": "display_data"
    }
   ],
   "source": [
    "#Histogram based on room type\n",
    "price_hist = plt.hist(airbnb['room_type'])\n",
    "price_hist = plt.xlabel('Room type')\n",
    "price_hist = plt.ylabel('Observations')\n",
    "plt.show()"
   ]
  },
  {
   "cell_type": "markdown",
   "metadata": {
    "id": "yiIis1kzlnfs"
   },
   "source": [
    "# 4. Scatter plot"
   ]
  },
  {
   "cell_type": "code",
   "execution_count": 7,
   "metadata": {
    "colab": {
     "base_uri": "https://localhost:8080/",
     "height": 265
    },
    "executionInfo": {
     "elapsed": 772,
     "status": "ok",
     "timestamp": 1612400755761,
     "user": {
      "displayName": "Alejandro Jesus Manotas Marmolejo",
      "photoUrl": "https://lh5.googleusercontent.com/-vMLLTpDXMZs/AAAAAAAAAAI/AAAAAAAAAUw/DG8Nc1hInwE/s64/photo.jpg",
      "userId": "01731353529927081390"
     },
     "user_tz": 300
    },
    "id": "ROkHht-DjNVP",
    "outputId": "029071f9-49fa-4181-abd7-d8013e2246b8"
   },
   "outputs": [
    {
     "data": {
      "image/png": "[encoded data removed]",
      "text/plain": [
       "<Figure size 432x288 with 1 Axes>"
      ]
     },
     "metadata": {
      "needs_background": "light"
     },
     "output_type": "display_data"
    }
   ],
   "source": [
    "#Scatter plot of prices and number of reviews by neighborhood group\n",
    "plt.scatter(airbnb['price'], airbnb['number_of_reviews'], label='Scatter plot', color='green', marker='o')\n",
    "plt.show()"
   ]
  },
  {
   "cell_type": "markdown",
   "metadata": {
    "id": "pQTr0O6ClqUK"
   },
   "source": [
    "# 5. Boxplot"
   ]
  },
  {
   "cell_type": "code",
   "execution_count": 8,
   "metadata": {
    "colab": {
     "base_uri": "https://localhost:8080/",
     "height": 279
    },
    "executionInfo": {
     "elapsed": 524,
     "status": "ok",
     "timestamp": 1612400688270,
     "user": {
      "displayName": "Alejandro Jesus Manotas Marmolejo",
      "photoUrl": "https://lh5.googleusercontent.com/-vMLLTpDXMZs/AAAAAAAAAAI/AAAAAAAAAUw/DG8Nc1hInwE/s64/photo.jpg",
      "userId": "01731353529927081390"
     },
     "user_tz": 300
    },
    "id": "9kcgpEICj-QJ",
    "outputId": "c963ee0c-74d6-4093-c337-2067480d722d"
   },
   "outputs": [
    {
     "data": {
      "image/png": "[encoded data removed]",
      "text/plain": [
       "<Figure size 432x288 with 1 Axes>"
      ]
     },
     "metadata": {
      "needs_background": "light"
     },
     "output_type": "display_data"
    }
   ],
   "source": [
    "#Boxplot of prices by room type\n",
    "sns.boxplot(x='price', y='room_type', data=airbnb)\n",
    "plt.show()"
   ]
  },
  {
   "cell_type": "markdown",
   "metadata": {
    "id": "SEWu703hl6-M"
   },
   "source": [
    "# 6. Question"
   ]
  },
  {
   "cell_type": "code",
   "execution_count": 9,
   "metadata": {
    "colab": {
     "base_uri": "https://localhost:8080/"
    },
    "executionInfo": {
     "elapsed": 559,
     "status": "ok",
     "timestamp": 1612401367738,
     "user": {
      "displayName": "Alejandro Jesus Manotas Marmolejo",
      "photoUrl": "https://lh5.googleusercontent.com/-vMLLTpDXMZs/AAAAAAAAAAI/AAAAAAAAAUw/DG8Nc1hInwE/s64/photo.jpg",
      "userId": "01731353529927081390"
     },
     "user_tz": 300
    },
    "id": "D6X1tKbtlQPt",
    "outputId": "6ed2b855-400e-4bbe-a46a-da41ef871797"
   },
   "outputs": [
    {
     "name": "stdout",
     "output_type": "stream",
     "text": [
      "-0.047954226582662296\n"
     ]
    }
   ],
   "source": [
    "#Is there a strong correlation between the price and the number of reviews ?\n",
    "def pearson_r(x,y):\n",
    "  corr_mat = np.corrcoef(x,y)\n",
    "  return corr_mat[0,1]\n",
    "\n",
    "r = pearson_r(airbnb['price'], airbnb['number_of_reviews'])\n",
    "print(r)"
   ]
  },
  {
   "cell_type": "code",
   "execution_count": 10,
   "metadata": {
    "colab": {
     "base_uri": "https://localhost:8080/",
     "height": 411
    },
    "executionInfo": {
     "elapsed": 831,
     "status": "ok",
     "timestamp": 1612401546493,
     "user": {
      "displayName": "Alejandro Jesus Manotas Marmolejo",
      "photoUrl": "https://lh5.googleusercontent.com/-vMLLTpDXMZs/AAAAAAAAAAI/AAAAAAAAAUw/DG8Nc1hInwE/s64/photo.jpg",
      "userId": "01731353529927081390"
     },
     "user_tz": 300
    },
    "id": "O8YG12NgnS9x",
    "outputId": "d1e62fb6-a4b7-49e7-c66d-7d8eedf8e2e5"
   },
   "outputs": [
    {
     "data": {
      "image/png": "[encoded data removed]",
      "text/plain": [
       "<Figure size 432x288 with 2 Axes>"
      ]
     },
     "metadata": {
      "needs_background": "light"
     },
     "output_type": "display_data"
    }
   ],
   "source": [
    "correlation = airbnb.corr()\n",
    "sns.heatmap(correlation)\n",
    "plt.show()"
   ]
  },
  {
   "cell_type": "markdown",
   "metadata": {
    "id": "WCZXIevioK1c"
   },
   "source": [
    "El calculo de la correlación de Pearson nos muestra una correlación negativa lo que indica que entre las dos variables no hay una fuerte correlación, se mueven en direcciones opuestas, en el mapa de calor también observamos que presenta un color oscuro lo que respalda la idea de que no presenta una correlación fuerte."
   ]
  }
 ],
 "metadata": {
  "colab": {
   "authorship_tag": "ABX9TyON2otgg5y53ELaLIYX319D",
   "name": "Exercise-data_exploration-Alejandro_Manotas.ipynb",
   "provenance": []
  },
  "kernelspec": {
   "display_name": "Python 3",
   "language": "python",
   "name": "python3"
  },
  "language_info": {
   "codemirror_mode": {
    "name": "ipython",
    "version": 3
   },
   "file_extension": ".py",
   "mimetype": "text/x-python",
   "name": "python",
   "nbconvert_exporter": "python",
   "pygments_lexer": "ipython3",
   "version": "3.8.5"
  }
 },
 "nbformat": 4,
 "nbformat_minor": 1
}
