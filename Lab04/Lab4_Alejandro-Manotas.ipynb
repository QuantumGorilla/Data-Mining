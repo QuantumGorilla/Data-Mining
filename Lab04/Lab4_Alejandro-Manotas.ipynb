{
 "cells": [
  {
   "cell_type": "markdown",
   "metadata": {
    "id": "ymkvua1pjept"
   },
   "source": [
    "# Laboratorio 4 \n",
    "## Nombre: Alejandro Jesús Manotas Marmolejo\n",
    "\n",
    "## Código: 200108289\n",
    "\n",
    "\n",
    "---\n",
    "\n"
   ]
  },
  {
   "cell_type": "markdown",
   "metadata": {
    "id": "mg1OlWWz56Lt"
   },
   "source": [
    "# 1. Monte Carlo Simulations\n",
    "\n",
    "---\n",
    "\n"
   ]
  },
  {
   "cell_type": "code",
   "execution_count": 2,
   "metadata": {
    "executionInfo": {
     "elapsed": 573,
     "status": "ok",
     "timestamp": 1616292387062,
     "user": {
      "displayName": "Alejandro Jesús Manotas Marmolejo",
      "photoUrl": "https://lh3.googleusercontent.com/a-/AOh14GiBMbRcpANQzZvYJ9LWzVxvD9qatNblJ2V0VdIvH6s=s64",
      "userId": "03263816449986361555"
     },
     "user_tz": 300
    },
    "id": "da7lJlKC56tU"
   },
   "outputs": [],
   "source": [
    "#Imports\n",
    "import numpy as np\n",
    "from scipy.stats import uniform\n",
    "import matplotlib.pyplot as plt\n",
    "import random\n",
    "\n",
    "%matplotlib inline\n",
    "plt.rcParams['figure.figsize'] = (17.0, 4.0)"
   ]
  },
  {
   "cell_type": "code",
   "execution_count": 3,
   "metadata": {
    "executionInfo": {
     "elapsed": 549,
     "status": "ok",
     "timestamp": 1616292390645,
     "user": {
      "displayName": "Alejandro Jesús Manotas Marmolejo",
      "photoUrl": "https://lh3.googleusercontent.com/a-/AOh14GiBMbRcpANQzZvYJ9LWzVxvD9qatNblJ2V0VdIvH6s=s64",
      "userId": "03263816449986361555"
     },
     "user_tz": 300
    },
    "id": "OjRoSOsQ8cOa"
   },
   "outputs": [],
   "source": [
    "#Random launches between 1 and 100\n",
    "def launch():\n",
    "    choose = random.randint(0,1) #Number that the player chooses, 0 = player chooses even number, 1 = player chooses odd number\n",
    "    num = random.randint(1,100) #Number picked from the bag\n",
    "    even = [45, 47, 49, 51, 53, 55]\n",
    "    odd = [46, 48, 50, 52, 54]\n",
    "    if choose == 0 and num in even:\n",
    "      return True\n",
    "    elif choose == 1 and num in odd:\n",
    "      return True\n",
    "    elif choose == 0 and num % 2 == 0 and num not in odd:\n",
    "      return True\n",
    "    elif choose == 1 and num % 2 != 0 and num not in even:\n",
    "      return True\n",
    "    else:\n",
    "      return False"
   ]
  },
  {
   "cell_type": "code",
   "execution_count": 4,
   "metadata": {
    "executionInfo": {
     "elapsed": 538,
     "status": "ok",
     "timestamp": 1616292393210,
     "user": {
      "displayName": "Alejandro Jesús Manotas Marmolejo",
      "photoUrl": "https://lh3.googleusercontent.com/a-/AOh14GiBMbRcpANQzZvYJ9LWzVxvD9qatNblJ2V0VdIvH6s=s64",
      "userId": "03263816449986361555"
     },
     "user_tz": 300
    },
    "id": "KnfP5A2LBJcl"
   },
   "outputs": [],
   "source": [
    "#x= Numbers of bets in a simulation, money= Money to start with, bet_mount = What is gained/lost, mounts = Stores all the amounts that are being taken by simulation\n",
    "def bet(x,money,bet_mount,mounts):\n",
    "    temp = money\n",
    "    for i in range(x):\n",
    "        if launch():\n",
    "            temp += bet_mount\n",
    "        else:\n",
    "            temp -= bet_mount\n",
    "    mounts.append(temp)\n",
    "    return mounts"
   ]
  },
  {
   "cell_type": "code",
   "execution_count": 6,
   "metadata": {
    "colab": {
     "base_uri": "https://localhost:8080/",
     "height": 282
    },
    "executionInfo": {
     "elapsed": 1501,
     "status": "ok",
     "timestamp": 1616292401613,
     "user": {
      "displayName": "Alejandro Jesús Manotas Marmolejo",
      "photoUrl": "https://lh3.googleusercontent.com/a-/AOh14GiBMbRcpANQzZvYJ9LWzVxvD9qatNblJ2V0VdIvH6s=s64",
      "userId": "03263816449986361555"
     },
     "user_tz": 300
    },
    "id": "WotxBRvuBNQl",
    "outputId": "fc1965bd-bdde-428b-d1da-6d0ee413553e"
   },
   "outputs": [
    {
     "data": {
      "image/png": "[encoded data removed]",
      "text/plain": [
       "<Figure size 1224x288 with 1 Axes>"
      ]
     },
     "metadata": {
      "needs_background": "light",
      "tags": []
     },
     "output_type": "display_data"
    }
   ],
   "source": [
    "n_attempts = random.randint(0,1000) #Number of bets\n",
    "mounts = []\n",
    "attempts_simulations = [] #Number of simulations in a bet\n",
    "\n",
    "\n",
    "for i in range(n_attempts):\n",
    "  attempts_simulations.append(random.randint(0,1000))\n",
    "\n",
    "#Calling bet function\n",
    "for i in attempts_simulations:\n",
    "   bet(i,5000,50,mounts)\n",
    "\n",
    "\n",
    "#Graph of the number of bets vs. total money\n",
    "fig,ax = plt.subplots(1,1)\n",
    "ax.set_xlabel(\"Number of bets\")\n",
    "ax.set_ylabel(\"Total money\")\n",
    "ax.plot(attempts_simulations, mounts,'co')\n",
    "plt.show()"
   ]
  },
  {
   "cell_type": "markdown",
   "metadata": {
    "id": "jekY8-VeUaA7"
   },
   "source": [
    "De la gráfica podemos concluir que el jugador son pocas las veces que llega a perder todo el dinero así como también pocas las veces en las que llega a tener mucho más que con lo que empezó, en la mayoría de simulaciones siempre se encuentra en un rango entre 3500 y 6000 aproximadamente."
   ]
  },
  {
   "cell_type": "markdown",
   "metadata": {
    "id": "G0-bY7SQNu8u"
   },
   "source": [
    "# 2. Markov Chains\n",
    "\n",
    "---\n",
    "\n"
   ]
  },
  {
   "cell_type": "code",
   "execution_count": 7,
   "metadata": {
    "executionInfo": {
     "elapsed": 548,
     "status": "ok",
     "timestamp": 1616292413674,
     "user": {
      "displayName": "Alejandro Jesús Manotas Marmolejo",
      "photoUrl": "https://lh3.googleusercontent.com/a-/AOh14GiBMbRcpANQzZvYJ9LWzVxvD9qatNblJ2V0VdIvH6s=s64",
      "userId": "03263816449986361555"
     },
     "user_tz": 300
    },
    "id": "InFS0ecm6oJw"
   },
   "outputs": [],
   "source": [
    "#Import libraries\n",
    "import numpy as np\n",
    "import random as rm\n",
    "import pandas as pd\n",
    "from matplotlib import pyplot as plt"
   ]
  },
  {
   "cell_type": "code",
   "execution_count": 8,
   "metadata": {
    "executionInfo": {
     "elapsed": 571,
     "status": "ok",
     "timestamp": 1616292415406,
     "user": {
      "displayName": "Alejandro Jesús Manotas Marmolejo",
      "photoUrl": "https://lh3.googleusercontent.com/a-/AOh14GiBMbRcpANQzZvYJ9LWzVxvD9qatNblJ2V0VdIvH6s=s64",
      "userId": "03263816449986361555"
     },
     "user_tz": 300
    },
    "id": "UegaSKPTtZkH"
   },
   "outputs": [],
   "source": [
    "#The state space\n",
    "states = [\"NET\", \"DIS\", \"HBO\", \"HUL\"]\n",
    "\n",
    "#PTM\n",
    "P = [[0.25, 0.25, 0.25,0.25], \n",
    "     [0.3, 0.4, 0.1,0.2], \n",
    "     [0.5, 0.2, 0.1,0.2],\n",
    "     [0.3,0.15,0.3,0.25]]"
   ]
  },
  {
   "cell_type": "code",
   "execution_count": 9,
   "metadata": {
    "colab": {
     "base_uri": "https://localhost:8080/",
     "height": 265
    },
    "executionInfo": {
     "elapsed": 812,
     "status": "ok",
     "timestamp": 1616292423084,
     "user": {
      "displayName": "Alejandro Jesús Manotas Marmolejo",
      "photoUrl": "https://lh3.googleusercontent.com/a-/AOh14GiBMbRcpANQzZvYJ9LWzVxvD9qatNblJ2V0VdIvH6s=s64",
      "userId": "03263816449986361555"
     },
     "user_tz": 300
    },
    "id": "yDtP-OCJt_Yr",
    "outputId": "481e6fe0-9eae-47b4-cb70-376b3599e081"
   },
   "outputs": [
    {
     "data": {
      "image/png": "[encoded data removed]",
      "text/plain": [
       "<Figure size 1224x288 with 1 Axes>"
      ]
     },
     "metadata": {
      "needs_background": "light",
      "tags": []
     },
     "output_type": "display_data"
    }
   ],
   "source": [
    "state = np.array([[0.5, 0.1, 0.3, 0.1]])\n",
    "stateHist = state\n",
    "dfStateHist = pd.DataFrame(state)\n",
    "\n",
    "for x in range(100):\n",
    "  state = np.dot(state, P)\n",
    "  stateHist = np.append(stateHist, state, axis=0)\n",
    "\n",
    "dfDiststrHist = pd.DataFrame(stateHist, columns=states)\n",
    "dfDiststrHist.plot()\n",
    "plt.show()"
   ]
  },
  {
   "cell_type": "markdown",
   "metadata": {
    "id": "WioWNEWEW7bQ"
   },
   "source": [
    "# 3. Markov Chains\n",
    "\n",
    "---\n",
    "\n"
   ]
  },
  {
   "cell_type": "code",
   "execution_count": 10,
   "metadata": {
    "executionInfo": {
     "elapsed": 534,
     "status": "ok",
     "timestamp": 1616292427357,
     "user": {
      "displayName": "Alejandro Jesús Manotas Marmolejo",
      "photoUrl": "https://lh3.googleusercontent.com/a-/AOh14GiBMbRcpANQzZvYJ9LWzVxvD9qatNblJ2V0VdIvH6s=s64",
      "userId": "03263816449986361555"
     },
     "user_tz": 300
    },
    "id": "AumuVBRgWOAX"
   },
   "outputs": [],
   "source": [
    "#Imports\n",
    "import numpy as np\n",
    "import random as rm"
   ]
  },
  {
   "cell_type": "code",
   "execution_count": 11,
   "metadata": {
    "colab": {
     "base_uri": "https://localhost:8080/"
    },
    "executionInfo": {
     "elapsed": 540,
     "status": "ok",
     "timestamp": 1616292430742,
     "user": {
      "displayName": "Alejandro Jesús Manotas Marmolejo",
      "photoUrl": "https://lh3.googleusercontent.com/a-/AOh14GiBMbRcpANQzZvYJ9LWzVxvD9qatNblJ2V0VdIvH6s=s64",
      "userId": "03263816449986361555"
     },
     "user_tz": 300
    },
    "id": "4g9CeAaVQyUr",
    "outputId": "66adeb9c-c990-4b6f-93da-947ca1b11ed7"
   },
   "outputs": [
    {
     "name": "stdout",
     "output_type": "stream",
     "text": [
      "Transition matrix: ok\n"
     ]
    }
   ],
   "source": [
    "#The states\n",
    "states = [\"Thank\",\"you\",\"for\",\"your\",\"help\",\"all\",\"assistance\",\"everything\",\"end\"]\n",
    "\n",
    "#States that may appear\n",
    "#TY = Thank you, YF = You for, YE = You end, FY = For your, FA = For all, FE = For everyhing\n",
    "#YH = Your help, YA = Your asssistance, HE = Help end, AY = All your\n",
    "#AE = Assistance end, EE = Everything end\n",
    "transitionName = [['','TY','','','','','','',''], ['','','YF','','','','','','YE'], ['','','','FY','','FA','','FE',''],\n",
    "                  ['','','','','YH','','YA','',''], ['','','','','','','','','HE'], ['','','','AY','','','','',''],\n",
    "                  ['','','','','','','','','AE'], ['','','','','','','','','EE'], ['','','','','','','','','EE']]\n",
    "\n",
    "#Probability of the states\n",
    "transitionMatrix =  [[0,1,0,0,0,0,0,0,0],\n",
    "                    [0,0,0.8,0,0,0,0,0,0.2],\n",
    "                    [0,0,0,0.5,0,0.25,0,0.25,0],\n",
    "                    [0,0,0,0,0.66,0,0.34,0,0],\n",
    "                    [0,0,0,0,0,0,0,0,1],\n",
    "                    [0,0,0,1,0,0,0,0,0],\n",
    "                    [0,0,0,0,0,0,0,0,1],\n",
    "                    [0,0,0,0,0,0,0,0,1],\n",
    "                    [0,0,0,0,0,0,0,0,1]]\n",
    "\n",
    "#Validate that the matrix is well defined.\n",
    "total = 0\n",
    "for i in range(9):\n",
    "  total += sum(transitionMatrix[i])\n",
    "\n",
    "if total != 9:\n",
    "  print(\"Error in transition matrix\")\n",
    "else: \n",
    "  print(\"Transition matrix: ok\")"
   ]
  },
  {
   "cell_type": "code",
   "execution_count": 12,
   "metadata": {
    "colab": {
     "base_uri": "https://localhost:8080/"
    },
    "executionInfo": {
     "elapsed": 529,
     "status": "ok",
     "timestamp": 1616292437623,
     "user": {
      "displayName": "Alejandro Jesús Manotas Marmolejo",
      "photoUrl": "https://lh3.googleusercontent.com/a-/AOh14GiBMbRcpANQzZvYJ9LWzVxvD9qatNblJ2V0VdIvH6s=s64",
      "userId": "03263816449986361555"
     },
     "user_tz": 300
    },
    "id": "ksTJi7UTWy6E",
    "outputId": "a65590d1-1264-4d09-ebe4-efc5f43fe168"
   },
   "outputs": [
    {
     "data": {
      "text/plain": [
       "['Thank', 'you', 'for', 'everything', 'end']"
      ]
     },
     "execution_count": 12,
     "metadata": {
      "tags": []
     },
     "output_type": "execute_result"
    }
   ],
   "source": [
    "def sentences():\n",
    "  word = \"Thank\"\n",
    "  word_list = [word]\n",
    "  while word != \"end\":\n",
    "    if word == \"Thank\":\n",
    "      change = np.random.choice(transitionName[0],replace=True,p=transitionMatrix[0])\n",
    "      if change == \"TY\":\n",
    "          word = \"you\"\n",
    "          word_list.append(\"you\")\n",
    "          continue\n",
    "    elif word == \"you\":\n",
    "      change = np.random.choice(transitionName[1],replace=True,p=transitionMatrix[1])\n",
    "      if change == \"YF\":\n",
    "        word = \"for\"\n",
    "        word_list.append(\"for\")\n",
    "        continue\n",
    "      elif change == \"YE\":\n",
    "        word = \"end\" \n",
    "        word_list.append(\"end\")\n",
    "    elif word == \"for\":\n",
    "      change = np.random.choice(transitionName[2],replace=True,p=transitionMatrix[2])\n",
    "      if change == \"FY\":\n",
    "        word = \"your\"\n",
    "        word_list.append(\"your\")\n",
    "        continue\n",
    "      elif change == \"FA\":\n",
    "        word = \"all\"\n",
    "        word_list.append(\"all\")\n",
    "      elif change == \"FE\":\n",
    "        word = \"everything\"\n",
    "        word_list.append(\"everything\")\n",
    "    elif word == \"your\":\n",
    "      change = np.random.choice(transitionName[3],replace=True,p=transitionMatrix[3])\n",
    "      if change == \"YH\":\n",
    "        word = \"help\"\n",
    "        word_list.append(\"help\")\n",
    "        continue\n",
    "      elif change == \"YA\":\n",
    "        word = \"assistance\"\n",
    "        word_list.append(\"assistance\")\n",
    "    elif word == \"help\":\n",
    "      change = np.random.choice(transitionName[4],replace=True,p=transitionMatrix[4])\n",
    "      if change == \"HE\":\n",
    "        word = \"end\"\n",
    "        word_list.append(\"end\")\n",
    "        continue\n",
    "    elif word == \"all\":\n",
    "      change = np.random.choice(transitionName[5],replace=True,p=transitionMatrix[5])\n",
    "      if change == \"AY\":\n",
    "        word = \"your\"\n",
    "        word_list.append(\"your\")\n",
    "        continue\n",
    "    elif word == \"assistance\":\n",
    "      change = np.random.choice(transitionName[6],replace=True,p=transitionMatrix[6])\n",
    "      if change == \"AE\":\n",
    "        word = \"end\"\n",
    "        word_list.append(\"end\")\n",
    "        continue\n",
    "    elif word == \"everything\":\n",
    "      change = np.random.choice(transitionName[7],replace=True,p=transitionMatrix[7])\n",
    "      if change == \"EE\":\n",
    "        word = \"end\"\n",
    "        word_list.append(\"end\")\n",
    "        continue\n",
    "    elif word == \"end\":\n",
    "      change = np.random.choice(transitionName[8],replace=True,p=transitionMatrix[8])\n",
    "      if change == \"EE\":\n",
    "        word = \"end\"\n",
    "        word_list.append(\"end\")\n",
    "        continue\n",
    "  return word_list\n",
    "\n",
    "sentences()"
   ]
  },
  {
   "cell_type": "code",
   "execution_count": 13,
   "metadata": {
    "colab": {
     "base_uri": "https://localhost:8080/"
    },
    "executionInfo": {
     "elapsed": 12511,
     "status": "ok",
     "timestamp": 1616292453975,
     "user": {
      "displayName": "Alejandro Jesús Manotas Marmolejo",
      "photoUrl": "https://lh3.googleusercontent.com/a-/AOh14GiBMbRcpANQzZvYJ9LWzVxvD9qatNblJ2V0VdIvH6s=s64",
      "userId": "03263816449986361555"
     },
     "user_tz": 300
    },
    "id": "MBNll8LBWzxN",
    "outputId": "a47a58ec-8a07-4281-dfec-b796af74e442"
   },
   "outputs": [
    {
     "name": "stdout",
     "output_type": "stream",
     "text": [
      "19.858\n"
     ]
    }
   ],
   "source": [
    "#Sentences list\n",
    "count = 0\n",
    "sentences_list = []\n",
    "times = 100000\n",
    "\n",
    "#We get all sentences after calling n - times the function\n",
    "for iterations in range(1,times):\n",
    "        sentences_list.append(sentences())\n",
    "        \n",
    "#We get the ones starting with \"thank\" and the penultimate is \"you\"\n",
    "for smaller_list in sentences_list:\n",
    "    if smaller_list[0] == \"Thank\" and smaller_list[-2] == \"you\":\n",
    "        count += 1\n",
    "\n",
    "print((count/times) * 100)"
   ]
  },
  {
   "cell_type": "markdown",
   "metadata": {
    "id": "B40R4ySekI8U"
   },
   "source": [
    "Probability of \"Thank you\" is 19.858%"
   ]
  },
  {
   "cell_type": "markdown",
   "metadata": {
    "id": "O7GR12OtXHtx"
   },
   "source": [
    "# 4. MCMC\n",
    "\n",
    "---\n",
    "\n"
   ]
  },
  {
   "cell_type": "markdown",
   "metadata": {
    "id": "TXBeJE8sXbPO"
   },
   "source": [
    "## $f(x) = \\frac{1}{1+e^{\\beta t + \\alpha}}$"
   ]
  },
  {
   "cell_type": "code",
   "execution_count": 14,
   "metadata": {
    "executionInfo": {
     "elapsed": 520,
     "status": "ok",
     "timestamp": 1616292519881,
     "user": {
      "displayName": "Alejandro Jesús Manotas Marmolejo",
      "photoUrl": "https://lh3.googleusercontent.com/a-/AOh14GiBMbRcpANQzZvYJ9LWzVxvD9qatNblJ2V0VdIvH6s=s64",
      "userId": "03263816449986361555"
     },
     "user_tz": 300
    },
    "id": "0jSvAN8SXWT7"
   },
   "outputs": [],
   "source": [
    "#Imports\n",
    "import random\n",
    "import math\n",
    "import numpy as np\n",
    "import pylab as pl\n",
    "import pandas as pd\n",
    "import scipy.special as ss\n",
    "from scipy.stats import gamma\n",
    "\n",
    "%matplotlib inline\n",
    "pl.rcParams['figure.figsize'] = (17.0, 4.0)"
   ]
  },
  {
   "cell_type": "code",
   "execution_count": 15,
   "metadata": {
    "executionInfo": {
     "elapsed": 532,
     "status": "ok",
     "timestamp": 1616292521841,
     "user": {
      "displayName": "Alejandro Jesús Manotas Marmolejo",
      "photoUrl": "https://lh3.googleusercontent.com/a-/AOh14GiBMbRcpANQzZvYJ9LWzVxvD9qatNblJ2V0VdIvH6s=s64",
      "userId": "03263816449986361555"
     },
     "user_tz": 300
    },
    "id": "wd2diH35Xv6r"
   },
   "outputs": [],
   "source": [
    "#Gamma function\n",
    "def gamma_s(t, b, a):\n",
    "  return 1 / (1 + math.e**(b*t + a))"
   ]
  },
  {
   "cell_type": "code",
   "execution_count": 16,
   "metadata": {
    "executionInfo": {
     "elapsed": 572,
     "status": "ok",
     "timestamp": 1616292525038,
     "user": {
      "displayName": "Alejandro Jesús Manotas Marmolejo",
      "photoUrl": "https://lh3.googleusercontent.com/a-/AOh14GiBMbRcpANQzZvYJ9LWzVxvD9qatNblJ2V0VdIvH6s=s64",
      "userId": "03263816449986361555"
     },
     "user_tz": 300
    },
    "id": "BxRXlm6SZief"
   },
   "outputs": [],
   "source": [
    "# This Function returns True if the coin with probability P of heads comes heads when flipped.\n",
    "def random_coin(p):\n",
    "  unif = random.uniform(0,1)\n",
    "  if unif >= p:\n",
    "    return False\n",
    "  else:\n",
    "    return True"
   ]
  },
  {
   "cell_type": "code",
   "execution_count": 17,
   "metadata": {
    "executionInfo": {
     "elapsed": 516,
     "status": "ok",
     "timestamp": 1616292528392,
     "user": {
      "displayName": "Alejandro Jesús Manotas Marmolejo",
      "photoUrl": "https://lh3.googleusercontent.com/a-/AOh14GiBMbRcpANQzZvYJ9LWzVxvD9qatNblJ2V0VdIvH6s=s64",
      "userId": "03263816449986361555"
     },
     "user_tz": 300
    },
    "id": "t0qAQKg0Zr29"
   },
   "outputs": [],
   "source": [
    "# This Function runs the MCMC chain for Gamma Distribution.\n",
    "def gamma_mcmc(N_hops, a, b):\n",
    "  states = []\n",
    "  cur = random.uniform(0,1)\n",
    "  for i in range(N_hops):\n",
    "    states.append(cur)\n",
    "    next = random.uniform(0,1)\n",
    "    ap = min(gamma_s(next,a,b)/gamma_s(cur,a,b),1)\n",
    "    if random_coin(ap):\n",
    "      cur = next\n",
    "  return states[-1000:] # Returns the last 100 states of the chain"
   ]
  },
  {
   "cell_type": "code",
   "execution_count": 18,
   "metadata": {
    "colab": {
     "base_uri": "https://localhost:8080/",
     "height": 266
    },
    "executionInfo": {
     "elapsed": 958,
     "status": "ok",
     "timestamp": 1616292530913,
     "user": {
      "displayName": "Alejandro Jesús Manotas Marmolejo",
      "photoUrl": "https://lh3.googleusercontent.com/a-/AOh14GiBMbRcpANQzZvYJ9LWzVxvD9qatNblJ2V0VdIvH6s=s64",
      "userId": "03263816449986361555"
     },
     "user_tz": 300
    },
    "id": "Om0wRkwAaIvT",
    "outputId": "b0b6eead-3b00-4ee0-881e-d5a4443eb425"
   },
   "outputs": [
    {
     "data": {
      "image/png": "[encoded data removed]",
      "text/plain": [
       "<Figure size 1224x288 with 1 Axes>"
      ]
     },
     "metadata": {
      "needs_background": "light",
      "tags": []
     },
     "output_type": "display_data"
    }
   ],
   "source": [
    "# Create a function to plot Actual Gamma PDF with the Gamma Sampled from MCMC Chain.\n",
    "def plot_gamma(a, b):\n",
    "  Ly = []\n",
    "  Lx = []\n",
    "  i_list = np.mgrid[0:1:100j]\n",
    "  for i in i_list:\n",
    "    Lx.append(i)\n",
    "    Ly.append(gamma.pdf(i, a, b))\n",
    "      \n",
    "  pl.plot(Lx, Ly, label=\"Real Distribution: a=\"+str(a)+\", b=\"+str(b))\n",
    "  pl.hist(gamma_mcmc(10000, a, b), density=True,bins =25, histtype='step',label=\"Simulated_MCMC: a=\"+str(a)+\", b=\"+str(b))\n",
    "  pl.legend()\n",
    "  pl.show()\n",
    "  \n",
    "# Alpha = -5, beta = -2 \n",
    "plot_gamma(-5,-2)"
   ]
  },
  {
   "cell_type": "code",
   "execution_count": 19,
   "metadata": {
    "colab": {
     "base_uri": "https://localhost:8080/",
     "height": 265
    },
    "executionInfo": {
     "elapsed": 819,
     "status": "ok",
     "timestamp": 1616292533714,
     "user": {
      "displayName": "Alejandro Jesús Manotas Marmolejo",
      "photoUrl": "https://lh3.googleusercontent.com/a-/AOh14GiBMbRcpANQzZvYJ9LWzVxvD9qatNblJ2V0VdIvH6s=s64",
      "userId": "03263816449986361555"
     },
     "user_tz": 300
    },
    "id": "E7JS3P9DfWul",
    "outputId": "c2e812b4-4fda-4ff7-a6fa-3efafb2c432c"
   },
   "outputs": [
    {
     "data": {
      "image/png": "[encoded data removed]",
      "text/plain": [
       "<Figure size 1224x288 with 1 Axes>"
      ]
     },
     "metadata": {
      "needs_background": "light",
      "tags": []
     },
     "output_type": "display_data"
    }
   ],
   "source": [
    "# Alpha = 5, beta = -2\n",
    "plot_gamma(5,-2)"
   ]
  }
 ],
 "metadata": {
  "colab": {
   "name": "Lab4_Alejandro-Manotas.ipynb",
   "provenance": []
  },
  "kernelspec": {
   "display_name": "Python 3",
   "language": "python",
   "name": "python3"
  },
  "language_info": {
   "codemirror_mode": {
    "name": "ipython",
    "version": 3
   },
   "file_extension": ".py",
   "mimetype": "text/x-python",
   "name": "python",
   "nbconvert_exporter": "python",
   "pygments_lexer": "ipython3",
   "version": "3.8.5"
  }
 },
 "nbformat": 4,
 "nbformat_minor": 1
}
