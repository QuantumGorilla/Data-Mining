{
 "cells": [
  {
   "cell_type": "markdown",
   "metadata": {
    "id": "rNdgHquPkHz1"
   },
   "source": [
    "# 1. Prob. Binomial"
   ]
  },
  {
   "cell_type": "code",
   "execution_count": null,
   "metadata": {
    "id": "63xl9swyjcCx"
   },
   "outputs": [],
   "source": [
    "import numpy as np\n",
    "from scipy.stats import binom"
   ]
  },
  {
   "cell_type": "code",
   "execution_count": null,
   "metadata": {
    "colab": {
     "base_uri": "https://localhost:8080/"
    },
    "executionInfo": {
     "elapsed": 529,
     "status": "ok",
     "timestamp": 1615420476606,
     "user": {
      "displayName": "Alejandro Jesus Manotas Marmolejo",
      "photoUrl": "https://lh5.googleusercontent.com/-vMLLTpDXMZs/AAAAAAAAAAI/AAAAAAAAAUw/DG8Nc1hInwE/s64/photo.jpg",
      "userId": "01731353529927081390"
     },
     "user_tz": 300
    },
    "id": "ETp2jM7Aj6ko",
    "outputId": "784c680d-750a-4780-ee1f-cdb3ccbab041"
   },
   "outputs": [
    {
     "data": {
      "text/plain": [
       "0.33203125000000033"
      ]
     },
     "execution_count": 2,
     "metadata": {
      "tags": []
     },
     "output_type": "execute_result"
    }
   ],
   "source": [
    "binom.pmf(3, 10, 0.5) + binom.pmf(6, 10, 0.5) + binom.pmf(9, 10, 0.5)"
   ]
  },
  {
   "cell_type": "markdown",
   "metadata": {
    "id": "yWR5TfCOkNlz"
   },
   "source": [
    "# 2. Monte Carlo Sim"
   ]
  },
  {
   "cell_type": "code",
   "execution_count": null,
   "metadata": {
    "id": "awj0fVa0kTA_"
   },
   "outputs": [],
   "source": [
    "import numpy as np\n",
    "from scipy.stats import uniform"
   ]
  },
  {
   "cell_type": "code",
   "execution_count": null,
   "metadata": {
    "colab": {
     "base_uri": "https://localhost:8080/"
    },
    "executionInfo": {
     "elapsed": 5398,
     "status": "ok",
     "timestamp": 1615421219449,
     "user": {
      "displayName": "Alejandro Jesus Manotas Marmolejo",
      "photoUrl": "https://lh5.googleusercontent.com/-vMLLTpDXMZs/AAAAAAAAAAI/AAAAAAAAAUw/DG8Nc1hInwE/s64/photo.jpg",
      "userId": "01731353529927081390"
     },
     "user_tz": 300
    },
    "id": "GOlcO4_BkXWU",
    "outputId": "b4e307eb-4bf1-4ae5-f580-3163cc1b9cc6"
   },
   "outputs": [
    {
     "name": "stdout",
     "output_type": "stream",
     "text": [
      "0.33422\n"
     ]
    }
   ],
   "source": [
    "#Initialize parameters\n",
    "N = 100000\n",
    "T = 0\n",
    "\n",
    "#Monte Carlo Sim\n",
    "for i in range(N):\n",
    "  x = uniform.rvs(size=10)\n",
    "  h = 0\n",
    "  for xi in x:\n",
    "    if xi < 0.5:\n",
    "      h += 1\n",
    "  if h == 3 or h == 6 or h == 9:\n",
    "    T += 1\n",
    "\n",
    "print(T/N)"
   ]
  },
  {
   "cell_type": "markdown",
   "metadata": {
    "id": "u91NDoaWxbUQ"
   },
   "source": [
    "# 3. Markov Chain Example 1"
   ]
  },
  {
   "cell_type": "code",
   "execution_count": 11,
   "metadata": {
    "executionInfo": {
     "elapsed": 589,
     "status": "ok",
     "timestamp": 1615424207752,
     "user": {
      "displayName": "Alejandro Jesus Manotas Marmolejo",
      "photoUrl": "https://lh5.googleusercontent.com/-vMLLTpDXMZs/AAAAAAAAAAI/AAAAAAAAAUw/DG8Nc1hInwE/s64/photo.jpg",
      "userId": "01731353529927081390"
     },
     "user_tz": 300
    },
    "id": "2Y_2Unpyxdu8"
   },
   "outputs": [],
   "source": [
    "#Import libraries\n",
    "import numpy as np\n",
    "import random as rm\n",
    "import pandas as pd\n",
    "from matplotlib import pyplot as plt"
   ]
  },
  {
   "cell_type": "code",
   "execution_count": 12,
   "metadata": {
    "executionInfo": {
     "elapsed": 510,
     "status": "ok",
     "timestamp": 1615424210027,
     "user": {
      "displayName": "Alejandro Jesus Manotas Marmolejo",
      "photoUrl": "https://lh5.googleusercontent.com/-vMLLTpDXMZs/AAAAAAAAAAI/AAAAAAAAAUw/DG8Nc1hInwE/s64/photo.jpg",
      "userId": "01731353529927081390"
     },
     "user_tz": 300
    },
    "id": "l_lnUn1txmzo"
   },
   "outputs": [],
   "source": [
    "np.random.seed(42)"
   ]
  },
  {
   "cell_type": "code",
   "execution_count": 15,
   "metadata": {
    "executionInfo": {
     "elapsed": 516,
     "status": "ok",
     "timestamp": 1615424224850,
     "user": {
      "displayName": "Alejandro Jesus Manotas Marmolejo",
      "photoUrl": "https://lh5.googleusercontent.com/-vMLLTpDXMZs/AAAAAAAAAAI/AAAAAAAAAUw/DG8Nc1hInwE/s64/photo.jpg",
      "userId": "01731353529927081390"
     },
     "user_tz": 300
    },
    "id": "cYNjWaDExpcU"
   },
   "outputs": [],
   "source": [
    "#The state space\n",
    "state = [\"X1\", \"X2\", \"X3\"]\n",
    "\n",
    "#PTM\n",
    "P = [[0.0, 1.0, 0.0], [0.0, 0.1, 0.9], [0.6, 0.4, 0.0]]"
   ]
  },
  {
   "cell_type": "code",
   "execution_count": 16,
   "metadata": {
    "colab": {
     "base_uri": "https://localhost:8080/",
     "height": 265
    },
    "executionInfo": {
     "elapsed": 835,
     "status": "ok",
     "timestamp": 1615424226383,
     "user": {
      "displayName": "Alejandro Jesus Manotas Marmolejo",
      "photoUrl": "https://lh5.googleusercontent.com/-vMLLTpDXMZs/AAAAAAAAAAI/AAAAAAAAAUw/DG8Nc1hInwE/s64/photo.jpg",
      "userId": "01731353529927081390"
     },
     "user_tz": 300
    },
    "id": "baMtZiUQx3fO",
    "outputId": "07a35730-4537-4f59-ca96-7ccd59f8d41a"
   },
   "outputs": [
    {
     "data": {
      "image/png": "[encoded data removed]",
      "text/plain": [
       "<Figure size 432x288 with 1 Axes>"
      ]
     },
     "metadata": {
      "needs_background": "light",
      "tags": []
     },
     "output_type": "display_data"
    }
   ],
   "source": [
    "state = np.array([[0.5, 0.2, 0.3]])\n",
    "stateHist = state\n",
    "dfStateHist = pd.DataFrame(state)\n",
    "\n",
    "for x in range(100):\n",
    "  state = np.dot(state, P)\n",
    "  stateHist = np.append(stateHist, state, axis=0)\n",
    "\n",
    "dfDiststrHist = pd.DataFrame(stateHist)\n",
    "dfDiststrHist.plot()\n",
    "plt.show()"
   ]
  },
  {
   "cell_type": "markdown",
   "metadata": {
    "id": "VHJqqKjWzXBm"
   },
   "source": [
    "# 4. Markov Example 2"
   ]
  },
  {
   "cell_type": "code",
   "execution_count": 19,
   "metadata": {
    "executionInfo": {
     "elapsed": 535,
     "status": "ok",
     "timestamp": 1615424696872,
     "user": {
      "displayName": "Alejandro Jesus Manotas Marmolejo",
      "photoUrl": "https://lh5.googleusercontent.com/-vMLLTpDXMZs/AAAAAAAAAAI/AAAAAAAAAUw/DG8Nc1hInwE/s64/photo.jpg",
      "userId": "01731353529927081390"
     },
     "user_tz": 300
    },
    "id": "Gu25l8gZ0Fmf"
   },
   "outputs": [],
   "source": [
    "np.random.seed(42)"
   ]
  },
  {
   "cell_type": "code",
   "execution_count": 20,
   "metadata": {
    "executionInfo": {
     "elapsed": 507,
     "status": "ok",
     "timestamp": 1615424698702,
     "user": {
      "displayName": "Alejandro Jesus Manotas Marmolejo",
      "photoUrl": "https://lh5.googleusercontent.com/-vMLLTpDXMZs/AAAAAAAAAAI/AAAAAAAAAUw/DG8Nc1hInwE/s64/photo.jpg",
      "userId": "01731353529927081390"
     },
     "user_tz": 300
    },
    "id": "y9WJ9YggzWNx"
   },
   "outputs": [],
   "source": [
    "#The state space\n",
    "state = [\"X1\", \"X2\", \"X3\"]\n",
    "\n",
    "#PTM\n",
    "P = [[0.2, 0.2, 0.6], [0.2, 0.1, 0.7], [0.1, 0.3, 0.6]]"
   ]
  },
  {
   "cell_type": "code",
   "execution_count": 22,
   "metadata": {
    "colab": {
     "base_uri": "https://localhost:8080/",
     "height": 265
    },
    "executionInfo": {
     "elapsed": 538,
     "status": "ok",
     "timestamp": 1615424724822,
     "user": {
      "displayName": "Alejandro Jesus Manotas Marmolejo",
      "photoUrl": "https://lh5.googleusercontent.com/-vMLLTpDXMZs/AAAAAAAAAAI/AAAAAAAAAUw/DG8Nc1hInwE/s64/photo.jpg",
      "userId": "01731353529927081390"
     },
     "user_tz": 300
    },
    "id": "Hkk2W6lMzmaX",
    "outputId": "af21af77-e0f8-45a2-d98e-adc660754788"
   },
   "outputs": [
    {
     "data": {
      "image/png": "[encoded data removed]",
      "text/plain": [
       "<Figure size 432x288 with 1 Axes>"
      ]
     },
     "metadata": {
      "needs_background": "light",
      "tags": []
     },
     "output_type": "display_data"
    }
   ],
   "source": [
    "state = np.array([[0.0, 0.0, 1.0]])\n",
    "stateHist = state\n",
    "dfStateHist = pd.DataFrame(state)\n",
    "\n",
    "for x in range(100):\n",
    "  state = np.dot(state, P)\n",
    "  stateHist = np.append(stateHist, state, axis=0)\n",
    "\n",
    "dfDiststrHist = pd.DataFrame(stateHist)\n",
    "dfDiststrHist.plot()\n",
    "plt.show()"
   ]
  },
  {
   "cell_type": "markdown",
   "metadata": {
    "id": "SL22I-5X0rpc"
   },
   "source": [
    "# 5. Markov Example 3"
   ]
  },
  {
   "cell_type": "code",
   "execution_count": 60,
   "metadata": {
    "executionInfo": {
     "elapsed": 531,
     "status": "ok",
     "timestamp": 1615427555809,
     "user": {
      "displayName": "Alejandro Jesus Manotas Marmolejo",
      "photoUrl": "https://lh5.googleusercontent.com/-vMLLTpDXMZs/AAAAAAAAAAI/AAAAAAAAAUw/DG8Nc1hInwE/s64/photo.jpg",
      "userId": "01731353529927081390"
     },
     "user_tz": 300
    },
    "id": "sUoVot8U1xzc"
   },
   "outputs": [],
   "source": [
    "np.random.seed(42)"
   ]
  },
  {
   "cell_type": "code",
   "execution_count": 61,
   "metadata": {
    "executionInfo": {
     "elapsed": 544,
     "status": "ok",
     "timestamp": 1615427556852,
     "user": {
      "displayName": "Alejandro Jesus Manotas Marmolejo",
      "photoUrl": "https://lh5.googleusercontent.com/-vMLLTpDXMZs/AAAAAAAAAAI/AAAAAAAAAUw/DG8Nc1hInwE/s64/photo.jpg",
      "userId": "01731353529927081390"
     },
     "user_tz": 300
    },
    "id": "_h-iqzab2C8Z"
   },
   "outputs": [],
   "source": [
    "#The state space\n",
    "state = [\"X1\", \"X2\", \"X3\"]\n",
    "\n",
    "#PTM\n",
    "P = [[0.0, 0.1, 0.9], [0.1, 0.4, 0.5], [0.1, 0.9, 0.0]]"
   ]
  },
  {
   "cell_type": "code",
   "execution_count": 63,
   "metadata": {
    "colab": {
     "base_uri": "https://localhost:8080/",
     "height": 265
    },
    "executionInfo": {
     "elapsed": 886,
     "status": "ok",
     "timestamp": 1615427613629,
     "user": {
      "displayName": "Alejandro Jesus Manotas Marmolejo",
      "photoUrl": "https://lh5.googleusercontent.com/-vMLLTpDXMZs/AAAAAAAAAAI/AAAAAAAAAUw/DG8Nc1hInwE/s64/photo.jpg",
      "userId": "01731353529927081390"
     },
     "user_tz": 300
    },
    "id": "nGVaNDHb2E_X",
    "outputId": "ae70abca-040b-41a0-ddfe-5fc81683db83"
   },
   "outputs": [
    {
     "data": {
      "image/png": "[encoded data removed]",
      "text/plain": [
       "<Figure size 432x288 with 1 Axes>"
      ]
     },
     "metadata": {
      "needs_background": "light",
      "tags": []
     },
     "output_type": "display_data"
    }
   ],
   "source": [
    "state = np.array([[0.4, 0.2, 0.4]])\n",
    "stateHist = state\n",
    "dfStateHist = pd.DataFrame(state)\n",
    "\n",
    "for x in range(100):\n",
    "  state = np.dot(state, P)\n",
    "  stateHist = np.append(stateHist, state, axis=0)\n",
    "\n",
    "dfDiststrHist = pd.DataFrame(stateHist)\n",
    "dfDiststrHist.plot()\n",
    "plt.show()"
   ]
  },
  {
   "cell_type": "markdown",
   "metadata": {
    "id": "fP86EaUH0_0k"
   },
   "source": [
    "# 6. Markov Example 4"
   ]
  },
  {
   "cell_type": "code",
   "execution_count": 36,
   "metadata": {
    "executionInfo": {
     "elapsed": 526,
     "status": "ok",
     "timestamp": 1615426587624,
     "user": {
      "displayName": "Alejandro Jesus Manotas Marmolejo",
      "photoUrl": "https://lh5.googleusercontent.com/-vMLLTpDXMZs/AAAAAAAAAAI/AAAAAAAAAUw/DG8Nc1hInwE/s64/photo.jpg",
      "userId": "01731353529927081390"
     },
     "user_tz": 300
    },
    "id": "4SYZwv700_Ep"
   },
   "outputs": [],
   "source": [
    "np.random.seed(42)"
   ]
  },
  {
   "cell_type": "code",
   "execution_count": 43,
   "metadata": {
    "executionInfo": {
     "elapsed": 525,
     "status": "ok",
     "timestamp": 1615427011420,
     "user": {
      "displayName": "Alejandro Jesus Manotas Marmolejo",
      "photoUrl": "https://lh5.googleusercontent.com/-vMLLTpDXMZs/AAAAAAAAAAI/AAAAAAAAAUw/DG8Nc1hInwE/s64/photo.jpg",
      "userId": "01731353529927081390"
     },
     "user_tz": 300
    },
    "id": "r9TEKFsC6smP"
   },
   "outputs": [],
   "source": [
    "#The state space\n",
    "state = [\"sunny\", \"cloudy\", \"rainy\"]\n",
    "\n",
    "#PTM\n",
    "P = [[0.6, 0.3, 0.1], [0.3, 0.4, 0.3], [0.2, 0.3, 0.5]]"
   ]
  },
  {
   "cell_type": "code",
   "execution_count": 44,
   "metadata": {
    "colab": {
     "base_uri": "https://localhost:8080/",
     "height": 265
    },
    "executionInfo": {
     "elapsed": 538,
     "status": "ok",
     "timestamp": 1615427012511,
     "user": {
      "displayName": "Alejandro Jesus Manotas Marmolejo",
      "photoUrl": "https://lh5.googleusercontent.com/-vMLLTpDXMZs/AAAAAAAAAAI/AAAAAAAAAUw/DG8Nc1hInwE/s64/photo.jpg",
      "userId": "01731353529927081390"
     },
     "user_tz": 300
    },
    "id": "tID-hsoE6uUt",
    "outputId": "3608ecce-5db7-4318-ab0e-00c5db91537c"
   },
   "outputs": [
    {
     "data": {
      "image/png": "[encoded data removed]",
      "text/plain": [
       "<Figure size 432x288 with 1 Axes>"
      ]
     },
     "metadata": {
      "needs_background": "light",
      "tags": []
     },
     "output_type": "display_data"
    }
   ],
   "source": [
    "state = np.array([[0.1, 0.4, 0.5]])\n",
    "stateHist = state\n",
    "dfStateHist = pd.DataFrame(state)\n",
    "\n",
    "for x in range(100):\n",
    "  state = np.dot(state, P)\n",
    "  stateHist = np.append(stateHist, state, axis=0)\n",
    "\n",
    "dfDiststrHist = pd.DataFrame(stateHist)\n",
    "dfDiststrHist.plot()\n",
    "plt.show()"
   ]
  }
 ],
 "metadata": {
  "colab": {
   "authorship_tag": "ABX9TyMEwPGyyCfnZHJE4S+pKxI/",
   "name": "MonteCarlo-ExBinomial.ipynb",
   "provenance": []
  },
  "kernelspec": {
   "display_name": "Python 3",
   "language": "python",
   "name": "python3"
  },
  "language_info": {
   "codemirror_mode": {
    "name": "ipython",
    "version": 3
   },
   "file_extension": ".py",
   "mimetype": "text/x-python",
   "name": "python",
   "nbconvert_exporter": "python",
   "pygments_lexer": "ipython3",
   "version": "3.8.5"
  }
 },
 "nbformat": 4,
 "nbformat_minor": 1
}
