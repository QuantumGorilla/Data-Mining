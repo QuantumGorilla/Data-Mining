{
 "cells": [
  {
   "cell_type": "markdown",
   "metadata": {
    "id": "qloE5pwFfhwm"
   },
   "source": [
    "# Multiple Linear Regression - Example"
   ]
  },
  {
   "cell_type": "code",
   "execution_count": 1,
   "metadata": {
    "id": "cRHz7_fmfhwx"
   },
   "outputs": [],
   "source": [
    "#Import libraries\n",
    "import pandas as pd"
   ]
  },
  {
   "cell_type": "code",
   "execution_count": 2,
   "metadata": {
    "id": "ULe7Q8yxfhwy",
    "scrolled": false
   },
   "outputs": [],
   "source": [
    "#Read dataset\n",
    "mpg_df = pd.read_csv('./Datasets/auto-mpg.csv')"
   ]
  },
  {
   "cell_type": "code",
   "execution_count": 3,
   "metadata": {
    "colab": {
     "base_uri": "https://localhost:8080/",
     "height": 224
    },
    "executionInfo": {
     "elapsed": 542,
     "status": "ok",
     "timestamp": 1617667821051,
     "user": {
      "displayName": "Alejandro Jesus Manotas Marmolejo",
      "photoUrl": "https://lh3.googleusercontent.com/a-/AOh14Gh32vHf1Cb01wrrbeAgN813Zzhyn5snTuo2iwq2ww=s64",
      "userId": "01731353529927081390"
     },
     "user_tz": 300
    },
    "id": "Ut5-15K2fhwy",
    "outputId": "b5f449f5-1b0a-41d0-e360-922470fbd5b4",
    "scrolled": true
   },
   "outputs": [
    {
     "data": {
      "text/html": [
       "<div>\n",
       "<style scoped>\n",
       "    .dataframe tbody tr th:only-of-type {\n",
       "        vertical-align: middle;\n",
       "    }\n",
       "\n",
       "    .dataframe tbody tr th {\n",
       "        vertical-align: top;\n",
       "    }\n",
       "\n",
       "    .dataframe thead th {\n",
       "        text-align: right;\n",
       "    }\n",
       "</style>\n",
       "<table border=\"1\" class=\"dataframe\">\n",
       "  <thead>\n",
       "    <tr style=\"text-align: right;\">\n",
       "      <th></th>\n",
       "      <th>mpg</th>\n",
       "      <th>cylinders</th>\n",
       "      <th>displacement</th>\n",
       "      <th>horsepower</th>\n",
       "      <th>weight</th>\n",
       "      <th>acceleration</th>\n",
       "      <th>modelyear</th>\n",
       "      <th>origin</th>\n",
       "    </tr>\n",
       "  </thead>\n",
       "  <tbody>\n",
       "    <tr>\n",
       "      <th>0</th>\n",
       "      <td>18.0</td>\n",
       "      <td>8</td>\n",
       "      <td>307.0</td>\n",
       "      <td>130</td>\n",
       "      <td>3504</td>\n",
       "      <td>12.0</td>\n",
       "      <td>70</td>\n",
       "      <td>1</td>\n",
       "    </tr>\n",
       "    <tr>\n",
       "      <th>1</th>\n",
       "      <td>15.0</td>\n",
       "      <td>8</td>\n",
       "      <td>350.0</td>\n",
       "      <td>165</td>\n",
       "      <td>3693</td>\n",
       "      <td>11.5</td>\n",
       "      <td>70</td>\n",
       "      <td>1</td>\n",
       "    </tr>\n",
       "    <tr>\n",
       "      <th>2</th>\n",
       "      <td>18.0</td>\n",
       "      <td>8</td>\n",
       "      <td>318.0</td>\n",
       "      <td>150</td>\n",
       "      <td>3436</td>\n",
       "      <td>11.0</td>\n",
       "      <td>70</td>\n",
       "      <td>1</td>\n",
       "    </tr>\n",
       "    <tr>\n",
       "      <th>3</th>\n",
       "      <td>16.0</td>\n",
       "      <td>8</td>\n",
       "      <td>304.0</td>\n",
       "      <td>150</td>\n",
       "      <td>3433</td>\n",
       "      <td>12.0</td>\n",
       "      <td>70</td>\n",
       "      <td>1</td>\n",
       "    </tr>\n",
       "    <tr>\n",
       "      <th>4</th>\n",
       "      <td>17.0</td>\n",
       "      <td>8</td>\n",
       "      <td>302.0</td>\n",
       "      <td>140</td>\n",
       "      <td>3449</td>\n",
       "      <td>10.5</td>\n",
       "      <td>70</td>\n",
       "      <td>1</td>\n",
       "    </tr>\n",
       "  </tbody>\n",
       "</table>\n",
       "</div>"
      ],
      "text/plain": [
       "    mpg  cylinders  displacement  horsepower  weight  acceleration  modelyear  \\\n",
       "0  18.0          8         307.0         130    3504          12.0         70   \n",
       "1  15.0          8         350.0         165    3693          11.5         70   \n",
       "2  18.0          8         318.0         150    3436          11.0         70   \n",
       "3  16.0          8         304.0         150    3433          12.0         70   \n",
       "4  17.0          8         302.0         140    3449          10.5         70   \n",
       "\n",
       "   origin  \n",
       "0       1  \n",
       "1       1  \n",
       "2       1  \n",
       "3       1  \n",
       "4       1  "
      ]
     },
     "execution_count": 3,
     "metadata": {},
     "output_type": "execute_result"
    }
   ],
   "source": [
    "#Drop useless features\n",
    "mpg_df = mpg_df.drop('carname', axis=1)\n",
    "mpg_df.head(5)"
   ]
  },
  {
   "cell_type": "code",
   "execution_count": 4,
   "metadata": {
    "id": "eRJNcUG_fhwz"
   },
   "outputs": [],
   "source": [
    "# Split dataset into target values Y and predictor values X\n",
    "X = mpg_df.drop('mpg',axis=1)\n",
    "y=mpg_df[['mpg']]\n",
    "\n",
    "# Split the dataset into train and test data\n",
    "from sklearn.model_selection import train_test_split\n",
    "X_train, X_test, y_train, y_test = train_test_split(X, y, test_size=0.25, random_state=1)"
   ]
  },
  {
   "cell_type": "code",
   "execution_count": 5,
   "metadata": {
    "colab": {
     "base_uri": "https://localhost:8080/",
     "height": 131
    },
    "executionInfo": {
     "elapsed": 625,
     "status": "ok",
     "timestamp": 1617668144824,
     "user": {
      "displayName": "Alejandro Jesus Manotas Marmolejo",
      "photoUrl": "https://lh3.googleusercontent.com/a-/AOh14Gh32vHf1Cb01wrrbeAgN813Zzhyn5snTuo2iwq2ww=s64",
      "userId": "01731353529927081390"
     },
     "user_tz": 300
    },
    "id": "eXjCSDlMfhwz",
    "outputId": "89be0c5c-6075-433d-a2c5-52b9aba3aa1a",
    "scrolled": true
   },
   "outputs": [
    {
     "data": {
      "text/html": [
       "<div>\n",
       "<style scoped>\n",
       "    .dataframe tbody tr th:only-of-type {\n",
       "        vertical-align: middle;\n",
       "    }\n",
       "\n",
       "    .dataframe tbody tr th {\n",
       "        vertical-align: top;\n",
       "    }\n",
       "\n",
       "    .dataframe thead th {\n",
       "        text-align: right;\n",
       "    }\n",
       "</style>\n",
       "<table border=\"1\" class=\"dataframe\">\n",
       "  <thead>\n",
       "    <tr style=\"text-align: right;\">\n",
       "      <th></th>\n",
       "      <th>cylinders</th>\n",
       "      <th>displacement</th>\n",
       "      <th>horsepower</th>\n",
       "      <th>weight</th>\n",
       "      <th>acceleration</th>\n",
       "      <th>modelyear</th>\n",
       "      <th>origin</th>\n",
       "    </tr>\n",
       "  </thead>\n",
       "  <tbody>\n",
       "    <tr>\n",
       "      <th>192</th>\n",
       "      <td>6</td>\n",
       "      <td>250.0</td>\n",
       "      <td>105</td>\n",
       "      <td>3353</td>\n",
       "      <td>14.5</td>\n",
       "      <td>76</td>\n",
       "      <td>1</td>\n",
       "    </tr>\n",
       "    <tr>\n",
       "      <th>27</th>\n",
       "      <td>8</td>\n",
       "      <td>318.0</td>\n",
       "      <td>210</td>\n",
       "      <td>4382</td>\n",
       "      <td>13.5</td>\n",
       "      <td>70</td>\n",
       "      <td>1</td>\n",
       "    </tr>\n",
       "  </tbody>\n",
       "</table>\n",
       "</div>"
      ],
      "text/plain": [
       "     cylinders  displacement  horsepower  weight  acceleration  modelyear  \\\n",
       "192          6         250.0         105    3353          14.5         76   \n",
       "27           8         318.0         210    4382          13.5         70   \n",
       "\n",
       "     origin  \n",
       "192       1  \n",
       "27        1  "
      ]
     },
     "execution_count": 5,
     "metadata": {},
     "output_type": "execute_result"
    }
   ],
   "source": [
    "X_train.head(2)"
   ]
  },
  {
   "cell_type": "code",
   "execution_count": 6,
   "metadata": {
    "colab": {
     "base_uri": "https://localhost:8080/"
    },
    "executionInfo": {
     "elapsed": 494,
     "status": "ok",
     "timestamp": 1617668467272,
     "user": {
      "displayName": "Alejandro Jesus Manotas Marmolejo",
      "photoUrl": "https://lh3.googleusercontent.com/a-/AOh14Gh32vHf1Cb01wrrbeAgN813Zzhyn5snTuo2iwq2ww=s64",
      "userId": "01731353529927081390"
     },
     "user_tz": 300
    },
    "id": "HAM24EPFfhwz",
    "outputId": "41444a94-4d38-4353-b7df-327f0f6fc53b"
   },
   "outputs": [
    {
     "data": {
      "text/plain": [
       "LinearRegression()"
      ]
     },
     "execution_count": 6,
     "metadata": {},
     "output_type": "execute_result"
    }
   ],
   "source": [
    "# Run linear regression\n",
    "from sklearn.linear_model import LinearRegression \n",
    "\n",
    "regression_model = LinearRegression()\n",
    "regression_model.fit(X_train, y_train)\n",
    "\n",
    "LinearRegression(copy_X=True, fit_intercept=True, n_jobs=None, normalize=False)"
   ]
  },
  {
   "cell_type": "code",
   "execution_count": 7,
   "metadata": {
    "colab": {
     "base_uri": "https://localhost:8080/"
    },
    "executionInfo": {
     "elapsed": 522,
     "status": "ok",
     "timestamp": 1617668566187,
     "user": {
      "displayName": "Alejandro Jesus Manotas Marmolejo",
      "photoUrl": "https://lh3.googleusercontent.com/a-/AOh14Gh32vHf1Cb01wrrbeAgN813Zzhyn5snTuo2iwq2ww=s64",
      "userId": "01731353529927081390"
     },
     "user_tz": 300
    },
    "id": "5NrxZISGfhw0",
    "outputId": "8d29b83b-dc54-4080-e1c8-9e72770b6883",
    "scrolled": false
   },
   "outputs": [
    {
     "name": "stdout",
     "output_type": "stream",
     "text": [
      "The coefficient for cylinders is -0.3303296700389863\n",
      "The coefficient for displacement is 0.023448219011039724\n",
      "The coefficient for horsepower is -0.019595754356218402\n",
      "The coefficient for weight is -0.007122542135834223\n",
      "The coefficient for acceleration is 0.09789592699069147\n",
      "The coefficient for modelyear is 0.7963412535783692\n",
      "The coefficient for origin is 1.3227195008256047\n"
     ]
    }
   ],
   "source": [
    "#Show regression coefficients\n",
    "for idx, col_name in enumerate(X_train.columns):\n",
    "    print(\"The coefficient for {} is {}\".format(col_name, regression_model.coef_[0][idx]))"
   ]
  },
  {
   "cell_type": "code",
   "execution_count": 8,
   "metadata": {
    "colab": {
     "base_uri": "https://localhost:8080/"
    },
    "executionInfo": {
     "elapsed": 517,
     "status": "ok",
     "timestamp": 1617668740618,
     "user": {
      "displayName": "Alejandro Jesus Manotas Marmolejo",
      "photoUrl": "https://lh3.googleusercontent.com/a-/AOh14Gh32vHf1Cb01wrrbeAgN813Zzhyn5snTuo2iwq2ww=s64",
      "userId": "01731353529927081390"
     },
     "user_tz": 300
    },
    "id": "_CayZN20fhw0",
    "outputId": "9f7bab55-cd26-410d-8304-cda164ce6f3c"
   },
   "outputs": [
    {
     "name": "stdout",
     "output_type": "stream",
     "text": [
      "The intercept for our model is -20.03768529635264\n"
     ]
    }
   ],
   "source": [
    "#Print intercept\n",
    "intercept = regression_model.intercept_[0]\n",
    "print(\"The intercept for our model is {}\".format(intercept))"
   ]
  },
  {
   "cell_type": "code",
   "execution_count": 9,
   "metadata": {
    "colab": {
     "base_uri": "https://localhost:8080/"
    },
    "executionInfo": {
     "elapsed": 504,
     "status": "ok",
     "timestamp": 1617668790185,
     "user": {
      "displayName": "Alejandro Jesus Manotas Marmolejo",
      "photoUrl": "https://lh3.googleusercontent.com/a-/AOh14Gh32vHf1Cb01wrrbeAgN813Zzhyn5snTuo2iwq2ww=s64",
      "userId": "01731353529927081390"
     },
     "user_tz": 300
    },
    "id": "sYGEAL_Zfhw0",
    "outputId": "922113f2-9a8e-4339-c9bc-3fdb8b4bc777"
   },
   "outputs": [
    {
     "data": {
      "text/plain": [
       "0.8493427195930866"
      ]
     },
     "execution_count": 9,
     "metadata": {},
     "output_type": "execute_result"
    }
   ],
   "source": [
    "#R-square\n",
    "regression_model.score(X_test, y_test)"
   ]
  }
 ],
 "metadata": {
  "colab": {
   "name": "LinearRegression-Multiple-Est.ipynb",
   "provenance": []
  },
  "kernelspec": {
   "display_name": "Python 3",
   "language": "python",
   "name": "python3"
  },
  "language_info": {
   "codemirror_mode": {
    "name": "ipython",
    "version": 3
   },
   "file_extension": ".py",
   "mimetype": "text/x-python",
   "name": "python",
   "nbconvert_exporter": "python",
   "pygments_lexer": "ipython3",
   "version": "3.8.5"
  },
  "toc": {
   "base_numbering": 1,
   "nav_menu": {},
   "number_sections": true,
   "sideBar": true,
   "skip_h1_title": false,
   "title_cell": "Table of Contents",
   "title_sidebar": "Contents",
   "toc_cell": false,
   "toc_position": {},
   "toc_section_display": true,
   "toc_window_display": false
  },
  "varInspector": {
   "cols": {
    "lenName": 16,
    "lenType": 16,
    "lenVar": 40
   },
   "kernels_config": {
    "python": {
     "delete_cmd_postfix": "",
     "delete_cmd_prefix": "del ",
     "library": "var_list.py",
     "varRefreshCmd": "print(var_dic_list())"
    },
    "r": {
     "delete_cmd_postfix": ") ",
     "delete_cmd_prefix": "rm(",
     "library": "var_list.r",
     "varRefreshCmd": "cat(var_dic_list()) "
    }
   },
   "types_to_exclude": [
    "module",
    "function",
    "builtin_function_or_method",
    "instance",
    "_Feature"
   ],
   "window_display": false
  }
 },
 "nbformat": 4,
 "nbformat_minor": 1
}
