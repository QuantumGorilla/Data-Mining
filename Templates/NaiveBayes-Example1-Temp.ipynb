{
 "cells": [
  {
   "cell_type": "markdown",
   "metadata": {
    "id": "SHMhHFmgdhHR"
   },
   "source": [
    "# Naive Bayes Classifier"
   ]
  },
  {
   "cell_type": "markdown",
   "metadata": {
    "id": "puZkrMjxdhHX"
   },
   "source": [
    "$P(c|x)=P(c)\\prod_{i=1}^{n}{P(X_i|c)}$"
   ]
  },
  {
   "cell_type": "code",
   "execution_count": 1,
   "metadata": {
    "executionInfo": {
     "elapsed": 1377,
     "status": "ok",
     "timestamp": 1618271825268,
     "user": {
      "displayName": "Alejandro Jesus Manotas Marmolejo",
      "photoUrl": "https://lh3.googleusercontent.com/a-/AOh14Gh32vHf1Cb01wrrbeAgN813Zzhyn5snTuo2iwq2ww=s64",
      "userId": "01731353529927081390"
     },
     "user_tz": 300
    },
    "id": "7sHGk1pGdhHZ"
   },
   "outputs": [],
   "source": [
    "# Define and Assign features and label variables\n",
    "wheather=['Sunny','Sunny','Overcast','Rainy','Rainy','Rainy','Overcast','Sunny','Sunny',\n",
    "'Rainy','Sunny','Overcast','Overcast','Rainy']\n",
    "temp=['Hot','Hot','Hot','Mild','Cool','Cool','Cool','Mild','Cool','Mild','Mild','Mild','Hot','Mild']\n",
    "\n",
    "play=['No','No','Yes','Yes','Yes','No','Yes','No','Yes','Yes','Yes','Yes','Yes','No']"
   ]
  },
  {
   "cell_type": "code",
   "execution_count": 2,
   "metadata": {
    "colab": {
     "base_uri": "https://localhost:8080/"
    },
    "executionInfo": {
     "elapsed": 521,
     "status": "ok",
     "timestamp": 1618271906569,
     "user": {
      "displayName": "Alejandro Jesus Manotas Marmolejo",
      "photoUrl": "https://lh3.googleusercontent.com/a-/AOh14Gh32vHf1Cb01wrrbeAgN813Zzhyn5snTuo2iwq2ww=s64",
      "userId": "01731353529927081390"
     },
     "user_tz": 300
    },
    "id": "dURZe8XZdhHb",
    "outputId": "64dc3b5c-3a20-48ff-80b9-c06f1b4d5ff3"
   },
   "outputs": [
    {
     "name": "stdout",
     "output_type": "stream",
     "text": [
      "[2 2 0 1 1 1 0 2 2 1 2 0 0 1]\n"
     ]
    }
   ],
   "source": [
    "# Import LabelEncoder\n",
    "from sklearn import preprocessing\n",
    "\n",
    "#creating labelEncoder\n",
    "le = preprocessing.LabelEncoder()\n",
    "\n",
    "# Converting weather string labels into numbers.\n",
    "wheather_encoded=le.fit_transform(wheather)\n",
    "\n",
    "#Print weater_encoded\n",
    "print(wheather_encoded)"
   ]
  },
  {
   "cell_type": "code",
   "execution_count": 3,
   "metadata": {
    "colab": {
     "base_uri": "https://localhost:8080/"
    },
    "executionInfo": {
     "elapsed": 521,
     "status": "ok",
     "timestamp": 1618272186533,
     "user": {
      "displayName": "Alejandro Jesus Manotas Marmolejo",
      "photoUrl": "https://lh3.googleusercontent.com/a-/AOh14Gh32vHf1Cb01wrrbeAgN813Zzhyn5snTuo2iwq2ww=s64",
      "userId": "01731353529927081390"
     },
     "user_tz": 300
    },
    "id": "tl5Om7_edhHd",
    "outputId": "0b7c6cbe-614b-49e0-b4c4-1adb33d5e297"
   },
   "outputs": [
    {
     "name": "stdout",
     "output_type": "stream",
     "text": [
      "Temp: [1 1 1 2 0 0 0 2 0 2 2 2 1 2]\n",
      "Play: [0 0 1 1 1 0 1 0 1 1 1 1 1 0]\n",
      "Weather: [2 2 0 1 1 1 0 2 2 1 2 0 0 1]\n"
     ]
    }
   ],
   "source": [
    "# Converting temp string labels into numbers\n",
    "temp_encoded=le.fit_transform(temp)\n",
    "\n",
    "# Converting play string labels into numbers and assign to label\n",
    "play_encoded=le.fit_transform(play)\n",
    "\n",
    "# Print temp encoded\n",
    "print(\"Temp:\", temp_encoded)\n",
    "\n",
    "# Print label Play\n",
    "print(\"Play:\", play_encoded)\n",
    "\n",
    "#Print label wheater\n",
    "print(\"Weather:\", wheather_encoded)"
   ]
  },
  {
   "cell_type": "code",
   "execution_count": 4,
   "metadata": {
    "colab": {
     "base_uri": "https://localhost:8080/"
    },
    "executionInfo": {
     "elapsed": 492,
     "status": "ok",
     "timestamp": 1618272101700,
     "user": {
      "displayName": "Alejandro Jesus Manotas Marmolejo",
      "photoUrl": "https://lh3.googleusercontent.com/a-/AOh14Gh32vHf1Cb01wrrbeAgN813Zzhyn5snTuo2iwq2ww=s64",
      "userId": "01731353529927081390"
     },
     "user_tz": 300
    },
    "id": "TyQTyzvEdhHf",
    "outputId": "575015f2-ef20-43f1-a792-9f6eb297873e"
   },
   "outputs": [
    {
     "name": "stdout",
     "output_type": "stream",
     "text": [
      "[(2, 1), (2, 1), (0, 1), (1, 2), (1, 0), (1, 0), (0, 0), (2, 2), (2, 0), (1, 2), (2, 2), (0, 2), (0, 1), (1, 2)]\n"
     ]
    }
   ],
   "source": [
    "#Combinig weather and temp into single list of tuples and assign the features\n",
    "features = list(zip(wheather_encoded,temp_encoded))\n",
    "#features = tuple(zip(wheather_encoded,temp_encoded))\n",
    "\n",
    "# Print features\n",
    "print(features)"
   ]
  },
  {
   "cell_type": "code",
   "execution_count": 5,
   "metadata": {
    "colab": {
     "base_uri": "https://localhost:8080/"
    },
    "executionInfo": {
     "elapsed": 531,
     "status": "ok",
     "timestamp": 1618272443911,
     "user": {
      "displayName": "Alejandro Jesus Manotas Marmolejo",
      "photoUrl": "https://lh3.googleusercontent.com/a-/AOh14Gh32vHf1Cb01wrrbeAgN813Zzhyn5snTuo2iwq2ww=s64",
      "userId": "01731353529927081390"
     },
     "user_tz": 300
    },
    "id": "AeSVfSbOdhHg",
    "outputId": "16ca2ff9-82f1-4745-e467-aa8d8ba0a02c"
   },
   "outputs": [
    {
     "name": "stdout",
     "output_type": "stream",
     "text": [
      "Predicted value: [1]\n"
     ]
    }
   ],
   "source": [
    "#Import Gaussian Naive Bayes model\n",
    "from sklearn.naive_bayes import GaussianNB\n",
    "\n",
    "#Create a Gaussian Classifier and assign to model\n",
    "model = GaussianNB()\n",
    "\n",
    "# Train the model using the training sets\n",
    "model.fit(features,play_encoded)\n",
    "\n",
    "#Call Predict function for 0:Overcast, 2:Mild and assign to predicted\n",
    "predicted = model.predict([[0,2]])  \n",
    "\n",
    "#Print predicted value\n",
    "print(\"Predicted value:\", predicted)"
   ]
  }
 ],
 "metadata": {
  "colab": {
   "name": "NaiveBayes-Example1-Temp.ipynb",
   "provenance": []
  },
  "kernelspec": {
   "display_name": "Python 3",
   "language": "python",
   "name": "python3"
  },
  "language_info": {
   "codemirror_mode": {
    "name": "ipython",
    "version": 3
   },
   "file_extension": ".py",
   "mimetype": "text/x-python",
   "name": "python",
   "nbconvert_exporter": "python",
   "pygments_lexer": "ipython3",
   "version": "3.8.5"
  },
  "toc": {
   "base_numbering": 1,
   "nav_menu": {},
   "number_sections": true,
   "sideBar": true,
   "skip_h1_title": false,
   "title_cell": "Table of Contents",
   "title_sidebar": "Contents",
   "toc_cell": false,
   "toc_position": {},
   "toc_section_display": true,
   "toc_window_display": false
  },
  "varInspector": {
   "cols": {
    "lenName": 16,
    "lenType": 16,
    "lenVar": 40
   },
   "kernels_config": {
    "python": {
     "delete_cmd_postfix": "",
     "delete_cmd_prefix": "del ",
     "library": "var_list.py",
     "varRefreshCmd": "print(var_dic_list())"
    },
    "r": {
     "delete_cmd_postfix": ") ",
     "delete_cmd_prefix": "rm(",
     "library": "var_list.r",
     "varRefreshCmd": "cat(var_dic_list()) "
    }
   },
   "types_to_exclude": [
    "module",
    "function",
    "builtin_function_or_method",
    "instance",
    "_Feature"
   ],
   "window_display": false
  }
 },
 "nbformat": 4,
 "nbformat_minor": 1
}
