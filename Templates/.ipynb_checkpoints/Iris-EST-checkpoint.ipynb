{
 "cells": [
  {
   "cell_type": "code",
   "execution_count": 1,
   "metadata": {
    "id": "TnAGJw6J8-FX"
   },
   "outputs": [],
   "source": [
    "#Import libraries\n",
    "import pandas as pd\n",
    "import matplotlib.pyplot as plt\n",
    "import seaborn as sns\n",
    "import numpy as np"
   ]
  },
  {
   "cell_type": "markdown",
   "metadata": {
    "id": "eUgYa2JQTR_c"
   },
   "source": [
    "# Read dataset"
   ]
  },
  {
   "cell_type": "code",
   "execution_count": 2,
   "metadata": {
    "colab": {
     "base_uri": "https://localhost:8080/",
     "height": 142
    },
    "executionInfo": {
     "elapsed": 1016,
     "status": "ok",
     "timestamp": 1612396085171,
     "user": {
      "displayName": "Alejandro Jesus Manotas Marmolejo",
      "photoUrl": "https://lh5.googleusercontent.com/-vMLLTpDXMZs/AAAAAAAAAAI/AAAAAAAAAUw/DG8Nc1hInwE/s64/photo.jpg",
      "userId": "01731353529927081390"
     },
     "user_tz": 300
    },
    "id": "k0Mzo2AUClrn",
    "outputId": "f3c03619-bfa9-4054-c0ea-bd6a6d95f873"
   },
   "outputs": [
    {
     "data": {
      "text/html": [
       "<div>\n",
       "<style scoped>\n",
       "    .dataframe tbody tr th:only-of-type {\n",
       "        vertical-align: middle;\n",
       "    }\n",
       "\n",
       "    .dataframe tbody tr th {\n",
       "        vertical-align: top;\n",
       "    }\n",
       "\n",
       "    .dataframe thead th {\n",
       "        text-align: right;\n",
       "    }\n",
       "</style>\n",
       "<table border=\"1\" class=\"dataframe\">\n",
       "  <thead>\n",
       "    <tr style=\"text-align: right;\">\n",
       "      <th></th>\n",
       "      <th>sepal length</th>\n",
       "      <th>sepal width</th>\n",
       "      <th>petal length</th>\n",
       "      <th>petal width</th>\n",
       "      <th>iris</th>\n",
       "    </tr>\n",
       "  </thead>\n",
       "  <tbody>\n",
       "    <tr>\n",
       "      <th>0</th>\n",
       "      <td>5.1</td>\n",
       "      <td>3.5</td>\n",
       "      <td>1.4</td>\n",
       "      <td>0.2</td>\n",
       "      <td>Iris-setosa</td>\n",
       "    </tr>\n",
       "    <tr>\n",
       "      <th>1</th>\n",
       "      <td>4.9</td>\n",
       "      <td>3.0</td>\n",
       "      <td>1.4</td>\n",
       "      <td>0.2</td>\n",
       "      <td>Iris-setosa</td>\n",
       "    </tr>\n",
       "    <tr>\n",
       "      <th>2</th>\n",
       "      <td>4.7</td>\n",
       "      <td>3.2</td>\n",
       "      <td>1.3</td>\n",
       "      <td>0.2</td>\n",
       "      <td>Iris-setosa</td>\n",
       "    </tr>\n",
       "  </tbody>\n",
       "</table>\n",
       "</div>"
      ],
      "text/plain": [
       "   sepal length  sepal width  petal length  petal width         iris\n",
       "0           5.1          3.5           1.4          0.2  Iris-setosa\n",
       "1           4.9          3.0           1.4          0.2  Iris-setosa\n",
       "2           4.7          3.2           1.3          0.2  Iris-setosa"
      ]
     },
     "execution_count": 2,
     "metadata": {},
     "output_type": "execute_result"
    }
   ],
   "source": [
    "#Read data\n",
    "iris = pd.read_csv('./Datasets/Iris.csv')\n",
    "#Show Top 5 rows\n",
    "iris.head(3)"
   ]
  },
  {
   "cell_type": "code",
   "execution_count": 3,
   "metadata": {
    "colab": {
     "base_uri": "https://localhost:8080/"
    },
    "executionInfo": {
     "elapsed": 581,
     "status": "ok",
     "timestamp": 1612396086571,
     "user": {
      "displayName": "Alejandro Jesus Manotas Marmolejo",
      "photoUrl": "https://lh5.googleusercontent.com/-vMLLTpDXMZs/AAAAAAAAAAI/AAAAAAAAAUw/DG8Nc1hInwE/s64/photo.jpg",
      "userId": "01731353529927081390"
     },
     "user_tz": 300
    },
    "id": "9c6Ly3Mr8-Fb",
    "outputId": "5b171666-992d-413c-94a1-f38b4d63af4e"
   },
   "outputs": [
    {
     "data": {
      "text/plain": [
       "array(['Iris-setosa', 'Iris-versicolor', 'Iris-virginica'], dtype=object)"
      ]
     },
     "execution_count": 3,
     "metadata": {},
     "output_type": "execute_result"
    }
   ],
   "source": [
    "#Show how many examples we have of each species\n",
    "iris.iris.unique()"
   ]
  },
  {
   "cell_type": "code",
   "execution_count": 4,
   "metadata": {
    "colab": {
     "base_uri": "https://localhost:8080/"
    },
    "executionInfo": {
     "elapsed": 559,
     "status": "ok",
     "timestamp": 1612396092442,
     "user": {
      "displayName": "Alejandro Jesus Manotas Marmolejo",
      "photoUrl": "https://lh5.googleusercontent.com/-vMLLTpDXMZs/AAAAAAAAAAI/AAAAAAAAAUw/DG8Nc1hInwE/s64/photo.jpg",
      "userId": "01731353529927081390"
     },
     "user_tz": 300
    },
    "id": "20A-XLRQ8-Fb",
    "outputId": "1eeedfbf-943a-48d3-ec8a-971a3a2820cc"
   },
   "outputs": [
    {
     "data": {
      "text/plain": [
       "Iris-virginica     50\n",
       "Iris-versicolor    50\n",
       "Iris-setosa        50\n",
       "Name: iris, dtype: int64"
      ]
     },
     "execution_count": 4,
     "metadata": {},
     "output_type": "execute_result"
    }
   ],
   "source": [
    "iris['iris'].value_counts()"
   ]
  },
  {
   "cell_type": "code",
   "execution_count": 5,
   "metadata": {
    "colab": {
     "base_uri": "https://localhost:8080/",
     "height": 297
    },
    "executionInfo": {
     "elapsed": 517,
     "status": "ok",
     "timestamp": 1612396093538,
     "user": {
      "displayName": "Alejandro Jesus Manotas Marmolejo",
      "photoUrl": "https://lh5.googleusercontent.com/-vMLLTpDXMZs/AAAAAAAAAAI/AAAAAAAAAUw/DG8Nc1hInwE/s64/photo.jpg",
      "userId": "01731353529927081390"
     },
     "user_tz": 300
    },
    "id": "ibFRbM0EDi_S",
    "outputId": "dd6b35ef-fa3d-4907-b744-6366fc728caf"
   },
   "outputs": [
    {
     "data": {
      "text/html": [
       "<div>\n",
       "<style scoped>\n",
       "    .dataframe tbody tr th:only-of-type {\n",
       "        vertical-align: middle;\n",
       "    }\n",
       "\n",
       "    .dataframe tbody tr th {\n",
       "        vertical-align: top;\n",
       "    }\n",
       "\n",
       "    .dataframe thead th {\n",
       "        text-align: right;\n",
       "    }\n",
       "</style>\n",
       "<table border=\"1\" class=\"dataframe\">\n",
       "  <thead>\n",
       "    <tr style=\"text-align: right;\">\n",
       "      <th></th>\n",
       "      <th>sepal length</th>\n",
       "      <th>sepal width</th>\n",
       "      <th>petal length</th>\n",
       "      <th>petal width</th>\n",
       "    </tr>\n",
       "  </thead>\n",
       "  <tbody>\n",
       "    <tr>\n",
       "      <th>count</th>\n",
       "      <td>50.00000</td>\n",
       "      <td>50.000000</td>\n",
       "      <td>50.000000</td>\n",
       "      <td>50.00000</td>\n",
       "    </tr>\n",
       "    <tr>\n",
       "      <th>mean</th>\n",
       "      <td>5.00600</td>\n",
       "      <td>3.418000</td>\n",
       "      <td>1.464000</td>\n",
       "      <td>0.24400</td>\n",
       "    </tr>\n",
       "    <tr>\n",
       "      <th>std</th>\n",
       "      <td>0.35249</td>\n",
       "      <td>0.381024</td>\n",
       "      <td>0.173511</td>\n",
       "      <td>0.10721</td>\n",
       "    </tr>\n",
       "    <tr>\n",
       "      <th>min</th>\n",
       "      <td>4.30000</td>\n",
       "      <td>2.300000</td>\n",
       "      <td>1.000000</td>\n",
       "      <td>0.10000</td>\n",
       "    </tr>\n",
       "    <tr>\n",
       "      <th>25%</th>\n",
       "      <td>4.80000</td>\n",
       "      <td>3.125000</td>\n",
       "      <td>1.400000</td>\n",
       "      <td>0.20000</td>\n",
       "    </tr>\n",
       "    <tr>\n",
       "      <th>50%</th>\n",
       "      <td>5.00000</td>\n",
       "      <td>3.400000</td>\n",
       "      <td>1.500000</td>\n",
       "      <td>0.20000</td>\n",
       "    </tr>\n",
       "    <tr>\n",
       "      <th>75%</th>\n",
       "      <td>5.20000</td>\n",
       "      <td>3.675000</td>\n",
       "      <td>1.575000</td>\n",
       "      <td>0.30000</td>\n",
       "    </tr>\n",
       "    <tr>\n",
       "      <th>max</th>\n",
       "      <td>5.80000</td>\n",
       "      <td>4.400000</td>\n",
       "      <td>1.900000</td>\n",
       "      <td>0.60000</td>\n",
       "    </tr>\n",
       "  </tbody>\n",
       "</table>\n",
       "</div>"
      ],
      "text/plain": [
       "       sepal length  sepal width  petal length  petal width\n",
       "count      50.00000    50.000000     50.000000     50.00000\n",
       "mean        5.00600     3.418000      1.464000      0.24400\n",
       "std         0.35249     0.381024      0.173511      0.10721\n",
       "min         4.30000     2.300000      1.000000      0.10000\n",
       "25%         4.80000     3.125000      1.400000      0.20000\n",
       "50%         5.00000     3.400000      1.500000      0.20000\n",
       "75%         5.20000     3.675000      1.575000      0.30000\n",
       "max         5.80000     4.400000      1.900000      0.60000"
      ]
     },
     "execution_count": 5,
     "metadata": {},
     "output_type": "execute_result"
    }
   ],
   "source": [
    "#Select/filter for Iris-setosa\n",
    "iris_setosa = iris.loc[iris['iris']=='Iris-setosa']\n",
    "\n",
    "#Basic stats for Iris-setosa\n",
    "iris_setosa.describe()"
   ]
  },
  {
   "cell_type": "code",
   "execution_count": 6,
   "metadata": {
    "colab": {
     "base_uri": "https://localhost:8080/",
     "height": 390
    },
    "executionInfo": {
     "elapsed": 522,
     "status": "ok",
     "timestamp": 1612396097572,
     "user": {
      "displayName": "Alejandro Jesus Manotas Marmolejo",
      "photoUrl": "https://lh5.googleusercontent.com/-vMLLTpDXMZs/AAAAAAAAAAI/AAAAAAAAAUw/DG8Nc1hInwE/s64/photo.jpg",
      "userId": "01731353529927081390"
     },
     "user_tz": 300
    },
    "id": "ByYLgqRJ8-Fb",
    "outputId": "17e6b109-329c-48de-eac9-73b07d625536"
   },
   "outputs": [
    {
     "data": {
      "text/html": [
       "<div>\n",
       "<style scoped>\n",
       "    .dataframe tbody tr th:only-of-type {\n",
       "        vertical-align: middle;\n",
       "    }\n",
       "\n",
       "    .dataframe tbody tr th {\n",
       "        vertical-align: top;\n",
       "    }\n",
       "\n",
       "    .dataframe thead th {\n",
       "        text-align: right;\n",
       "    }\n",
       "</style>\n",
       "<table border=\"1\" class=\"dataframe\">\n",
       "  <thead>\n",
       "    <tr style=\"text-align: right;\">\n",
       "      <th></th>\n",
       "      <th>sepal length</th>\n",
       "      <th>sepal width</th>\n",
       "      <th>petal length</th>\n",
       "      <th>petal width</th>\n",
       "      <th>iris</th>\n",
       "    </tr>\n",
       "  </thead>\n",
       "  <tbody>\n",
       "    <tr>\n",
       "      <th>count</th>\n",
       "      <td>50.00000</td>\n",
       "      <td>50.000000</td>\n",
       "      <td>50.000000</td>\n",
       "      <td>50.00000</td>\n",
       "      <td>50</td>\n",
       "    </tr>\n",
       "    <tr>\n",
       "      <th>unique</th>\n",
       "      <td>NaN</td>\n",
       "      <td>NaN</td>\n",
       "      <td>NaN</td>\n",
       "      <td>NaN</td>\n",
       "      <td>1</td>\n",
       "    </tr>\n",
       "    <tr>\n",
       "      <th>top</th>\n",
       "      <td>NaN</td>\n",
       "      <td>NaN</td>\n",
       "      <td>NaN</td>\n",
       "      <td>NaN</td>\n",
       "      <td>Iris-setosa</td>\n",
       "    </tr>\n",
       "    <tr>\n",
       "      <th>freq</th>\n",
       "      <td>NaN</td>\n",
       "      <td>NaN</td>\n",
       "      <td>NaN</td>\n",
       "      <td>NaN</td>\n",
       "      <td>50</td>\n",
       "    </tr>\n",
       "    <tr>\n",
       "      <th>mean</th>\n",
       "      <td>5.00600</td>\n",
       "      <td>3.418000</td>\n",
       "      <td>1.464000</td>\n",
       "      <td>0.24400</td>\n",
       "      <td>NaN</td>\n",
       "    </tr>\n",
       "    <tr>\n",
       "      <th>std</th>\n",
       "      <td>0.35249</td>\n",
       "      <td>0.381024</td>\n",
       "      <td>0.173511</td>\n",
       "      <td>0.10721</td>\n",
       "      <td>NaN</td>\n",
       "    </tr>\n",
       "    <tr>\n",
       "      <th>min</th>\n",
       "      <td>4.30000</td>\n",
       "      <td>2.300000</td>\n",
       "      <td>1.000000</td>\n",
       "      <td>0.10000</td>\n",
       "      <td>NaN</td>\n",
       "    </tr>\n",
       "    <tr>\n",
       "      <th>25%</th>\n",
       "      <td>4.80000</td>\n",
       "      <td>3.125000</td>\n",
       "      <td>1.400000</td>\n",
       "      <td>0.20000</td>\n",
       "      <td>NaN</td>\n",
       "    </tr>\n",
       "    <tr>\n",
       "      <th>50%</th>\n",
       "      <td>5.00000</td>\n",
       "      <td>3.400000</td>\n",
       "      <td>1.500000</td>\n",
       "      <td>0.20000</td>\n",
       "      <td>NaN</td>\n",
       "    </tr>\n",
       "    <tr>\n",
       "      <th>75%</th>\n",
       "      <td>5.20000</td>\n",
       "      <td>3.675000</td>\n",
       "      <td>1.575000</td>\n",
       "      <td>0.30000</td>\n",
       "      <td>NaN</td>\n",
       "    </tr>\n",
       "    <tr>\n",
       "      <th>max</th>\n",
       "      <td>5.80000</td>\n",
       "      <td>4.400000</td>\n",
       "      <td>1.900000</td>\n",
       "      <td>0.60000</td>\n",
       "      <td>NaN</td>\n",
       "    </tr>\n",
       "  </tbody>\n",
       "</table>\n",
       "</div>"
      ],
      "text/plain": [
       "        sepal length  sepal width  petal length  petal width         iris\n",
       "count       50.00000    50.000000     50.000000     50.00000           50\n",
       "unique           NaN          NaN           NaN          NaN            1\n",
       "top              NaN          NaN           NaN          NaN  Iris-setosa\n",
       "freq             NaN          NaN           NaN          NaN           50\n",
       "mean         5.00600     3.418000      1.464000      0.24400          NaN\n",
       "std          0.35249     0.381024      0.173511      0.10721          NaN\n",
       "min          4.30000     2.300000      1.000000      0.10000          NaN\n",
       "25%          4.80000     3.125000      1.400000      0.20000          NaN\n",
       "50%          5.00000     3.400000      1.500000      0.20000          NaN\n",
       "75%          5.20000     3.675000      1.575000      0.30000          NaN\n",
       "max          5.80000     4.400000      1.900000      0.60000          NaN"
      ]
     },
     "execution_count": 6,
     "metadata": {},
     "output_type": "execute_result"
    }
   ],
   "source": [
    "#More stats for Iris-setosa\n",
    "iris_setosa.describe(include='all')"
   ]
  },
  {
   "cell_type": "code",
   "execution_count": 7,
   "metadata": {
    "colab": {
     "base_uri": "https://localhost:8080/"
    },
    "executionInfo": {
     "elapsed": 529,
     "status": "ok",
     "timestamp": 1612396102144,
     "user": {
      "displayName": "Alejandro Jesus Manotas Marmolejo",
      "photoUrl": "https://lh5.googleusercontent.com/-vMLLTpDXMZs/AAAAAAAAAAI/AAAAAAAAAUw/DG8Nc1hInwE/s64/photo.jpg",
      "userId": "01731353529927081390"
     },
     "user_tz": 300
    },
    "id": "DLAanVvv8-Fc",
    "outputId": "af175665-3d6b-428c-c2b6-51f272c2e9a8"
   },
   "outputs": [
    {
     "data": {
      "text/plain": [
       "5.0"
      ]
     },
     "execution_count": 7,
     "metadata": {},
     "output_type": "execute_result"
    }
   ],
   "source": [
    "#Show specific stats for Iris-setosa\n",
    "iris_setosa['sepal length'].median()"
   ]
  },
  {
   "cell_type": "code",
   "execution_count": 8,
   "metadata": {
    "colab": {
     "base_uri": "https://localhost:8080/",
     "height": 279
    },
    "executionInfo": {
     "elapsed": 753,
     "status": "ok",
     "timestamp": 1612396103195,
     "user": {
      "displayName": "Alejandro Jesus Manotas Marmolejo",
      "photoUrl": "https://lh5.googleusercontent.com/-vMLLTpDXMZs/AAAAAAAAAAI/AAAAAAAAAUw/DG8Nc1hInwE/s64/photo.jpg",
      "userId": "01731353529927081390"
     },
     "user_tz": 300
    },
    "id": "kLWGcXsT8-Fc",
    "outputId": "68d7c9f3-4cc6-4d2e-8958-0cb3fc1e8468"
   },
   "outputs": [
    {
     "data": {
      "image/png": "[encoded data removed]",
      "text/plain": [
       "<Figure size 432x288 with 1 Axes>"
      ]
     },
     "metadata": {
      "needs_background": "light"
     },
     "output_type": "display_data"
    }
   ],
   "source": [
    "#Create histogram for the sepal length of the Iris-setosa\n",
    "iris_setosa_hist = plt.hist(iris_setosa['sepal length'])\n",
    "iris_setosa_hist = plt.xlabel('sepal length')\n",
    "iris_setosa_hist = plt.ylabel('number of observations')"
   ]
  },
  {
   "cell_type": "code",
   "execution_count": 9,
   "metadata": {
    "colab": {
     "base_uri": "https://localhost:8080/",
     "height": 265
    },
    "executionInfo": {
     "elapsed": 767,
     "status": "ok",
     "timestamp": 1612396106329,
     "user": {
      "displayName": "Alejandro Jesus Manotas Marmolejo",
      "photoUrl": "https://lh5.googleusercontent.com/-vMLLTpDXMZs/AAAAAAAAAAI/AAAAAAAAAUw/DG8Nc1hInwE/s64/photo.jpg",
      "userId": "01731353529927081390"
     },
     "user_tz": 300
    },
    "id": "TSKzEDBv8-Fd",
    "outputId": "27b7e47d-5a77-47a1-aa39-fb4835ee8338"
   },
   "outputs": [
    {
     "data": {
      "image/png": "[encoded data removed]",
      "text/plain": [
       "<Figure size 432x288 with 1 Axes>"
      ]
     },
     "metadata": {
      "needs_background": "light"
     },
     "output_type": "display_data"
    }
   ],
   "source": [
    "#Create histogram for the sepal length of the Iris-setosa and fix the number of bins\n",
    "iris_setosa_hist2 = plt.hist(iris_setosa['sepal length'], bins=20)"
   ]
  },
  {
   "cell_type": "markdown",
   "metadata": {
    "id": "pPudxHJeTz_g"
   },
   "source": [
    "# Scatter plot"
   ]
  },
  {
   "cell_type": "code",
   "execution_count": 10,
   "metadata": {
    "colab": {
     "base_uri": "https://localhost:8080/",
     "height": 295
    },
    "executionInfo": {
     "elapsed": 753,
     "status": "ok",
     "timestamp": 1612396487271,
     "user": {
      "displayName": "Alejandro Jesus Manotas Marmolejo",
      "photoUrl": "https://lh5.googleusercontent.com/-vMLLTpDXMZs/AAAAAAAAAAI/AAAAAAAAAUw/DG8Nc1hInwE/s64/photo.jpg",
      "userId": "01731353529927081390"
     },
     "user_tz": 300
    },
    "id": "YqxVYAPS8-Fd",
    "outputId": "6aaf1525-b2b5-4b3c-9eab-674e6b76b5c1"
   },
   "outputs": [
    {
     "data": {
      "image/png": "[encoded data removed]",
      "text/plain": [
       "<Figure size 432x288 with 1 Axes>"
      ]
     },
     "metadata": {
      "needs_background": "light"
     },
     "output_type": "display_data"
    }
   ],
   "source": [
    "#Create scatter plot for all type of Iris looking at the sepal length vs the sepal width\n",
    "iris_versicolor = iris.loc[iris['iris']=='Iris-versicolor']\n",
    "iris_virginica = iris.loc[iris['iris']=='Iris-virginica']\n",
    "\n",
    "plt.scatter(iris_setosa['sepal length'], iris_setosa['sepal width'], label='setosa', color='red', marker='o')\n",
    "plt.scatter(iris_versicolor['sepal length'], iris_versicolor['sepal width'], label='versicolor', color='green', marker='+')\n",
    "plt.scatter(iris_virginica['sepal length'], iris_virginica['sepal width'], label='virginica', color='blue', marker='*')\n",
    "\n",
    "plt.title('Iris data')\n",
    "plt.xlabel('sepal length')\n",
    "plt.ylabel('sepal width')\n",
    "plt.legend(loc='upper right')\n",
    "plt.show()"
   ]
  },
  {
   "cell_type": "code",
   "execution_count": 11,
   "metadata": {
    "colab": {
     "base_uri": "https://localhost:8080/",
     "height": 279
    },
    "executionInfo": {
     "elapsed": 647,
     "status": "ok",
     "timestamp": 1612396682142,
     "user": {
      "displayName": "Alejandro Jesus Manotas Marmolejo",
      "photoUrl": "https://lh5.googleusercontent.com/-vMLLTpDXMZs/AAAAAAAAAAI/AAAAAAAAAUw/DG8Nc1hInwE/s64/photo.jpg",
      "userId": "01731353529927081390"
     },
     "user_tz": 300
    },
    "id": "X6otehPn8-Fe",
    "outputId": "9fb78e23-3ef0-4036-d0f0-e5a948fd81f0"
   },
   "outputs": [
    {
     "data": {
      "image/png": "[encoded data removed]",
      "text/plain": [
       "<Figure size 432x288 with 1 Axes>"
      ]
     },
     "metadata": {
      "needs_background": "light"
     },
     "output_type": "display_data"
    }
   ],
   "source": [
    "#Create boxplots for the petal length of all Iris types\n",
    "sns.boxplot(x='iris', y='petal length', data=iris)\n",
    "plt.show()"
   ]
  },
  {
   "cell_type": "code",
   "execution_count": 12,
   "metadata": {
    "colab": {
     "base_uri": "https://localhost:8080/",
     "height": 279
    },
    "executionInfo": {
     "elapsed": 569,
     "status": "ok",
     "timestamp": 1612397003529,
     "user": {
      "displayName": "Alejandro Jesus Manotas Marmolejo",
      "photoUrl": "https://lh5.googleusercontent.com/-vMLLTpDXMZs/AAAAAAAAAAI/AAAAAAAAAUw/DG8Nc1hInwE/s64/photo.jpg",
      "userId": "01731353529927081390"
     },
     "user_tz": 300
    },
    "id": "ePtZnb288-Fe",
    "outputId": "396c464c-dc7c-4c14-88e7-6671d6c572bc"
   },
   "outputs": [
    {
     "data": {
      "image/png": "[encoded data removed]",
      "text/plain": [
       "<Figure size 432x288 with 1 Axes>"
      ]
     },
     "metadata": {
      "needs_background": "light"
     },
     "output_type": "display_data"
    }
   ],
   "source": [
    "#Create violin plots for petal lenght for all Iris types\n",
    "sns.violinplot(x='iris', y='petal length', data=iris)\n",
    "plt.show()"
   ]
  },
  {
   "cell_type": "code",
   "execution_count": 13,
   "metadata": {
    "colab": {
     "base_uri": "https://localhost:8080/",
     "height": 279
    },
    "executionInfo": {
     "elapsed": 554,
     "status": "ok",
     "timestamp": 1612397409207,
     "user": {
      "displayName": "Alejandro Jesus Manotas Marmolejo",
      "photoUrl": "https://lh5.googleusercontent.com/-vMLLTpDXMZs/AAAAAAAAAAI/AAAAAAAAAUw/DG8Nc1hInwE/s64/photo.jpg",
      "userId": "01731353529927081390"
     },
     "user_tz": 300
    },
    "id": "w1aZ_Eud8-Fe",
    "outputId": "fbf1f77f-c46c-467f-80f2-b67f830bdf14"
   },
   "outputs": [
    {
     "data": {
      "image/png": "[encoded data removed]",
      "text/plain": [
       "<Figure size 432x288 with 1 Axes>"
      ]
     },
     "metadata": {
      "needs_background": "light"
     },
     "output_type": "display_data"
    }
   ],
   "source": [
    "#Create swarm plot\n",
    "sns.swarmplot(x='iris', y='petal length', data=iris, s=3)\n",
    "plt.show()"
   ]
  },
  {
   "cell_type": "code",
   "execution_count": 14,
   "metadata": {
    "colab": {
     "base_uri": "https://localhost:8080/",
     "height": 441
    },
    "executionInfo": {
     "elapsed": 1428,
     "status": "ok",
     "timestamp": 1612397381416,
     "user": {
      "displayName": "Alejandro Jesus Manotas Marmolejo",
      "photoUrl": "https://lh5.googleusercontent.com/-vMLLTpDXMZs/AAAAAAAAAAI/AAAAAAAAAUw/DG8Nc1hInwE/s64/photo.jpg",
      "userId": "01731353529927081390"
     },
     "user_tz": 300
    },
    "id": "p8nA7ZT98-Fe",
    "outputId": "ff09114b-340f-49d6-b6f2-aec6b1951c7d"
   },
   "outputs": [
    {
     "data": {
      "image/png": "[encoded data removed]",
      "text/plain": [
       "<Figure size 432x432 with 3 Axes>"
      ]
     },
     "metadata": {
      "needs_background": "light"
     },
     "output_type": "display_data"
    }
   ],
   "source": [
    "#Create join plot\n",
    "sns.jointplot(x='sepal length', y='sepal width', data=iris)\n",
    "plt.show()"
   ]
  },
  {
   "cell_type": "code",
   "execution_count": 15,
   "metadata": {
    "colab": {
     "base_uri": "https://localhost:8080/"
    },
    "executionInfo": {
     "elapsed": 603,
     "status": "ok",
     "timestamp": 1612397871008,
     "user": {
      "displayName": "Alejandro Jesus Manotas Marmolejo",
      "photoUrl": "https://lh5.googleusercontent.com/-vMLLTpDXMZs/AAAAAAAAAAI/AAAAAAAAAUw/DG8Nc1hInwE/s64/photo.jpg",
      "userId": "01731353529927081390"
     },
     "user_tz": 300
    },
    "id": "nK49wKNh8-Ff",
    "outputId": "d781e0cb-85d5-4b3d-a063-dd68c0acc0bd"
   },
   "outputs": [
    {
     "data": {
      "text/plain": [
       "array([[1.       , 0.9627571],\n",
       "       [0.9627571, 1.       ]])"
      ]
     },
     "execution_count": 15,
     "metadata": {},
     "output_type": "execute_result"
    }
   ],
   "source": [
    "#Pearson correlation coefficient\n",
    "Iris_versicolor_petal_length = iris.iloc[:,2]\n",
    "Iris_versicolor_petal_width = iris.iloc[:,3]\n",
    "\n",
    "np.corrcoef(Iris_versicolor_petal_length, Iris_versicolor_petal_width)"
   ]
  },
  {
   "cell_type": "code",
   "execution_count": 16,
   "metadata": {
    "colab": {
     "base_uri": "https://localhost:8080/"
    },
    "executionInfo": {
     "elapsed": 586,
     "status": "ok",
     "timestamp": 1612398221842,
     "user": {
      "displayName": "Alejandro Jesus Manotas Marmolejo",
      "photoUrl": "https://lh5.googleusercontent.com/-vMLLTpDXMZs/AAAAAAAAAAI/AAAAAAAAAUw/DG8Nc1hInwE/s64/photo.jpg",
      "userId": "01731353529927081390"
     },
     "user_tz": 300
    },
    "id": "pPwV6psk8-Ff",
    "outputId": "61b4e11a-ac95-4bcf-eee1-f5934a077636"
   },
   "outputs": [
    {
     "name": "stdout",
     "output_type": "stream",
     "text": [
      "0.9627570970509662\n"
     ]
    }
   ],
   "source": [
    "#Pearson correlation coefficient\n",
    "def pearson_r(x,y):\n",
    "  corr_mat = np.corrcoef(x,y)\n",
    "  return corr_mat[0,1]\n",
    "\n",
    "r = pearson_r(iris['petal length'], iris['petal width'])\n",
    "print(r)"
   ]
  },
  {
   "cell_type": "code",
   "execution_count": 17,
   "metadata": {
    "colab": {
     "base_uri": "https://localhost:8080/",
     "height": 269
    },
    "executionInfo": {
     "elapsed": 713,
     "status": "ok",
     "timestamp": 1612398480463,
     "user": {
      "displayName": "Alejandro Jesus Manotas Marmolejo",
      "photoUrl": "https://lh5.googleusercontent.com/-vMLLTpDXMZs/AAAAAAAAAAI/AAAAAAAAAUw/DG8Nc1hInwE/s64/photo.jpg",
      "userId": "01731353529927081390"
     },
     "user_tz": 300
    },
    "id": "8Oia_bMJ8-Fg",
    "outputId": "206433ac-c5b2-4b89-e4e4-ab64a522dc97"
   },
   "outputs": [
    {
     "data": {
      "image/png": "[encoded data removed]",
      "text/plain": [
       "<Figure size 432x288 with 2 Axes>"
      ]
     },
     "metadata": {
      "needs_background": "light"
     },
     "output_type": "display_data"
    }
   ],
   "source": [
    "# Calculate correlations\n",
    "corr = iris_versicolor.corr()\n",
    "\n",
    "# Heatmap\n",
    "sns.heatmap(corr)\n",
    "plt.show()"
   ]
  }
 ],
 "metadata": {
  "colab": {
   "name": "Iris-EST.ipynb",
   "provenance": []
  },
  "kernelspec": {
   "display_name": "Python 3",
   "language": "python",
   "name": "python3"
  },
  "language_info": {
   "codemirror_mode": {
    "name": "ipython",
    "version": 3
   },
   "file_extension": ".py",
   "mimetype": "text/x-python",
   "name": "python",
   "nbconvert_exporter": "python",
   "pygments_lexer": "ipython3",
   "version": "3.8.5"
  },
  "varInspector": {
   "cols": {
    "lenName": 16,
    "lenType": 16,
    "lenVar": 40
   },
   "kernels_config": {
    "python": {
     "delete_cmd_postfix": "",
     "delete_cmd_prefix": "del ",
     "library": "var_list.py",
     "varRefreshCmd": "print(var_dic_list())"
    },
    "r": {
     "delete_cmd_postfix": ") ",
     "delete_cmd_prefix": "rm(",
     "library": "var_list.r",
     "varRefreshCmd": "cat(var_dic_list()) "
    }
   },
   "types_to_exclude": [
    "module",
    "function",
    "builtin_function_or_method",
    "instance",
    "_Feature"
   ],
   "window_display": false
  }
 },
 "nbformat": 4,
 "nbformat_minor": 1
}
