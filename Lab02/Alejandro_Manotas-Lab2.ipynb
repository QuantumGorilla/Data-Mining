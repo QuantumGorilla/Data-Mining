{
 "cells": [
  {
   "cell_type": "markdown",
   "metadata": {
    "id": "9qmSgjyZLu6y"
   },
   "source": [
    "<h2> Nombre: Alejandro Jesús Manotas Marmolejo </h2>\n",
    "\n",
    "<h2> Código: 200108289 </h2>"
   ]
  },
  {
   "cell_type": "code",
   "execution_count": 1,
   "metadata": {
    "executionInfo": {
     "elapsed": 1101,
     "status": "ok",
     "timestamp": 1614642379977,
     "user": {
      "displayName": "Alejandro Jesús Manotas Marmolejo",
      "photoUrl": "https://lh3.googleusercontent.com/a-/AOh14GiBMbRcpANQzZvYJ9LWzVxvD9qatNblJ2V0VdIvH6s=s64",
      "userId": "03263816449986361555"
     },
     "user_tz": 300
    },
    "id": "5X1LjOGqLrwz"
   },
   "outputs": [],
   "source": [
    "#Importar librarías\n",
    "import pandas as pd\n",
    "import matplotlib.pyplot as plt\n",
    "import seaborn as sns\n",
    "import numpy as np\n",
    "import datetime as dt"
   ]
  },
  {
   "cell_type": "markdown",
   "metadata": {
    "id": "fmQ2s8u-MB7D"
   },
   "source": [
    "# Stock market analysis\n",
    "\n",
    "---\n",
    "\n"
   ]
  },
  {
   "cell_type": "markdown",
   "metadata": {
    "id": "9veQ1dJeMF3W"
   },
   "source": [
    "## Apple Data"
   ]
  },
  {
   "cell_type": "code",
   "execution_count": 2,
   "metadata": {
    "colab": {
     "base_uri": "https://localhost:8080/",
     "height": 359
    },
    "executionInfo": {
     "elapsed": 749,
     "status": "ok",
     "timestamp": 1614642562291,
     "user": {
      "displayName": "Alejandro Jesús Manotas Marmolejo",
      "photoUrl": "https://lh3.googleusercontent.com/a-/AOh14GiBMbRcpANQzZvYJ9LWzVxvD9qatNblJ2V0VdIvH6s=s64",
      "userId": "03263816449986361555"
     },
     "user_tz": 300
    },
    "id": "CEOkqE46MAVC",
    "outputId": "6101eadf-142b-4d58-f4cf-53221e755234"
   },
   "outputs": [
    {
     "data": {
      "text/html": [
       "<div>\n",
       "<style scoped>\n",
       "    .dataframe tbody tr th:only-of-type {\n",
       "        vertical-align: middle;\n",
       "    }\n",
       "\n",
       "    .dataframe tbody tr th {\n",
       "        vertical-align: top;\n",
       "    }\n",
       "\n",
       "    .dataframe thead th {\n",
       "        text-align: right;\n",
       "    }\n",
       "</style>\n",
       "<table border=\"1\" class=\"dataframe\">\n",
       "  <thead>\n",
       "    <tr style=\"text-align: right;\">\n",
       "      <th></th>\n",
       "      <th>Date</th>\n",
       "      <th>Open</th>\n",
       "      <th>High</th>\n",
       "      <th>Low</th>\n",
       "      <th>Close</th>\n",
       "      <th>Volume</th>\n",
       "    </tr>\n",
       "  </thead>\n",
       "  <tbody>\n",
       "    <tr>\n",
       "      <th>0</th>\n",
       "      <td>2019-02-27</td>\n",
       "      <td>43.3025</td>\n",
       "      <td>43.7500</td>\n",
       "      <td>43.1825</td>\n",
       "      <td>43.7175</td>\n",
       "      <td>111270560</td>\n",
       "    </tr>\n",
       "    <tr>\n",
       "      <th>1</th>\n",
       "      <td>2019-02-28</td>\n",
       "      <td>43.5800</td>\n",
       "      <td>43.7275</td>\n",
       "      <td>43.2300</td>\n",
       "      <td>43.2875</td>\n",
       "      <td>111815240</td>\n",
       "    </tr>\n",
       "    <tr>\n",
       "      <th>2</th>\n",
       "      <td>2019-03-01</td>\n",
       "      <td>43.5700</td>\n",
       "      <td>43.7875</td>\n",
       "      <td>43.2225</td>\n",
       "      <td>43.7425</td>\n",
       "      <td>102950240</td>\n",
       "    </tr>\n",
       "    <tr>\n",
       "      <th>3</th>\n",
       "      <td>2019-03-04</td>\n",
       "      <td>43.9225</td>\n",
       "      <td>44.4375</td>\n",
       "      <td>43.4925</td>\n",
       "      <td>43.9625</td>\n",
       "      <td>109652240</td>\n",
       "    </tr>\n",
       "    <tr>\n",
       "      <th>4</th>\n",
       "      <td>2019-03-05</td>\n",
       "      <td>43.9850</td>\n",
       "      <td>44.0000</td>\n",
       "      <td>43.6350</td>\n",
       "      <td>43.8825</td>\n",
       "      <td>76953920</td>\n",
       "    </tr>\n",
       "    <tr>\n",
       "      <th>5</th>\n",
       "      <td>2019-03-06</td>\n",
       "      <td>43.6675</td>\n",
       "      <td>43.8725</td>\n",
       "      <td>43.4850</td>\n",
       "      <td>43.6300</td>\n",
       "      <td>83020560</td>\n",
       "    </tr>\n",
       "    <tr>\n",
       "      <th>6</th>\n",
       "      <td>2019-03-07</td>\n",
       "      <td>43.4675</td>\n",
       "      <td>43.6100</td>\n",
       "      <td>43.0050</td>\n",
       "      <td>43.1250</td>\n",
       "      <td>99021880</td>\n",
       "    </tr>\n",
       "    <tr>\n",
       "      <th>7</th>\n",
       "      <td>2019-03-08</td>\n",
       "      <td>42.5800</td>\n",
       "      <td>43.2675</td>\n",
       "      <td>42.3750</td>\n",
       "      <td>43.2275</td>\n",
       "      <td>95943840</td>\n",
       "    </tr>\n",
       "    <tr>\n",
       "      <th>8</th>\n",
       "      <td>2019-03-11</td>\n",
       "      <td>43.8725</td>\n",
       "      <td>44.7800</td>\n",
       "      <td>43.8375</td>\n",
       "      <td>44.7250</td>\n",
       "      <td>124492000</td>\n",
       "    </tr>\n",
       "    <tr>\n",
       "      <th>9</th>\n",
       "      <td>2019-03-12</td>\n",
       "      <td>45.0000</td>\n",
       "      <td>45.6675</td>\n",
       "      <td>44.8425</td>\n",
       "      <td>45.2275</td>\n",
       "      <td>129667200</td>\n",
       "    </tr>\n",
       "  </tbody>\n",
       "</table>\n",
       "</div>"
      ],
      "text/plain": [
       "         Date     Open     High      Low    Close     Volume\n",
       "0  2019-02-27  43.3025  43.7500  43.1825  43.7175  111270560\n",
       "1  2019-02-28  43.5800  43.7275  43.2300  43.2875  111815240\n",
       "2  2019-03-01  43.5700  43.7875  43.2225  43.7425  102950240\n",
       "3  2019-03-04  43.9225  44.4375  43.4925  43.9625  109652240\n",
       "4  2019-03-05  43.9850  44.0000  43.6350  43.8825   76953920\n",
       "5  2019-03-06  43.6675  43.8725  43.4850  43.6300   83020560\n",
       "6  2019-03-07  43.4675  43.6100  43.0050  43.1250   99021880\n",
       "7  2019-03-08  42.5800  43.2675  42.3750  43.2275   95943840\n",
       "8  2019-03-11  43.8725  44.7800  43.8375  44.7250  124492000\n",
       "9  2019-03-12  45.0000  45.6675  44.8425  45.2275  129667200"
      ]
     },
     "execution_count": 2,
     "metadata": {},
     "output_type": "execute_result"
    }
   ],
   "source": [
    "#Leer el csv de APple\n",
    "apple = pd.read_csv('./DataStock/Apple.csv')\n",
    "\n",
    "#Primeras 10 filas\n",
    "apple.head(10)"
   ]
  },
  {
   "cell_type": "markdown",
   "metadata": {
    "id": "mQf7bnfQMoXd"
   },
   "source": [
    "### Medidas de tendencia central para Apple"
   ]
  },
  {
   "cell_type": "code",
   "execution_count": 3,
   "metadata": {
    "colab": {
     "base_uri": "https://localhost:8080/"
    },
    "executionInfo": {
     "elapsed": 797,
     "status": "ok",
     "timestamp": 1614642618919,
     "user": {
      "displayName": "Alejandro Jesús Manotas Marmolejo",
      "photoUrl": "https://lh3.googleusercontent.com/a-/AOh14GiBMbRcpANQzZvYJ9LWzVxvD9qatNblJ2V0VdIvH6s=s64",
      "userId": "03263816449986361555"
     },
     "user_tz": 300
    },
    "id": "sOhAqXndMjrD",
    "outputId": "b86eb9f4-576a-4937-95fc-1bbcf2b7a363"
   },
   "outputs": [
    {
     "data": {
      "text/plain": [
       "80.65659168316834"
      ]
     },
     "execution_count": 3,
     "metadata": {},
     "output_type": "execute_result"
    }
   ],
   "source": [
    "#Promedio de valor de cierre\n",
    "apple['Close'].mean()"
   ]
  },
  {
   "cell_type": "code",
   "execution_count": 4,
   "metadata": {
    "colab": {
     "base_uri": "https://localhost:8080/"
    },
    "executionInfo": {
     "elapsed": 518,
     "status": "ok",
     "timestamp": 1614642620253,
     "user": {
      "displayName": "Alejandro Jesús Manotas Marmolejo",
      "photoUrl": "https://lh3.googleusercontent.com/a-/AOh14GiBMbRcpANQzZvYJ9LWzVxvD9qatNblJ2V0VdIvH6s=s64",
      "userId": "03263816449986361555"
     },
     "user_tz": 300
    },
    "id": "K3W0duFTMuhQ",
    "outputId": "a8e08ffe-375c-4b07-91d7-f867c056f0a2"
   },
   "outputs": [
    {
     "data": {
      "text/plain": [
       "72.33"
      ]
     },
     "execution_count": 4,
     "metadata": {},
     "output_type": "execute_result"
    }
   ],
   "source": [
    "#Mediana de valor de cierre\n",
    "apple['Close'].median()"
   ]
  },
  {
   "cell_type": "code",
   "execution_count": 5,
   "metadata": {
    "colab": {
     "base_uri": "https://localhost:8080/"
    },
    "executionInfo": {
     "elapsed": 523,
     "status": "ok",
     "timestamp": 1614642622061,
     "user": {
      "displayName": "Alejandro Jesús Manotas Marmolejo",
      "photoUrl": "https://lh3.googleusercontent.com/a-/AOh14GiBMbRcpANQzZvYJ9LWzVxvD9qatNblJ2V0VdIvH6s=s64",
      "userId": "03263816449986361555"
     },
     "user_tz": 300
    },
    "id": "gCuJybWbMvg6",
    "outputId": "346866de-fe17-4ba8-922b-0ec9eaa43061"
   },
   "outputs": [
    {
     "data": {
      "text/plain": [
       "0     49.2500\n",
       "1     64.8575\n",
       "2     79.8075\n",
       "3     91.0275\n",
       "4    121.7800\n",
       "dtype: float64"
      ]
     },
     "execution_count": 5,
     "metadata": {},
     "output_type": "execute_result"
    }
   ],
   "source": [
    "#Moda de valor de cierre\n",
    "apple['Close'].mode()"
   ]
  },
  {
   "cell_type": "markdown",
   "metadata": {
    "id": "WzbvJKnkM1Zm"
   },
   "source": [
    "### Medidas de dispersión para Apple"
   ]
  },
  {
   "cell_type": "code",
   "execution_count": 6,
   "metadata": {
    "colab": {
     "base_uri": "https://localhost:8080/"
    },
    "executionInfo": {
     "elapsed": 511,
     "status": "ok",
     "timestamp": 1614642650026,
     "user": {
      "displayName": "Alejandro Jesús Manotas Marmolejo",
      "photoUrl": "https://lh3.googleusercontent.com/a-/AOh14GiBMbRcpANQzZvYJ9LWzVxvD9qatNblJ2V0VdIvH6s=s64",
      "userId": "03263816449986361555"
     },
     "user_tz": 300
    },
    "id": "Mxoiv5PTMvaO",
    "outputId": "34ec99d8-a300-4f91-9680-c3778b257886"
   },
   "outputs": [
    {
     "data": {
      "text/plain": [
       "872.9712050645733"
      ]
     },
     "execution_count": 6,
     "metadata": {},
     "output_type": "execute_result"
    }
   ],
   "source": [
    "#Varianza de valor de cierre\n",
    "apple['Close'].var()"
   ]
  },
  {
   "cell_type": "code",
   "execution_count": 7,
   "metadata": {
    "colab": {
     "base_uri": "https://localhost:8080/"
    },
    "executionInfo": {
     "elapsed": 536,
     "status": "ok",
     "timestamp": 1614642651539,
     "user": {
      "displayName": "Alejandro Jesús Manotas Marmolejo",
      "photoUrl": "https://lh3.googleusercontent.com/a-/AOh14GiBMbRcpANQzZvYJ9LWzVxvD9qatNblJ2V0VdIvH6s=s64",
      "userId": "03263816449986361555"
     },
     "user_tz": 300
    },
    "id": "otJ_RNFjM4XH",
    "outputId": "e7d3cc70-e35b-4dbb-c63d-923f611bbf01"
   },
   "outputs": [
    {
     "data": {
      "text/plain": [
       "29.5460861209158"
      ]
     },
     "execution_count": 7,
     "metadata": {},
     "output_type": "execute_result"
    }
   ],
   "source": [
    "#Desviación estándar de valor de cierre\n",
    "apple['Close'].std()"
   ]
  },
  {
   "cell_type": "markdown",
   "metadata": {
    "id": "u90RvvzeM7rm"
   },
   "source": [
    "## Walmart Data"
   ]
  },
  {
   "cell_type": "code",
   "execution_count": 8,
   "metadata": {
    "colab": {
     "base_uri": "https://localhost:8080/",
     "height": 359
    },
    "executionInfo": {
     "elapsed": 1153,
     "status": "ok",
     "timestamp": 1614642688056,
     "user": {
      "displayName": "Alejandro Jesús Manotas Marmolejo",
      "photoUrl": "https://lh3.googleusercontent.com/a-/AOh14GiBMbRcpANQzZvYJ9LWzVxvD9qatNblJ2V0VdIvH6s=s64",
      "userId": "03263816449986361555"
     },
     "user_tz": 300
    },
    "id": "nfP8-86oNAzy",
    "outputId": "c8eb98a9-910f-436c-8d67-cf876f0fd97a"
   },
   "outputs": [
    {
     "data": {
      "text/html": [
       "<div>\n",
       "<style scoped>\n",
       "    .dataframe tbody tr th:only-of-type {\n",
       "        vertical-align: middle;\n",
       "    }\n",
       "\n",
       "    .dataframe tbody tr th {\n",
       "        vertical-align: top;\n",
       "    }\n",
       "\n",
       "    .dataframe thead th {\n",
       "        text-align: right;\n",
       "    }\n",
       "</style>\n",
       "<table border=\"1\" class=\"dataframe\">\n",
       "  <thead>\n",
       "    <tr style=\"text-align: right;\">\n",
       "      <th></th>\n",
       "      <th>Date</th>\n",
       "      <th>Open</th>\n",
       "      <th>High</th>\n",
       "      <th>Low</th>\n",
       "      <th>Close</th>\n",
       "      <th>Volume</th>\n",
       "    </tr>\n",
       "  </thead>\n",
       "  <tbody>\n",
       "    <tr>\n",
       "      <th>0</th>\n",
       "      <td>2019-02-27</td>\n",
       "      <td>98.12</td>\n",
       "      <td>98.39</td>\n",
       "      <td>97.5900</td>\n",
       "      <td>98.11</td>\n",
       "      <td>7901312</td>\n",
       "    </tr>\n",
       "    <tr>\n",
       "      <th>1</th>\n",
       "      <td>2019-02-28</td>\n",
       "      <td>98.11</td>\n",
       "      <td>99.47</td>\n",
       "      <td>97.7700</td>\n",
       "      <td>98.99</td>\n",
       "      <td>11298690</td>\n",
       "    </tr>\n",
       "    <tr>\n",
       "      <th>2</th>\n",
       "      <td>2019-03-01</td>\n",
       "      <td>99.47</td>\n",
       "      <td>99.56</td>\n",
       "      <td>97.1200</td>\n",
       "      <td>97.93</td>\n",
       "      <td>10305760</td>\n",
       "    </tr>\n",
       "    <tr>\n",
       "      <th>3</th>\n",
       "      <td>2019-03-04</td>\n",
       "      <td>98.12</td>\n",
       "      <td>98.59</td>\n",
       "      <td>97.3700</td>\n",
       "      <td>97.85</td>\n",
       "      <td>7676015</td>\n",
       "    </tr>\n",
       "    <tr>\n",
       "      <th>4</th>\n",
       "      <td>2019-03-05</td>\n",
       "      <td>98.13</td>\n",
       "      <td>99.19</td>\n",
       "      <td>98.0908</td>\n",
       "      <td>98.34</td>\n",
       "      <td>5988401</td>\n",
       "    </tr>\n",
       "    <tr>\n",
       "      <th>5</th>\n",
       "      <td>2019-03-06</td>\n",
       "      <td>98.27</td>\n",
       "      <td>99.00</td>\n",
       "      <td>97.8600</td>\n",
       "      <td>98.26</td>\n",
       "      <td>4696570</td>\n",
       "    </tr>\n",
       "    <tr>\n",
       "      <th>6</th>\n",
       "      <td>2019-03-07</td>\n",
       "      <td>97.71</td>\n",
       "      <td>98.20</td>\n",
       "      <td>97.2350</td>\n",
       "      <td>97.45</td>\n",
       "      <td>6015224</td>\n",
       "    </tr>\n",
       "    <tr>\n",
       "      <th>7</th>\n",
       "      <td>2019-03-08</td>\n",
       "      <td>97.55</td>\n",
       "      <td>98.42</td>\n",
       "      <td>97.0000</td>\n",
       "      <td>97.59</td>\n",
       "      <td>5658967</td>\n",
       "    </tr>\n",
       "    <tr>\n",
       "      <th>8</th>\n",
       "      <td>2019-03-11</td>\n",
       "      <td>98.04</td>\n",
       "      <td>98.58</td>\n",
       "      <td>97.8200</td>\n",
       "      <td>98.48</td>\n",
       "      <td>5344505</td>\n",
       "    </tr>\n",
       "    <tr>\n",
       "      <th>9</th>\n",
       "      <td>2019-03-12</td>\n",
       "      <td>98.53</td>\n",
       "      <td>98.74</td>\n",
       "      <td>98.0500</td>\n",
       "      <td>98.37</td>\n",
       "      <td>5070544</td>\n",
       "    </tr>\n",
       "  </tbody>\n",
       "</table>\n",
       "</div>"
      ],
      "text/plain": [
       "         Date   Open   High      Low  Close    Volume\n",
       "0  2019-02-27  98.12  98.39  97.5900  98.11   7901312\n",
       "1  2019-02-28  98.11  99.47  97.7700  98.99  11298690\n",
       "2  2019-03-01  99.47  99.56  97.1200  97.93  10305760\n",
       "3  2019-03-04  98.12  98.59  97.3700  97.85   7676015\n",
       "4  2019-03-05  98.13  99.19  98.0908  98.34   5988401\n",
       "5  2019-03-06  98.27  99.00  97.8600  98.26   4696570\n",
       "6  2019-03-07  97.71  98.20  97.2350  97.45   6015224\n",
       "7  2019-03-08  97.55  98.42  97.0000  97.59   5658967\n",
       "8  2019-03-11  98.04  98.58  97.8200  98.48   5344505\n",
       "9  2019-03-12  98.53  98.74  98.0500  98.37   5070544"
      ]
     },
     "execution_count": 8,
     "metadata": {},
     "output_type": "execute_result"
    }
   ],
   "source": [
    "#Leer csv de Walmart\n",
    "walmart = pd.read_csv('./DataStock/Walmart.csv')\n",
    "\n",
    "#Primeras 10 filas\n",
    "walmart.head(10)"
   ]
  },
  {
   "cell_type": "markdown",
   "metadata": {
    "id": "uIzFZjdRNHfX"
   },
   "source": [
    "### Medidas de tendencia central para Walmart"
   ]
  },
  {
   "cell_type": "code",
   "execution_count": 9,
   "metadata": {
    "colab": {
     "base_uri": "https://localhost:8080/"
    },
    "executionInfo": {
     "elapsed": 527,
     "status": "ok",
     "timestamp": 1614642728647,
     "user": {
      "displayName": "Alejandro Jesús Manotas Marmolejo",
      "photoUrl": "https://lh3.googleusercontent.com/a-/AOh14GiBMbRcpANQzZvYJ9LWzVxvD9qatNblJ2V0VdIvH6s=s64",
      "userId": "03263816449986361555"
     },
     "user_tz": 300
    },
    "id": "upfjUutnNE--",
    "outputId": "961a7101-d77f-4cb9-b92f-df6193b4713a"
   },
   "outputs": [
    {
     "data": {
      "text/plain": [
       "122.52027722772272"
      ]
     },
     "execution_count": 9,
     "metadata": {},
     "output_type": "execute_result"
    }
   ],
   "source": [
    "#Promedio de valor de cierre\n",
    "walmart['Close'].mean()"
   ]
  },
  {
   "cell_type": "code",
   "execution_count": 10,
   "metadata": {
    "colab": {
     "base_uri": "https://localhost:8080/"
    },
    "executionInfo": {
     "elapsed": 523,
     "status": "ok",
     "timestamp": 1614642730006,
     "user": {
      "displayName": "Alejandro Jesús Manotas Marmolejo",
      "photoUrl": "https://lh3.googleusercontent.com/a-/AOh14GiBMbRcpANQzZvYJ9LWzVxvD9qatNblJ2V0VdIvH6s=s64",
      "userId": "03263816449986361555"
     },
     "user_tz": 300
    },
    "id": "ACTePmWcNKfv",
    "outputId": "f6d87e7a-a4cd-44b9-943d-da513151de77"
   },
   "outputs": [
    {
     "data": {
      "text/plain": [
       "119.35"
      ]
     },
     "execution_count": 10,
     "metadata": {},
     "output_type": "execute_result"
    }
   ],
   "source": [
    "#Mediana de valor de cierre\n",
    "walmart['Close'].median()"
   ]
  },
  {
   "cell_type": "code",
   "execution_count": 11,
   "metadata": {
    "colab": {
     "base_uri": "https://localhost:8080/"
    },
    "executionInfo": {
     "elapsed": 565,
     "status": "ok",
     "timestamp": 1614642733429,
     "user": {
      "displayName": "Alejandro Jesús Manotas Marmolejo",
      "photoUrl": "https://lh3.googleusercontent.com/a-/AOh14GiBMbRcpANQzZvYJ9LWzVxvD9qatNblJ2V0VdIvH6s=s64",
      "userId": "03263816449986361555"
     },
     "user_tz": 300
    },
    "id": "13JRdzRUNLvd",
    "outputId": "1e6287cf-d482-4b56-c641-633f147f9150"
   },
   "outputs": [
    {
     "data": {
      "text/plain": [
       "0      98.11\n",
       "1     101.56\n",
       "2     109.40\n",
       "3     112.72\n",
       "4     114.60\n",
       "5     115.88\n",
       "6     116.31\n",
       "7     117.16\n",
       "8     117.23\n",
       "9     117.62\n",
       "10    117.89\n",
       "11    119.03\n",
       "12    119.04\n",
       "13    119.14\n",
       "14    119.36\n",
       "15    119.78\n",
       "16    119.86\n",
       "17    120.29\n",
       "18    131.64\n",
       "19    132.33\n",
       "20    136.70\n",
       "21    142.78\n",
       "dtype: float64"
      ]
     },
     "execution_count": 11,
     "metadata": {},
     "output_type": "execute_result"
    }
   ],
   "source": [
    "#Moda de valor de cierre\n",
    "walmart['Close'].mode()"
   ]
  },
  {
   "cell_type": "markdown",
   "metadata": {
    "id": "KKQ7dpn1NO44"
   },
   "source": [
    "### Medidas de dispersión para Walmart"
   ]
  },
  {
   "cell_type": "code",
   "execution_count": 12,
   "metadata": {
    "colab": {
     "base_uri": "https://localhost:8080/"
    },
    "executionInfo": {
     "elapsed": 535,
     "status": "ok",
     "timestamp": 1614642777135,
     "user": {
      "displayName": "Alejandro Jesús Manotas Marmolejo",
      "photoUrl": "https://lh3.googleusercontent.com/a-/AOh14GiBMbRcpANQzZvYJ9LWzVxvD9qatNblJ2V0VdIvH6s=s64",
      "userId": "03263816449986361555"
     },
     "user_tz": 300
    },
    "id": "_TVV3QsPNWhB",
    "outputId": "58e0f912-a01b-47e9-c46e-35bf6dbc4a25"
   },
   "outputs": [
    {
     "data": {
      "text/plain": [
       "219.9289177801351"
      ]
     },
     "execution_count": 12,
     "metadata": {},
     "output_type": "execute_result"
    }
   ],
   "source": [
    "#Varianza de valor de cierre\n",
    "walmart['Close'].var()"
   ]
  },
  {
   "cell_type": "code",
   "execution_count": 13,
   "metadata": {
    "colab": {
     "base_uri": "https://localhost:8080/"
    },
    "executionInfo": {
     "elapsed": 538,
     "status": "ok",
     "timestamp": 1614642840479,
     "user": {
      "displayName": "Alejandro Jesús Manotas Marmolejo",
      "photoUrl": "https://lh3.googleusercontent.com/a-/AOh14GiBMbRcpANQzZvYJ9LWzVxvD9qatNblJ2V0VdIvH6s=s64",
      "userId": "03263816449986361555"
     },
     "user_tz": 300
    },
    "id": "z4hFVJYfNZvO",
    "outputId": "51ddcfe4-2b50-4795-a743-f815f1b0f8db"
   },
   "outputs": [
    {
     "data": {
      "text/plain": [
       "14.830000599465096"
      ]
     },
     "execution_count": 13,
     "metadata": {},
     "output_type": "execute_result"
    }
   ],
   "source": [
    "#Desviación estándar de valor de cierre\n",
    "walmart['Close'].std()"
   ]
  },
  {
   "cell_type": "markdown",
   "metadata": {
    "id": "9m3qRrI8NuKQ"
   },
   "source": [
    "## Royal Caribbean Data"
   ]
  },
  {
   "cell_type": "code",
   "execution_count": 14,
   "metadata": {
    "colab": {
     "base_uri": "https://localhost:8080/",
     "height": 359
    },
    "executionInfo": {
     "elapsed": 1171,
     "status": "ok",
     "timestamp": 1614642946381,
     "user": {
      "displayName": "Alejandro Jesús Manotas Marmolejo",
      "photoUrl": "https://lh3.googleusercontent.com/a-/AOh14GiBMbRcpANQzZvYJ9LWzVxvD9qatNblJ2V0VdIvH6s=s64",
      "userId": "03263816449986361555"
     },
     "user_tz": 300
    },
    "id": "38Rg13MlNzPZ",
    "outputId": "3490c183-9d15-4f06-f743-14de235631e7"
   },
   "outputs": [
    {
     "data": {
      "text/html": [
       "<div>\n",
       "<style scoped>\n",
       "    .dataframe tbody tr th:only-of-type {\n",
       "        vertical-align: middle;\n",
       "    }\n",
       "\n",
       "    .dataframe tbody tr th {\n",
       "        vertical-align: top;\n",
       "    }\n",
       "\n",
       "    .dataframe thead th {\n",
       "        text-align: right;\n",
       "    }\n",
       "</style>\n",
       "<table border=\"1\" class=\"dataframe\">\n",
       "  <thead>\n",
       "    <tr style=\"text-align: right;\">\n",
       "      <th></th>\n",
       "      <th>Date</th>\n",
       "      <th>Open</th>\n",
       "      <th>High</th>\n",
       "      <th>Low</th>\n",
       "      <th>Close</th>\n",
       "      <th>Volume</th>\n",
       "    </tr>\n",
       "  </thead>\n",
       "  <tbody>\n",
       "    <tr>\n",
       "      <th>0</th>\n",
       "      <td>2019-02-27</td>\n",
       "      <td>119.00</td>\n",
       "      <td>119.92</td>\n",
       "      <td>117.21</td>\n",
       "      <td>118.46</td>\n",
       "      <td>1267694</td>\n",
       "    </tr>\n",
       "    <tr>\n",
       "      <th>1</th>\n",
       "      <td>2019-02-28</td>\n",
       "      <td>118.21</td>\n",
       "      <td>119.43</td>\n",
       "      <td>117.29</td>\n",
       "      <td>118.48</td>\n",
       "      <td>1059294</td>\n",
       "    </tr>\n",
       "    <tr>\n",
       "      <th>2</th>\n",
       "      <td>2019-03-01</td>\n",
       "      <td>119.97</td>\n",
       "      <td>121.25</td>\n",
       "      <td>118.61</td>\n",
       "      <td>119.03</td>\n",
       "      <td>1378905</td>\n",
       "    </tr>\n",
       "    <tr>\n",
       "      <th>3</th>\n",
       "      <td>2019-03-04</td>\n",
       "      <td>119.19</td>\n",
       "      <td>119.70</td>\n",
       "      <td>116.51</td>\n",
       "      <td>117.68</td>\n",
       "      <td>1274548</td>\n",
       "    </tr>\n",
       "    <tr>\n",
       "      <th>4</th>\n",
       "      <td>2019-03-05</td>\n",
       "      <td>118.15</td>\n",
       "      <td>119.97</td>\n",
       "      <td>118.03</td>\n",
       "      <td>119.41</td>\n",
       "      <td>1177226</td>\n",
       "    </tr>\n",
       "    <tr>\n",
       "      <th>5</th>\n",
       "      <td>2019-03-06</td>\n",
       "      <td>118.61</td>\n",
       "      <td>119.28</td>\n",
       "      <td>117.00</td>\n",
       "      <td>117.09</td>\n",
       "      <td>1050042</td>\n",
       "    </tr>\n",
       "    <tr>\n",
       "      <th>6</th>\n",
       "      <td>2019-03-07</td>\n",
       "      <td>117.03</td>\n",
       "      <td>117.10</td>\n",
       "      <td>115.00</td>\n",
       "      <td>115.71</td>\n",
       "      <td>1775005</td>\n",
       "    </tr>\n",
       "    <tr>\n",
       "      <th>7</th>\n",
       "      <td>2019-03-08</td>\n",
       "      <td>115.00</td>\n",
       "      <td>116.67</td>\n",
       "      <td>114.56</td>\n",
       "      <td>116.54</td>\n",
       "      <td>1047978</td>\n",
       "    </tr>\n",
       "    <tr>\n",
       "      <th>8</th>\n",
       "      <td>2019-03-11</td>\n",
       "      <td>116.65</td>\n",
       "      <td>117.30</td>\n",
       "      <td>116.22</td>\n",
       "      <td>116.88</td>\n",
       "      <td>740876</td>\n",
       "    </tr>\n",
       "    <tr>\n",
       "      <th>9</th>\n",
       "      <td>2019-03-12</td>\n",
       "      <td>117.34</td>\n",
       "      <td>117.34</td>\n",
       "      <td>115.37</td>\n",
       "      <td>116.29</td>\n",
       "      <td>902792</td>\n",
       "    </tr>\n",
       "  </tbody>\n",
       "</table>\n",
       "</div>"
      ],
      "text/plain": [
       "         Date    Open    High     Low   Close   Volume\n",
       "0  2019-02-27  119.00  119.92  117.21  118.46  1267694\n",
       "1  2019-02-28  118.21  119.43  117.29  118.48  1059294\n",
       "2  2019-03-01  119.97  121.25  118.61  119.03  1378905\n",
       "3  2019-03-04  119.19  119.70  116.51  117.68  1274548\n",
       "4  2019-03-05  118.15  119.97  118.03  119.41  1177226\n",
       "5  2019-03-06  118.61  119.28  117.00  117.09  1050042\n",
       "6  2019-03-07  117.03  117.10  115.00  115.71  1775005\n",
       "7  2019-03-08  115.00  116.67  114.56  116.54  1047978\n",
       "8  2019-03-11  116.65  117.30  116.22  116.88   740876\n",
       "9  2019-03-12  117.34  117.34  115.37  116.29   902792"
      ]
     },
     "execution_count": 14,
     "metadata": {},
     "output_type": "execute_result"
    }
   ],
   "source": [
    "#Leer csv de Royal Caribbean\n",
    "royal_caribbean = pd.read_csv('./DataStock/Royal_Caribbean.csv')\n",
    "\n",
    "#Primeras 10 filas\n",
    "royal_caribbean.head(10)"
   ]
  },
  {
   "cell_type": "markdown",
   "metadata": {
    "id": "vjhZs7j1Nz_5"
   },
   "source": [
    "### Medidas de tendencia central para Royal Caribbean"
   ]
  },
  {
   "cell_type": "code",
   "execution_count": 15,
   "metadata": {
    "colab": {
     "base_uri": "https://localhost:8080/"
    },
    "executionInfo": {
     "elapsed": 532,
     "status": "ok",
     "timestamp": 1614642969140,
     "user": {
      "displayName": "Alejandro Jesús Manotas Marmolejo",
      "photoUrl": "https://lh3.googleusercontent.com/a-/AOh14GiBMbRcpANQzZvYJ9LWzVxvD9qatNblJ2V0VdIvH6s=s64",
      "userId": "03263816449986361555"
     },
     "user_tz": 300
    },
    "id": "2WUBphdkN8aV",
    "outputId": "e56ada10-d4b3-477d-f1aa-7f097b053c70"
   },
   "outputs": [
    {
     "data": {
      "text/plain": [
       "87.93582178217824"
      ]
     },
     "execution_count": 15,
     "metadata": {},
     "output_type": "execute_result"
    }
   ],
   "source": [
    "#Promedio de valor de cierre\n",
    "royal_caribbean['Close'].mean()"
   ]
  },
  {
   "cell_type": "code",
   "execution_count": 16,
   "metadata": {
    "colab": {
     "base_uri": "https://localhost:8080/"
    },
    "executionInfo": {
     "elapsed": 554,
     "status": "ok",
     "timestamp": 1614642970521,
     "user": {
      "displayName": "Alejandro Jesús Manotas Marmolejo",
      "photoUrl": "https://lh3.googleusercontent.com/a-/AOh14GiBMbRcpANQzZvYJ9LWzVxvD9qatNblJ2V0VdIvH6s=s64",
      "userId": "03263816449986361555"
     },
     "user_tz": 300
    },
    "id": "0BZ8vJTrN9HA",
    "outputId": "e7f8bd00-acd8-4104-c29c-acd7b55ad9c8"
   },
   "outputs": [
    {
     "data": {
      "text/plain": [
       "91.63"
      ]
     },
     "execution_count": 16,
     "metadata": {},
     "output_type": "execute_result"
    }
   ],
   "source": [
    "#Mediana de valor de cierre\n",
    "royal_caribbean['Close'].median()"
   ]
  },
  {
   "cell_type": "code",
   "execution_count": 17,
   "metadata": {
    "colab": {
     "base_uri": "https://localhost:8080/"
    },
    "executionInfo": {
     "elapsed": 606,
     "status": "ok",
     "timestamp": 1614642988006,
     "user": {
      "displayName": "Alejandro Jesús Manotas Marmolejo",
      "photoUrl": "https://lh3.googleusercontent.com/a-/AOh14GiBMbRcpANQzZvYJ9LWzVxvD9qatNblJ2V0VdIvH6s=s64",
      "userId": "03263816449986361555"
     },
     "user_tz": 300
    },
    "id": "sWOsE_muN88b",
    "outputId": "72ab7eca-ea89-454f-ddbc-3fe002e2971e"
   },
   "outputs": [
    {
     "data": {
      "text/plain": [
       "0    50.30\n",
       "1    50.83\n",
       "dtype: float64"
      ]
     },
     "execution_count": 17,
     "metadata": {},
     "output_type": "execute_result"
    }
   ],
   "source": [
    "#Moda de valor de cierre\n",
    "royal_caribbean['Close'].mode()"
   ]
  },
  {
   "cell_type": "markdown",
   "metadata": {
    "id": "YJutuWqzN3ui"
   },
   "source": [
    "### Medidas de dispersión para Royal Caribbean"
   ]
  },
  {
   "cell_type": "code",
   "execution_count": 18,
   "metadata": {
    "colab": {
     "base_uri": "https://localhost:8080/"
    },
    "executionInfo": {
     "elapsed": 544,
     "status": "ok",
     "timestamp": 1614643010854,
     "user": {
      "displayName": "Alejandro Jesús Manotas Marmolejo",
      "photoUrl": "https://lh3.googleusercontent.com/a-/AOh14GiBMbRcpANQzZvYJ9LWzVxvD9qatNblJ2V0VdIvH6s=s64",
      "userId": "03263816449986361555"
     },
     "user_tz": 300
    },
    "id": "BukuvNxFN-Uj",
    "outputId": "f3b38a02-d870-4c91-e048-106c692cc5e9"
   },
   "outputs": [
    {
     "data": {
      "text/plain": [
       "984.3247481824606"
      ]
     },
     "execution_count": 18,
     "metadata": {},
     "output_type": "execute_result"
    }
   ],
   "source": [
    "#Varianza de valor de cierre\n",
    "royal_caribbean['Close'].var()"
   ]
  },
  {
   "cell_type": "code",
   "execution_count": 19,
   "metadata": {
    "colab": {
     "base_uri": "https://localhost:8080/"
    },
    "executionInfo": {
     "elapsed": 522,
     "status": "ok",
     "timestamp": 1614643009648,
     "user": {
      "displayName": "Alejandro Jesús Manotas Marmolejo",
      "photoUrl": "https://lh3.googleusercontent.com/a-/AOh14GiBMbRcpANQzZvYJ9LWzVxvD9qatNblJ2V0VdIvH6s=s64",
      "userId": "03263816449986361555"
     },
     "user_tz": 300
    },
    "id": "AAHJ7vLMN96-",
    "outputId": "2d85713b-568c-498f-e3f8-989efb883d5f"
   },
   "outputs": [
    {
     "data": {
      "text/plain": [
       "31.373950152673803"
      ]
     },
     "execution_count": 19,
     "metadata": {},
     "output_type": "execute_result"
    }
   ],
   "source": [
    "#Desviación de valor de cierre\n",
    "royal_caribbean['Close'].std()"
   ]
  },
  {
   "cell_type": "markdown",
   "metadata": {
    "id": "S_-X0gqrOUzk"
   },
   "source": [
    "## Delta Airlines Data"
   ]
  },
  {
   "cell_type": "code",
   "execution_count": 20,
   "metadata": {
    "colab": {
     "base_uri": "https://localhost:8080/",
     "height": 359
    },
    "executionInfo": {
     "elapsed": 763,
     "status": "ok",
     "timestamp": 1614643059206,
     "user": {
      "displayName": "Alejandro Jesús Manotas Marmolejo",
      "photoUrl": "https://lh3.googleusercontent.com/a-/AOh14GiBMbRcpANQzZvYJ9LWzVxvD9qatNblJ2V0VdIvH6s=s64",
      "userId": "03263816449986361555"
     },
     "user_tz": 300
    },
    "id": "B0f8YbnaOXw4",
    "outputId": "2a30b3a2-13cc-4fb6-8cdc-58f3e16b5527"
   },
   "outputs": [
    {
     "data": {
      "text/html": [
       "<div>\n",
       "<style scoped>\n",
       "    .dataframe tbody tr th:only-of-type {\n",
       "        vertical-align: middle;\n",
       "    }\n",
       "\n",
       "    .dataframe tbody tr th {\n",
       "        vertical-align: top;\n",
       "    }\n",
       "\n",
       "    .dataframe thead th {\n",
       "        text-align: right;\n",
       "    }\n",
       "</style>\n",
       "<table border=\"1\" class=\"dataframe\">\n",
       "  <thead>\n",
       "    <tr style=\"text-align: right;\">\n",
       "      <th></th>\n",
       "      <th>Date</th>\n",
       "      <th>Open</th>\n",
       "      <th>High</th>\n",
       "      <th>Low</th>\n",
       "      <th>Close</th>\n",
       "      <th>Volume</th>\n",
       "    </tr>\n",
       "  </thead>\n",
       "  <tbody>\n",
       "    <tr>\n",
       "      <th>0</th>\n",
       "      <td>2019-02-27</td>\n",
       "      <td>50.97</td>\n",
       "      <td>51.0300</td>\n",
       "      <td>49.9500</td>\n",
       "      <td>50.43</td>\n",
       "      <td>9041002</td>\n",
       "    </tr>\n",
       "    <tr>\n",
       "      <th>1</th>\n",
       "      <td>2019-02-28</td>\n",
       "      <td>50.09</td>\n",
       "      <td>50.1700</td>\n",
       "      <td>49.5400</td>\n",
       "      <td>49.58</td>\n",
       "      <td>9477279</td>\n",
       "    </tr>\n",
       "    <tr>\n",
       "      <th>2</th>\n",
       "      <td>2019-03-01</td>\n",
       "      <td>49.37</td>\n",
       "      <td>49.7300</td>\n",
       "      <td>48.2150</td>\n",
       "      <td>48.96</td>\n",
       "      <td>11386420</td>\n",
       "    </tr>\n",
       "    <tr>\n",
       "      <th>3</th>\n",
       "      <td>2019-03-04</td>\n",
       "      <td>49.04</td>\n",
       "      <td>49.5700</td>\n",
       "      <td>48.4339</td>\n",
       "      <td>48.79</td>\n",
       "      <td>10184430</td>\n",
       "    </tr>\n",
       "    <tr>\n",
       "      <th>4</th>\n",
       "      <td>2019-03-05</td>\n",
       "      <td>50.03</td>\n",
       "      <td>50.4900</td>\n",
       "      <td>49.4100</td>\n",
       "      <td>49.72</td>\n",
       "      <td>9738755</td>\n",
       "    </tr>\n",
       "    <tr>\n",
       "      <th>5</th>\n",
       "      <td>2019-03-06</td>\n",
       "      <td>49.81</td>\n",
       "      <td>50.2799</td>\n",
       "      <td>49.4400</td>\n",
       "      <td>49.71</td>\n",
       "      <td>8702463</td>\n",
       "    </tr>\n",
       "    <tr>\n",
       "      <th>6</th>\n",
       "      <td>2019-03-07</td>\n",
       "      <td>49.51</td>\n",
       "      <td>49.8000</td>\n",
       "      <td>48.7600</td>\n",
       "      <td>49.59</td>\n",
       "      <td>8183569</td>\n",
       "    </tr>\n",
       "    <tr>\n",
       "      <th>7</th>\n",
       "      <td>2019-03-08</td>\n",
       "      <td>49.25</td>\n",
       "      <td>49.6000</td>\n",
       "      <td>48.9200</td>\n",
       "      <td>49.59</td>\n",
       "      <td>8566278</td>\n",
       "    </tr>\n",
       "    <tr>\n",
       "      <th>8</th>\n",
       "      <td>2019-03-11</td>\n",
       "      <td>49.80</td>\n",
       "      <td>51.2850</td>\n",
       "      <td>49.7700</td>\n",
       "      <td>51.12</td>\n",
       "      <td>8844583</td>\n",
       "    </tr>\n",
       "    <tr>\n",
       "      <th>9</th>\n",
       "      <td>2019-03-12</td>\n",
       "      <td>51.19</td>\n",
       "      <td>51.3200</td>\n",
       "      <td>50.0200</td>\n",
       "      <td>50.67</td>\n",
       "      <td>8064025</td>\n",
       "    </tr>\n",
       "  </tbody>\n",
       "</table>\n",
       "</div>"
      ],
      "text/plain": [
       "         Date   Open     High      Low  Close    Volume\n",
       "0  2019-02-27  50.97  51.0300  49.9500  50.43   9041002\n",
       "1  2019-02-28  50.09  50.1700  49.5400  49.58   9477279\n",
       "2  2019-03-01  49.37  49.7300  48.2150  48.96  11386420\n",
       "3  2019-03-04  49.04  49.5700  48.4339  48.79  10184430\n",
       "4  2019-03-05  50.03  50.4900  49.4100  49.72   9738755\n",
       "5  2019-03-06  49.81  50.2799  49.4400  49.71   8702463\n",
       "6  2019-03-07  49.51  49.8000  48.7600  49.59   8183569\n",
       "7  2019-03-08  49.25  49.6000  48.9200  49.59   8566278\n",
       "8  2019-03-11  49.80  51.2850  49.7700  51.12   8844583\n",
       "9  2019-03-12  51.19  51.3200  50.0200  50.67   8064025"
      ]
     },
     "execution_count": 20,
     "metadata": {},
     "output_type": "execute_result"
    }
   ],
   "source": [
    "#Leer csv de Delta Airlines\n",
    "delta_airlines = pd.read_csv('./DataStock/Delta.csv')\n",
    "\n",
    "#Primeras 10 líneas\n",
    "delta_airlines.head(10)"
   ]
  },
  {
   "cell_type": "markdown",
   "metadata": {
    "id": "ezFiMfwFOZEL"
   },
   "source": [
    "### Medidas de tendencia central para Delta Airlines"
   ]
  },
  {
   "cell_type": "code",
   "execution_count": 21,
   "metadata": {
    "colab": {
     "base_uri": "https://localhost:8080/"
    },
    "executionInfo": {
     "elapsed": 684,
     "status": "ok",
     "timestamp": 1614643122321,
     "user": {
      "displayName": "Alejandro Jesús Manotas Marmolejo",
      "photoUrl": "https://lh3.googleusercontent.com/a-/AOh14GiBMbRcpANQzZvYJ9LWzVxvD9qatNblJ2V0VdIvH6s=s64",
      "userId": "03263816449986361555"
     },
     "user_tz": 300
    },
    "id": "Q_b72EJMOh53",
    "outputId": "0721510a-87b9-44fa-b8f6-a61d36961a92"
   },
   "outputs": [
    {
     "data": {
      "text/plain": [
       "44.564138613861346"
      ]
     },
     "execution_count": 21,
     "metadata": {},
     "output_type": "execute_result"
    }
   ],
   "source": [
    "#Promedio de valor de cierre\n",
    "delta_airlines['Close'].mean()"
   ]
  },
  {
   "cell_type": "code",
   "execution_count": 22,
   "metadata": {
    "colab": {
     "base_uri": "https://localhost:8080/"
    },
    "executionInfo": {
     "elapsed": 541,
     "status": "ok",
     "timestamp": 1614643123528,
     "user": {
      "displayName": "Alejandro Jesús Manotas Marmolejo",
      "photoUrl": "https://lh3.googleusercontent.com/a-/AOh14GiBMbRcpANQzZvYJ9LWzVxvD9qatNblJ2V0VdIvH6s=s64",
      "userId": "03263816449986361555"
     },
     "user_tz": 300
    },
    "id": "ODrPJFZlOhzy",
    "outputId": "55f2ab6a-6cfd-4ccc-c683-ff9d3c4809ca"
   },
   "outputs": [
    {
     "data": {
      "text/plain": [
       "48.79"
      ]
     },
     "execution_count": 22,
     "metadata": {},
     "output_type": "execute_result"
    }
   ],
   "source": [
    "#Mediana de valor de cierre\n",
    "delta_airlines['Close'].median()"
   ]
  },
  {
   "cell_type": "code",
   "execution_count": 23,
   "metadata": {
    "colab": {
     "base_uri": "https://localhost:8080/"
    },
    "executionInfo": {
     "elapsed": 524,
     "status": "ok",
     "timestamp": 1614643125040,
     "user": {
      "displayName": "Alejandro Jesús Manotas Marmolejo",
      "photoUrl": "https://lh3.googleusercontent.com/a-/AOh14GiBMbRcpANQzZvYJ9LWzVxvD9qatNblJ2V0VdIvH6s=s64",
      "userId": "03263816449986361555"
     },
     "user_tz": 300
    },
    "id": "icQFOEa6Ohrp",
    "outputId": "a6f83a6d-2ba7-4c47-a92b-336b511e81cc"
   },
   "outputs": [
    {
     "data": {
      "text/plain": [
       "0    49.59\n",
       "1    57.66\n",
       "2    57.73\n",
       "3    58.66\n",
       "dtype: float64"
      ]
     },
     "execution_count": 23,
     "metadata": {},
     "output_type": "execute_result"
    }
   ],
   "source": [
    "#Moda de valor de cierre\n",
    "delta_airlines['Close'].mode()"
   ]
  },
  {
   "cell_type": "markdown",
   "metadata": {
    "id": "reqkF4vcOYs3"
   },
   "source": [
    "### Medidas de dispersión para Delta Airlines"
   ]
  },
  {
   "cell_type": "code",
   "execution_count": 24,
   "metadata": {
    "colab": {
     "base_uri": "https://localhost:8080/"
    },
    "executionInfo": {
     "elapsed": 524,
     "status": "ok",
     "timestamp": 1614643143981,
     "user": {
      "displayName": "Alejandro Jesús Manotas Marmolejo",
      "photoUrl": "https://lh3.googleusercontent.com/a-/AOh14GiBMbRcpANQzZvYJ9LWzVxvD9qatNblJ2V0VdIvH6s=s64",
      "userId": "03263816449986361555"
     },
     "user_tz": 300
    },
    "id": "mvlugRdyOutt",
    "outputId": "2703ed87-c08e-4841-d1cd-cc925e708d08"
   },
   "outputs": [
    {
     "data": {
      "text/plain": [
       "177.44823660773213"
      ]
     },
     "execution_count": 24,
     "metadata": {},
     "output_type": "execute_result"
    }
   ],
   "source": [
    "#Varianza de valor de cierre\n",
    "delta_airlines['Close'].var()"
   ]
  },
  {
   "cell_type": "code",
   "execution_count": 25,
   "metadata": {
    "colab": {
     "base_uri": "https://localhost:8080/"
    },
    "executionInfo": {
     "elapsed": 599,
     "status": "ok",
     "timestamp": 1614643145695,
     "user": {
      "displayName": "Alejandro Jesús Manotas Marmolejo",
      "photoUrl": "https://lh3.googleusercontent.com/a-/AOh14GiBMbRcpANQzZvYJ9LWzVxvD9qatNblJ2V0VdIvH6s=s64",
      "userId": "03263816449986361555"
     },
     "user_tz": 300
    },
    "id": "V-4lCMujOwwQ",
    "outputId": "7651edd9-5926-4862-f6bb-7c5b07f1ebdc"
   },
   "outputs": [
    {
     "data": {
      "text/plain": [
       "13.320969807327549"
      ]
     },
     "execution_count": 25,
     "metadata": {},
     "output_type": "execute_result"
    }
   ],
   "source": [
    "#Desviación estándar de valor de cierre\n",
    "delta_airlines['Close'].std()"
   ]
  },
  {
   "cell_type": "markdown",
   "metadata": {
    "id": "oCoJuckoOziO"
   },
   "source": [
    "## Avianca Data"
   ]
  },
  {
   "cell_type": "code",
   "execution_count": 26,
   "metadata": {
    "colab": {
     "base_uri": "https://localhost:8080/",
     "height": 359
    },
    "executionInfo": {
     "elapsed": 784,
     "status": "ok",
     "timestamp": 1614643197910,
     "user": {
      "displayName": "Alejandro Jesús Manotas Marmolejo",
      "photoUrl": "https://lh3.googleusercontent.com/a-/AOh14GiBMbRcpANQzZvYJ9LWzVxvD9qatNblJ2V0VdIvH6s=s64",
      "userId": "03263816449986361555"
     },
     "user_tz": 300
    },
    "id": "GaDFtG8gO1r-",
    "outputId": "e3c6e064-be91-4535-bc69-883711368c15"
   },
   "outputs": [
    {
     "data": {
      "text/html": [
       "<div>\n",
       "<style scoped>\n",
       "    .dataframe tbody tr th:only-of-type {\n",
       "        vertical-align: middle;\n",
       "    }\n",
       "\n",
       "    .dataframe tbody tr th {\n",
       "        vertical-align: top;\n",
       "    }\n",
       "\n",
       "    .dataframe thead th {\n",
       "        text-align: right;\n",
       "    }\n",
       "</style>\n",
       "<table border=\"1\" class=\"dataframe\">\n",
       "  <thead>\n",
       "    <tr style=\"text-align: right;\">\n",
       "      <th></th>\n",
       "      <th>Date</th>\n",
       "      <th>Open</th>\n",
       "      <th>High</th>\n",
       "      <th>Low</th>\n",
       "      <th>Close</th>\n",
       "      <th>Volume</th>\n",
       "    </tr>\n",
       "  </thead>\n",
       "  <tbody>\n",
       "    <tr>\n",
       "      <th>0</th>\n",
       "      <td>2019-02-27</td>\n",
       "      <td>5.03</td>\n",
       "      <td>5.0600</td>\n",
       "      <td>4.8501</td>\n",
       "      <td>4.90</td>\n",
       "      <td>108969</td>\n",
       "    </tr>\n",
       "    <tr>\n",
       "      <th>1</th>\n",
       "      <td>2019-02-28</td>\n",
       "      <td>4.90</td>\n",
       "      <td>4.9000</td>\n",
       "      <td>4.8000</td>\n",
       "      <td>4.83</td>\n",
       "      <td>59262</td>\n",
       "    </tr>\n",
       "    <tr>\n",
       "      <th>2</th>\n",
       "      <td>2019-03-01</td>\n",
       "      <td>4.83</td>\n",
       "      <td>4.9000</td>\n",
       "      <td>4.8199</td>\n",
       "      <td>4.89</td>\n",
       "      <td>30551</td>\n",
       "    </tr>\n",
       "    <tr>\n",
       "      <th>3</th>\n",
       "      <td>2019-03-04</td>\n",
       "      <td>4.90</td>\n",
       "      <td>4.9000</td>\n",
       "      <td>4.8000</td>\n",
       "      <td>4.85</td>\n",
       "      <td>71634</td>\n",
       "    </tr>\n",
       "    <tr>\n",
       "      <th>4</th>\n",
       "      <td>2019-03-05</td>\n",
       "      <td>4.89</td>\n",
       "      <td>4.8900</td>\n",
       "      <td>4.6000</td>\n",
       "      <td>4.69</td>\n",
       "      <td>84024</td>\n",
       "    </tr>\n",
       "    <tr>\n",
       "      <th>5</th>\n",
       "      <td>2019-03-06</td>\n",
       "      <td>4.73</td>\n",
       "      <td>4.7300</td>\n",
       "      <td>4.4600</td>\n",
       "      <td>4.55</td>\n",
       "      <td>86145</td>\n",
       "    </tr>\n",
       "    <tr>\n",
       "      <th>6</th>\n",
       "      <td>2019-03-07</td>\n",
       "      <td>4.55</td>\n",
       "      <td>4.6072</td>\n",
       "      <td>4.3600</td>\n",
       "      <td>4.48</td>\n",
       "      <td>80117</td>\n",
       "    </tr>\n",
       "    <tr>\n",
       "      <th>7</th>\n",
       "      <td>2019-03-08</td>\n",
       "      <td>4.44</td>\n",
       "      <td>4.5300</td>\n",
       "      <td>4.4000</td>\n",
       "      <td>4.48</td>\n",
       "      <td>120727</td>\n",
       "    </tr>\n",
       "    <tr>\n",
       "      <th>8</th>\n",
       "      <td>2019-03-11</td>\n",
       "      <td>4.53</td>\n",
       "      <td>4.6500</td>\n",
       "      <td>4.5200</td>\n",
       "      <td>4.59</td>\n",
       "      <td>194077</td>\n",
       "    </tr>\n",
       "    <tr>\n",
       "      <th>9</th>\n",
       "      <td>2019-03-12</td>\n",
       "      <td>4.60</td>\n",
       "      <td>4.8300</td>\n",
       "      <td>4.5500</td>\n",
       "      <td>4.74</td>\n",
       "      <td>181018</td>\n",
       "    </tr>\n",
       "  </tbody>\n",
       "</table>\n",
       "</div>"
      ],
      "text/plain": [
       "         Date  Open    High     Low  Close  Volume\n",
       "0  2019-02-27  5.03  5.0600  4.8501   4.90  108969\n",
       "1  2019-02-28  4.90  4.9000  4.8000   4.83   59262\n",
       "2  2019-03-01  4.83  4.9000  4.8199   4.89   30551\n",
       "3  2019-03-04  4.90  4.9000  4.8000   4.85   71634\n",
       "4  2019-03-05  4.89  4.8900  4.6000   4.69   84024\n",
       "5  2019-03-06  4.73  4.7300  4.4600   4.55   86145\n",
       "6  2019-03-07  4.55  4.6072  4.3600   4.48   80117\n",
       "7  2019-03-08  4.44  4.5300  4.4000   4.48  120727\n",
       "8  2019-03-11  4.53  4.6500  4.5200   4.59  194077\n",
       "9  2019-03-12  4.60  4.8300  4.5500   4.74  181018"
      ]
     },
     "execution_count": 26,
     "metadata": {},
     "output_type": "execute_result"
    }
   ],
   "source": [
    "#Leer csv de Avianca\n",
    "avianca = pd.read_csv('./DataStock/Avianca.csv')\n",
    "\n",
    "#Primeras 10 filas\n",
    "avianca.head(10)"
   ]
  },
  {
   "cell_type": "markdown",
   "metadata": {
    "id": "1UodDbWbO2E-"
   },
   "source": [
    "### Medidas de tendencia central para Avianca"
   ]
  },
  {
   "cell_type": "code",
   "execution_count": 27,
   "metadata": {
    "colab": {
     "base_uri": "https://localhost:8080/"
    },
    "executionInfo": {
     "elapsed": 438,
     "status": "ok",
     "timestamp": 1614643222173,
     "user": {
      "displayName": "Alejandro Jesús Manotas Marmolejo",
      "photoUrl": "https://lh3.googleusercontent.com/a-/AOh14GiBMbRcpANQzZvYJ9LWzVxvD9qatNblJ2V0VdIvH6s=s64",
      "userId": "03263816449986361555"
     },
     "user_tz": 300
    },
    "id": "KeARWlZOO8sf",
    "outputId": "4e509bf4-5313-4834-b4be-982243cf67c9"
   },
   "outputs": [
    {
     "data": {
      "text/plain": [
       "2.308389306930699"
      ]
     },
     "execution_count": 27,
     "metadata": {},
     "output_type": "execute_result"
    }
   ],
   "source": [
    "#Promedio de valor de cierre\n",
    "avianca['Close'].mean()"
   ]
  },
  {
   "cell_type": "code",
   "execution_count": 28,
   "metadata": {
    "colab": {
     "base_uri": "https://localhost:8080/"
    },
    "executionInfo": {
     "elapsed": 531,
     "status": "ok",
     "timestamp": 1614643221128,
     "user": {
      "displayName": "Alejandro Jesús Manotas Marmolejo",
      "photoUrl": "https://lh3.googleusercontent.com/a-/AOh14GiBMbRcpANQzZvYJ9LWzVxvD9qatNblJ2V0VdIvH6s=s64",
      "userId": "03263816449986361555"
     },
     "user_tz": 300
    },
    "id": "pVRJpxBRO8hT",
    "outputId": "9bc3fe51-763f-48b5-c0dc-b882429b1ea9"
   },
   "outputs": [
    {
     "data": {
      "text/plain": [
       "2.69"
      ]
     },
     "execution_count": 28,
     "metadata": {},
     "output_type": "execute_result"
    }
   ],
   "source": [
    "#Mediana de valor de cierre\n",
    "avianca['Close'].median()"
   ]
  },
  {
   "cell_type": "code",
   "execution_count": 29,
   "metadata": {
    "colab": {
     "base_uri": "https://localhost:8080/"
    },
    "executionInfo": {
     "elapsed": 556,
     "status": "ok",
     "timestamp": 1614643219617,
     "user": {
      "displayName": "Alejandro Jesús Manotas Marmolejo",
      "photoUrl": "https://lh3.googleusercontent.com/a-/AOh14GiBMbRcpANQzZvYJ9LWzVxvD9qatNblJ2V0VdIvH6s=s64",
      "userId": "03263816449986361555"
     },
     "user_tz": 300
    },
    "id": "QN6Msu7sO8Gr",
    "outputId": "8c48d025-856a-4dae-bd8d-bcbe102b479a"
   },
   "outputs": [
    {
     "data": {
      "text/plain": [
       "0    0.38\n",
       "dtype: float64"
      ]
     },
     "execution_count": 29,
     "metadata": {},
     "output_type": "execute_result"
    }
   ],
   "source": [
    "#Moda de valor de cierre\n",
    "avianca['Close'].mode()"
   ]
  },
  {
   "cell_type": "markdown",
   "metadata": {
    "id": "xIljMoV4O172"
   },
   "source": [
    "### Medidas de dispersión para Avianca"
   ]
  },
  {
   "cell_type": "code",
   "execution_count": 30,
   "metadata": {
    "colab": {
     "base_uri": "https://localhost:8080/"
    },
    "executionInfo": {
     "elapsed": 516,
     "status": "ok",
     "timestamp": 1614643238535,
     "user": {
      "displayName": "Alejandro Jesús Manotas Marmolejo",
      "photoUrl": "https://lh3.googleusercontent.com/a-/AOh14GiBMbRcpANQzZvYJ9LWzVxvD9qatNblJ2V0VdIvH6s=s64",
      "userId": "03263816449986361555"
     },
     "user_tz": 300
    },
    "id": "ZNguhMc_O7mo",
    "outputId": "c4dc6e9c-ad36-4fde-c856-d7a87bc9504f"
   },
   "outputs": [
    {
     "data": {
      "text/plain": [
       "3.2671836800044844"
      ]
     },
     "execution_count": 30,
     "metadata": {},
     "output_type": "execute_result"
    }
   ],
   "source": [
    "#Varianza de valor de cierre\n",
    "avianca['Close'].var()"
   ]
  },
  {
   "cell_type": "code",
   "execution_count": 31,
   "metadata": {
    "colab": {
     "base_uri": "https://localhost:8080/"
    },
    "executionInfo": {
     "elapsed": 537,
     "status": "ok",
     "timestamp": 1614643239946,
     "user": {
      "displayName": "Alejandro Jesús Manotas Marmolejo",
      "photoUrl": "https://lh3.googleusercontent.com/a-/AOh14GiBMbRcpANQzZvYJ9LWzVxvD9qatNblJ2V0VdIvH6s=s64",
      "userId": "03263816449986361555"
     },
     "user_tz": 300
    },
    "id": "_aEU3v8XO9P5",
    "outputId": "cba6be9b-9e02-4493-c154-295327b005ec"
   },
   "outputs": [
    {
     "data": {
      "text/plain": [
       "1.807535250003298"
      ]
     },
     "execution_count": 31,
     "metadata": {},
     "output_type": "execute_result"
    }
   ],
   "source": [
    "#Promedio de valor de cierre\n",
    "avianca['Close'].std()"
   ]
  },
  {
   "cell_type": "markdown",
   "metadata": {
    "id": "MCCUH-6aPK-7"
   },
   "source": [
    "## Visualización de los datos"
   ]
  },
  {
   "cell_type": "markdown",
   "metadata": {
    "id": "SsvN2y8aPTT5"
   },
   "source": [
    "### Media"
   ]
  },
  {
   "cell_type": "code",
   "execution_count": 32,
   "metadata": {
    "colab": {
     "base_uri": "https://localhost:8080/",
     "height": 350
    },
    "executionInfo": {
     "elapsed": 563,
     "status": "ok",
     "timestamp": 1614643287172,
     "user": {
      "displayName": "Alejandro Jesús Manotas Marmolejo",
      "photoUrl": "https://lh3.googleusercontent.com/a-/AOh14GiBMbRcpANQzZvYJ9LWzVxvD9qatNblJ2V0VdIvH6s=s64",
      "userId": "03263816449986361555"
     },
     "user_tz": 300
    },
    "id": "4xJIRA8DPUli",
    "outputId": "62c2e3bf-5ae7-4170-f57a-d1233dabb12e"
   },
   "outputs": [
    {
     "data": {
      "image/png": "[encoded data removed]",
      "text/plain": [
       "<Figure size 576x360 with 1 Axes>"
      ]
     },
     "metadata": {
      "needs_background": "light"
     },
     "output_type": "display_data"
    }
   ],
   "source": [
    "#Promedio\n",
    "mean = [apple['Close'].mean(), walmart['Close'].mean(), royal_caribbean['Close'].mean(), delta_airlines['Close'].mean(), avianca['Close'].mean()]\n",
    "names = ['Apple', 'Walmart', 'Royal Caribbean', 'Delta Airlines', 'Avianca']\n",
    "\n",
    "plt.figure(figsize=(8,5))\n",
    "plt.bar(names, mean, color='purple')\n",
    "plt.xlabel('Empresa')\n",
    "plt.ylabel('Media')\n",
    "plt.title('Promedio de valor de cierre de las empresas (USD)')\n",
    "plt.show()"
   ]
  },
  {
   "cell_type": "markdown",
   "metadata": {
    "id": "2liQfj89PXDk"
   },
   "source": [
    "### Mediana"
   ]
  },
  {
   "cell_type": "markdown",
   "metadata": {
    "id": "UF7xX0jXPgeC"
   },
   "source": [
    "*   Apple: 72.33\n",
    "*   Walmart: 119.35\n",
    "*   Royal Caribbean: 91.63\n",
    "*   Delta Airlines: 48.79\n",
    "*   Aviana: 2.69"
   ]
  },
  {
   "cell_type": "markdown",
   "metadata": {
    "id": "jeDrXyv7Ph3J"
   },
   "source": [
    "### Media móvil"
   ]
  },
  {
   "cell_type": "markdown",
   "metadata": {
    "id": "ptHyRCZ7PqZK"
   },
   "source": [
    "#### Apple"
   ]
  },
  {
   "cell_type": "code",
   "execution_count": 33,
   "metadata": {
    "colab": {
     "base_uri": "https://localhost:8080/",
     "height": 281
    },
    "executionInfo": {
     "elapsed": 872,
     "status": "ok",
     "timestamp": 1614643385345,
     "user": {
      "displayName": "Alejandro Jesús Manotas Marmolejo",
      "photoUrl": "https://lh3.googleusercontent.com/a-/AOh14GiBMbRcpANQzZvYJ9LWzVxvD9qatNblJ2V0VdIvH6s=s64",
      "userId": "03263816449986361555"
     },
     "user_tz": 300
    },
    "id": "pGPIp61yPkf2",
    "outputId": "ab96a455-8b37-4ac2-f542-1c5280ad246d"
   },
   "outputs": [
    {
     "data": {
      "image/png": "[encoded data removed]",
      "text/plain": [
       "<Figure size 432x288 with 1 Axes>"
      ]
     },
     "metadata": {
      "needs_background": "light"
     },
     "output_type": "display_data"
    }
   ],
   "source": [
    "#Media móvil para 50 días\n",
    "apple_last_50 = apple['Close'].tail(50)\n",
    "apple_last_50_rolling = apple_last_50.rolling(window=5).mean().shift(-4)\n",
    "sns.lineplot(data=apple_last_50) #Últimos 50\n",
    "sns.lineplot(data=apple_last_50_rolling) #Últimos 50 media móvil\n",
    "plt.title('Apple: Datos historicos vs Media móvil, últimos 50 días')\n",
    "plt.show()"
   ]
  },
  {
   "cell_type": "code",
   "execution_count": 34,
   "metadata": {
    "colab": {
     "base_uri": "https://localhost:8080/"
    },
    "executionInfo": {
     "elapsed": 572,
     "status": "ok",
     "timestamp": 1614643448473,
     "user": {
      "displayName": "Alejandro Jesús Manotas Marmolejo",
      "photoUrl": "https://lh3.googleusercontent.com/a-/AOh14GiBMbRcpANQzZvYJ9LWzVxvD9qatNblJ2V0VdIvH6s=s64",
      "userId": "03263816449986361555"
     },
     "user_tz": 300
    },
    "id": "x5deR1uDPvNk",
    "outputId": "f4d200fb-0d89-4015-de9c-2ec805070183"
   },
   "outputs": [
    {
     "name": "stdout",
     "output_type": "stream",
     "text": [
      "455    127.855\n",
      "456    128.655\n",
      "457    129.285\n",
      "458    129.939\n",
      "459    131.946\n",
      "460    133.274\n",
      "461    133.642\n",
      "462    133.988\n",
      "463    133.476\n",
      "464    132.340\n",
      "465    130.686\n",
      "466    130.126\n",
      "467    129.998\n",
      "468    129.912\n",
      "469    129.470\n",
      "470    130.328\n",
      "471    129.926\n",
      "472    128.944\n",
      "473    128.714\n",
      "474    129.360\n",
      "475    130.556\n",
      "476    132.588\n",
      "477    135.744\n",
      "478    138.810\n",
      "479    140.816\n",
      "480    140.860\n",
      "481    139.438\n",
      "482    137.682\n",
      "483    136.048\n",
      "484    134.424\n",
      "485    134.484\n",
      "486    135.444\n",
      "487    135.998\n",
      "488    136.202\n",
      "489    136.492\n",
      "490    136.040\n",
      "491    135.762\n",
      "492    135.018\n",
      "493    133.984\n",
      "494    132.848\n",
      "495    131.796\n",
      "496    129.922\n",
      "497    128.456\n",
      "498    127.358\n",
      "499    125.614\n",
      "500    123.892\n",
      "501        NaN\n",
      "502        NaN\n",
      "503        NaN\n",
      "504        NaN\n",
      "Name: Close, dtype: float64\n"
     ]
    }
   ],
   "source": [
    "#Valores de los últimos de la medía móvil de los últimos 50 días\n",
    "print(apple_last_50_rolling)"
   ]
  },
  {
   "cell_type": "code",
   "execution_count": 35,
   "metadata": {
    "colab": {
     "base_uri": "https://localhost:8080/",
     "height": 281
    },
    "executionInfo": {
     "elapsed": 606,
     "status": "ok",
     "timestamp": 1614643469076,
     "user": {
      "displayName": "Alejandro Jesús Manotas Marmolejo",
      "photoUrl": "https://lh3.googleusercontent.com/a-/AOh14GiBMbRcpANQzZvYJ9LWzVxvD9qatNblJ2V0VdIvH6s=s64",
      "userId": "03263816449986361555"
     },
     "user_tz": 300
    },
    "id": "uK9Nvsd5PyGF",
    "outputId": "9b05d55b-b3d0-4840-c14e-463f1108a6ea"
   },
   "outputs": [
    {
     "data": {
      "image/png": "[encoded data removed]",
      "text/plain": [
       "<Figure size 432x288 with 1 Axes>"
      ]
     },
     "metadata": {
      "needs_background": "light"
     },
     "output_type": "display_data"
    }
   ],
   "source": [
    "#Media móvil para 100 días\n",
    "apple_last_100 = apple['Close'].tail(100)\n",
    "apple_last_100_rolling = apple_last_100.rolling(window=10).mean().shift(-9)\n",
    "sns.lineplot(data=apple_last_100) #Últimos 100\n",
    "sns.lineplot(data=apple_last_100_rolling) #Últimos 100 media móvil\n",
    "plt.title('Apple: Datos historicos vs Media móvil, últimos 100 días')\n",
    "plt.show()"
   ]
  },
  {
   "cell_type": "code",
   "execution_count": 36,
   "metadata": {
    "colab": {
     "base_uri": "https://localhost:8080/"
    },
    "executionInfo": {
     "elapsed": 564,
     "status": "ok",
     "timestamp": 1614643499167,
     "user": {
      "displayName": "Alejandro Jesús Manotas Marmolejo",
      "photoUrl": "https://lh3.googleusercontent.com/a-/AOh14GiBMbRcpANQzZvYJ9LWzVxvD9qatNblJ2V0VdIvH6s=s64",
      "userId": "03263816449986361555"
     },
     "user_tz": 300
    },
    "id": "Hr8s8gKGQCkI",
    "outputId": "da1d0cd4-7a7d-475f-dec5-1961285f311f"
   },
   "outputs": [
    {
     "name": "stdout",
     "output_type": "stream",
     "text": [
      "405    118.310\n",
      "406    118.258\n",
      "407    118.693\n",
      "408    118.872\n",
      "409    118.950\n",
      "        ...   \n",
      "500        NaN\n",
      "501        NaN\n",
      "502        NaN\n",
      "503        NaN\n",
      "504        NaN\n",
      "Name: Close, Length: 100, dtype: float64\n"
     ]
    }
   ],
   "source": [
    "#Valores de los últimos de la medía móvil de los últimos 50 días\n",
    "print(apple_last_100_rolling)"
   ]
  },
  {
   "cell_type": "code",
   "execution_count": 37,
   "metadata": {
    "colab": {
     "base_uri": "https://localhost:8080/",
     "height": 281
    },
    "executionInfo": {
     "elapsed": 596,
     "status": "ok",
     "timestamp": 1614643526840,
     "user": {
      "displayName": "Alejandro Jesús Manotas Marmolejo",
      "photoUrl": "https://lh3.googleusercontent.com/a-/AOh14GiBMbRcpANQzZvYJ9LWzVxvD9qatNblJ2V0VdIvH6s=s64",
      "userId": "03263816449986361555"
     },
     "user_tz": 300
    },
    "id": "__rKtcYtQPMz",
    "outputId": "1ae96505-4d14-4d92-c48f-e4e33978d21d"
   },
   "outputs": [
    {
     "data": {
      "image/png": "[encoded data removed]",
      "text/plain": [
       "<Figure size 432x288 with 1 Axes>"
      ]
     },
     "metadata": {
      "needs_background": "light"
     },
     "output_type": "display_data"
    }
   ],
   "source": [
    "#Media móvil para 300 días\n",
    "apple_last_300 = apple['Close'].tail(300)\n",
    "apple_last_300_rolling = apple_last_300.rolling(window=30).mean().shift(-9)\n",
    "sns.lineplot(data=apple_last_300) #Últimos 300\n",
    "sns.lineplot(data=apple_last_300_rolling) #Últimos 300 media móvil\n",
    "plt.title('Apple: Datos historicos vs Media móvil, últimos 300 días')\n",
    "plt.show()"
   ]
  },
  {
   "cell_type": "markdown",
   "metadata": {
    "id": "rA23xPHXQREr"
   },
   "source": [
    "#### Walmart"
   ]
  },
  {
   "cell_type": "code",
   "execution_count": 38,
   "metadata": {
    "colab": {
     "base_uri": "https://localhost:8080/",
     "height": 281
    },
    "executionInfo": {
     "elapsed": 600,
     "status": "ok",
     "timestamp": 1614643563041,
     "user": {
      "displayName": "Alejandro Jesús Manotas Marmolejo",
      "photoUrl": "https://lh3.googleusercontent.com/a-/AOh14GiBMbRcpANQzZvYJ9LWzVxvD9qatNblJ2V0VdIvH6s=s64",
      "userId": "03263816449986361555"
     },
     "user_tz": 300
    },
    "id": "UMwZyqTzQVxU",
    "outputId": "21270ef9-1f21-44b9-88a3-6a4407496076"
   },
   "outputs": [
    {
     "data": {
      "image/png": "[encoded data removed]",
      "text/plain": [
       "<Figure size 432x288 with 1 Axes>"
      ]
     },
     "metadata": {
      "needs_background": "light"
     },
     "output_type": "display_data"
    }
   ],
   "source": [
    "#Media móvil para 50 días\n",
    "walmart_last_50 = walmart['Close'].tail(50)\n",
    "walmart_last_50_rolling = walmart_last_50.rolling(window=5).mean().shift(-4)\n",
    "sns.lineplot(data=walmart_last_50) #Últimos 50\n",
    "sns.lineplot(data=walmart_last_50_rolling) #Últimos 50 media móvil\n",
    "plt.title('Walmart: Datos historicos vs Media móvil, últimos 50 días')\n",
    "plt.show()"
   ]
  },
  {
   "cell_type": "code",
   "execution_count": 39,
   "metadata": {
    "colab": {
     "base_uri": "https://localhost:8080/"
    },
    "executionInfo": {
     "elapsed": 512,
     "status": "ok",
     "timestamp": 1614643614020,
     "user": {
      "displayName": "Alejandro Jesús Manotas Marmolejo",
      "photoUrl": "https://lh3.googleusercontent.com/a-/AOh14GiBMbRcpANQzZvYJ9LWzVxvD9qatNblJ2V0VdIvH6s=s64",
      "userId": "03263816449986361555"
     },
     "user_tz": 300
    },
    "id": "t5to_HnGQeyu",
    "outputId": "07402544-63ea-4886-ecba-703b94d3e4fc"
   },
   "outputs": [
    {
     "name": "stdout",
     "output_type": "stream",
     "text": [
      "455    145.806\n",
      "456    145.530\n",
      "457    145.088\n",
      "458    144.568\n",
      "459    144.422\n",
      "460    144.088\n",
      "461    144.084\n",
      "462    144.270\n",
      "463    144.876\n",
      "464    144.982\n",
      "465    145.454\n",
      "466    145.948\n",
      "467    146.444\n",
      "468    146.596\n",
      "469    147.240\n",
      "470    147.398\n",
      "471    147.462\n",
      "472    147.064\n",
      "473    146.284\n",
      "474    145.592\n",
      "475    145.072\n",
      "476    144.944\n",
      "477    145.256\n",
      "478    146.080\n",
      "479    145.746\n",
      "480    145.526\n",
      "481    144.358\n",
      "482    142.972\n",
      "483    141.624\n",
      "484    141.096\n",
      "485    140.852\n",
      "486    141.626\n",
      "487    142.778\n",
      "488    143.790\n",
      "489    144.376\n",
      "490    144.674\n",
      "491    144.696\n",
      "492    144.822\n",
      "493    145.096\n",
      "494    143.802\n",
      "495    142.666\n",
      "496    141.310\n",
      "497    139.272\n",
      "498    136.474\n",
      "499    135.332\n",
      "500    133.648\n",
      "501        NaN\n",
      "502        NaN\n",
      "503        NaN\n",
      "504        NaN\n",
      "Name: Close, dtype: float64\n"
     ]
    }
   ],
   "source": [
    "#Valores de los últimos la media móvil de los 50 días\n",
    "print(walmart_last_50_rolling)"
   ]
  },
  {
   "cell_type": "code",
   "execution_count": 40,
   "metadata": {
    "colab": {
     "base_uri": "https://localhost:8080/",
     "height": 281
    },
    "executionInfo": {
     "elapsed": 611,
     "status": "ok",
     "timestamp": 1614643632930,
     "user": {
      "displayName": "Alejandro Jesús Manotas Marmolejo",
      "photoUrl": "https://lh3.googleusercontent.com/a-/AOh14GiBMbRcpANQzZvYJ9LWzVxvD9qatNblJ2V0VdIvH6s=s64",
      "userId": "03263816449986361555"
     },
     "user_tz": 300
    },
    "id": "HU_EV_LWQmD6",
    "outputId": "1fa3ffdf-ff07-411a-9513-1ae160a4b164"
   },
   "outputs": [
    {
     "data": {
      "image/png": "[encoded data removed]",
      "text/plain": [
       "<Figure size 432x288 with 1 Axes>"
      ]
     },
     "metadata": {
      "needs_background": "light"
     },
     "output_type": "display_data"
    }
   ],
   "source": [
    "#Media móvil para 100 días\n",
    "walmart_last_100 = walmart['Close'].tail(100)\n",
    "walmart_last_100_rolling = walmart_last_100.rolling(window=10).mean().shift(-9)\n",
    "sns.lineplot(data=walmart_last_100) #Últimos 100\n",
    "sns.lineplot(data=walmart_last_100_rolling) #Últimos 100 medía movil\n",
    "plt.title('Walmart: Datos historicos vs Media móvil, últimos 100 días')\n",
    "plt.show()"
   ]
  },
  {
   "cell_type": "code",
   "execution_count": 41,
   "metadata": {
    "colab": {
     "base_uri": "https://localhost:8080/"
    },
    "executionInfo": {
     "elapsed": 549,
     "status": "ok",
     "timestamp": 1614643664934,
     "user": {
      "displayName": "Alejandro Jesús Manotas Marmolejo",
      "photoUrl": "https://lh3.googleusercontent.com/a-/AOh14GiBMbRcpANQzZvYJ9LWzVxvD9qatNblJ2V0VdIvH6s=s64",
      "userId": "03263816449986361555"
     },
     "user_tz": 300
    },
    "id": "tPKWScb_QvV4",
    "outputId": "81273c65-3cef-4536-f93a-ac140c1e9abd"
   },
   "outputs": [
    {
     "name": "stdout",
     "output_type": "stream",
     "text": [
      "405    143.112\n",
      "406    143.227\n",
      "407    143.554\n",
      "408    143.905\n",
      "409    144.124\n",
      "        ...   \n",
      "500        NaN\n",
      "501        NaN\n",
      "502        NaN\n",
      "503        NaN\n",
      "504        NaN\n",
      "Name: Close, Length: 100, dtype: float64\n"
     ]
    }
   ],
   "source": [
    "#Valores de los últimos la media móvil de los 100 días\n",
    "print(walmart_last_100_rolling)"
   ]
  },
  {
   "cell_type": "code",
   "execution_count": 42,
   "metadata": {
    "colab": {
     "base_uri": "https://localhost:8080/",
     "height": 281
    },
    "executionInfo": {
     "elapsed": 597,
     "status": "ok",
     "timestamp": 1614643674802,
     "user": {
      "displayName": "Alejandro Jesús Manotas Marmolejo",
      "photoUrl": "https://lh3.googleusercontent.com/a-/AOh14GiBMbRcpANQzZvYJ9LWzVxvD9qatNblJ2V0VdIvH6s=s64",
      "userId": "03263816449986361555"
     },
     "user_tz": 300
    },
    "id": "pJosNgIWQySW",
    "outputId": "bb2490a9-09ea-4a78-a426-5d5caa298525"
   },
   "outputs": [
    {
     "data": {
      "image/png": "[encoded data removed]",
      "text/plain": [
       "<Figure size 432x288 with 1 Axes>"
      ]
     },
     "metadata": {
      "needs_background": "light"
     },
     "output_type": "display_data"
    }
   ],
   "source": [
    "#Media móvil para 300 días\n",
    "walmart_last_300 = walmart['Close'].tail(300)\n",
    "walmart_last_300_rolling = walmart_last_300.rolling(window=30).mean().shift(-9)\n",
    "sns.lineplot(data=walmart_last_300) #Últimos 300\n",
    "sns.lineplot(data=walmart_last_300_rolling) #Últimos 300 medía movil\n",
    "plt.title('Walmart: Datos historicos vs Media móvil, últimos 300 días')\n",
    "plt.show()"
   ]
  },
  {
   "cell_type": "markdown",
   "metadata": {
    "id": "VkgJQH67Q5H9"
   },
   "source": [
    "#### Royal Caribbean"
   ]
  },
  {
   "cell_type": "code",
   "execution_count": 43,
   "metadata": {
    "colab": {
     "base_uri": "https://localhost:8080/",
     "height": 281
    },
    "executionInfo": {
     "elapsed": 650,
     "status": "ok",
     "timestamp": 1614643721907,
     "user": {
      "displayName": "Alejandro Jesús Manotas Marmolejo",
      "photoUrl": "https://lh3.googleusercontent.com/a-/AOh14GiBMbRcpANQzZvYJ9LWzVxvD9qatNblJ2V0VdIvH6s=s64",
      "userId": "03263816449986361555"
     },
     "user_tz": 300
    },
    "id": "nB6dGiYAQ7Dn",
    "outputId": "be599175-28e9-4e87-927e-8aafe8bb7774"
   },
   "outputs": [
    {
     "data": {
      "image/png": "[encoded data removed]",
      "text/plain": [
       "<Figure size 432x288 with 1 Axes>"
      ]
     },
     "metadata": {
      "needs_background": "light"
     },
     "output_type": "display_data"
    }
   ],
   "source": [
    "#Media móvil para 50 días\n",
    "royal_last_50 = royal_caribbean['Close'].tail(50)\n",
    "royal_last_50_rolling = royal_last_50.rolling(window=5).mean().shift(-4)\n",
    "sns.lineplot(data=royal_last_50) #Últimos 50 \n",
    "sns.lineplot(data=royal_last_50_rolling) #Últimos 50 media móvil\n",
    "plt.title('Royal Caribbean: Datos historicos vs Media móvil, últimos 50 días')\n",
    "plt.show()"
   ]
  },
  {
   "cell_type": "code",
   "execution_count": 44,
   "metadata": {
    "colab": {
     "base_uri": "https://localhost:8080/"
    },
    "executionInfo": {
     "elapsed": 538,
     "status": "ok",
     "timestamp": 1614644248531,
     "user": {
      "displayName": "Alejandro Jesús Manotas Marmolejo",
      "photoUrl": "https://lh3.googleusercontent.com/a-/AOh14GiBMbRcpANQzZvYJ9LWzVxvD9qatNblJ2V0VdIvH6s=s64",
      "userId": "03263816449986361555"
     },
     "user_tz": 300
    },
    "id": "yVtZNdvlRD4y",
    "outputId": "9d8268fa-13ab-41aa-d936-966b18a52602"
   },
   "outputs": [
    {
     "name": "stdout",
     "output_type": "stream",
     "text": [
      "455    73.150\n",
      "456    72.278\n",
      "457    71.832\n",
      "458    71.176\n",
      "459    71.296\n",
      "460    71.252\n",
      "461    72.064\n",
      "462    72.718\n",
      "463    72.730\n",
      "464    72.662\n",
      "465    72.782\n",
      "466    72.828\n",
      "467    72.484\n",
      "468    72.764\n",
      "469    72.748\n",
      "470    72.758\n",
      "471    73.130\n",
      "472    73.120\n",
      "473    73.392\n",
      "474    73.462\n",
      "475    73.544\n",
      "476    72.768\n",
      "477    71.868\n",
      "478    70.472\n",
      "479    69.144\n",
      "480    68.422\n",
      "481    67.030\n",
      "482    66.496\n",
      "483    66.932\n",
      "484    67.580\n",
      "485    67.938\n",
      "486    69.254\n",
      "487    70.244\n",
      "488    70.286\n",
      "489    70.156\n",
      "490    69.586\n",
      "491    68.796\n",
      "492    69.496\n",
      "493    70.740\n",
      "494    72.010\n",
      "495    74.186\n",
      "496    77.906\n",
      "497    81.076\n",
      "498    85.386\n",
      "499    88.688\n",
      "500    91.570\n",
      "501       NaN\n",
      "502       NaN\n",
      "503       NaN\n",
      "504       NaN\n",
      "Name: Close, dtype: float64\n"
     ]
    }
   ],
   "source": [
    "#Valores para la media móvil en los últimos 50 días\n",
    "print(royal_last_50_rolling)"
   ]
  },
  {
   "cell_type": "code",
   "execution_count": 45,
   "metadata": {
    "colab": {
     "base_uri": "https://localhost:8080/",
     "height": 281
    },
    "executionInfo": {
     "elapsed": 596,
     "status": "ok",
     "timestamp": 1614644254574,
     "user": {
      "displayName": "Alejandro Jesús Manotas Marmolejo",
      "photoUrl": "https://lh3.googleusercontent.com/a-/AOh14GiBMbRcpANQzZvYJ9LWzVxvD9qatNblJ2V0VdIvH6s=s64",
      "userId": "03263816449986361555"
     },
     "user_tz": 300
    },
    "id": "J71xFKYrRF8F",
    "outputId": "020c8596-2418-446e-a676-0a3f6bac6ad7"
   },
   "outputs": [
    {
     "data": {
      "image/png": "[encoded data removed]",
      "text/plain": [
       "<Figure size 432x288 with 1 Axes>"
      ]
     },
     "metadata": {
      "needs_background": "light"
     },
     "output_type": "display_data"
    }
   ],
   "source": [
    "#Media móvil para 100 días\n",
    "royal_last_100 = royal_caribbean['Close'].tail(100)\n",
    "royal_last_100_rolling = royal_last_100.rolling(window=10).mean().shift(-5)\n",
    "sns.lineplot(data=royal_last_100) #Últimos 100\n",
    "sns.lineplot(data=royal_last_100_rolling) #Últimos 100 media móvil\n",
    "plt.title('Royal Caribbean: Datos historicos vs Media móvil, últimos 100 días')\n",
    "plt.show()"
   ]
  },
  {
   "cell_type": "code",
   "execution_count": 46,
   "metadata": {
    "colab": {
     "base_uri": "https://localhost:8080/"
    },
    "executionInfo": {
     "elapsed": 541,
     "status": "ok",
     "timestamp": 1614644262571,
     "user": {
      "displayName": "Alejandro Jesús Manotas Marmolejo",
      "photoUrl": "https://lh3.googleusercontent.com/a-/AOh14GiBMbRcpANQzZvYJ9LWzVxvD9qatNblJ2V0VdIvH6s=s64",
      "userId": "03263816449986361555"
     },
     "user_tz": 300
    },
    "id": "nMhviTxnREha",
    "outputId": "482584ac-0d2f-4dca-ed52-cef67b283a9d"
   },
   "outputs": [
    {
     "name": "stdout",
     "output_type": "stream",
     "text": [
      "405       NaN\n",
      "406       NaN\n",
      "407       NaN\n",
      "408       NaN\n",
      "409    64.839\n",
      "        ...  \n",
      "500       NaN\n",
      "501       NaN\n",
      "502       NaN\n",
      "503       NaN\n",
      "504       NaN\n",
      "Name: Close, Length: 100, dtype: float64\n"
     ]
    }
   ],
   "source": [
    "#Valores para la media móvil en los últimos 100 días\n",
    "print(royal_last_100_rolling)"
   ]
  },
  {
   "cell_type": "code",
   "execution_count": 47,
   "metadata": {
    "colab": {
     "base_uri": "https://localhost:8080/",
     "height": 281
    },
    "executionInfo": {
     "elapsed": 634,
     "status": "ok",
     "timestamp": 1614644274720,
     "user": {
      "displayName": "Alejandro Jesús Manotas Marmolejo",
      "photoUrl": "https://lh3.googleusercontent.com/a-/AOh14GiBMbRcpANQzZvYJ9LWzVxvD9qatNblJ2V0VdIvH6s=s64",
      "userId": "03263816449986361555"
     },
     "user_tz": 300
    },
    "id": "1wWPFq10RGcT",
    "outputId": "4025a413-7f56-49a2-d9a4-2e6e4a796191"
   },
   "outputs": [
    {
     "data": {
      "image/png": "[encoded data removed]",
      "text/plain": [
       "<Figure size 432x288 with 1 Axes>"
      ]
     },
     "metadata": {
      "needs_background": "light"
     },
     "output_type": "display_data"
    }
   ],
   "source": [
    "#Media móvil para 300 días\n",
    "royal_last_300 = royal_caribbean['Close'].tail(300)\n",
    "royal_last_300_rolling = royal_last_300.rolling(window=30).mean().shift(-5)\n",
    "sns.lineplot(data=royal_last_300) #Últimos 300\n",
    "sns.lineplot(data=royal_last_300_rolling) #Últimos 300 media móvil\n",
    "plt.title('Royal Caribbean: Datos historicos vs Media móvil, últimos 300 días')\n",
    "plt.show()"
   ]
  },
  {
   "cell_type": "markdown",
   "metadata": {
    "id": "1NrW3pw7Tta6"
   },
   "source": [
    "#### Delta Airlines"
   ]
  },
  {
   "cell_type": "code",
   "execution_count": 48,
   "metadata": {
    "colab": {
     "base_uri": "https://localhost:8080/",
     "height": 281
    },
    "executionInfo": {
     "elapsed": 575,
     "status": "ok",
     "timestamp": 1614644455240,
     "user": {
      "displayName": "Alejandro Jesús Manotas Marmolejo",
      "photoUrl": "https://lh3.googleusercontent.com/a-/AOh14GiBMbRcpANQzZvYJ9LWzVxvD9qatNblJ2V0VdIvH6s=s64",
      "userId": "03263816449986361555"
     },
     "user_tz": 300
    },
    "id": "jsMu3UaMTHjp",
    "outputId": "ed35dd9c-64b3-4f3a-8b52-0cd0888d6cfa"
   },
   "outputs": [
    {
     "data": {
      "image/png": "[encoded data removed]",
      "text/plain": [
       "<Figure size 432x288 with 1 Axes>"
      ]
     },
     "metadata": {
      "needs_background": "light"
     },
     "output_type": "display_data"
    }
   ],
   "source": [
    "#Media móvil para 50 días\n",
    "delta_last_50 = delta_airlines['Close'].tail(50)\n",
    "delta_last_50_rolling = delta_last_50.rolling(window=5).mean().shift(-4)\n",
    "sns.lineplot(data=delta_last_50) #Últimos 50\n",
    "sns.lineplot(data=delta_last_50_rolling) #Últimos 50 media móvil\n",
    "plt.title('Delta Airlines: Datos historicos vs Media móvil, últimos 50 días')\n",
    "plt.show()"
   ]
  },
  {
   "cell_type": "code",
   "execution_count": 49,
   "metadata": {
    "colab": {
     "base_uri": "https://localhost:8080/"
    },
    "executionInfo": {
     "elapsed": 536,
     "status": "ok",
     "timestamp": 1614644504398,
     "user": {
      "displayName": "Alejandro Jesús Manotas Marmolejo",
      "photoUrl": "https://lh3.googleusercontent.com/a-/AOh14GiBMbRcpANQzZvYJ9LWzVxvD9qatNblJ2V0VdIvH6s=s64",
      "userId": "03263816449986361555"
     },
     "user_tz": 300
    },
    "id": "JyyV-lM8Ty6j",
    "outputId": "4cd560f6-879b-4e54-8fa4-605a1a947b94"
   },
   "outputs": [
    {
     "name": "stdout",
     "output_type": "stream",
     "text": [
      "455    40.972\n",
      "456    40.390\n",
      "457    40.222\n",
      "458    39.946\n",
      "459    39.840\n",
      "460    39.818\n",
      "461    40.142\n",
      "462    40.136\n",
      "463    39.936\n",
      "464    39.816\n",
      "465    39.886\n",
      "466    39.820\n",
      "467    39.782\n",
      "468    39.918\n",
      "469    40.068\n",
      "470    40.082\n",
      "471    40.330\n",
      "472    40.322\n",
      "473    40.502\n",
      "474    40.766\n",
      "475    40.810\n",
      "476    40.516\n",
      "477    40.300\n",
      "478    40.102\n",
      "479    39.482\n",
      "480    39.364\n",
      "481    38.956\n",
      "482    38.740\n",
      "483    38.636\n",
      "484    38.888\n",
      "485    39.058\n",
      "486    39.696\n",
      "487    40.780\n",
      "488    41.522\n",
      "489    42.146\n",
      "490    42.504\n",
      "491    42.932\n",
      "492    43.214\n",
      "493    43.590\n",
      "494    43.886\n",
      "495    44.476\n",
      "496    45.366\n",
      "497    46.104\n",
      "498    47.146\n",
      "499    47.920\n",
      "500    48.374\n",
      "501       NaN\n",
      "502       NaN\n",
      "503       NaN\n",
      "504       NaN\n",
      "Name: Close, dtype: float64\n"
     ]
    }
   ],
   "source": [
    "#Valores para la media móvil en los últimos 50 días\n",
    "print(delta_last_50_rolling)"
   ]
  },
  {
   "cell_type": "code",
   "execution_count": 50,
   "metadata": {
    "colab": {
     "base_uri": "https://localhost:8080/",
     "height": 281
    },
    "executionInfo": {
     "elapsed": 617,
     "status": "ok",
     "timestamp": 1614644517621,
     "user": {
      "displayName": "Alejandro Jesús Manotas Marmolejo",
      "photoUrl": "https://lh3.googleusercontent.com/a-/AOh14GiBMbRcpANQzZvYJ9LWzVxvD9qatNblJ2V0VdIvH6s=s64",
      "userId": "03263816449986361555"
     },
     "user_tz": 300
    },
    "id": "mVh0STS6T_hU",
    "outputId": "96421225-12ce-473e-f1ac-0e3ec9755853"
   },
   "outputs": [
    {
     "data": {
      "image/png": "[encoded data removed]",
      "text/plain": [
       "<Figure size 432x288 with 1 Axes>"
      ]
     },
     "metadata": {
      "needs_background": "light"
     },
     "output_type": "display_data"
    }
   ],
   "source": [
    "#Media móvil para 100 días\n",
    "delta_last_100 = delta_airlines['Close'].tail(100)\n",
    "delta_last_100_rolling = delta_last_100.rolling(window=10).mean().shift(-5)\n",
    "sns.lineplot(data=delta_last_100) #Últimos 100\n",
    "sns.lineplot(data=delta_last_100_rolling) #Últimos 100 media móvil\n",
    "plt.title('Delta Airlines: Datos historicos vs Media móvil, últimos 100 días')\n",
    "plt.show()"
   ]
  },
  {
   "cell_type": "code",
   "execution_count": 51,
   "metadata": {
    "colab": {
     "base_uri": "https://localhost:8080/"
    },
    "executionInfo": {
     "elapsed": 661,
     "status": "ok",
     "timestamp": 1614644521398,
     "user": {
      "displayName": "Alejandro Jesús Manotas Marmolejo",
      "photoUrl": "https://lh3.googleusercontent.com/a-/AOh14GiBMbRcpANQzZvYJ9LWzVxvD9qatNblJ2V0VdIvH6s=s64",
      "userId": "03263816449986361555"
     },
     "user_tz": 300
    },
    "id": "aLqLa9gyT8PM",
    "outputId": "6060365e-9b97-4bed-c832-fdd044a53945"
   },
   "outputs": [
    {
     "name": "stdout",
     "output_type": "stream",
     "text": [
      "405       NaN\n",
      "406       NaN\n",
      "407       NaN\n",
      "408       NaN\n",
      "409    31.968\n",
      "        ...  \n",
      "500       NaN\n",
      "501       NaN\n",
      "502       NaN\n",
      "503       NaN\n",
      "504       NaN\n",
      "Name: Close, Length: 100, dtype: float64\n"
     ]
    }
   ],
   "source": [
    "#Valores para la media móvil en los últimos 100 días\n",
    "print(delta_last_100_rolling)"
   ]
  },
  {
   "cell_type": "code",
   "execution_count": 52,
   "metadata": {
    "colab": {
     "base_uri": "https://localhost:8080/",
     "height": 281
    },
    "executionInfo": {
     "elapsed": 592,
     "status": "ok",
     "timestamp": 1614644537506,
     "user": {
      "displayName": "Alejandro Jesús Manotas Marmolejo",
      "photoUrl": "https://lh3.googleusercontent.com/a-/AOh14GiBMbRcpANQzZvYJ9LWzVxvD9qatNblJ2V0VdIvH6s=s64",
      "userId": "03263816449986361555"
     },
     "user_tz": 300
    },
    "id": "OyOmDeI_UEqO",
    "outputId": "3d83506d-7b61-4af9-d7f2-621fa9332e73"
   },
   "outputs": [
    {
     "data": {
      "image/png": "[encoded data removed]",
      "text/plain": [
       "<Figure size 432x288 with 1 Axes>"
      ]
     },
     "metadata": {
      "needs_background": "light"
     },
     "output_type": "display_data"
    }
   ],
   "source": [
    "#Media móvil para 300 días\n",
    "delta_last_300 = delta_airlines['Close'].tail(300)\n",
    "delta_last_300_rolling = delta_last_300.rolling(window=30).mean().shift(-5)\n",
    "sns.lineplot(data=delta_last_100) #Últimos 300\n",
    "sns.lineplot(data=delta_last_100_rolling) #Últimos 300 media móvil\n",
    "plt.title('Delta Airlines: Datos historicos vs Media móvil, últimos 300 días')\n",
    "plt.show()"
   ]
  },
  {
   "cell_type": "markdown",
   "metadata": {
    "id": "LMOMcKBbUIse"
   },
   "source": [
    "#### Avianca"
   ]
  },
  {
   "cell_type": "code",
   "execution_count": 53,
   "metadata": {
    "colab": {
     "base_uri": "https://localhost:8080/",
     "height": 281
    },
    "executionInfo": {
     "elapsed": 567,
     "status": "ok",
     "timestamp": 1614644623286,
     "user": {
      "displayName": "Alejandro Jesús Manotas Marmolejo",
      "photoUrl": "https://lh3.googleusercontent.com/a-/AOh14GiBMbRcpANQzZvYJ9LWzVxvD9qatNblJ2V0VdIvH6s=s64",
      "userId": "03263816449986361555"
     },
     "user_tz": 300
    },
    "id": "w0-GGlewUMPm",
    "outputId": "267dec2a-1c19-4a5e-def5-87b17f20703e"
   },
   "outputs": [
    {
     "data": {
      "image/png": "[encoded data removed]",
      "text/plain": [
       "<Figure size 432x288 with 1 Axes>"
      ]
     },
     "metadata": {
      "needs_background": "light"
     },
     "output_type": "display_data"
    }
   ],
   "source": [
    "#Media móvil para 50 días\n",
    "avianca_last_50 = avianca['Close'].tail(50)\n",
    "avianca_last_50_rolling = avianca_last_50.rolling(window=5).mean().shift(-4)\n",
    "sns.lineplot(data=avianca_last_50) #ÚLtimos 50\n",
    "sns.lineplot(data=avianca_last_50_rolling) #Últimos 50 media móvil\n",
    "plt.title('Avianca: Datos historicos vs Media móvil, últimos 50 días')\n",
    "plt.show()"
   ]
  },
  {
   "cell_type": "code",
   "execution_count": 54,
   "metadata": {
    "colab": {
     "base_uri": "https://localhost:8080/"
    },
    "executionInfo": {
     "elapsed": 533,
     "status": "ok",
     "timestamp": 1614644641405,
     "user": {
      "displayName": "Alejandro Jesús Manotas Marmolejo",
      "photoUrl": "https://lh3.googleusercontent.com/a-/AOh14GiBMbRcpANQzZvYJ9LWzVxvD9qatNblJ2V0VdIvH6s=s64",
      "userId": "03263816449986361555"
     },
     "user_tz": 300
    },
    "id": "vBDlUHNSUL_j",
    "outputId": "b7762bfc-f780-4ba1-c31b-fe7ad358ae1f"
   },
   "outputs": [
    {
     "name": "stdout",
     "output_type": "stream",
     "text": [
      "455    0.41140\n",
      "456    0.41430\n",
      "457    0.41722\n",
      "458    0.41182\n",
      "459    0.41002\n",
      "460    0.40842\n",
      "461    0.40162\n",
      "462    0.39470\n",
      "463    0.39210\n",
      "464    0.39010\n",
      "465    0.38610\n",
      "466    0.38412\n",
      "467    0.38312\n",
      "468    0.38312\n",
      "469    0.38308\n",
      "470    0.38208\n",
      "471    0.38396\n",
      "472    0.38196\n",
      "473    0.38096\n",
      "474    0.37900\n",
      "475    0.37900\n",
      "476    0.37600\n",
      "477    0.37780\n",
      "478    0.37880\n",
      "479    0.37470\n",
      "480    0.37570\n",
      "481    0.37670\n",
      "482    0.37390\n",
      "483    0.37190\n",
      "484    0.37400\n",
      "485    0.37116\n",
      "486    0.36716\n",
      "487    0.36876\n",
      "488    0.36876\n",
      "489    0.37376\n",
      "490    0.37560\n",
      "491    0.37960\n",
      "492    0.37800\n",
      "493    0.38200\n",
      "494    0.38300\n",
      "495    0.38400\n",
      "496    0.38450\n",
      "497    0.38550\n",
      "498    0.38350\n",
      "499    0.37750\n",
      "500    0.37770\n",
      "501        NaN\n",
      "502        NaN\n",
      "503        NaN\n",
      "504        NaN\n",
      "Name: Close, dtype: float64\n"
     ]
    }
   ],
   "source": [
    "#Valores para la media móvil en los últimos 50 días\n",
    "print(avianca_last_50_rolling)"
   ]
  },
  {
   "cell_type": "code",
   "execution_count": 55,
   "metadata": {
    "colab": {
     "base_uri": "https://localhost:8080/",
     "height": 281
    },
    "executionInfo": {
     "elapsed": 656,
     "status": "ok",
     "timestamp": 1614644639988,
     "user": {
      "displayName": "Alejandro Jesús Manotas Marmolejo",
      "photoUrl": "https://lh3.googleusercontent.com/a-/AOh14GiBMbRcpANQzZvYJ9LWzVxvD9qatNblJ2V0VdIvH6s=s64",
      "userId": "03263816449986361555"
     },
     "user_tz": 300
    },
    "id": "4zjt8zKCULsu",
    "outputId": "001dddd6-3846-4d07-a1f4-cecad74e0bed"
   },
   "outputs": [
    {
     "data": {
      "image/png": "[encoded data removed]",
      "text/plain": [
       "<Figure size 432x288 with 1 Axes>"
      ]
     },
     "metadata": {
      "needs_background": "light"
     },
     "output_type": "display_data"
    }
   ],
   "source": [
    "#Media móvil para 100 días\n",
    "avianca_last_100 = avianca['Close'].tail(100)\n",
    "avianca_last_100_rolling = avianca_last_100.rolling(window=10).mean().shift(-5)\n",
    "sns.lineplot(data=avianca_last_100)\n",
    "sns.lineplot(data=avianca_last_100_rolling)\n",
    "plt.title('Avianca: Datos historicos vs Media móvil, últimos 100 días')\n",
    "plt.show()"
   ]
  },
  {
   "cell_type": "code",
   "execution_count": 56,
   "metadata": {
    "colab": {
     "base_uri": "https://localhost:8080/"
    },
    "executionInfo": {
     "elapsed": 543,
     "status": "ok",
     "timestamp": 1614644645655,
     "user": {
      "displayName": "Alejandro Jesús Manotas Marmolejo",
      "photoUrl": "https://lh3.googleusercontent.com/a-/AOh14GiBMbRcpANQzZvYJ9LWzVxvD9qatNblJ2V0VdIvH6s=s64",
      "userId": "03263816449986361555"
     },
     "user_tz": 300
    },
    "id": "aKfwdL1fULU-",
    "outputId": "e03e88bc-abeb-4032-c627-8889e5b87c7a"
   },
   "outputs": [
    {
     "name": "stdout",
     "output_type": "stream",
     "text": [
      "405       NaN\n",
      "406       NaN\n",
      "407       NaN\n",
      "408       NaN\n",
      "409    0.4097\n",
      "        ...  \n",
      "500       NaN\n",
      "501       NaN\n",
      "502       NaN\n",
      "503       NaN\n",
      "504       NaN\n",
      "Name: Close, Length: 100, dtype: float64\n"
     ]
    }
   ],
   "source": [
    "#Valores de la media móvil para los últimos 100 días\n",
    "print(avianca_last_100_rolling)"
   ]
  },
  {
   "cell_type": "code",
   "execution_count": 57,
   "metadata": {
    "colab": {
     "base_uri": "https://localhost:8080/",
     "height": 281
    },
    "executionInfo": {
     "elapsed": 773,
     "status": "ok",
     "timestamp": 1614644648302,
     "user": {
      "displayName": "Alejandro Jesús Manotas Marmolejo",
      "photoUrl": "https://lh3.googleusercontent.com/a-/AOh14GiBMbRcpANQzZvYJ9LWzVxvD9qatNblJ2V0VdIvH6s=s64",
      "userId": "03263816449986361555"
     },
     "user_tz": 300
    },
    "id": "dnCUlmBVUKKu",
    "outputId": "431a985f-4bd2-47fd-f5b0-1c532242860f"
   },
   "outputs": [
    {
     "data": {
      "image/png": "[encoded data removed]",
      "text/plain": [
       "<Figure size 432x288 with 1 Axes>"
      ]
     },
     "metadata": {
      "needs_background": "light"
     },
     "output_type": "display_data"
    }
   ],
   "source": [
    "#Media móvil para 300 días\n",
    "avianca_last_300 = avianca['Close'].tail(300)\n",
    "avianca_last_300_rolling = avianca_last_300.rolling(window=30).mean().shift(-5)\n",
    "sns.lineplot(data=avianca_last_300)\n",
    "sns.lineplot(data=avianca_last_300_rolling)\n",
    "plt.title('Avianca: Datos historicos vs Media móvil, últimos 300 días')\n",
    "plt.show()"
   ]
  },
  {
   "cell_type": "markdown",
   "metadata": {
    "id": "paHHHL-8UqLT"
   },
   "source": [
    "## Análisis"
   ]
  },
  {
   "cell_type": "markdown",
   "metadata": {
    "id": "IdqdhgdYUuOg"
   },
   "source": [
    "Observando el gráfico de la media, la que maneja los mejores promedio de valor de cierre es Walmart, seguido de Royal Caribbean, Apple, Delta Airlines y, por último, Avianca. El mismo comportamiento se presenta analizando las medianas donde primero se encuentra Walmart, después Royal Caribbean, Apple, Delta Airlines y Avianca en el último puesto.Aún así no es suficiente información para determinar si la pandemia tuvo un impacto positivo o negativo en el rendimiento de la empresa. De tal modo que utilizando solo medidas de tendencia central o de dispersión no son suficiente para tomar decisiones."
   ]
  },
  {
   "cell_type": "markdown",
   "metadata": {
    "id": "gG2ndxBbUu9P"
   },
   "source": [
    "## Conclusiones"
   ]
  },
  {
   "cell_type": "markdown",
   "metadata": {
    "id": "pS2zd29dU2hM"
   },
   "source": [
    "* Importancia de la media móvil\n",
    "> En este tipo de gráficas como podemos observar en las que se encuentran arriba, el peso que tienen los datos atípicos es menor por lo que no afecta tanto las gráficas por lo que es mucho más fácil realizar un análisis gráfico del comportamiento. Hay que recalcar que se debe escoger una ventana (número de observaciones) adecuada, si se escoge una ventana muy grande puede que no se adapte bien a las variaciones y si es muy bajo afecta la visualización de los mismos.\n",
    "\n",
    "* Cual es la stock con mejor rendimiento? Porque?\n",
    "> La empresa de Royal Caribbean es la que mejor rendimiento tiene, si bien Walmart tiene el mejor promedio en cuanto al valor de cierre, en la gráfica de la media móvil ha estado bajando últimamente en cuanto a los últimos 100 días, mientras que Royal Caribbean ha tenido un alza en los últimos 100 días y parece seguir creciendo.\n",
    "\n",
    "* Cual es la stock con menor rendimiento? Porque?\n",
    "> La empresa de Avianca es la que peor rendimiento tiene, en la gráfica donde se muestran los promedios de las empresas Avianca es la que tiene el peor promedio tiene entre todas, lo mismo sucede en el valor de la mediana tiene un valor muy bajo a comparación de las otras empresas. Este bajo rendimiento en el último año puede deberse por la pandemia en la que ningún aeropuerto podía realizar viajes o realizaba muy pocos.\n",
    "\n",
    "* Encontró algún impacto de la pandemia en las stocks analizadas? Explique.\n",
    "> Para empresas de transporte como Avianca, Delta Airlines y Royal Caribbean tuvo un impacto negativo porque al estar en pandemia debemos permanecer confinados en nuestras casas para evitar el contagio y seguir esparciendo el contagio. Para empresas como Apple y Walmart tuvo impacto positivo, en el caso de Apple el cambio a la virtualidad llevo a que se comprará más dispositivos electronicos y en el caso de Walmart al estar confinados se debía comprar lo necesario para estar tranquilos en la casa, en algunos casos, personas tendían a hacer la compra para todo el mes. Estas observaciones están basadas en las gráficas de datos historiacos versus la media móvil de los últimos 300 días en las que se observa la variación que tuvo grácias al impacto de la pandemia.\n",
    "\n"
   ]
  },
  {
   "cell_type": "markdown",
   "metadata": {
    "id": "1386Qw-4U-eK"
   },
   "source": [
    "# Vehicle accident analysis\n",
    "\n",
    "---\n",
    "\n"
   ]
  },
  {
   "cell_type": "markdown",
   "metadata": {
    "id": "rLtHxer7ViRJ"
   },
   "source": [
    "## Exploración de datos"
   ]
  },
  {
   "cell_type": "code",
   "execution_count": 58,
   "metadata": {
    "colab": {
     "base_uri": "https://localhost:8080/",
     "height": 566
    },
    "executionInfo": {
     "elapsed": 1104,
     "status": "ok",
     "timestamp": 1614644908151,
     "user": {
      "displayName": "Alejandro Jesús Manotas Marmolejo",
      "photoUrl": "https://lh3.googleusercontent.com/a-/AOh14GiBMbRcpANQzZvYJ9LWzVxvD9qatNblJ2V0VdIvH6s=s64",
      "userId": "03263816449986361555"
     },
     "user_tz": 300
    },
    "id": "C_Tjo-aPVIEj",
    "outputId": "defa36df-7ed0-4f21-ce25-572b7ea50021"
   },
   "outputs": [
    {
     "data": {
      "text/html": [
       "<div>\n",
       "<style scoped>\n",
       "    .dataframe tbody tr th:only-of-type {\n",
       "        vertical-align: middle;\n",
       "    }\n",
       "\n",
       "    .dataframe tbody tr th {\n",
       "        vertical-align: top;\n",
       "    }\n",
       "\n",
       "    .dataframe thead th {\n",
       "        text-align: right;\n",
       "    }\n",
       "</style>\n",
       "<table border=\"1\" class=\"dataframe\">\n",
       "  <thead>\n",
       "    <tr style=\"text-align: right;\">\n",
       "      <th></th>\n",
       "      <th>FECHA_ACCIDENTE</th>\n",
       "      <th>AÑO_ACCIDENTE</th>\n",
       "      <th>MES_ACCIDENTE</th>\n",
       "      <th>DIA_ACCIDENTE</th>\n",
       "      <th>HORA_ACCIDENTE</th>\n",
       "      <th>GRAVEDAD_ACCIDENTE</th>\n",
       "      <th>CLASE_ACCIDENTE</th>\n",
       "      <th>SITIO_EXACTO_ACCIDENTE</th>\n",
       "      <th>CANT_HERIDOS_EN _SITIO_ACCIDENTE</th>\n",
       "      <th>CANT_MUERTOS_EN _SITIO_ACCIDENTE</th>\n",
       "      <th>CANTIDAD_ACCIDENTES</th>\n",
       "    </tr>\n",
       "  </thead>\n",
       "  <tbody>\n",
       "    <tr>\n",
       "      <th>0</th>\n",
       "      <td>01/01/2015 12:00:00 AM</td>\n",
       "      <td>2015</td>\n",
       "      <td>1</td>\n",
       "      <td>Jue</td>\n",
       "      <td>02:10:00:PM</td>\n",
       "      <td>Con heridos</td>\n",
       "      <td>Choque</td>\n",
       "      <td>VIA 40 CON 77</td>\n",
       "      <td>1.0</td>\n",
       "      <td>NaN</td>\n",
       "      <td>1</td>\n",
       "    </tr>\n",
       "    <tr>\n",
       "      <th>1</th>\n",
       "      <td>01/01/2015 12:00:00 AM</td>\n",
       "      <td>2015</td>\n",
       "      <td>1</td>\n",
       "      <td>Jue</td>\n",
       "      <td>02:15:00:PM</td>\n",
       "      <td>Solo daños</td>\n",
       "      <td>Choque</td>\n",
       "      <td>CALLE 14 CR 13</td>\n",
       "      <td>NaN</td>\n",
       "      <td>NaN</td>\n",
       "      <td>1</td>\n",
       "    </tr>\n",
       "    <tr>\n",
       "      <th>2</th>\n",
       "      <td>01/01/2015 12:00:00 AM</td>\n",
       "      <td>2015</td>\n",
       "      <td>1</td>\n",
       "      <td>Jue</td>\n",
       "      <td>02:20:00:PM</td>\n",
       "      <td>Solo daños</td>\n",
       "      <td>Choque</td>\n",
       "      <td>CL 74 CR 38C</td>\n",
       "      <td>NaN</td>\n",
       "      <td>NaN</td>\n",
       "      <td>1</td>\n",
       "    </tr>\n",
       "    <tr>\n",
       "      <th>3</th>\n",
       "      <td>01/01/2015 12:00:00 AM</td>\n",
       "      <td>2015</td>\n",
       "      <td>1</td>\n",
       "      <td>Jue</td>\n",
       "      <td>03:30:00:PM</td>\n",
       "      <td>Con heridos</td>\n",
       "      <td>Choque</td>\n",
       "      <td>CL 45 CR 19</td>\n",
       "      <td>2.0</td>\n",
       "      <td>NaN</td>\n",
       "      <td>1</td>\n",
       "    </tr>\n",
       "    <tr>\n",
       "      <th>4</th>\n",
       "      <td>01/01/2015 12:00:00 AM</td>\n",
       "      <td>2015</td>\n",
       "      <td>1</td>\n",
       "      <td>Jue</td>\n",
       "      <td>04:20:00:AM</td>\n",
       "      <td>Solo daños</td>\n",
       "      <td>Choque</td>\n",
       "      <td>CRA 15 CLLE 21</td>\n",
       "      <td>NaN</td>\n",
       "      <td>NaN</td>\n",
       "      <td>1</td>\n",
       "    </tr>\n",
       "    <tr>\n",
       "      <th>5</th>\n",
       "      <td>01/01/2015 12:00:00 AM</td>\n",
       "      <td>2015</td>\n",
       "      <td>1</td>\n",
       "      <td>Jue</td>\n",
       "      <td>04:40:00:PM</td>\n",
       "      <td>Con heridos</td>\n",
       "      <td>Choque</td>\n",
       "      <td>CRA 14 CLLE 35</td>\n",
       "      <td>2.0</td>\n",
       "      <td>NaN</td>\n",
       "      <td>1</td>\n",
       "    </tr>\n",
       "    <tr>\n",
       "      <th>6</th>\n",
       "      <td>01/01/2015 12:00:00 AM</td>\n",
       "      <td>2015</td>\n",
       "      <td>1</td>\n",
       "      <td>Jue</td>\n",
       "      <td>04:50:00:PM</td>\n",
       "      <td>Con heridos</td>\n",
       "      <td>Atropello</td>\n",
       "      <td>CRA 6 CLLE 90</td>\n",
       "      <td>1.0</td>\n",
       "      <td>NaN</td>\n",
       "      <td>1</td>\n",
       "    </tr>\n",
       "    <tr>\n",
       "      <th>7</th>\n",
       "      <td>01/01/2015 12:00:00 AM</td>\n",
       "      <td>2015</td>\n",
       "      <td>1</td>\n",
       "      <td>Jue</td>\n",
       "      <td>06:00:00:AM</td>\n",
       "      <td>Solo daños</td>\n",
       "      <td>Choque</td>\n",
       "      <td>CRA 6 CLLE 92</td>\n",
       "      <td>NaN</td>\n",
       "      <td>NaN</td>\n",
       "      <td>1</td>\n",
       "    </tr>\n",
       "    <tr>\n",
       "      <th>8</th>\n",
       "      <td>01/01/2015 12:00:00 AM</td>\n",
       "      <td>2015</td>\n",
       "      <td>1</td>\n",
       "      <td>Jue</td>\n",
       "      <td>07:50:00:PM</td>\n",
       "      <td>Solo daños</td>\n",
       "      <td>Choque</td>\n",
       "      <td>CALLE 99 CR 56</td>\n",
       "      <td>NaN</td>\n",
       "      <td>NaN</td>\n",
       "      <td>1</td>\n",
       "    </tr>\n",
       "    <tr>\n",
       "      <th>9</th>\n",
       "      <td>01/01/2015 12:00:00 AM</td>\n",
       "      <td>2015</td>\n",
       "      <td>1</td>\n",
       "      <td>Jue</td>\n",
       "      <td>09:25:00:PM</td>\n",
       "      <td>Solo daños</td>\n",
       "      <td>Choque</td>\n",
       "      <td>CL 47 CR 24</td>\n",
       "      <td>NaN</td>\n",
       "      <td>NaN</td>\n",
       "      <td>1</td>\n",
       "    </tr>\n",
       "  </tbody>\n",
       "</table>\n",
       "</div>"
      ],
      "text/plain": [
       "          FECHA_ACCIDENTE  AÑO_ACCIDENTE  MES_ACCIDENTE DIA_ACCIDENTE  \\\n",
       "0  01/01/2015 12:00:00 AM           2015              1           Jue   \n",
       "1  01/01/2015 12:00:00 AM           2015              1           Jue   \n",
       "2  01/01/2015 12:00:00 AM           2015              1           Jue   \n",
       "3  01/01/2015 12:00:00 AM           2015              1           Jue   \n",
       "4  01/01/2015 12:00:00 AM           2015              1           Jue   \n",
       "5  01/01/2015 12:00:00 AM           2015              1           Jue   \n",
       "6  01/01/2015 12:00:00 AM           2015              1           Jue   \n",
       "7  01/01/2015 12:00:00 AM           2015              1           Jue   \n",
       "8  01/01/2015 12:00:00 AM           2015              1           Jue   \n",
       "9  01/01/2015 12:00:00 AM           2015              1           Jue   \n",
       "\n",
       "  HORA_ACCIDENTE GRAVEDAD_ACCIDENTE CLASE_ACCIDENTE SITIO_EXACTO_ACCIDENTE  \\\n",
       "0    02:10:00:PM        Con heridos          Choque          VIA 40 CON 77   \n",
       "1    02:15:00:PM         Solo daños          Choque         CALLE 14 CR 13   \n",
       "2    02:20:00:PM         Solo daños          Choque           CL 74 CR 38C   \n",
       "3    03:30:00:PM        Con heridos          Choque            CL 45 CR 19   \n",
       "4    04:20:00:AM         Solo daños          Choque         CRA 15 CLLE 21   \n",
       "5    04:40:00:PM        Con heridos          Choque         CRA 14 CLLE 35   \n",
       "6    04:50:00:PM        Con heridos       Atropello          CRA 6 CLLE 90   \n",
       "7    06:00:00:AM         Solo daños          Choque          CRA 6 CLLE 92   \n",
       "8    07:50:00:PM         Solo daños          Choque         CALLE 99 CR 56   \n",
       "9    09:25:00:PM         Solo daños          Choque            CL 47 CR 24   \n",
       "\n",
       "   CANT_HERIDOS_EN _SITIO_ACCIDENTE  CANT_MUERTOS_EN _SITIO_ACCIDENTE  \\\n",
       "0                               1.0                               NaN   \n",
       "1                               NaN                               NaN   \n",
       "2                               NaN                               NaN   \n",
       "3                               2.0                               NaN   \n",
       "4                               NaN                               NaN   \n",
       "5                               2.0                               NaN   \n",
       "6                               1.0                               NaN   \n",
       "7                               NaN                               NaN   \n",
       "8                               NaN                               NaN   \n",
       "9                               NaN                               NaN   \n",
       "\n",
       "   CANTIDAD_ACCIDENTES  \n",
       "0                    1  \n",
       "1                    1  \n",
       "2                    1  \n",
       "3                    1  \n",
       "4                    1  \n",
       "5                    1  \n",
       "6                    1  \n",
       "7                    1  \n",
       "8                    1  \n",
       "9                    1  "
      ]
     },
     "execution_count": 58,
     "metadata": {},
     "output_type": "execute_result"
    }
   ],
   "source": [
    "#Leer csv\n",
    "accident_rate = pd.read_csv('./DataAccident/Accidentalidad_en_Barranquilla.csv')\n",
    "\n",
    "#Primeras 10 filas del csv\n",
    "accident_rate.head(10)"
   ]
  },
  {
   "cell_type": "code",
   "execution_count": 59,
   "metadata": {
    "colab": {
     "base_uri": "https://localhost:8080/",
     "height": 566
    },
    "executionInfo": {
     "elapsed": 622,
     "status": "ok",
     "timestamp": 1614644929043,
     "user": {
      "displayName": "Alejandro Jesús Manotas Marmolejo",
      "photoUrl": "https://lh3.googleusercontent.com/a-/AOh14GiBMbRcpANQzZvYJ9LWzVxvD9qatNblJ2V0VdIvH6s=s64",
      "userId": "03263816449986361555"
     },
     "user_tz": 300
    },
    "id": "XcZT8aDdVMZr",
    "outputId": "5b787205-907e-41b9-9d85-2e50e25ef50f"
   },
   "outputs": [
    {
     "data": {
      "text/html": [
       "<div>\n",
       "<style scoped>\n",
       "    .dataframe tbody tr th:only-of-type {\n",
       "        vertical-align: middle;\n",
       "    }\n",
       "\n",
       "    .dataframe tbody tr th {\n",
       "        vertical-align: top;\n",
       "    }\n",
       "\n",
       "    .dataframe thead th {\n",
       "        text-align: right;\n",
       "    }\n",
       "</style>\n",
       "<table border=\"1\" class=\"dataframe\">\n",
       "  <thead>\n",
       "    <tr style=\"text-align: right;\">\n",
       "      <th></th>\n",
       "      <th>FECHA_ACCIDENTE</th>\n",
       "      <th>AÑO_ACCIDENTE</th>\n",
       "      <th>MES_ACCIDENTE</th>\n",
       "      <th>DIA_ACCIDENTE</th>\n",
       "      <th>HORA_ACCIDENTE</th>\n",
       "      <th>GRAVEDAD_ACCIDENTE</th>\n",
       "      <th>CLASE_ACCIDENTE</th>\n",
       "      <th>SITIO_EXACTO_ACCIDENTE</th>\n",
       "      <th>CANT_HERIDOS_EN _SITIO_ACCIDENTE</th>\n",
       "      <th>CANT_MUERTOS_EN _SITIO_ACCIDENTE</th>\n",
       "      <th>CANTIDAD_ACCIDENTES</th>\n",
       "    </tr>\n",
       "  </thead>\n",
       "  <tbody>\n",
       "    <tr>\n",
       "      <th>33932</th>\n",
       "      <td>12/30/2020 12:00:00 AM</td>\n",
       "      <td>2020</td>\n",
       "      <td>12</td>\n",
       "      <td>Mié</td>\n",
       "      <td>09:00:00:AM</td>\n",
       "      <td>Solo daños</td>\n",
       "      <td>Choque</td>\n",
       "      <td>CR 18 CL 39</td>\n",
       "      <td>NaN</td>\n",
       "      <td>0.0</td>\n",
       "      <td>1</td>\n",
       "    </tr>\n",
       "    <tr>\n",
       "      <th>33933</th>\n",
       "      <td>12/30/2020 12:00:00 AM</td>\n",
       "      <td>2020</td>\n",
       "      <td>12</td>\n",
       "      <td>Mié</td>\n",
       "      <td>12:40:00:PM</td>\n",
       "      <td>Solo daños</td>\n",
       "      <td>Choque</td>\n",
       "      <td>AV CIRCUNVALAR CL 92</td>\n",
       "      <td>NaN</td>\n",
       "      <td>0.0</td>\n",
       "      <td>1</td>\n",
       "    </tr>\n",
       "    <tr>\n",
       "      <th>33934</th>\n",
       "      <td>12/31/2020 12:00:00 AM</td>\n",
       "      <td>2020</td>\n",
       "      <td>12</td>\n",
       "      <td>Jue</td>\n",
       "      <td>02:40:00:PM</td>\n",
       "      <td>Solo daños</td>\n",
       "      <td>Choque</td>\n",
       "      <td>CL 85 CR 42B</td>\n",
       "      <td>NaN</td>\n",
       "      <td>0.0</td>\n",
       "      <td>1</td>\n",
       "    </tr>\n",
       "    <tr>\n",
       "      <th>33935</th>\n",
       "      <td>12/31/2020 12:00:00 AM</td>\n",
       "      <td>2020</td>\n",
       "      <td>12</td>\n",
       "      <td>Jue</td>\n",
       "      <td>09:00:00:PM</td>\n",
       "      <td>Con heridos</td>\n",
       "      <td>Choque</td>\n",
       "      <td>CL 51 CR 24</td>\n",
       "      <td>1.0</td>\n",
       "      <td>0.0</td>\n",
       "      <td>1</td>\n",
       "    </tr>\n",
       "    <tr>\n",
       "      <th>33936</th>\n",
       "      <td>12/31/2020 12:00:00 AM</td>\n",
       "      <td>2020</td>\n",
       "      <td>12</td>\n",
       "      <td>Jue</td>\n",
       "      <td>09:00:00:PM</td>\n",
       "      <td>Con heridos</td>\n",
       "      <td>Choque</td>\n",
       "      <td>CR 9G CL 110</td>\n",
       "      <td>1.0</td>\n",
       "      <td>0.0</td>\n",
       "      <td>1</td>\n",
       "    </tr>\n",
       "    <tr>\n",
       "      <th>33937</th>\n",
       "      <td>12/31/2020 12:00:00 AM</td>\n",
       "      <td>2020</td>\n",
       "      <td>12</td>\n",
       "      <td>Jue</td>\n",
       "      <td>09:20:00:AM</td>\n",
       "      <td>Solo daños</td>\n",
       "      <td>Choque</td>\n",
       "      <td>CR 41D CL 79</td>\n",
       "      <td>NaN</td>\n",
       "      <td>0.0</td>\n",
       "      <td>1</td>\n",
       "    </tr>\n",
       "    <tr>\n",
       "      <th>33938</th>\n",
       "      <td>12/31/2020 12:00:00 AM</td>\n",
       "      <td>2020</td>\n",
       "      <td>12</td>\n",
       "      <td>Jue</td>\n",
       "      <td>10:15:00:AM</td>\n",
       "      <td>Solo daños</td>\n",
       "      <td>Choque</td>\n",
       "      <td>CR 44 CL 70</td>\n",
       "      <td>NaN</td>\n",
       "      <td>0.0</td>\n",
       "      <td>1</td>\n",
       "    </tr>\n",
       "    <tr>\n",
       "      <th>33939</th>\n",
       "      <td>12/31/2020 12:00:00 AM</td>\n",
       "      <td>2020</td>\n",
       "      <td>12</td>\n",
       "      <td>Jue</td>\n",
       "      <td>11:20:00:PM</td>\n",
       "      <td>Solo daños</td>\n",
       "      <td>Choque</td>\n",
       "      <td>CL 19 CR 7</td>\n",
       "      <td>NaN</td>\n",
       "      <td>0.0</td>\n",
       "      <td>1</td>\n",
       "    </tr>\n",
       "    <tr>\n",
       "      <th>33940</th>\n",
       "      <td>12/31/2020 12:00:00 AM</td>\n",
       "      <td>2020</td>\n",
       "      <td>12</td>\n",
       "      <td>Jue</td>\n",
       "      <td>11:45:00:AM</td>\n",
       "      <td>Solo daños</td>\n",
       "      <td>Choque</td>\n",
       "      <td>CR 43 CL 48</td>\n",
       "      <td>NaN</td>\n",
       "      <td>0.0</td>\n",
       "      <td>1</td>\n",
       "    </tr>\n",
       "    <tr>\n",
       "      <th>33941</th>\n",
       "      <td>12/31/2020 12:00:00 AM</td>\n",
       "      <td>2020</td>\n",
       "      <td>12</td>\n",
       "      <td>Jue</td>\n",
       "      <td>12:50:00:PM</td>\n",
       "      <td>Solo daños</td>\n",
       "      <td>Choque</td>\n",
       "      <td>CR 50 CL 50</td>\n",
       "      <td>NaN</td>\n",
       "      <td>0.0</td>\n",
       "      <td>1</td>\n",
       "    </tr>\n",
       "  </tbody>\n",
       "</table>\n",
       "</div>"
      ],
      "text/plain": [
       "              FECHA_ACCIDENTE  AÑO_ACCIDENTE  MES_ACCIDENTE DIA_ACCIDENTE  \\\n",
       "33932  12/30/2020 12:00:00 AM           2020             12           Mié   \n",
       "33933  12/30/2020 12:00:00 AM           2020             12           Mié   \n",
       "33934  12/31/2020 12:00:00 AM           2020             12           Jue   \n",
       "33935  12/31/2020 12:00:00 AM           2020             12           Jue   \n",
       "33936  12/31/2020 12:00:00 AM           2020             12           Jue   \n",
       "33937  12/31/2020 12:00:00 AM           2020             12           Jue   \n",
       "33938  12/31/2020 12:00:00 AM           2020             12           Jue   \n",
       "33939  12/31/2020 12:00:00 AM           2020             12           Jue   \n",
       "33940  12/31/2020 12:00:00 AM           2020             12           Jue   \n",
       "33941  12/31/2020 12:00:00 AM           2020             12           Jue   \n",
       "\n",
       "      HORA_ACCIDENTE GRAVEDAD_ACCIDENTE CLASE_ACCIDENTE  \\\n",
       "33932    09:00:00:AM         Solo daños          Choque   \n",
       "33933    12:40:00:PM         Solo daños          Choque   \n",
       "33934    02:40:00:PM         Solo daños          Choque   \n",
       "33935    09:00:00:PM        Con heridos          Choque   \n",
       "33936    09:00:00:PM        Con heridos          Choque   \n",
       "33937    09:20:00:AM         Solo daños          Choque   \n",
       "33938    10:15:00:AM         Solo daños          Choque   \n",
       "33939    11:20:00:PM         Solo daños          Choque   \n",
       "33940    11:45:00:AM         Solo daños          Choque   \n",
       "33941    12:50:00:PM         Solo daños          Choque   \n",
       "\n",
       "      SITIO_EXACTO_ACCIDENTE  CANT_HERIDOS_EN _SITIO_ACCIDENTE  \\\n",
       "33932            CR 18 CL 39                               NaN   \n",
       "33933   AV CIRCUNVALAR CL 92                               NaN   \n",
       "33934           CL 85 CR 42B                               NaN   \n",
       "33935            CL 51 CR 24                               1.0   \n",
       "33936           CR 9G CL 110                               1.0   \n",
       "33937           CR 41D CL 79                               NaN   \n",
       "33938            CR 44 CL 70                               NaN   \n",
       "33939             CL 19 CR 7                               NaN   \n",
       "33940            CR 43 CL 48                               NaN   \n",
       "33941            CR 50 CL 50                               NaN   \n",
       "\n",
       "       CANT_MUERTOS_EN _SITIO_ACCIDENTE  CANTIDAD_ACCIDENTES  \n",
       "33932                               0.0                    1  \n",
       "33933                               0.0                    1  \n",
       "33934                               0.0                    1  \n",
       "33935                               0.0                    1  \n",
       "33936                               0.0                    1  \n",
       "33937                               0.0                    1  \n",
       "33938                               0.0                    1  \n",
       "33939                               0.0                    1  \n",
       "33940                               0.0                    1  \n",
       "33941                               0.0                    1  "
      ]
     },
     "execution_count": 59,
     "metadata": {},
     "output_type": "execute_result"
    }
   ],
   "source": [
    "#Últimas 10 filas del csv\n",
    "accident_rate.tail(10)"
   ]
  },
  {
   "cell_type": "code",
   "execution_count": 60,
   "metadata": {
    "colab": {
     "base_uri": "https://localhost:8080/"
    },
    "executionInfo": {
     "elapsed": 523,
     "status": "ok",
     "timestamp": 1614644940784,
     "user": {
      "displayName": "Alejandro Jesús Manotas Marmolejo",
      "photoUrl": "https://lh3.googleusercontent.com/a-/AOh14GiBMbRcpANQzZvYJ9LWzVxvD9qatNblJ2V0VdIvH6s=s64",
      "userId": "03263816449986361555"
     },
     "user_tz": 300
    },
    "id": "3RA4BA2xVN8-",
    "outputId": "838a20d4-4a87-4dd7-affb-611554bb9f23"
   },
   "outputs": [
    {
     "data": {
      "text/plain": [
       "Choque            32187\n",
       "Atropello          1277\n",
       "Otro                206\n",
       "Caida Ocupante      135\n",
       "Volcamiento         119\n",
       "Incendio             18\n",
       "Name: CLASE_ACCIDENTE, dtype: int64"
      ]
     },
     "execution_count": 60,
     "metadata": {},
     "output_type": "execute_result"
    }
   ],
   "source": [
    "#Diferentes tipos de accidente y cuantos hay de cada uno\n",
    "accident_rate['CLASE_ACCIDENTE'].value_counts()"
   ]
  },
  {
   "cell_type": "code",
   "execution_count": 61,
   "metadata": {
    "colab": {
     "base_uri": "https://localhost:8080/"
    },
    "executionInfo": {
     "elapsed": 549,
     "status": "ok",
     "timestamp": 1614644939729,
     "user": {
      "displayName": "Alejandro Jesús Manotas Marmolejo",
      "photoUrl": "https://lh3.googleusercontent.com/a-/AOh14GiBMbRcpANQzZvYJ9LWzVxvD9qatNblJ2V0VdIvH6s=s64",
      "userId": "03263816449986361555"
     },
     "user_tz": 300
    },
    "id": "LQtEaEmuVPcT",
    "outputId": "2e5d193b-addb-4b90-e741-c94e30ca66e6"
   },
   "outputs": [
    {
     "data": {
      "text/plain": [
       "Solo daños     27105\n",
       "Con heridos     6615\n",
       "Con muertos      222\n",
       "Name: GRAVEDAD_ACCIDENTE, dtype: int64"
      ]
     },
     "execution_count": 61,
     "metadata": {},
     "output_type": "execute_result"
    }
   ],
   "source": [
    "#Que tan graves fueron los accidentes\n",
    "accident_rate['GRAVEDAD_ACCIDENTE'].value_counts()"
   ]
  },
  {
   "cell_type": "code",
   "execution_count": 62,
   "metadata": {
    "colab": {
     "base_uri": "https://localhost:8080/"
    },
    "executionInfo": {
     "elapsed": 530,
     "status": "ok",
     "timestamp": 1614644938629,
     "user": {
      "displayName": "Alejandro Jesús Manotas Marmolejo",
      "photoUrl": "https://lh3.googleusercontent.com/a-/AOh14GiBMbRcpANQzZvYJ9LWzVxvD9qatNblJ2V0VdIvH6s=s64",
      "userId": "03263816449986361555"
     },
     "user_tz": 300
    },
    "id": "ioBm_covVRSn",
    "outputId": "92f0b669-e808-4cc7-bd17-7746fd36bdd8"
   },
   "outputs": [
    {
     "data": {
      "text/plain": [
       "Mar    5423\n",
       "Vie    5375\n",
       "Mié    5148\n",
       "Jue    5058\n",
       "Sáb    4908\n",
       "Lun    4856\n",
       "Dom    3174\n",
       "Name: DIA_ACCIDENTE, dtype: int64"
      ]
     },
     "execution_count": 62,
     "metadata": {},
     "output_type": "execute_result"
    }
   ],
   "source": [
    "#Día de la semana en la que ocurrieron los accidentes y que tanto sucedieron\n",
    "accident_rate['DIA_ACCIDENTE'].value_counts()"
   ]
  },
  {
   "cell_type": "code",
   "execution_count": 63,
   "metadata": {
    "colab": {
     "base_uri": "https://localhost:8080/"
    },
    "executionInfo": {
     "elapsed": 523,
     "status": "ok",
     "timestamp": 1614644937084,
     "user": {
      "displayName": "Alejandro Jesús Manotas Marmolejo",
      "photoUrl": "https://lh3.googleusercontent.com/a-/AOh14GiBMbRcpANQzZvYJ9LWzVxvD9qatNblJ2V0VdIvH6s=s64",
      "userId": "03263816449986361555"
     },
     "user_tz": 300
    },
    "id": "HmPMWNxrVTq8",
    "outputId": "948674df-3fd7-42c7-b4c3-c9321c91fbc8"
   },
   "outputs": [
    {
     "data": {
      "text/plain": [
       "12    2985\n",
       "10    2983\n",
       "11    2956\n",
       "9     2942\n",
       "3     2939\n",
       "2     2907\n",
       "8     2842\n",
       "5     2747\n",
       "4     2708\n",
       "1     2663\n",
       "7     2656\n",
       "6     2614\n",
       "Name: MES_ACCIDENTE, dtype: int64"
      ]
     },
     "execution_count": 63,
     "metadata": {},
     "output_type": "execute_result"
    }
   ],
   "source": [
    "#Cantidad de accidentes en un mes\n",
    "accident_rate['MES_ACCIDENTE'].value_counts()"
   ]
  },
  {
   "cell_type": "code",
   "execution_count": 64,
   "metadata": {
    "executionInfo": {
     "elapsed": 756,
     "status": "ok",
     "timestamp": 1614644945620,
     "user": {
      "displayName": "Alejandro Jesús Manotas Marmolejo",
      "photoUrl": "https://lh3.googleusercontent.com/a-/AOh14GiBMbRcpANQzZvYJ9LWzVxvD9qatNblJ2V0VdIvH6s=s64",
      "userId": "03263816449986361555"
     },
     "user_tz": 300
    },
    "id": "ZbXXX4WrVVMU"
   },
   "outputs": [],
   "source": [
    "# Convertir columna FECHA_ACCIDENTE a objeto datetime\n",
    "accident_rate['FECHA_ACCIDENTE'] = accident_rate['FECHA_ACCIDENTE'].apply(lambda date: dt.datetime.strptime(date, '%m/%d/%Y %I:%M:%S %p'))"
   ]
  },
  {
   "cell_type": "code",
   "execution_count": 65,
   "metadata": {
    "executionInfo": {
     "elapsed": 531,
     "status": "ok",
     "timestamp": 1614644946891,
     "user": {
      "displayName": "Alejandro Jesús Manotas Marmolejo",
      "photoUrl": "https://lh3.googleusercontent.com/a-/AOh14GiBMbRcpANQzZvYJ9LWzVxvD9qatNblJ2V0VdIvH6s=s64",
      "userId": "03263816449986361555"
     },
     "user_tz": 300
    },
    "id": "nJUNDBf0VWd0"
   },
   "outputs": [],
   "source": [
    "# Agrupar por fecha de accidente\n",
    "accidents_per_day = accident_rate.groupby('FECHA_ACCIDENTE').sum()[['CANTIDAD_ACCIDENTES']]"
   ]
  },
  {
   "cell_type": "code",
   "execution_count": 66,
   "metadata": {
    "colab": {
     "base_uri": "https://localhost:8080/"
    },
    "executionInfo": {
     "elapsed": 531,
     "status": "ok",
     "timestamp": 1614644948112,
     "user": {
      "displayName": "Alejandro Jesús Manotas Marmolejo",
      "photoUrl": "https://lh3.googleusercontent.com/a-/AOh14GiBMbRcpANQzZvYJ9LWzVxvD9qatNblJ2V0VdIvH6s=s64",
      "userId": "03263816449986361555"
     },
     "user_tz": 300
    },
    "id": "3ylFPi_jVXip",
    "outputId": "c134d604-7b87-4d70-9956-d1bd65412fc6"
   },
   "outputs": [
    {
     "name": "stdout",
     "output_type": "stream",
     "text": [
      "15.53110704483074\n"
     ]
    }
   ],
   "source": [
    "#Promedio de accidentes por día\n",
    "print(accidents_per_day['CANTIDAD_ACCIDENTES'].mean())"
   ]
  },
  {
   "cell_type": "markdown",
   "metadata": {
    "id": "KPrba1_ZVY2u"
   },
   "source": [
    "## Visualización de los datos"
   ]
  },
  {
   "cell_type": "code",
   "execution_count": 67,
   "metadata": {
    "colab": {
     "base_uri": "https://localhost:8080/"
    },
    "executionInfo": {
     "elapsed": 556,
     "status": "ok",
     "timestamp": 1614644970234,
     "user": {
      "displayName": "Alejandro Jesús Manotas Marmolejo",
      "photoUrl": "https://lh3.googleusercontent.com/a-/AOh14GiBMbRcpANQzZvYJ9LWzVxvD9qatNblJ2V0VdIvH6s=s64",
      "userId": "03263816449986361555"
     },
     "user_tz": 300
    },
    "id": "8nyMuhFRVa-Z",
    "outputId": "ad5f055a-ef6f-4b91-e549-4ee350013688"
   },
   "outputs": [
    {
     "data": {
      "text/plain": [
       "16    160\n",
       "15    134\n",
       "13    132\n",
       "18    130\n",
       "19    127\n",
       "17    127\n",
       "20    116\n",
       "12    116\n",
       "14    112\n",
       "21    104\n",
       "11     96\n",
       "10     90\n",
       "9      85\n",
       "22     81\n",
       "8      73\n",
       "25     63\n",
       "24     54\n",
       "7      53\n",
       "6      53\n",
       "23     47\n",
       "26     33\n",
       "3      28\n",
       "4      26\n",
       "2      25\n",
       "27     25\n",
       "5      24\n",
       "28     21\n",
       "1      16\n",
       "29     14\n",
       "30      7\n",
       "32      5\n",
       "31      5\n",
       "34      3\n",
       "33      1\n",
       "Name: CANTIDAD_ACCIDENTES, dtype: int64"
      ]
     },
     "execution_count": 67,
     "metadata": {},
     "output_type": "execute_result"
    }
   ],
   "source": [
    "#Cuanto accidentes ocurrieron en un día, ej: 160 veces ocurrieron 16 accidentes\n",
    "accidents_per_day['CANTIDAD_ACCIDENTES'].value_counts()"
   ]
  },
  {
   "cell_type": "markdown",
   "metadata": {
    "id": "-TM5SLdiVvPr"
   },
   "source": [
    "### Valor esperado vs valor observado\n"
   ]
  },
  {
   "cell_type": "code",
   "execution_count": 68,
   "metadata": {
    "colab": {
     "base_uri": "https://localhost:8080/",
     "height": 267
    },
    "executionInfo": {
     "elapsed": 588,
     "status": "ok",
     "timestamp": 1614645004222,
     "user": {
      "displayName": "Alejandro Jesús Manotas Marmolejo",
      "photoUrl": "https://lh3.googleusercontent.com/a-/AOh14GiBMbRcpANQzZvYJ9LWzVxvD9qatNblJ2V0VdIvH6s=s64",
      "userId": "03263816449986361555"
     },
     "user_tz": 300
    },
    "id": "I07UwVf8VyaB",
    "outputId": "df1ccff4-ba36-4475-fc77-a0cddbdf94b4"
   },
   "outputs": [
    {
     "data": {
      "image/png": "[encoded data removed]",
      "text/plain": [
       "<Figure size 432x288 with 1 Axes>"
      ]
     },
     "metadata": {
      "needs_background": "light"
     },
     "output_type": "display_data"
    }
   ],
   "source": [
    "#Importar librería\n",
    "from scipy.stats import poisson\n",
    "\n",
    "#Crear figura\n",
    "fig, ax = plt.subplots(1, 1)\n",
    "\n",
    "#Definir los parametros de la distribución\n",
    "mu = accidents_per_day['CANTIDAD_ACCIDENTES'].mean()\n",
    "\n",
    "#Generamos las variables discretas aleatorias\n",
    "x = np.arange(poisson.ppf(0.01,mu), poisson.ppf(0.99,mu))\n",
    "\n",
    "#Plotting x\n",
    "ax.plot(x, poisson.pmf(x,mu), 'mo', ms=9, label='mu=CANTIDAD_ACCIDENTES')\n",
    "ax.vlines(x, 0, poisson.pmf(x,mu), colors='purple', lw=5, alpha=0.5)\n",
    "\n",
    "#Generamos números random y plotting\n",
    "x_rv = poisson.rvs(mu, size=100)\n",
    "ax.hist(x_rv, density=True, alpha=0.2)\n",
    "\n",
    "#Definimos la leyenda de los atributos\n",
    "ax.legend(loc='upper right', frameon=False)\n",
    "plt.show()"
   ]
  },
  {
   "cell_type": "markdown",
   "metadata": {
    "id": "6ZYsjFnKWc_a"
   },
   "source": [
    "### Diagrama de cajas"
   ]
  },
  {
   "cell_type": "code",
   "execution_count": 69,
   "metadata": {
    "colab": {
     "base_uri": "https://localhost:8080/",
     "height": 266
    },
    "executionInfo": {
     "elapsed": 572,
     "status": "ok",
     "timestamp": 1614645190993,
     "user": {
      "displayName": "Alejandro Jesús Manotas Marmolejo",
      "photoUrl": "https://lh3.googleusercontent.com/a-/AOh14GiBMbRcpANQzZvYJ9LWzVxvD9qatNblJ2V0VdIvH6s=s64",
      "userId": "03263816449986361555"
     },
     "user_tz": 300
    },
    "id": "mr_4nyDQWdzc",
    "outputId": "bcf447dd-2a63-4f74-e64d-97892e32be06"
   },
   "outputs": [
    {
     "data": {
      "image/png": "[encoded data removed]",
      "text/plain": [
       "<Figure size 432x288 with 1 Axes>"
      ]
     },
     "metadata": {
      "needs_background": "light"
     },
     "output_type": "display_data"
    }
   ],
   "source": [
    "#Diagrama de cajas para los accidentes por día\n",
    "accidents_per_day['CANTIDAD_ACCIDENTES'].plot.box()\n",
    "plt.show()"
   ]
  },
  {
   "cell_type": "markdown",
   "metadata": {
    "id": "iiQBcvKdWoTE"
   },
   "source": [
    "### Heatmap"
   ]
  },
  {
   "cell_type": "code",
   "execution_count": 70,
   "metadata": {
    "colab": {
     "base_uri": "https://localhost:8080/",
     "height": 455
    },
    "executionInfo": {
     "elapsed": 820,
     "status": "ok",
     "timestamp": 1614645216915,
     "user": {
      "displayName": "Alejandro Jesús Manotas Marmolejo",
      "photoUrl": "https://lh3.googleusercontent.com/a-/AOh14GiBMbRcpANQzZvYJ9LWzVxvD9qatNblJ2V0VdIvH6s=s64",
      "userId": "03263816449986361555"
     },
     "user_tz": 300
    },
    "id": "rLO3YEtSWpsq",
    "outputId": "37679f4c-20d1-466c-806d-0760cacd1b48"
   },
   "outputs": [
    {
     "data": {
      "image/png": "[encoded data removed]",
      "text/plain": [
       "<Figure size 432x288 with 2 Axes>"
      ]
     },
     "metadata": {
      "needs_background": "light"
     },
     "output_type": "display_data"
    }
   ],
   "source": [
    "# Calcula las correlaciones\n",
    "corr = accident_rate.corr()\n",
    "\n",
    "# Heatmap\n",
    "sns.heatmap(corr)\n",
    "plt.show()"
   ]
  },
  {
   "cell_type": "markdown",
   "metadata": {
    "id": "jNXvpN1lWwK4"
   },
   "source": [
    "## Análisis"
   ]
  },
  {
   "cell_type": "markdown",
   "metadata": {
    "id": "XVvTsBVtV-OO"
   },
   "source": [
    "### probabilidad de que se den menos de 10 accidentes\n"
   ]
  },
  {
   "cell_type": "code",
   "execution_count": 71,
   "metadata": {
    "colab": {
     "base_uri": "https://localhost:8080/"
    },
    "executionInfo": {
     "elapsed": 529,
     "status": "ok",
     "timestamp": 1614645104877,
     "user": {
      "displayName": "Alejandro Jesús Manotas Marmolejo",
      "photoUrl": "https://lh3.googleusercontent.com/a-/AOh14GiBMbRcpANQzZvYJ9LWzVxvD9qatNblJ2V0VdIvH6s=s64",
      "userId": "03263816449986361555"
     },
     "user_tz": 300
    },
    "id": "hB4_3o_iWQaE",
    "outputId": "e3b6cdd8-04d9-4de4-cb15-120fde8a0344"
   },
   "outputs": [
    {
     "name": "stdout",
     "output_type": "stream",
     "text": [
      "0.054374467190723044\n"
     ]
    }
   ],
   "source": [
    "#probabilidad de que se den menos de 10 accidentes\n",
    "less_10_accidents = 0\n",
    "for i in range(0,10):\n",
    "    less_10_accidents = poisson.pmf(i,mu) + less_10_accidents\n",
    "print(less_10_accidents)"
   ]
  },
  {
   "cell_type": "markdown",
   "metadata": {
    "id": "r07miQ6qWRvJ"
   },
   "source": [
    "### probabilidad de que hayan más de 15 accidentes"
   ]
  },
  {
   "cell_type": "code",
   "execution_count": 72,
   "metadata": {
    "colab": {
     "base_uri": "https://localhost:8080/"
    },
    "executionInfo": {
     "elapsed": 527,
     "status": "ok",
     "timestamp": 1614645142338,
     "user": {
      "displayName": "Alejandro Jesús Manotas Marmolejo",
      "photoUrl": "https://lh3.googleusercontent.com/a-/AOh14GiBMbRcpANQzZvYJ9LWzVxvD9qatNblJ2V0VdIvH6s=s64",
      "userId": "03263816449986361555"
     },
     "user_tz": 300
    },
    "id": "2m8GvzenWYOS",
    "outputId": "3d6c5272-8e3f-41d4-99f6-fa3bc68b0d09"
   },
   "outputs": [
    {
     "name": "stdout",
     "output_type": "stream",
     "text": [
      "0.4861477401813139\n"
     ]
    }
   ],
   "source": [
    "#probabilidad de que hayan más de 15 accidentes\n",
    "more_15_accidents = 0\n",
    "for i in range (0,16):\n",
    "    more_15_accidents = poisson.pmf(i,mu) + more_15_accidents\n",
    "print(1 - more_15_accidents)"
   ]
  },
  {
   "cell_type": "markdown",
   "metadata": {
    "id": "d1Gp3pS8ZH8g"
   },
   "source": [
    "### Análisis de los resultados"
   ]
  },
  {
   "cell_type": "markdown",
   "metadata": {
    "id": "NsVXlsJLWxx9"
   },
   "source": [
    "*   Identifique que distribución de probabilidad se ajusta a la variable Cantidad de Accidentes Diarios?\n",
    "> La distribución que se ajusta a la variable es la distribución de Poisson puesto que es la distribución de probabilidad que evalua cantidad de ocurrencias en un intervalo de tiempo determinado, que es nuestro objeto de estudio.\n",
    "\n",
    "*   Cual es la probabilidad de que se den menos de 10 Accidentes?\n",
    "> La probabilidad de que ocurran menos de 10 accidentes por día es de 5% (0.054374467190723044).\n",
    "\n",
    "*   Cual es la probabilidad de que se presenten mas 15 accidentes?\n",
    "> La probabilidad de que ocurran más de 15 accidentes por día es de 48% (0.4861477401813139)."
   ]
  },
  {
   "cell_type": "markdown",
   "metadata": {
    "id": "eDyc2Z4zW0VV"
   },
   "source": [
    "## Conclusiones"
   ]
  },
  {
   "cell_type": "markdown",
   "metadata": {
    "id": "PspKIqFXW3bW"
   },
   "source": [
    "Basado en los resultados obtenidos, se concluye que haber escogido la distribución de Poisson fue la mejor opción. En los gráficos observamos que ocurren bastantes accidentes y que la probabilidad de que sucedan 15 o más accidentes en un día es batante elevado como podemos observar en la gráfica de valor esperado vs valor observado."
   ]
  }
 ],
 "metadata": {
  "colab": {
   "authorship_tag": "ABX9TyNUocrA18kg2EqCCV9uFhnk",
   "name": "Alejandro_Manotas-Lab2.ipynb",
   "provenance": []
  },
  "kernelspec": {
   "display_name": "Python 3",
   "language": "python",
   "name": "python3"
  },
  "language_info": {
   "codemirror_mode": {
    "name": "ipython",
    "version": 3
   },
   "file_extension": ".py",
   "mimetype": "text/x-python",
   "name": "python",
   "nbconvert_exporter": "python",
   "pygments_lexer": "ipython3",
   "version": "3.8.5"
  }
 },
 "nbformat": 4,
 "nbformat_minor": 1
}
