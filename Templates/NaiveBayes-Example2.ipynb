{
 "cells": [
  {
   "cell_type": "markdown",
   "metadata": {},
   "source": [
    "# Naive Bayes Classifier"
   ]
  },
  {
   "cell_type": "markdown",
   "metadata": {},
   "source": [
    "$P(c|x)=P(c)\\prod_{i=1}^{n}{P(X_i|c)}$"
   ]
  },
  {
   "cell_type": "markdown",
   "metadata": {},
   "source": [
    "***"
   ]
  },
  {
   "cell_type": "markdown",
   "metadata": {},
   "source": [
    "Data Information:<br>\n",
    "\n",
    "RI: refractive index<br>\n",
    "Na: Sodium (unit measurement: weight percent in corresponding oxide, as are attributes 4-10)<br>\n",
    "Mg: Magnesium<br>\n",
    "Al: Aluminum<br>\n",
    "Si: Silicon<br>\n",
    "K: Potassium<br>\n",
    "Ca: Calcium<br>\n",
    "Ba: Barium<br>\n",
    "Fe: Iron<br>\n",
    "\n",
    "**Type of glass**: (class) – window glass (from vehicle or building) ... not window glass (containers, tableware, or headlamps)"
   ]
  },
  {
   "cell_type": "code",
   "execution_count": 1,
   "metadata": {},
   "outputs": [],
   "source": [
    "#Import all libraries\n",
    "import pandas as pd\n",
    "import numpy as np\n",
    "import matplotlib.pyplot as plt\n",
    "import seaborn as sns\n",
    "from sklearn.naive_bayes import GaussianNB\n",
    "from sklearn.metrics import accuracy_score\n",
    "from sklearn.metrics import precision_score\n",
    "from sklearn.model_selection import train_test_split\n",
    "#import warnings\n",
    "#warnings.filterwarnings('ignore')"
   ]
  },
  {
   "cell_type": "code",
   "execution_count": 2,
   "metadata": {
    "scrolled": false
   },
   "outputs": [
    {
     "data": {
      "text/html": [
       "<div>\n",
       "<style scoped>\n",
       "    .dataframe tbody tr th:only-of-type {\n",
       "        vertical-align: middle;\n",
       "    }\n",
       "\n",
       "    .dataframe tbody tr th {\n",
       "        vertical-align: top;\n",
       "    }\n",
       "\n",
       "    .dataframe thead th {\n",
       "        text-align: right;\n",
       "    }\n",
       "</style>\n",
       "<table border=\"1\" class=\"dataframe\">\n",
       "  <thead>\n",
       "    <tr style=\"text-align: right;\">\n",
       "      <th></th>\n",
       "      <th>RI</th>\n",
       "      <th>Na</th>\n",
       "      <th>Mg</th>\n",
       "      <th>Al</th>\n",
       "      <th>Si</th>\n",
       "      <th>K</th>\n",
       "      <th>Ca</th>\n",
       "      <th>Ba</th>\n",
       "      <th>Fe</th>\n",
       "      <th>Type</th>\n",
       "    </tr>\n",
       "  </thead>\n",
       "  <tbody>\n",
       "    <tr>\n",
       "      <th>0</th>\n",
       "      <td>1.52101</td>\n",
       "      <td>13.64</td>\n",
       "      <td>4.49</td>\n",
       "      <td>1.10</td>\n",
       "      <td>71.78</td>\n",
       "      <td>0.06</td>\n",
       "      <td>8.75</td>\n",
       "      <td>0.0</td>\n",
       "      <td>0.0</td>\n",
       "      <td>1</td>\n",
       "    </tr>\n",
       "    <tr>\n",
       "      <th>1</th>\n",
       "      <td>1.51761</td>\n",
       "      <td>13.89</td>\n",
       "      <td>3.60</td>\n",
       "      <td>1.36</td>\n",
       "      <td>72.73</td>\n",
       "      <td>0.48</td>\n",
       "      <td>7.83</td>\n",
       "      <td>0.0</td>\n",
       "      <td>0.0</td>\n",
       "      <td>1</td>\n",
       "    </tr>\n",
       "    <tr>\n",
       "      <th>2</th>\n",
       "      <td>1.51618</td>\n",
       "      <td>13.53</td>\n",
       "      <td>3.55</td>\n",
       "      <td>1.54</td>\n",
       "      <td>72.99</td>\n",
       "      <td>0.39</td>\n",
       "      <td>7.78</td>\n",
       "      <td>0.0</td>\n",
       "      <td>0.0</td>\n",
       "      <td>1</td>\n",
       "    </tr>\n",
       "    <tr>\n",
       "      <th>3</th>\n",
       "      <td>1.51766</td>\n",
       "      <td>13.21</td>\n",
       "      <td>3.69</td>\n",
       "      <td>1.29</td>\n",
       "      <td>72.61</td>\n",
       "      <td>0.57</td>\n",
       "      <td>8.22</td>\n",
       "      <td>0.0</td>\n",
       "      <td>0.0</td>\n",
       "      <td>1</td>\n",
       "    </tr>\n",
       "    <tr>\n",
       "      <th>4</th>\n",
       "      <td>1.51742</td>\n",
       "      <td>13.27</td>\n",
       "      <td>3.62</td>\n",
       "      <td>1.24</td>\n",
       "      <td>73.08</td>\n",
       "      <td>0.55</td>\n",
       "      <td>8.07</td>\n",
       "      <td>0.0</td>\n",
       "      <td>0.0</td>\n",
       "      <td>1</td>\n",
       "    </tr>\n",
       "  </tbody>\n",
       "</table>\n",
       "</div>"
      ],
      "text/plain": [
       "        RI     Na    Mg    Al     Si     K    Ca   Ba   Fe  Type\n",
       "0  1.52101  13.64  4.49  1.10  71.78  0.06  8.75  0.0  0.0     1\n",
       "1  1.51761  13.89  3.60  1.36  72.73  0.48  7.83  0.0  0.0     1\n",
       "2  1.51618  13.53  3.55  1.54  72.99  0.39  7.78  0.0  0.0     1\n",
       "3  1.51766  13.21  3.69  1.29  72.61  0.57  8.22  0.0  0.0     1\n",
       "4  1.51742  13.27  3.62  1.24  73.08  0.55  8.07  0.0  0.0     1"
      ]
     },
     "execution_count": 2,
     "metadata": {},
     "output_type": "execute_result"
    }
   ],
   "source": [
    "#Load the dataset\n",
    "df = pd.read_csv('./Datasets/glass.csv')\n",
    "\n",
    "#Top 5 our data\n",
    "df.head()"
   ]
  },
  {
   "cell_type": "code",
   "execution_count": 3,
   "metadata": {},
   "outputs": [
    {
     "data": {
      "text/html": [
       "<div>\n",
       "<style scoped>\n",
       "    .dataframe tbody tr th:only-of-type {\n",
       "        vertical-align: middle;\n",
       "    }\n",
       "\n",
       "    .dataframe tbody tr th {\n",
       "        vertical-align: top;\n",
       "    }\n",
       "\n",
       "    .dataframe thead th {\n",
       "        text-align: right;\n",
       "    }\n",
       "</style>\n",
       "<table border=\"1\" class=\"dataframe\">\n",
       "  <thead>\n",
       "    <tr style=\"text-align: right;\">\n",
       "      <th></th>\n",
       "      <th>RI</th>\n",
       "      <th>Na</th>\n",
       "      <th>Mg</th>\n",
       "      <th>Al</th>\n",
       "      <th>Si</th>\n",
       "      <th>K</th>\n",
       "      <th>Ca</th>\n",
       "      <th>Ba</th>\n",
       "      <th>Fe</th>\n",
       "      <th>Type</th>\n",
       "    </tr>\n",
       "  </thead>\n",
       "  <tbody>\n",
       "    <tr>\n",
       "      <th>209</th>\n",
       "      <td>1.51623</td>\n",
       "      <td>14.14</td>\n",
       "      <td>0.0</td>\n",
       "      <td>2.88</td>\n",
       "      <td>72.61</td>\n",
       "      <td>0.08</td>\n",
       "      <td>9.18</td>\n",
       "      <td>1.06</td>\n",
       "      <td>0.0</td>\n",
       "      <td>7</td>\n",
       "    </tr>\n",
       "    <tr>\n",
       "      <th>210</th>\n",
       "      <td>1.51685</td>\n",
       "      <td>14.92</td>\n",
       "      <td>0.0</td>\n",
       "      <td>1.99</td>\n",
       "      <td>73.06</td>\n",
       "      <td>0.00</td>\n",
       "      <td>8.40</td>\n",
       "      <td>1.59</td>\n",
       "      <td>0.0</td>\n",
       "      <td>7</td>\n",
       "    </tr>\n",
       "    <tr>\n",
       "      <th>211</th>\n",
       "      <td>1.52065</td>\n",
       "      <td>14.36</td>\n",
       "      <td>0.0</td>\n",
       "      <td>2.02</td>\n",
       "      <td>73.42</td>\n",
       "      <td>0.00</td>\n",
       "      <td>8.44</td>\n",
       "      <td>1.64</td>\n",
       "      <td>0.0</td>\n",
       "      <td>7</td>\n",
       "    </tr>\n",
       "    <tr>\n",
       "      <th>212</th>\n",
       "      <td>1.51651</td>\n",
       "      <td>14.38</td>\n",
       "      <td>0.0</td>\n",
       "      <td>1.94</td>\n",
       "      <td>73.61</td>\n",
       "      <td>0.00</td>\n",
       "      <td>8.48</td>\n",
       "      <td>1.57</td>\n",
       "      <td>0.0</td>\n",
       "      <td>7</td>\n",
       "    </tr>\n",
       "    <tr>\n",
       "      <th>213</th>\n",
       "      <td>1.51711</td>\n",
       "      <td>14.23</td>\n",
       "      <td>0.0</td>\n",
       "      <td>2.08</td>\n",
       "      <td>73.36</td>\n",
       "      <td>0.00</td>\n",
       "      <td>8.62</td>\n",
       "      <td>1.67</td>\n",
       "      <td>0.0</td>\n",
       "      <td>7</td>\n",
       "    </tr>\n",
       "  </tbody>\n",
       "</table>\n",
       "</div>"
      ],
      "text/plain": [
       "          RI     Na   Mg    Al     Si     K    Ca    Ba   Fe  Type\n",
       "209  1.51623  14.14  0.0  2.88  72.61  0.08  9.18  1.06  0.0     7\n",
       "210  1.51685  14.92  0.0  1.99  73.06  0.00  8.40  1.59  0.0     7\n",
       "211  1.52065  14.36  0.0  2.02  73.42  0.00  8.44  1.64  0.0     7\n",
       "212  1.51651  14.38  0.0  1.94  73.61  0.00  8.48  1.57  0.0     7\n",
       "213  1.51711  14.23  0.0  2.08  73.36  0.00  8.62  1.67  0.0     7"
      ]
     },
     "execution_count": 3,
     "metadata": {},
     "output_type": "execute_result"
    }
   ],
   "source": [
    "#Top 5 data from bottom\n",
    "df.tail()"
   ]
  },
  {
   "cell_type": "code",
   "execution_count": 4,
   "metadata": {
    "scrolled": true
   },
   "outputs": [
    {
     "data": {
      "text/plain": [
       "RI      0\n",
       "Na      0\n",
       "Mg      0\n",
       "Al      0\n",
       "Si      0\n",
       "K       0\n",
       "Ca      0\n",
       "Ba      0\n",
       "Fe      0\n",
       "Type    0\n",
       "dtype: int64"
      ]
     },
     "execution_count": 4,
     "metadata": {},
     "output_type": "execute_result"
    }
   ],
   "source": [
    "#Check if data is clean so can continue to the Explorary Data Analysis stage\n",
    "df.isnull().sum()"
   ]
  },
  {
   "cell_type": "code",
   "execution_count": 5,
   "metadata": {
    "scrolled": true
   },
   "outputs": [
    {
     "name": "stderr",
     "output_type": "stream",
     "text": [
      "C:\\Users\\alejo\\anaconda3\\lib\\site-packages\\seaborn\\_decorators.py:36: FutureWarning: Pass the following variable as a keyword arg: x. From version 0.12, the only valid positional argument will be `data`, and passing other arguments without an explicit keyword will result in an error or misinterpretation.\n",
      "  warnings.warn(\n"
     ]
    },
    {
     "data": {
      "text/plain": [
       "<AxesSubplot:xlabel='Type', ylabel='count'>"
      ]
     },
     "execution_count": 5,
     "metadata": {},
     "output_type": "execute_result"
    },
    {
     "data": {
      "image/png": "[encoded data removed]",
      "text/plain": [
       "<Figure size 432x288 with 1 Axes>"
      ]
     },
     "metadata": {
      "needs_background": "light"
     },
     "output_type": "display_data"
    }
   ],
   "source": [
    "#Univariate analysis Type (Target features).\n",
    "sns.countplot(df['Type'], color='red')"
   ]
  },
  {
   "cell_type": "code",
   "execution_count": 6,
   "metadata": {
    "scrolled": true
   },
   "outputs": [
    {
     "name": "stderr",
     "output_type": "stream",
     "text": [
      "C:\\Users\\alejo\\anaconda3\\lib\\site-packages\\seaborn\\distributions.py:2551: FutureWarning: `distplot` is a deprecated function and will be removed in a future version. Please adapt your code to use either `displot` (a figure-level function with similar flexibility) or `histplot` (an axes-level function for histograms).\n",
      "  warnings.warn(msg, FutureWarning)\n",
      "C:\\Users\\alejo\\anaconda3\\lib\\site-packages\\seaborn\\_decorators.py:36: FutureWarning: Pass the following variable as a keyword arg: x. From version 0.12, the only valid positional argument will be `data`, and passing other arguments without an explicit keyword will result in an error or misinterpretation.\n",
      "  warnings.warn(\n"
     ]
    },
    {
     "data": {
      "image/png": "[encoded data removed]",
      "text/plain": [
       "<Figure size 1440x288 with 2 Axes>"
      ]
     },
     "metadata": {
      "needs_background": "light"
     },
     "output_type": "display_data"
    }
   ],
   "source": [
    "#Univariate analysis of RI (Refractive Index).\n",
    "f = plt.figure(figsize=(20,4))\n",
    "f.add_subplot(1,2,1)\n",
    "sns.distplot(df['RI'])\n",
    "f.add_subplot(1,2,2)\n",
    "sns.boxplot(df['RI']);"
   ]
  },
  {
   "cell_type": "code",
   "execution_count": 7,
   "metadata": {
    "scrolled": true
   },
   "outputs": [
    {
     "name": "stderr",
     "output_type": "stream",
     "text": [
      "C:\\Users\\alejo\\anaconda3\\lib\\site-packages\\seaborn\\distributions.py:2551: FutureWarning: `distplot` is a deprecated function and will be removed in a future version. Please adapt your code to use either `displot` (a figure-level function with similar flexibility) or `histplot` (an axes-level function for histograms).\n",
      "  warnings.warn(msg, FutureWarning)\n",
      "C:\\Users\\alejo\\anaconda3\\lib\\site-packages\\seaborn\\_decorators.py:36: FutureWarning: Pass the following variable as a keyword arg: x. From version 0.12, the only valid positional argument will be `data`, and passing other arguments without an explicit keyword will result in an error or misinterpretation.\n",
      "  warnings.warn(\n"
     ]
    },
    {
     "data": {
      "text/plain": [
       "<AxesSubplot:xlabel='Na'>"
      ]
     },
     "execution_count": 7,
     "metadata": {},
     "output_type": "execute_result"
    },
    {
     "data": {
      "image/png": "[encoded data removed]",
      "text/plain": [
       "<Figure size 1440x288 with 2 Axes>"
      ]
     },
     "metadata": {
      "needs_background": "light"
     },
     "output_type": "display_data"
    }
   ],
   "source": [
    "#Univariate analysis Na (Sodium).\n",
    "f = plt.figure(figsize=(20,4))\n",
    "f.add_subplot(1,2,1)\n",
    "sns.distplot(df['Na'], color='green')\n",
    "f.add_subplot(1,2,2)\n",
    "sns.boxplot(df['Na'], color='green')"
   ]
  },
  {
   "cell_type": "code",
   "execution_count": 8,
   "metadata": {
    "scrolled": true
   },
   "outputs": [
    {
     "data": {
      "text/html": [
       "<style  type=\"text/css\" >\n",
       "#T_0cc70675_b4cd_11eb_86c1_00155d08c48frow0_col0,#T_0cc70675_b4cd_11eb_86c1_00155d08c48frow1_col1,#T_0cc70675_b4cd_11eb_86c1_00155d08c48frow2_col2,#T_0cc70675_b4cd_11eb_86c1_00155d08c48frow3_col3,#T_0cc70675_b4cd_11eb_86c1_00155d08c48frow4_col4,#T_0cc70675_b4cd_11eb_86c1_00155d08c48frow5_col5,#T_0cc70675_b4cd_11eb_86c1_00155d08c48frow6_col6,#T_0cc70675_b4cd_11eb_86c1_00155d08c48frow7_col7,#T_0cc70675_b4cd_11eb_86c1_00155d08c48frow8_col8,#T_0cc70675_b4cd_11eb_86c1_00155d08c48frow9_col9{\n",
       "            background-color:  #023858;\n",
       "            color:  #f1f1f1;\n",
       "        }#T_0cc70675_b4cd_11eb_86c1_00155d08c48frow0_col1{\n",
       "            background-color:  #f5eff6;\n",
       "            color:  #000000;\n",
       "        }#T_0cc70675_b4cd_11eb_86c1_00155d08c48frow0_col2{\n",
       "            background-color:  #acc0dd;\n",
       "            color:  #000000;\n",
       "        }#T_0cc70675_b4cd_11eb_86c1_00155d08c48frow0_col3{\n",
       "            background-color:  #f8f1f8;\n",
       "            color:  #000000;\n",
       "        }#T_0cc70675_b4cd_11eb_86c1_00155d08c48frow0_col4,#T_0cc70675_b4cd_11eb_86c1_00155d08c48frow1_col8,#T_0cc70675_b4cd_11eb_86c1_00155d08c48frow2_col1,#T_0cc70675_b4cd_11eb_86c1_00155d08c48frow2_col3,#T_0cc70675_b4cd_11eb_86c1_00155d08c48frow2_col6,#T_0cc70675_b4cd_11eb_86c1_00155d08c48frow2_col7,#T_0cc70675_b4cd_11eb_86c1_00155d08c48frow2_col9,#T_0cc70675_b4cd_11eb_86c1_00155d08c48frow4_col0,#T_0cc70675_b4cd_11eb_86c1_00155d08c48frow6_col1,#T_0cc70675_b4cd_11eb_86c1_00155d08c48frow6_col5,#T_0cc70675_b4cd_11eb_86c1_00155d08c48frow9_col2{\n",
       "            background-color:  #fff7fb;\n",
       "            color:  #000000;\n",
       "        }#T_0cc70675_b4cd_11eb_86c1_00155d08c48frow0_col5{\n",
       "            background-color:  #fcf4fa;\n",
       "            color:  #000000;\n",
       "        }#T_0cc70675_b4cd_11eb_86c1_00155d08c48frow0_col6{\n",
       "            background-color:  #045b8e;\n",
       "            color:  #f1f1f1;\n",
       "        }#T_0cc70675_b4cd_11eb_86c1_00155d08c48frow0_col7,#T_0cc70675_b4cd_11eb_86c1_00155d08c48frow4_col2{\n",
       "            background-color:  #b5c4df;\n",
       "            color:  #000000;\n",
       "        }#T_0cc70675_b4cd_11eb_86c1_00155d08c48frow0_col8{\n",
       "            background-color:  #bcc7e1;\n",
       "            color:  #000000;\n",
       "        }#T_0cc70675_b4cd_11eb_86c1_00155d08c48frow0_col9{\n",
       "            background-color:  #b4c4df;\n",
       "            color:  #000000;\n",
       "        }#T_0cc70675_b4cd_11eb_86c1_00155d08c48frow1_col0,#T_0cc70675_b4cd_11eb_86c1_00155d08c48frow7_col6{\n",
       "            background-color:  #d5d5e8;\n",
       "            color:  #000000;\n",
       "        }#T_0cc70675_b4cd_11eb_86c1_00155d08c48frow1_col2,#T_0cc70675_b4cd_11eb_86c1_00155d08c48frow2_col0{\n",
       "            background-color:  #c9cee4;\n",
       "            color:  #000000;\n",
       "        }#T_0cc70675_b4cd_11eb_86c1_00155d08c48frow1_col3,#T_0cc70675_b4cd_11eb_86c1_00155d08c48frow5_col2{\n",
       "            background-color:  #8fb4d6;\n",
       "            color:  #000000;\n",
       "        }#T_0cc70675_b4cd_11eb_86c1_00155d08c48frow1_col4,#T_0cc70675_b4cd_11eb_86c1_00155d08c48frow9_col6{\n",
       "            background-color:  #bdc8e1;\n",
       "            color:  #000000;\n",
       "        }#T_0cc70675_b4cd_11eb_86c1_00155d08c48frow1_col5,#T_0cc70675_b4cd_11eb_86c1_00155d08c48frow9_col8{\n",
       "            background-color:  #f9f2f8;\n",
       "            color:  #000000;\n",
       "        }#T_0cc70675_b4cd_11eb_86c1_00155d08c48frow1_col6{\n",
       "            background-color:  #eee8f3;\n",
       "            color:  #000000;\n",
       "        }#T_0cc70675_b4cd_11eb_86c1_00155d08c48frow1_col7{\n",
       "            background-color:  #5c9fc9;\n",
       "            color:  #000000;\n",
       "        }#T_0cc70675_b4cd_11eb_86c1_00155d08c48frow1_col9,#T_0cc70675_b4cd_11eb_86c1_00155d08c48frow9_col7{\n",
       "            background-color:  #1278b4;\n",
       "            color:  #f1f1f1;\n",
       "        }#T_0cc70675_b4cd_11eb_86c1_00155d08c48frow2_col4,#T_0cc70675_b4cd_11eb_86c1_00155d08c48frow2_col5,#T_0cc70675_b4cd_11eb_86c1_00155d08c48frow9_col0{\n",
       "            background-color:  #d2d2e7;\n",
       "            color:  #000000;\n",
       "        }#T_0cc70675_b4cd_11eb_86c1_00155d08c48frow2_col8,#T_0cc70675_b4cd_11eb_86c1_00155d08c48frow4_col7{\n",
       "            background-color:  #cdd0e5;\n",
       "            color:  #000000;\n",
       "        }#T_0cc70675_b4cd_11eb_86c1_00155d08c48frow3_col0,#T_0cc70675_b4cd_11eb_86c1_00155d08c48frow5_col6{\n",
       "            background-color:  #f2ecf5;\n",
       "            color:  #000000;\n",
       "        }#T_0cc70675_b4cd_11eb_86c1_00155d08c48frow3_col1{\n",
       "            background-color:  #b3c3de;\n",
       "            color:  #000000;\n",
       "        }#T_0cc70675_b4cd_11eb_86c1_00155d08c48frow3_col2,#T_0cc70675_b4cd_11eb_86c1_00155d08c48frow6_col3,#T_0cc70675_b4cd_11eb_86c1_00155d08c48frow7_col2,#T_0cc70675_b4cd_11eb_86c1_00155d08c48frow7_col8{\n",
       "            background-color:  #e7e3f0;\n",
       "            color:  #000000;\n",
       "        }#T_0cc70675_b4cd_11eb_86c1_00155d08c48frow3_col4,#T_0cc70675_b4cd_11eb_86c1_00155d08c48frow7_col0{\n",
       "            background-color:  #afc1dd;\n",
       "            color:  #000000;\n",
       "        }#T_0cc70675_b4cd_11eb_86c1_00155d08c48frow3_col5{\n",
       "            background-color:  #78abd0;\n",
       "            color:  #000000;\n",
       "        }#T_0cc70675_b4cd_11eb_86c1_00155d08c48frow3_col6{\n",
       "            background-color:  #ece7f2;\n",
       "            color:  #000000;\n",
       "        }#T_0cc70675_b4cd_11eb_86c1_00155d08c48frow3_col7,#T_0cc70675_b4cd_11eb_86c1_00155d08c48frow7_col3{\n",
       "            background-color:  #2c89bd;\n",
       "            color:  #000000;\n",
       "        }#T_0cc70675_b4cd_11eb_86c1_00155d08c48frow3_col8{\n",
       "            background-color:  #eae6f1;\n",
       "            color:  #000000;\n",
       "        }#T_0cc70675_b4cd_11eb_86c1_00155d08c48frow3_col9{\n",
       "            background-color:  #056caa;\n",
       "            color:  #f1f1f1;\n",
       "        }#T_0cc70675_b4cd_11eb_86c1_00155d08c48frow4_col1,#T_0cc70675_b4cd_11eb_86c1_00155d08c48frow4_col6,#T_0cc70675_b4cd_11eb_86c1_00155d08c48frow5_col0{\n",
       "            background-color:  #e4e1ef;\n",
       "            color:  #000000;\n",
       "        }#T_0cc70675_b4cd_11eb_86c1_00155d08c48frow4_col3{\n",
       "            background-color:  #b8c6e0;\n",
       "            color:  #000000;\n",
       "        }#T_0cc70675_b4cd_11eb_86c1_00155d08c48frow4_col5{\n",
       "            background-color:  #f1ebf4;\n",
       "            color:  #000000;\n",
       "        }#T_0cc70675_b4cd_11eb_86c1_00155d08c48frow4_col8{\n",
       "            background-color:  #ede8f3;\n",
       "            color:  #000000;\n",
       "        }#T_0cc70675_b4cd_11eb_86c1_00155d08c48frow4_col9{\n",
       "            background-color:  #6da6cd;\n",
       "            color:  #000000;\n",
       "        }#T_0cc70675_b4cd_11eb_86c1_00155d08c48frow5_col1{\n",
       "            background-color:  #fef6fb;\n",
       "            color:  #000000;\n",
       "        }#T_0cc70675_b4cd_11eb_86c1_00155d08c48frow5_col3{\n",
       "            background-color:  #5ea0ca;\n",
       "            color:  #000000;\n",
       "        }#T_0cc70675_b4cd_11eb_86c1_00155d08c48frow5_col4{\n",
       "            background-color:  #d6d6e9;\n",
       "            color:  #000000;\n",
       "        }#T_0cc70675_b4cd_11eb_86c1_00155d08c48frow5_col7{\n",
       "            background-color:  #bfc9e1;\n",
       "            color:  #000000;\n",
       "        }#T_0cc70675_b4cd_11eb_86c1_00155d08c48frow5_col8{\n",
       "            background-color:  #dedcec;\n",
       "            color:  #000000;\n",
       "        }#T_0cc70675_b4cd_11eb_86c1_00155d08c48frow5_col9{\n",
       "            background-color:  #94b6d7;\n",
       "            color:  #000000;\n",
       "        }#T_0cc70675_b4cd_11eb_86c1_00155d08c48frow6_col0{\n",
       "            background-color:  #04598c;\n",
       "            color:  #f1f1f1;\n",
       "        }#T_0cc70675_b4cd_11eb_86c1_00155d08c48frow6_col2{\n",
       "            background-color:  #e1dfed;\n",
       "            color:  #000000;\n",
       "        }#T_0cc70675_b4cd_11eb_86c1_00155d08c48frow6_col4{\n",
       "            background-color:  #d8d7e9;\n",
       "            color:  #000000;\n",
       "        }#T_0cc70675_b4cd_11eb_86c1_00155d08c48frow6_col7{\n",
       "            background-color:  #ced0e6;\n",
       "            color:  #000000;\n",
       "        }#T_0cc70675_b4cd_11eb_86c1_00155d08c48frow6_col8{\n",
       "            background-color:  #c1cae2;\n",
       "            color:  #000000;\n",
       "        }#T_0cc70675_b4cd_11eb_86c1_00155d08c48frow6_col9{\n",
       "            background-color:  #91b5d6;\n",
       "            color:  #000000;\n",
       "        }#T_0cc70675_b4cd_11eb_86c1_00155d08c48frow7_col1{\n",
       "            background-color:  #80aed2;\n",
       "            color:  #000000;\n",
       "        }#T_0cc70675_b4cd_11eb_86c1_00155d08c48frow7_col4{\n",
       "            background-color:  #c4cbe3;\n",
       "            color:  #000000;\n",
       "        }#T_0cc70675_b4cd_11eb_86c1_00155d08c48frow7_col5{\n",
       "            background-color:  #d9d8ea;\n",
       "            color:  #000000;\n",
       "        }#T_0cc70675_b4cd_11eb_86c1_00155d08c48frow7_col9{\n",
       "            background-color:  #056fae;\n",
       "            color:  #f1f1f1;\n",
       "        }#T_0cc70675_b4cd_11eb_86c1_00155d08c48frow8_col0{\n",
       "            background-color:  #8bb2d4;\n",
       "            color:  #000000;\n",
       "        }#T_0cc70675_b4cd_11eb_86c1_00155d08c48frow8_col1{\n",
       "            background-color:  #fbf4f9;\n",
       "            color:  #000000;\n",
       "        }#T_0cc70675_b4cd_11eb_86c1_00155d08c48frow8_col2{\n",
       "            background-color:  #7eadd1;\n",
       "            color:  #000000;\n",
       "        }#T_0cc70675_b4cd_11eb_86c1_00155d08c48frow8_col3{\n",
       "            background-color:  #c8cde4;\n",
       "            color:  #000000;\n",
       "        }#T_0cc70675_b4cd_11eb_86c1_00155d08c48frow8_col4,#T_0cc70675_b4cd_11eb_86c1_00155d08c48frow8_col7{\n",
       "            background-color:  #c2cbe2;\n",
       "            color:  #000000;\n",
       "        }#T_0cc70675_b4cd_11eb_86c1_00155d08c48frow8_col5{\n",
       "            background-color:  #d3d4e7;\n",
       "            color:  #000000;\n",
       "        }#T_0cc70675_b4cd_11eb_86c1_00155d08c48frow8_col6{\n",
       "            background-color:  #9fbad9;\n",
       "            color:  #000000;\n",
       "        }#T_0cc70675_b4cd_11eb_86c1_00155d08c48frow8_col9{\n",
       "            background-color:  #b9c6e0;\n",
       "            color:  #000000;\n",
       "        }#T_0cc70675_b4cd_11eb_86c1_00155d08c48frow9_col1{\n",
       "            background-color:  #3d93c2;\n",
       "            color:  #000000;\n",
       "        }#T_0cc70675_b4cd_11eb_86c1_00155d08c48frow9_col3{\n",
       "            background-color:  #0d75b3;\n",
       "            color:  #f1f1f1;\n",
       "        }#T_0cc70675_b4cd_11eb_86c1_00155d08c48frow9_col4{\n",
       "            background-color:  #88b1d4;\n",
       "            color:  #000000;\n",
       "        }#T_0cc70675_b4cd_11eb_86c1_00155d08c48frow9_col5{\n",
       "            background-color:  #d4d4e8;\n",
       "            color:  #000000;\n",
       "        }</style><table id=\"T_0cc70675_b4cd_11eb_86c1_00155d08c48f\" ><thead>    <tr>        <th class=\"blank level0\" ></th>        <th class=\"col_heading level0 col0\" >RI</th>        <th class=\"col_heading level0 col1\" >Na</th>        <th class=\"col_heading level0 col2\" >Mg</th>        <th class=\"col_heading level0 col3\" >Al</th>        <th class=\"col_heading level0 col4\" >Si</th>        <th class=\"col_heading level0 col5\" >K</th>        <th class=\"col_heading level0 col6\" >Ca</th>        <th class=\"col_heading level0 col7\" >Ba</th>        <th class=\"col_heading level0 col8\" >Fe</th>        <th class=\"col_heading level0 col9\" >Type</th>    </tr></thead><tbody>\n",
       "                <tr>\n",
       "                        <th id=\"T_0cc70675_b4cd_11eb_86c1_00155d08c48flevel0_row0\" class=\"row_heading level0 row0\" >RI</th>\n",
       "                        <td id=\"T_0cc70675_b4cd_11eb_86c1_00155d08c48frow0_col0\" class=\"data row0 col0\" >1.00</td>\n",
       "                        <td id=\"T_0cc70675_b4cd_11eb_86c1_00155d08c48frow0_col1\" class=\"data row0 col1\" >-0.19</td>\n",
       "                        <td id=\"T_0cc70675_b4cd_11eb_86c1_00155d08c48frow0_col2\" class=\"data row0 col2\" >-0.12</td>\n",
       "                        <td id=\"T_0cc70675_b4cd_11eb_86c1_00155d08c48frow0_col3\" class=\"data row0 col3\" >-0.41</td>\n",
       "                        <td id=\"T_0cc70675_b4cd_11eb_86c1_00155d08c48frow0_col4\" class=\"data row0 col4\" >-0.54</td>\n",
       "                        <td id=\"T_0cc70675_b4cd_11eb_86c1_00155d08c48frow0_col5\" class=\"data row0 col5\" >-0.29</td>\n",
       "                        <td id=\"T_0cc70675_b4cd_11eb_86c1_00155d08c48frow0_col6\" class=\"data row0 col6\" >0.81</td>\n",
       "                        <td id=\"T_0cc70675_b4cd_11eb_86c1_00155d08c48frow0_col7\" class=\"data row0 col7\" >-0.00</td>\n",
       "                        <td id=\"T_0cc70675_b4cd_11eb_86c1_00155d08c48frow0_col8\" class=\"data row0 col8\" >0.14</td>\n",
       "                        <td id=\"T_0cc70675_b4cd_11eb_86c1_00155d08c48frow0_col9\" class=\"data row0 col9\" >-0.16</td>\n",
       "            </tr>\n",
       "            <tr>\n",
       "                        <th id=\"T_0cc70675_b4cd_11eb_86c1_00155d08c48flevel0_row1\" class=\"row_heading level0 row1\" >Na</th>\n",
       "                        <td id=\"T_0cc70675_b4cd_11eb_86c1_00155d08c48frow1_col0\" class=\"data row1 col0\" >-0.19</td>\n",
       "                        <td id=\"T_0cc70675_b4cd_11eb_86c1_00155d08c48frow1_col1\" class=\"data row1 col1\" >1.00</td>\n",
       "                        <td id=\"T_0cc70675_b4cd_11eb_86c1_00155d08c48frow1_col2\" class=\"data row1 col2\" >-0.27</td>\n",
       "                        <td id=\"T_0cc70675_b4cd_11eb_86c1_00155d08c48frow1_col3\" class=\"data row1 col3\" >0.16</td>\n",
       "                        <td id=\"T_0cc70675_b4cd_11eb_86c1_00155d08c48frow1_col4\" class=\"data row1 col4\" >-0.07</td>\n",
       "                        <td id=\"T_0cc70675_b4cd_11eb_86c1_00155d08c48frow1_col5\" class=\"data row1 col5\" >-0.27</td>\n",
       "                        <td id=\"T_0cc70675_b4cd_11eb_86c1_00155d08c48frow1_col6\" class=\"data row1 col6\" >-0.28</td>\n",
       "                        <td id=\"T_0cc70675_b4cd_11eb_86c1_00155d08c48frow1_col7\" class=\"data row1 col7\" >0.33</td>\n",
       "                        <td id=\"T_0cc70675_b4cd_11eb_86c1_00155d08c48frow1_col8\" class=\"data row1 col8\" >-0.24</td>\n",
       "                        <td id=\"T_0cc70675_b4cd_11eb_86c1_00155d08c48frow1_col9\" class=\"data row1 col9\" >0.50</td>\n",
       "            </tr>\n",
       "            <tr>\n",
       "                        <th id=\"T_0cc70675_b4cd_11eb_86c1_00155d08c48flevel0_row2\" class=\"row_heading level0 row2\" >Mg</th>\n",
       "                        <td id=\"T_0cc70675_b4cd_11eb_86c1_00155d08c48frow2_col0\" class=\"data row2 col0\" >-0.12</td>\n",
       "                        <td id=\"T_0cc70675_b4cd_11eb_86c1_00155d08c48frow2_col1\" class=\"data row2 col1\" >-0.27</td>\n",
       "                        <td id=\"T_0cc70675_b4cd_11eb_86c1_00155d08c48frow2_col2\" class=\"data row2 col2\" >1.00</td>\n",
       "                        <td id=\"T_0cc70675_b4cd_11eb_86c1_00155d08c48frow2_col3\" class=\"data row2 col3\" >-0.48</td>\n",
       "                        <td id=\"T_0cc70675_b4cd_11eb_86c1_00155d08c48frow2_col4\" class=\"data row2 col4\" >-0.17</td>\n",
       "                        <td id=\"T_0cc70675_b4cd_11eb_86c1_00155d08c48frow2_col5\" class=\"data row2 col5\" >0.01</td>\n",
       "                        <td id=\"T_0cc70675_b4cd_11eb_86c1_00155d08c48frow2_col6\" class=\"data row2 col6\" >-0.44</td>\n",
       "                        <td id=\"T_0cc70675_b4cd_11eb_86c1_00155d08c48frow2_col7\" class=\"data row2 col7\" >-0.49</td>\n",
       "                        <td id=\"T_0cc70675_b4cd_11eb_86c1_00155d08c48frow2_col8\" class=\"data row2 col8\" >0.08</td>\n",
       "                        <td id=\"T_0cc70675_b4cd_11eb_86c1_00155d08c48frow2_col9\" class=\"data row2 col9\" >-0.74</td>\n",
       "            </tr>\n",
       "            <tr>\n",
       "                        <th id=\"T_0cc70675_b4cd_11eb_86c1_00155d08c48flevel0_row3\" class=\"row_heading level0 row3\" >Al</th>\n",
       "                        <td id=\"T_0cc70675_b4cd_11eb_86c1_00155d08c48frow3_col0\" class=\"data row3 col0\" >-0.41</td>\n",
       "                        <td id=\"T_0cc70675_b4cd_11eb_86c1_00155d08c48frow3_col1\" class=\"data row3 col1\" >0.16</td>\n",
       "                        <td id=\"T_0cc70675_b4cd_11eb_86c1_00155d08c48frow3_col2\" class=\"data row3 col2\" >-0.48</td>\n",
       "                        <td id=\"T_0cc70675_b4cd_11eb_86c1_00155d08c48frow3_col3\" class=\"data row3 col3\" >1.00</td>\n",
       "                        <td id=\"T_0cc70675_b4cd_11eb_86c1_00155d08c48frow3_col4\" class=\"data row3 col4\" >-0.01</td>\n",
       "                        <td id=\"T_0cc70675_b4cd_11eb_86c1_00155d08c48frow3_col5\" class=\"data row3 col5\" >0.33</td>\n",
       "                        <td id=\"T_0cc70675_b4cd_11eb_86c1_00155d08c48frow3_col6\" class=\"data row3 col6\" >-0.26</td>\n",
       "                        <td id=\"T_0cc70675_b4cd_11eb_86c1_00155d08c48frow3_col7\" class=\"data row3 col7\" >0.48</td>\n",
       "                        <td id=\"T_0cc70675_b4cd_11eb_86c1_00155d08c48frow3_col8\" class=\"data row3 col8\" >-0.07</td>\n",
       "                        <td id=\"T_0cc70675_b4cd_11eb_86c1_00155d08c48frow3_col9\" class=\"data row3 col9\" >0.60</td>\n",
       "            </tr>\n",
       "            <tr>\n",
       "                        <th id=\"T_0cc70675_b4cd_11eb_86c1_00155d08c48flevel0_row4\" class=\"row_heading level0 row4\" >Si</th>\n",
       "                        <td id=\"T_0cc70675_b4cd_11eb_86c1_00155d08c48frow4_col0\" class=\"data row4 col0\" >-0.54</td>\n",
       "                        <td id=\"T_0cc70675_b4cd_11eb_86c1_00155d08c48frow4_col1\" class=\"data row4 col1\" >-0.07</td>\n",
       "                        <td id=\"T_0cc70675_b4cd_11eb_86c1_00155d08c48frow4_col2\" class=\"data row4 col2\" >-0.17</td>\n",
       "                        <td id=\"T_0cc70675_b4cd_11eb_86c1_00155d08c48frow4_col3\" class=\"data row4 col3\" >-0.01</td>\n",
       "                        <td id=\"T_0cc70675_b4cd_11eb_86c1_00155d08c48frow4_col4\" class=\"data row4 col4\" >1.00</td>\n",
       "                        <td id=\"T_0cc70675_b4cd_11eb_86c1_00155d08c48frow4_col5\" class=\"data row4 col5\" >-0.19</td>\n",
       "                        <td id=\"T_0cc70675_b4cd_11eb_86c1_00155d08c48frow4_col6\" class=\"data row4 col6\" >-0.21</td>\n",
       "                        <td id=\"T_0cc70675_b4cd_11eb_86c1_00155d08c48frow4_col7\" class=\"data row4 col7\" >-0.10</td>\n",
       "                        <td id=\"T_0cc70675_b4cd_11eb_86c1_00155d08c48frow4_col8\" class=\"data row4 col8\" >-0.09</td>\n",
       "                        <td id=\"T_0cc70675_b4cd_11eb_86c1_00155d08c48frow4_col9\" class=\"data row4 col9\" >0.15</td>\n",
       "            </tr>\n",
       "            <tr>\n",
       "                        <th id=\"T_0cc70675_b4cd_11eb_86c1_00155d08c48flevel0_row5\" class=\"row_heading level0 row5\" >K</th>\n",
       "                        <td id=\"T_0cc70675_b4cd_11eb_86c1_00155d08c48frow5_col0\" class=\"data row5 col0\" >-0.29</td>\n",
       "                        <td id=\"T_0cc70675_b4cd_11eb_86c1_00155d08c48frow5_col1\" class=\"data row5 col1\" >-0.27</td>\n",
       "                        <td id=\"T_0cc70675_b4cd_11eb_86c1_00155d08c48frow5_col2\" class=\"data row5 col2\" >0.01</td>\n",
       "                        <td id=\"T_0cc70675_b4cd_11eb_86c1_00155d08c48frow5_col3\" class=\"data row5 col3\" >0.33</td>\n",
       "                        <td id=\"T_0cc70675_b4cd_11eb_86c1_00155d08c48frow5_col4\" class=\"data row5 col4\" >-0.19</td>\n",
       "                        <td id=\"T_0cc70675_b4cd_11eb_86c1_00155d08c48frow5_col5\" class=\"data row5 col5\" >1.00</td>\n",
       "                        <td id=\"T_0cc70675_b4cd_11eb_86c1_00155d08c48frow5_col6\" class=\"data row5 col6\" >-0.32</td>\n",
       "                        <td id=\"T_0cc70675_b4cd_11eb_86c1_00155d08c48frow5_col7\" class=\"data row5 col7\" >-0.04</td>\n",
       "                        <td id=\"T_0cc70675_b4cd_11eb_86c1_00155d08c48frow5_col8\" class=\"data row5 col8\" >-0.01</td>\n",
       "                        <td id=\"T_0cc70675_b4cd_11eb_86c1_00155d08c48frow5_col9\" class=\"data row5 col9\" >-0.01</td>\n",
       "            </tr>\n",
       "            <tr>\n",
       "                        <th id=\"T_0cc70675_b4cd_11eb_86c1_00155d08c48flevel0_row6\" class=\"row_heading level0 row6\" >Ca</th>\n",
       "                        <td id=\"T_0cc70675_b4cd_11eb_86c1_00155d08c48frow6_col0\" class=\"data row6 col0\" >0.81</td>\n",
       "                        <td id=\"T_0cc70675_b4cd_11eb_86c1_00155d08c48frow6_col1\" class=\"data row6 col1\" >-0.28</td>\n",
       "                        <td id=\"T_0cc70675_b4cd_11eb_86c1_00155d08c48frow6_col2\" class=\"data row6 col2\" >-0.44</td>\n",
       "                        <td id=\"T_0cc70675_b4cd_11eb_86c1_00155d08c48frow6_col3\" class=\"data row6 col3\" >-0.26</td>\n",
       "                        <td id=\"T_0cc70675_b4cd_11eb_86c1_00155d08c48frow6_col4\" class=\"data row6 col4\" >-0.21</td>\n",
       "                        <td id=\"T_0cc70675_b4cd_11eb_86c1_00155d08c48frow6_col5\" class=\"data row6 col5\" >-0.32</td>\n",
       "                        <td id=\"T_0cc70675_b4cd_11eb_86c1_00155d08c48frow6_col6\" class=\"data row6 col6\" >1.00</td>\n",
       "                        <td id=\"T_0cc70675_b4cd_11eb_86c1_00155d08c48frow6_col7\" class=\"data row6 col7\" >-0.11</td>\n",
       "                        <td id=\"T_0cc70675_b4cd_11eb_86c1_00155d08c48frow6_col8\" class=\"data row6 col8\" >0.12</td>\n",
       "                        <td id=\"T_0cc70675_b4cd_11eb_86c1_00155d08c48frow6_col9\" class=\"data row6 col9\" >0.00</td>\n",
       "            </tr>\n",
       "            <tr>\n",
       "                        <th id=\"T_0cc70675_b4cd_11eb_86c1_00155d08c48flevel0_row7\" class=\"row_heading level0 row7\" >Ba</th>\n",
       "                        <td id=\"T_0cc70675_b4cd_11eb_86c1_00155d08c48frow7_col0\" class=\"data row7 col0\" >-0.00</td>\n",
       "                        <td id=\"T_0cc70675_b4cd_11eb_86c1_00155d08c48frow7_col1\" class=\"data row7 col1\" >0.33</td>\n",
       "                        <td id=\"T_0cc70675_b4cd_11eb_86c1_00155d08c48frow7_col2\" class=\"data row7 col2\" >-0.49</td>\n",
       "                        <td id=\"T_0cc70675_b4cd_11eb_86c1_00155d08c48frow7_col3\" class=\"data row7 col3\" >0.48</td>\n",
       "                        <td id=\"T_0cc70675_b4cd_11eb_86c1_00155d08c48frow7_col4\" class=\"data row7 col4\" >-0.10</td>\n",
       "                        <td id=\"T_0cc70675_b4cd_11eb_86c1_00155d08c48frow7_col5\" class=\"data row7 col5\" >-0.04</td>\n",
       "                        <td id=\"T_0cc70675_b4cd_11eb_86c1_00155d08c48frow7_col6\" class=\"data row7 col6\" >-0.11</td>\n",
       "                        <td id=\"T_0cc70675_b4cd_11eb_86c1_00155d08c48frow7_col7\" class=\"data row7 col7\" >1.00</td>\n",
       "                        <td id=\"T_0cc70675_b4cd_11eb_86c1_00155d08c48frow7_col8\" class=\"data row7 col8\" >-0.06</td>\n",
       "                        <td id=\"T_0cc70675_b4cd_11eb_86c1_00155d08c48frow7_col9\" class=\"data row7 col9\" >0.58</td>\n",
       "            </tr>\n",
       "            <tr>\n",
       "                        <th id=\"T_0cc70675_b4cd_11eb_86c1_00155d08c48flevel0_row8\" class=\"row_heading level0 row8\" >Fe</th>\n",
       "                        <td id=\"T_0cc70675_b4cd_11eb_86c1_00155d08c48frow8_col0\" class=\"data row8 col0\" >0.14</td>\n",
       "                        <td id=\"T_0cc70675_b4cd_11eb_86c1_00155d08c48frow8_col1\" class=\"data row8 col1\" >-0.24</td>\n",
       "                        <td id=\"T_0cc70675_b4cd_11eb_86c1_00155d08c48frow8_col2\" class=\"data row8 col2\" >0.08</td>\n",
       "                        <td id=\"T_0cc70675_b4cd_11eb_86c1_00155d08c48frow8_col3\" class=\"data row8 col3\" >-0.07</td>\n",
       "                        <td id=\"T_0cc70675_b4cd_11eb_86c1_00155d08c48frow8_col4\" class=\"data row8 col4\" >-0.09</td>\n",
       "                        <td id=\"T_0cc70675_b4cd_11eb_86c1_00155d08c48frow8_col5\" class=\"data row8 col5\" >-0.01</td>\n",
       "                        <td id=\"T_0cc70675_b4cd_11eb_86c1_00155d08c48frow8_col6\" class=\"data row8 col6\" >0.12</td>\n",
       "                        <td id=\"T_0cc70675_b4cd_11eb_86c1_00155d08c48frow8_col7\" class=\"data row8 col7\" >-0.06</td>\n",
       "                        <td id=\"T_0cc70675_b4cd_11eb_86c1_00155d08c48frow8_col8\" class=\"data row8 col8\" >1.00</td>\n",
       "                        <td id=\"T_0cc70675_b4cd_11eb_86c1_00155d08c48frow8_col9\" class=\"data row8 col9\" >-0.19</td>\n",
       "            </tr>\n",
       "            <tr>\n",
       "                        <th id=\"T_0cc70675_b4cd_11eb_86c1_00155d08c48flevel0_row9\" class=\"row_heading level0 row9\" >Type</th>\n",
       "                        <td id=\"T_0cc70675_b4cd_11eb_86c1_00155d08c48frow9_col0\" class=\"data row9 col0\" >-0.16</td>\n",
       "                        <td id=\"T_0cc70675_b4cd_11eb_86c1_00155d08c48frow9_col1\" class=\"data row9 col1\" >0.50</td>\n",
       "                        <td id=\"T_0cc70675_b4cd_11eb_86c1_00155d08c48frow9_col2\" class=\"data row9 col2\" >-0.74</td>\n",
       "                        <td id=\"T_0cc70675_b4cd_11eb_86c1_00155d08c48frow9_col3\" class=\"data row9 col3\" >0.60</td>\n",
       "                        <td id=\"T_0cc70675_b4cd_11eb_86c1_00155d08c48frow9_col4\" class=\"data row9 col4\" >0.15</td>\n",
       "                        <td id=\"T_0cc70675_b4cd_11eb_86c1_00155d08c48frow9_col5\" class=\"data row9 col5\" >-0.01</td>\n",
       "                        <td id=\"T_0cc70675_b4cd_11eb_86c1_00155d08c48frow9_col6\" class=\"data row9 col6\" >0.00</td>\n",
       "                        <td id=\"T_0cc70675_b4cd_11eb_86c1_00155d08c48frow9_col7\" class=\"data row9 col7\" >0.58</td>\n",
       "                        <td id=\"T_0cc70675_b4cd_11eb_86c1_00155d08c48frow9_col8\" class=\"data row9 col8\" >-0.19</td>\n",
       "                        <td id=\"T_0cc70675_b4cd_11eb_86c1_00155d08c48frow9_col9\" class=\"data row9 col9\" >1.00</td>\n",
       "            </tr>\n",
       "    </tbody></table>"
      ],
      "text/plain": [
       "<pandas.io.formats.style.Styler at 0x28a21f6b430>"
      ]
     },
     "execution_count": 8,
     "metadata": {},
     "output_type": "execute_result"
    }
   ],
   "source": [
    "#Correlation between features\n",
    "df.corr().style.background_gradient().set_precision(2)"
   ]
  },
  {
   "cell_type": "code",
   "execution_count": 9,
   "metadata": {},
   "outputs": [
    {
     "name": "stdout",
     "output_type": "stream",
     "text": [
      "Accuracy: 0.4883720930232558\n"
     ]
    }
   ],
   "source": [
    "# Create a Naive Bayes object\n",
    "nb = GaussianNB()\n",
    "\n",
    "#Create variable x and y.\n",
    "x = df.drop(columns=['Type'])\n",
    "y = df['Type']\n",
    "\n",
    "#Split data into training and testing data\n",
    "x_train, x_test, y_train, y_test = train_test_split(x, y, test_size=0.2, random_state=4)\n",
    "\n",
    "#Training the model\n",
    "nb.fit(x_train, y_train)\n",
    "\n",
    "#Predict testing set\n",
    "y_pred = nb.predict(x_test)\n",
    "\n",
    "#Check performance of model\n",
    "print(\"Accuracy:\",accuracy_score(y_test, y_pred))"
   ]
  },
  {
   "cell_type": "code",
   "execution_count": 10,
   "metadata": {
    "scrolled": true
   },
   "outputs": [
    {
     "name": "stdout",
     "output_type": "stream",
     "text": [
      "              precision    recall  f1-score   support\n",
      "\n",
      "           1       0.45      0.71      0.56        14\n",
      "           2       0.50      0.12      0.19        17\n",
      "           3       0.00      0.00      0.00         0\n",
      "           5       0.33      0.33      0.33         3\n",
      "           6       1.00      0.50      0.67         2\n",
      "           7       0.78      1.00      0.88         7\n",
      "\n",
      "    accuracy                           0.49        43\n",
      "   macro avg       0.51      0.44      0.44        43\n",
      "weighted avg       0.54      0.49      0.45        43\n",
      "\n"
     ]
    },
    {
     "name": "stderr",
     "output_type": "stream",
     "text": [
      "C:\\Users\\alejo\\anaconda3\\lib\\site-packages\\sklearn\\metrics\\_classification.py:1221: UndefinedMetricWarning: Recall and F-score are ill-defined and being set to 0.0 in labels with no true samples. Use `zero_division` parameter to control this behavior.\n",
      "  _warn_prf(average, modifier, msg_start, len(result))\n"
     ]
    }
   ],
   "source": [
    "#Accuracy evaluation\n",
    "from sklearn import metrics\n",
    "print(metrics.classification_report(y_test, y_pred))"
   ]
  },
  {
   "cell_type": "code",
   "execution_count": 11,
   "metadata": {},
   "outputs": [
    {
     "name": "stdout",
     "output_type": "stream",
     "text": [
      "Precision: 0.4883720930232558\n",
      "Precision: [0.45454545 0.5        0.         0.33333333 1.         0.77777778]\n"
     ]
    }
   ],
   "source": [
    "print(\"Precision:\",metrics.precision_score(y_test, y_pred, average='micro'))\n",
    "print(\"Precision:\",metrics.precision_score(y_test, y_pred, average=None))"
   ]
  }
 ],
 "metadata": {
  "kernelspec": {
   "display_name": "Python 3",
   "language": "python",
   "name": "python3"
  },
  "language_info": {
   "codemirror_mode": {
    "name": "ipython",
    "version": 3
   },
   "file_extension": ".py",
   "mimetype": "text/x-python",
   "name": "python",
   "nbconvert_exporter": "python",
   "pygments_lexer": "ipython3",
   "version": "3.8.5"
  },
  "toc": {
   "base_numbering": 1,
   "nav_menu": {},
   "number_sections": true,
   "sideBar": true,
   "skip_h1_title": false,
   "title_cell": "Table of Contents",
   "title_sidebar": "Contents",
   "toc_cell": false,
   "toc_position": {},
   "toc_section_display": true,
   "toc_window_display": false
  },
  "varInspector": {
   "cols": {
    "lenName": 16,
    "lenType": 16,
    "lenVar": 40
   },
   "kernels_config": {
    "python": {
     "delete_cmd_postfix": "",
     "delete_cmd_prefix": "del ",
     "library": "var_list.py",
     "varRefreshCmd": "print(var_dic_list())"
    },
    "r": {
     "delete_cmd_postfix": ") ",
     "delete_cmd_prefix": "rm(",
     "library": "var_list.r",
     "varRefreshCmd": "cat(var_dic_list()) "
    }
   },
   "types_to_exclude": [
    "module",
    "function",
    "builtin_function_or_method",
    "instance",
    "_Feature"
   ],
   "window_display": false
  }
 },
 "nbformat": 4,
 "nbformat_minor": 4
}
